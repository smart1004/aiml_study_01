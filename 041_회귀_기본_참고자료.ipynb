{
 "cells": [
  {
   "cell_type": "code",
   "execution_count": null,
   "metadata": {},
   "outputs": [],
   "source": [
    "http://www.datamarket.kr/xe/index.php?mid=board_mXVL91&listStyle=viewer&document_srl=6771"
   ]
  },
  {
   "cell_type": "code",
   "execution_count": null,
   "metadata": {},
   "outputs": [],
   "source": []
  },
  {
   "cell_type": "code",
   "execution_count": null,
   "metadata": {},
   "outputs": [],
   "source": []
  },
  {
   "cell_type": "code",
   "execution_count": null,
   "metadata": {},
   "outputs": [],
   "source": [
    "2 - 선형회귀 분석의 단점과 보완방법 (about Over Fitting & Ridge Regression)\n",
    "https://kanggogo1234.tistory.com/44    "
   ]
  },
  {
   "cell_type": "code",
   "execution_count": null,
   "metadata": {},
   "outputs": [],
   "source": [
    "https://analysis-flood.tistory.com/15"
   ]
  },
  {
   "cell_type": "code",
   "execution_count": null,
   "metadata": {},
   "outputs": [],
   "source": [
    "http://www.datamarket.kr/xe/index.php?mid=board_mXVL91&listStyle=viewer&document_srl=7144"
   ]
  },
  {
   "cell_type": "code",
   "execution_count": null,
   "metadata": {},
   "outputs": [],
   "source": [
    "        ㅇ 상관관계 분석 : 변수 간의 관련성 분석\n",
    "            회귀분석 : 변수간의 인과관계 분석\n",
    "\n",
    "출처: https://dbrang.tistory.com/1213 [디비랑[dɪ'bɪraŋ]]"
   ]
  },
  {
   "cell_type": "code",
   "execution_count": null,
   "metadata": {},
   "outputs": [],
   "source": [
    "ㅇ 특정 독립변수가 종속변수에 어떤 영향을 미치는가의 인과관계 분석\n",
    "ex. 가격은 제품 만족도에 영향을 미치는가?\n",
    "\n",
    "출처: https://dbrang.tistory.com/1213 [디비랑[dɪ'bɪraŋ]]"
   ]
  },
  {
   "cell_type": "code",
   "execution_count": null,
   "metadata": {},
   "outputs": [],
   "source": [
    "  ㅁ 회귀분석 중요사항\n",
    "        ㅇ 통계분석의 꽃 : 가장 강력하고 많이 이용\n",
    "        ㅇ 종속변수에 영향을 미치는 변수 규명(변수 선형 관계 분석)\n",
    "        ㅇ 독립변수와 종속변수의 관련성 강도\n",
    "        ㅇ 독립변수의 변화에 따른 종속변수 변화 예측\n",
    "        ㅇ 회귀 방정식(Y = α + βx)을 도출하여 회귀선 추정\n",
    "            Y:종속변수, α:상수, β:회귀계수, x:독립변수\n",
    "        ㅇ 독립변수와 종속변수가 모두 등간척도 또는 비율척도 구성\n",
    "\n",
    "출처: https://dbrang.tistory.com/1213 [디비랑[dɪ'bɪraŋ]]"
   ]
  },
  {
   "cell_type": "code",
   "execution_count": null,
   "metadata": {},
   "outputs": [],
   "source": []
  },
  {
   "cell_type": "code",
   "execution_count": null,
   "metadata": {},
   "outputs": [],
   "source": []
  },
  {
   "cell_type": "code",
   "execution_count": null,
   "metadata": {},
   "outputs": [],
   "source": [
    "https://blog.martinwork.co.kr/ai/2018/07/10/what-is-linear-regression.html"
   ]
  },
  {
   "cell_type": "code",
   "execution_count": null,
   "metadata": {},
   "outputs": [],
   "source": [
    "선형회귀는 종속 변수 y 와 한 개 이상의 독립 변수 x와의 선형 상관 관계를 모델링하는 회귀분석 기법이다. \n",
    "한 개의 설명 변수에 기반하는 경우는 단순 선형 회귀, 둘 이상의 설명 변수에 기반한 경우에는 다중 선형 회귀라고 한다.\n",
    "\n",
    "쉽게 이야기 해서 주어진 데이터가 어떤 함수로부터 생성됐는가를 알아보는 ‘함수 관계’ 를 추측하는 것이다. 여기에서 나오는 \n",
    "Hypothesis(가설)은 이러한 Linear Regression 그래프가 되며 방정식으로는 다음과 같이 표현이 가능하다."
   ]
  },
  {
   "cell_type": "code",
   "execution_count": null,
   "metadata": {},
   "outputs": [],
   "source": []
  },
  {
   "cell_type": "code",
   "execution_count": null,
   "metadata": {},
   "outputs": [],
   "source": [
    "simple-linear-regression-assumptions\n",
    "https://www.jmp.com/en_us/statistics-knowledge-portal/what-is-regression/simple-linear-regression-assumptions.html"
   ]
  },
  {
   "cell_type": "code",
   "execution_count": null,
   "metadata": {},
   "outputs": [],
   "source": []
  },
  {
   "cell_type": "code",
   "execution_count": null,
   "metadata": {},
   "outputs": [],
   "source": [
    "회귀분석의 중요성"
   ]
  },
  {
   "cell_type": "markdown",
   "metadata": {},
   "source": [
    "통계학에서, 회귀 분석(回歸 分析, 영어: regression analysis)은 관찰된 연속형 변수들에 대해 \n",
    "두 변수 사이의 모형을 구한뒤 적합도를 측정해 내는 분석 방법이다.\n",
    "회귀분석은 시간에 따라 변화하는 데이터나 어떤 영향, 가설적 실험, 인과 관계의 모델링 등의 통계적 예측에 이용될 수 있다. "
   ]
  },
  {
   "cell_type": "markdown",
   "metadata": {},
   "source": [
    "아래의 용어정의는 마음에 들지 않는다.  \n",
    "다른 문서링크가 좋을 것 같다.  \n",
    "\n",
    "[회귀_위키피디아](https://ko.wikipedia.org/wiki/%ED%9A%8C%EA%B7%80_%EB%B6%84%EC%84%9D)  \n",
    "\n",
    "egression analysis   "
   ]
  },
  {
   "cell_type": "markdown",
   "metadata": {},
   "source": [
    "■ 선형 회귀 concept > ******     \n",
    "https://ko.khanacademy.org/math/statistics-probability/describing-relationships-quantitative-data/introduction-to-trend-lines/a/linear-regression-review\n",
    "\n",
    "■ 선형 회귀 concept  \n",
    "http://hleecaster.com/ml-linear-regression-concept/  \n",
    "\n",
    "http://hleecaster.com/ml-linear-regression-example/  \n",
    "\n",
    "https://analyticsstory.com/98    \n",
    "■ 선형 회귀 모델에서 '선형'이 의미하는 것은 무엇인가?  \n",
    "https://brunch.co.kr/@gimmesilver/18  "
   ]
  },
  {
   "cell_type": "code",
   "execution_count": null,
   "metadata": {},
   "outputs": [],
   "source": [
    "# 서울시 학생 체격 현황(키. 몸무게) 통계\n",
    "# http://115.84.165.39/dataList/10648/S/2/datasetView.do;jsessionid=2BCC4BC7128D8DB5702864D69C04242C.new_portal-svr-11"
   ]
  },
  {
   "cell_type": "code",
   "execution_count": null,
   "metadata": {},
   "outputs": [],
   "source": []
  },
  {
   "cell_type": "code",
   "execution_count": null,
   "metadata": {},
   "outputs": [],
   "source": []
  },
  {
   "cell_type": "code",
   "execution_count": null,
   "metadata": {},
   "outputs": [],
   "source": [
    "https://otexts.com/fppkr/causality.html"
   ]
  },
  {
   "cell_type": "code",
   "execution_count": null,
   "metadata": {},
   "outputs": [],
   "source": []
  },
  {
   "cell_type": "code",
   "execution_count": null,
   "metadata": {},
   "outputs": [],
   "source": []
  },
  {
   "cell_type": "code",
   "execution_count": null,
   "metadata": {},
   "outputs": [],
   "source": [
    "데이터의 여러 변수와 결과 관계 이해하기\n",
    "https://www.beusable.net/blog/?p=1797"
   ]
  },
  {
   "cell_type": "code",
   "execution_count": null,
   "metadata": {},
   "outputs": [],
   "source": []
  }
 ],
 "metadata": {
  "kernelspec": {
   "display_name": "py38_conda3",
   "language": "python",
   "name": "py38_conda3"
  },
  "language_info": {
   "codemirror_mode": {
    "name": "ipython",
    "version": 3
   },
   "file_extension": ".py",
   "mimetype": "text/x-python",
   "name": "python",
   "nbconvert_exporter": "python",
   "pygments_lexer": "ipython3",
   "version": "3.8.13"
  }
 },
 "nbformat": 4,
 "nbformat_minor": 4
}
