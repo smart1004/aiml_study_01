{
 "cells": [
  {
   "cell_type": "raw",
   "metadata": {},
   "source": [
    "매우 좋은\n",
    "http://piramvill2.org/wp/?p=3103\n",
    "https://socialinnovation.tistory.com/145\n",
    "https://jjmedinaariza.github.io/modelling_book/an-introduction-to-regression.html\n",
    "https://m.blog.naver.com/PostView.nhn?blogId=vnf3751&logNo=220832625083&proxyReferer=https:%2F%2Fwww.google.com%2F\n",
    "https://neocarus.tistory.com/entry/%EC%84%A0%ED%98%95%ED%9A%8C%EA%B7%80%EC%9D%98-%EC%A0%81%ED%95%A9%EC%84%B1-%ED%8F%89%EA%B0%80%EB%B0%A9%EB%B2%95"
   ]
  },
  {
   "cell_type": "raw",
   "metadata": {},
   "source": [
    "기냥 좋음\n",
    "https://newsight.tistory.com/259\n",
    "https://socialinnovation.tistory.com/145\n",
    "https://365datascience.com/sum-squares/"
   ]
  },
  {
   "cell_type": "code",
   "execution_count": 19,
   "metadata": {},
   "outputs": [],
   "source": [
    "import pandas as pd\n",
    "df = pd.read_excel('041_회귀_기본_결정계수_이해.xlsx', sheet_name=0)\n",
    "# df.head()"
   ]
  },
  {
   "cell_type": "code",
   "execution_count": 20,
   "metadata": {},
   "outputs": [
    {
     "data": {
      "text/html": [
       "<div>\n",
       "<style scoped>\n",
       "    .dataframe tbody tr th:only-of-type {\n",
       "        vertical-align: middle;\n",
       "    }\n",
       "\n",
       "    .dataframe tbody tr th {\n",
       "        vertical-align: top;\n",
       "    }\n",
       "\n",
       "    .dataframe thead th {\n",
       "        text-align: right;\n",
       "    }\n",
       "</style>\n",
       "<table border=\"1\" class=\"dataframe\">\n",
       "  <thead>\n",
       "    <tr style=\"text-align: right;\">\n",
       "      <th></th>\n",
       "      <th>공부시간</th>\n",
       "      <th>성적</th>\n",
       "    </tr>\n",
       "  </thead>\n",
       "  <tbody>\n",
       "    <tr>\n",
       "      <th>0</th>\n",
       "      <td>1</td>\n",
       "      <td>50</td>\n",
       "    </tr>\n",
       "    <tr>\n",
       "      <th>1</th>\n",
       "      <td>2</td>\n",
       "      <td>52</td>\n",
       "    </tr>\n",
       "    <tr>\n",
       "      <th>2</th>\n",
       "      <td>3</td>\n",
       "      <td>54</td>\n",
       "    </tr>\n",
       "    <tr>\n",
       "      <th>3</th>\n",
       "      <td>4</td>\n",
       "      <td>56</td>\n",
       "    </tr>\n",
       "    <tr>\n",
       "      <th>4</th>\n",
       "      <td>5</td>\n",
       "      <td>60</td>\n",
       "    </tr>\n",
       "    <tr>\n",
       "      <th>5</th>\n",
       "      <td>6</td>\n",
       "      <td>67</td>\n",
       "    </tr>\n",
       "    <tr>\n",
       "      <th>6</th>\n",
       "      <td>7</td>\n",
       "      <td>74</td>\n",
       "    </tr>\n",
       "    <tr>\n",
       "      <th>7</th>\n",
       "      <td>8</td>\n",
       "      <td>81</td>\n",
       "    </tr>\n",
       "    <tr>\n",
       "      <th>8</th>\n",
       "      <td>9</td>\n",
       "      <td>88</td>\n",
       "    </tr>\n",
       "    <tr>\n",
       "      <th>9</th>\n",
       "      <td>10</td>\n",
       "      <td>98</td>\n",
       "    </tr>\n",
       "  </tbody>\n",
       "</table>\n",
       "</div>"
      ],
      "text/plain": [
       "   공부시간  성적\n",
       "0     1  50\n",
       "1     2  52\n",
       "2     3  54\n",
       "3     4  56\n",
       "4     5  60\n",
       "5     6  67\n",
       "6     7  74\n",
       "7     8  81\n",
       "8     9  88\n",
       "9    10  98"
      ]
     },
     "execution_count": 20,
     "metadata": {},
     "output_type": "execute_result"
    }
   ],
   "source": [
    "df"
   ]
  },
  {
   "cell_type": "code",
   "execution_count": 21,
   "metadata": {},
   "outputs": [],
   "source": [
    "dataset = df.values"
   ]
  },
  {
   "cell_type": "code",
   "execution_count": 22,
   "metadata": {},
   "outputs": [
    {
     "name": "stdout",
     "output_type": "stream",
     "text": [
      "type of dataset:  <class 'numpy.ndarray'>\n"
     ]
    }
   ],
   "source": [
    "print('type of dataset: ',type(dataset))"
   ]
  },
  {
   "cell_type": "code",
   "execution_count": null,
   "metadata": {},
   "outputs": [],
   "source": []
  },
  {
   "cell_type": "code",
   "execution_count": 23,
   "metadata": {},
   "outputs": [
    {
     "data": {
      "text/plain": [
       "(10, 2)"
      ]
     },
     "execution_count": 23,
     "metadata": {},
     "output_type": "execute_result"
    }
   ],
   "source": [
    "dataset.shape # 행, 열\n",
    "#print(dataset.shape)"
   ]
  },
  {
   "cell_type": "code",
   "execution_count": 24,
   "metadata": {},
   "outputs": [
    {
     "data": {
      "text/plain": [
       "2"
      ]
     },
     "execution_count": 24,
     "metadata": {},
     "output_type": "execute_result"
    }
   ],
   "source": [
    "dataset.ndim # dataframe 스타일이 2차원이다."
   ]
  },
  {
   "cell_type": "code",
   "execution_count": null,
   "metadata": {},
   "outputs": [],
   "source": []
  },
  {
   "cell_type": "markdown",
   "metadata": {},
   "source": [
    "### ndarray에서 원하는 열 가져오기"
   ]
  },
  {
   "cell_type": "code",
   "execution_count": 25,
   "metadata": {},
   "outputs": [
    {
     "name": "stdout",
     "output_type": "stream",
     "text": [
      "[[1]\n",
      " [2]\n",
      " [3]\n",
      " [4]\n",
      " [5]]\n",
      "\n",
      "shape: (10, 1)\n",
      "차원: 2\n"
     ]
    }
   ],
   "source": [
    "# 독립변수 처리\n",
    "# 독립변수는 최소 1개 이상 이다. 그래서 항상 엑셀 테이블 형태(2차원)로 생겼다고 생각하는게 좋다.\n",
    "# 어차피 현업에서는 독립변수가 1개인 경우는 거의 없다.\n",
    "\n",
    "X = dataset[:,0:1] # 행, 열\n",
    "print(X[:5])\n",
    "print(\"\")\n",
    "print('shape:', X.shape)\n",
    "print('차원:', X.ndim)"
   ]
  },
  {
   "cell_type": "code",
   "execution_count": null,
   "metadata": {},
   "outputs": [],
   "source": []
  },
  {
   "cell_type": "code",
   "execution_count": 26,
   "metadata": {},
   "outputs": [
    {
     "data": {
      "text/plain": [
       "array([50, 52, 54, 56, 60, 67, 74, 81, 88, 98])"
      ]
     },
     "execution_count": 26,
     "metadata": {},
     "output_type": "execute_result"
    }
   ],
   "source": [
    "y = dataset[:,1]\n",
    "y\n",
    "#df.iloc[:,-1].value_counts()"
   ]
  },
  {
   "cell_type": "code",
   "execution_count": 27,
   "metadata": {},
   "outputs": [],
   "source": [
    "#X_train, X_test, y_train, y_test = train_test_split(X, y, test_size=0.3)\n",
    "# 데이터가 몇개 안되서\n",
    "X_train, X_test, y_train, y_test = X, X, y, y"
   ]
  },
  {
   "cell_type": "code",
   "execution_count": 28,
   "metadata": {},
   "outputs": [
    {
     "name": "stdout",
     "output_type": "stream",
     "text": [
      "(10, 1)\n",
      "(10,)\n"
     ]
    }
   ],
   "source": [
    "print(X_train.shape)\n",
    "print(y_train.shape)"
   ]
  },
  {
   "cell_type": "code",
   "execution_count": 29,
   "metadata": {},
   "outputs": [],
   "source": [
    "import numpy as np\n",
    "import pandas as pd"
   ]
  },
  {
   "cell_type": "code",
   "execution_count": 30,
   "metadata": {},
   "outputs": [],
   "source": [
    "from sklearn import model_selection\n",
    "from sklearn import metrics\n",
    "from sklearn.model_selection import train_test_split\n",
    "from sklearn.linear_model import LinearRegression"
   ]
  },
  {
   "cell_type": "code",
   "execution_count": 31,
   "metadata": {
    "scrolled": true
   },
   "outputs": [
    {
     "data": {
      "text/plain": [
       "LinearRegression()"
      ]
     },
     "execution_count": 31,
     "metadata": {},
     "output_type": "execute_result"
    }
   ],
   "source": [
    "model_lr = LinearRegression()\n",
    "model_lr.fit(X_train, y_train)"
   ]
  },
  {
   "cell_type": "markdown",
   "metadata": {},
   "source": [
    "### train data로 예측해보기\n",
    "어떤 의미가 있는가?   \n",
    "학습한 데이터로 평가해보자. 음...   \n",
    "답을 다 가르쳐 졌으니???  "
   ]
  },
  {
   "cell_type": "code",
   "execution_count": 32,
   "metadata": {},
   "outputs": [
    {
     "name": "stdout",
     "output_type": "stream",
     "text": [
      "0.9424364123159303\n"
     ]
    }
   ],
   "source": [
    "y_predict = model_lr.predict(X_train) \n",
    "r2 = metrics.r2_score(y_train, y_predict)\n",
    "print(r2) "
   ]
  },
  {
   "cell_type": "code",
   "execution_count": null,
   "metadata": {},
   "outputs": [],
   "source": []
  },
  {
   "cell_type": "markdown",
   "metadata": {},
   "source": [
    "### model이 얼마나 설명력을 갖는가?\n",
    "결정계수는 0~1사이의 값을 가지며, 높은 값을 가질수록 추정된 모델의 설명력이 높다.  \n",
    "독립변수가 종속변수 변동의 몇 %를 설명하는가를 나타내는 지표이다.\n",
    "\n",
    "다변량 회귀분석에서는 독립변수의 수가 많아질수록   \n",
    "독립변수가 유의하든 유의하지 않든 결정계수가 높아지는 단점이 있다.  \n",
    "이러한 단점을 보완하기 위해 수정결정계수(adjusted R^2)를 사용  \n",
    "수정결정계수 = 1- (n-1)(1-r2)/(n-k-1)  \n",
    "k: 독립변수의 개수, n:데이터의 개수"
   ]
  },
  {
   "cell_type": "code",
   "execution_count": 33,
   "metadata": {},
   "outputs": [],
   "source": [
    "# metrics.r2_score?  # R^2 (coefficient of determination) regression score function."
   ]
  },
  {
   "cell_type": "code",
   "execution_count": 34,
   "metadata": {},
   "outputs": [
    {
     "data": {
      "text/plain": [
       "array([44.        , 49.33333333, 54.66666667, 60.        , 65.33333333,\n",
       "       70.66666667, 76.        , 81.33333333, 86.66666667, 92.        ])"
      ]
     },
     "execution_count": 34,
     "metadata": {},
     "output_type": "execute_result"
    }
   ],
   "source": [
    "y_predict"
   ]
  },
  {
   "cell_type": "markdown",
   "metadata": {},
   "source": [
    "### 결정계수는 어떻게 계산되는가?\n",
    "쓸데 없이 어려워 지는 것이 아닌가?"
   ]
  },
  {
   "cell_type": "markdown",
   "metadata": {},
   "source": [
    "<img src=\"figures/결정계수_계산.PNG\" alt=\"Drawing\" style=\"width: 800px;\"/>"
   ]
  },
  {
   "cell_type": "markdown",
   "metadata": {},
   "source": [
    "결정계수 = 2,358/2,490 = 0.94"
   ]
  },
  {
   "cell_type": "code",
   "execution_count": 35,
   "metadata": {},
   "outputs": [
    {
     "data": {
      "text/plain": [
       "0.946987951807229"
      ]
     },
     "execution_count": 35,
     "metadata": {},
     "output_type": "execute_result"
    }
   ],
   "source": [
    "2358/2490"
   ]
  },
  {
   "cell_type": "code",
   "execution_count": null,
   "metadata": {},
   "outputs": [],
   "source": []
  },
  {
   "cell_type": "raw",
   "metadata": {},
   "source": [
    "Regression model의 성능을 측정하기 위해 mean value로 예측하는 단순 모델(ZeroR 모델)과 비교, \n",
    "상대적으로 얼마나 성능이 나오는지를 측정한 지표."
   ]
  },
  {
   "cell_type": "raw",
   "metadata": {},
   "source": [
    "결정계수는 전체제곱합에서 회귀제곱합의 비율 = SSR/SST\n",
    "회귀제곱합(SSR, sum of squared regression) = ∑(예측값-평균값)^2\n",
    "전체제곱합(SST, sum of squared total) = ∑(실제값-평균값)^2"
   ]
  },
  {
   "cell_type": "raw",
   "metadata": {},
   "source": [
    "결정계수란 회귀모형의 데이터에 대한 설명의 정도를 나타내는 척도\n",
    "회귀모형은 데이터를 설명할수 있는 부분과 설명할수 없는 부분(잔차)로 나누어 지는데요.\n",
    "이를 각각 제곱합(sum of squared)으로 나타냅니다.\n",
    "여기서 회귀 제곱합을 전체 제곱합으로 나누어 주면\n",
    "전체 모형이 자치하는 부분에서 설명 가능한 부분의 비중을 알수 있게 됩니다.\n",
    "그래서 SSR/SST가 클수록 모형이 데이터를 잘 설명한다고 주장할수 있는 것입니다.\n",
    "이를 결정계수라고 합니다."
   ]
  },
  {
   "cell_type": "code",
   "execution_count": null,
   "metadata": {},
   "outputs": [],
   "source": []
  },
  {
   "cell_type": "code",
   "execution_count": null,
   "metadata": {},
   "outputs": [],
   "source": []
  },
  {
   "cell_type": "markdown",
   "metadata": {},
   "source": [
    "### 왜 저런 계산식을 가지게 되었는가?\n",
    "저것의 의미가 무엇인가? @@@"
   ]
  },
  {
   "cell_type": "markdown",
   "metadata": {},
   "source": [
    "<img src=\"figures/결정계수_계산_com2.PNG\" alt=\"Drawing\" style=\"width: 700px;\"/>"
   ]
  },
  {
   "cell_type": "markdown",
   "metadata": {},
   "source": [
    "![R2](https://miro.medium.com/max/207/0*0Zn3CVdTkt7ml3Ax)  \n",
    "![SST](https://miro.medium.com/max/356/0*i8JfBnEUOSu2US71)  \n",
    "\n",
    "*source of image : https://miro.medium.com/max*"
   ]
  },
  {
   "cell_type": "markdown",
   "metadata": {},
   "source": [
    "### 전체제곱합은 평균으로 부터의 거리"
   ]
  },
  {
   "cell_type": "markdown",
   "metadata": {},
   "source": [
    "Regression model의 성능을 측정하기 위해 mean value로 예측하는 단순 모델(Zero-R 모델)과 비교, \n",
    "상대적으로 얼마나 성능이 나오는지를 측정한 지표.   \n",
    "(다른 성능 지표인 RMSE나 MAE는 데이터의 scale에 따라서 값이 천차만별이기 때문에, \n",
    "절대 값만 보고 바로 성능을 판단하기가 어려운데, 결정계수의 경우 상대적인 성능이기 때문에 이를 직관적으로 알 수 있다.)\n",
    "\n",
    "선형회귀분석(linear regression analysis)에서 회귀직선의 적합도(goodness-of-fit)를 평가하거나   \n",
    "종속변수에 대한 설명변수들의 설명력을 알고자 할 때 결정계수(R sqaured, coefficient of determination))를 이용합니다."
   ]
  },
  {
   "cell_type": "markdown",
   "metadata": {},
   "source": [
    "* 이 관점에서 R^2의 값은 (예측 값에 대한 분산/실제 값에 대한 분산)이라고 볼 수 있다.\n",
    "* R^2는 mean value로 예측하는 Zero-R 모델에 비해, regression model의 성능이 얼마나 더 좋은가를 나타내는 것이다. "
   ]
  },
  {
   "cell_type": "markdown",
   "metadata": {},
   "source": [
    "https://newsight.tistory.com/259"
   ]
  },
  {
   "cell_type": "markdown",
   "metadata": {},
   "source": [
    "### r2 는 어떻게 해석하는 거니 ?\n",
    "@@@"
   ]
  },
  {
   "cell_type": "markdown",
   "metadata": {},
   "source": [
    "[결정계수(in wikipedia)](https://ko.wikipedia.org/wiki/%EA%B2%B0%EC%A0%95%EA%B3%84%EC%88%98)"
   ]
  },
  {
   "cell_type": "markdown",
   "metadata": {},
   "source": [
    "결정계수(決定係數, 영어: coefficient of determination)는 추정한 선형 모형이 주어진 자료에 적합한 정도를 재는 척도이다.   \n",
    "반응 변수의 변동량 중에서 적용한 모형으로 설명가능한 부분의 비율을 가리킨다. "
   ]
  },
  {
   "cell_type": "code",
   "execution_count": null,
   "metadata": {},
   "outputs": [],
   "source": []
  },
  {
   "cell_type": "markdown",
   "metadata": {},
   "source": [
    "![Image](https://mblogthumb-phinf.pstatic.net/MjAxODA4MDZfMTQ3/MDAxNTMzNTMyMjQxNTM1.Y9BEVY5Uv748_luCRr0GSH2UqhsAkoHoat--nQ9Vz0Ig.X08d5hcP-5J9R3RNaA5nUgajoriSIbbaNMa9uz4GZn0g.PNG.statsol/r2_1.png?type=w800)  \n",
    "*source of image : https://m.blog.naver.com/statsol/221333530305*"
   ]
  },
  {
   "cell_type": "markdown",
   "metadata": {},
   "source": [
    "위의 그림을 보면 \n",
    "설명력이 좋은 경우는 위 그림과 같이 실제 데이터가 회귀직선에 매우 밀접???하게 분포됩니다.\n",
    "즉, 잔차의 크기가 매우 작으며, 예측되는 값의 정밀도가 높아 집니다.\n",
    "설명력이 좋은 경우나 나쁜경우나 회귀직선은 동일하지만, 잔차의 크기가 매우 크기 때문에\n",
    "예측되는 값의 정밀도가 나빠집니다.\n",
    "\n",
    "참고로 잔차(residual)란 실측값과 예측값의 차이를 의미하는데요, 실제 데이터의 y값에서 \n",
    "회귀직선의 y값을 차감한 수치를 의미합니다. "
   ]
  },
  {
   "cell_type": "markdown",
   "metadata": {
    "tags": []
   },
   "source": [
    "### 기울기, 절편\n",
    "@@@ 이게 뭐니?"
   ]
  },
  {
   "cell_type": "code",
   "execution_count": 36,
   "metadata": {},
   "outputs": [
    {
     "data": {
      "text/plain": [
       "array([5.33333333])"
      ]
     },
     "execution_count": 36,
     "metadata": {},
     "output_type": "execute_result"
    }
   ],
   "source": [
    "#기울기 coef_\n",
    "model_lr.coef_"
   ]
  },
  {
   "cell_type": "code",
   "execution_count": 37,
   "metadata": {},
   "outputs": [
    {
     "data": {
      "text/plain": [
       "38.66666666666667"
      ]
     },
     "execution_count": 37,
     "metadata": {},
     "output_type": "execute_result"
    }
   ],
   "source": [
    "# 절편\n",
    "model_lr.intercept_"
   ]
  },
  {
   "cell_type": "code",
   "execution_count": 38,
   "metadata": {
    "scrolled": true
   },
   "outputs": [
    {
     "data": {
      "text/html": [
       "<div>\n",
       "<style scoped>\n",
       "    .dataframe tbody tr th:only-of-type {\n",
       "        vertical-align: middle;\n",
       "    }\n",
       "\n",
       "    .dataframe tbody tr th {\n",
       "        vertical-align: top;\n",
       "    }\n",
       "\n",
       "    .dataframe thead th {\n",
       "        text-align: right;\n",
       "    }\n",
       "</style>\n",
       "<table border=\"1\" class=\"dataframe\">\n",
       "  <thead>\n",
       "    <tr style=\"text-align: right;\">\n",
       "      <th></th>\n",
       "      <th>공부시간</th>\n",
       "      <th>성적</th>\n",
       "    </tr>\n",
       "  </thead>\n",
       "  <tbody>\n",
       "    <tr>\n",
       "      <th>0</th>\n",
       "      <td>1</td>\n",
       "      <td>50</td>\n",
       "    </tr>\n",
       "    <tr>\n",
       "      <th>1</th>\n",
       "      <td>2</td>\n",
       "      <td>52</td>\n",
       "    </tr>\n",
       "    <tr>\n",
       "      <th>2</th>\n",
       "      <td>3</td>\n",
       "      <td>54</td>\n",
       "    </tr>\n",
       "    <tr>\n",
       "      <th>3</th>\n",
       "      <td>4</td>\n",
       "      <td>56</td>\n",
       "    </tr>\n",
       "    <tr>\n",
       "      <th>4</th>\n",
       "      <td>5</td>\n",
       "      <td>60</td>\n",
       "    </tr>\n",
       "    <tr>\n",
       "      <th>5</th>\n",
       "      <td>6</td>\n",
       "      <td>67</td>\n",
       "    </tr>\n",
       "    <tr>\n",
       "      <th>6</th>\n",
       "      <td>7</td>\n",
       "      <td>74</td>\n",
       "    </tr>\n",
       "    <tr>\n",
       "      <th>7</th>\n",
       "      <td>8</td>\n",
       "      <td>81</td>\n",
       "    </tr>\n",
       "    <tr>\n",
       "      <th>8</th>\n",
       "      <td>9</td>\n",
       "      <td>88</td>\n",
       "    </tr>\n",
       "    <tr>\n",
       "      <th>9</th>\n",
       "      <td>10</td>\n",
       "      <td>98</td>\n",
       "    </tr>\n",
       "  </tbody>\n",
       "</table>\n",
       "</div>"
      ],
      "text/plain": [
       "   공부시간  성적\n",
       "0     1  50\n",
       "1     2  52\n",
       "2     3  54\n",
       "3     4  56\n",
       "4     5  60\n",
       "5     6  67\n",
       "6     7  74\n",
       "7     8  81\n",
       "8     9  88\n",
       "9    10  98"
      ]
     },
     "execution_count": 38,
     "metadata": {},
     "output_type": "execute_result"
    }
   ],
   "source": [
    "df"
   ]
  },
  {
   "cell_type": "code",
   "execution_count": null,
   "metadata": {},
   "outputs": [],
   "source": []
  },
  {
   "cell_type": "markdown",
   "metadata": {},
   "source": [
    "### test"
   ]
  },
  {
   "cell_type": "code",
   "execution_count": 39,
   "metadata": {},
   "outputs": [
    {
     "name": "stdout",
     "output_type": "stream",
     "text": [
      "0.9424364123159303\n"
     ]
    }
   ],
   "source": [
    "y_predict = model_lr.predict(X_test) \n",
    "score = metrics.r2_score(y_test, y_predict)\n",
    "print(score) "
   ]
  },
  {
   "cell_type": "code",
   "execution_count": 40,
   "metadata": {},
   "outputs": [
    {
     "data": {
      "text/plain": [
       "array([44.        , 49.33333333, 54.66666667, 60.        , 65.33333333,\n",
       "       70.66666667, 76.        , 81.33333333, 86.66666667, 92.        ])"
      ]
     },
     "execution_count": 40,
     "metadata": {},
     "output_type": "execute_result"
    }
   ],
   "source": [
    "y_predict"
   ]
  },
  {
   "cell_type": "code",
   "execution_count": null,
   "metadata": {},
   "outputs": [],
   "source": []
  },
  {
   "cell_type": "code",
   "execution_count": null,
   "metadata": {},
   "outputs": [],
   "source": []
  },
  {
   "cell_type": "code",
   "execution_count": null,
   "metadata": {},
   "outputs": [],
   "source": []
  },
  {
   "cell_type": "code",
   "execution_count": 41,
   "metadata": {},
   "outputs": [],
   "source": [
    "import matplotlib.pyplot as plt"
   ]
  },
  {
   "cell_type": "code",
   "execution_count": 42,
   "metadata": {},
   "outputs": [
    {
     "data": {
      "image/png": "[encoded data removed]",
      "text/plain": [
       "<Figure size 720x504 with 1 Axes>"
      ]
     },
     "metadata": {
      "needs_background": "light"
     },
     "output_type": "display_data"
    }
   ],
   "source": [
    "fig = plt.figure(figsize=(10,7))\n",
    "plt.plot(X_test, y_test, 'o')\n",
    "plt.plot(X_test, model_lr.predict(X_test))\n",
    "plt.show()"
   ]
  }
 ],
 "metadata": {
  "kernelspec": {
   "display_name": "py38_conda3",
   "language": "python",
   "name": "py38_conda3"
  },
  "language_info": {
   "codemirror_mode": {
    "name": "ipython",
    "version": 3
   },
   "file_extension": ".py",
   "mimetype": "text/x-python",
   "name": "python",
   "nbconvert_exporter": "python",
   "pygments_lexer": "ipython3",
   "version": "3.8.13"
  }
 },
 "nbformat": 4,
 "nbformat_minor": 4
}
