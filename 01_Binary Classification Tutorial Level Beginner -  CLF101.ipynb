{
 "cells": [
  {
   "cell_type": "markdown",
   "metadata": {
    "colab_type": "text",
    "id": "Y57RMM1LEQmR"
   },
   "source": [
    "#  <span style=\"color:orange\">Binary Classification Tutorial (CLF101) - Level Beginner</span>"
   ]
  },
  {
   "cell_type": "raw",
   "metadata": {},
   "source": [
    "https://pycaret.gitbook.io/docs/get-started/tutorials"
   ]
  },
  {
   "cell_type": "markdown",
   "metadata": {},
   "source": [
    "**Created using: PyCaret 2.2** <br />\n",
    "**Date Updated: November 11, 2020**"
   ]
  },
  {
   "cell_type": "markdown",
   "metadata": {},
   "source": [
    "# 1.0 Tutorial Objective\n",
    "이 튜토리얼에서는 PyCaret을 처음 접하고 `pycaret.classification` Module을 사용하여 Binary Classification을 시작하려고 한다고 가정합니다.\n",
    "\n",
    "이 튜토리얼에서는 다음 내용을 학습합니다:  \n",
    "\n",
    "* **데이터 가져오기:** PyCaret 저장소에서 데이터를 가져오는 방법\n",
    "* **환경 설정:** PyCaret에서 실험을 설정하고 분류 모델을 구축하는 방법\n",
    "* **모델 만들기:** 모델을 만들고, 계층화된 교차 검증을 수행하고, 분류 메트릭을 평가하는 방법\n",
    "* **모델 튜닝:** 분류 모델의 하이퍼 파라미터를 자동으로 조정하는 방법\n",
    "* **모델 플롯:** 다양한 플롯를 사용하여 모델 성능을 분석하는 방법\n",
    "* **모델 완성:** 실험이 끝날 때 최적의 모델을 완성하는 방법\n",
    "* **모형 예측:** 새 데이터/한번도 본적이 없는 데이터에 대해 예측하는 방법\n",
    "* **모델 저장/로드:** 나중에 사용할 수 있도록 모델을 저장/로드하는 방법"
   ]
  },
  {
   "cell_type": "markdown",
   "metadata": {
    "tags": []
   },
   "source": [
    "# 1.0 Tutorial Objective\n",
    "Welcome to the Binary Classification Tutorial (CLF101) - Level Beginner.   \n",
    "This tutorial assumes that you are new to PyCaret and looking to get started with Binary Classification using the `pycaret.classification` Module.\n",
    "\n",
    "In this tutorial we will learn:\n",
    "\n",
    "* **Getting Data:**  How to import data from PyCaret repository\n",
    "* **Setting up Environment:**  How to setup an experiment in PyCaret and get started with building classification models\n",
    "* **Create Model:**  How to create a model, perform stratified cross validation and evaluate classification metrics\n",
    "* **Tune Model:**  How to automatically tune the hyper-parameters of a classification model\n",
    "* **Plot Model:**  How to analyze model performance using various plots\n",
    "* **Finalize Model:** How to finalize the best model at the end of the experiment\n",
    "* **Predict Model:**  How to make predictions on new / unseen data\n",
    "* **Save / Load Model:**  How to save / load a model for future use\n",
    "\n",
    "Read Time : Approx. 30 Minutes"
   ]
  },
  {
   "cell_type": "markdown",
   "metadata": {
    "colab_type": "text",
    "id": "GM-nQ7LqEQma"
   },
   "source": [
    "## 1.1 Installing PyCaret\n",
    "The first step to get started with PyCaret is to install pycaret. Installation is easy and will only take a few minutes. Follow the instructions below:\n",
    "\n",
    "#### Installing PyCaret in Local Jupyter Notebook\n",
    "`pip install pycaret`  <br />\n",
    "\n",
    "#### Installing PyCaret on Google Colab or Azure Notebooks\n",
    "`!pip install pycaret`\n",
    "\n",
    "\n",
    "## 1.2 Pre-Requisites\n",
    "- Python 3.6 or greater\n",
    "- PyCaret 2.0 or greater\n",
    "- Internet connection to load data from pycaret's repository\n",
    "- Basic Knowledge of Binary Classification\n",
    "\n",
    "## 1.3 For Google colab users:\n",
    "If you are running this notebook on Google colab, run the following code at top of your notebook to display interactive visuals.<br/>\n",
    "<br/>\n",
    "`from pycaret.utils import enable_colab` <br/>\n",
    "`enable_colab()`\n",
    "\n",
    "\n",
    "## 1.4 See also:\n",
    "- __[Binary Classification Tutorial (CLF102) - Intermediate Level](https://github.com/pycaret/pycaret/blob/master/tutorials/Binary%20Classification%20Tutorial%20Level%20Intermediate%20-%20CLF102.ipynb)__\n",
    "- __[Binary Classification Tutorial (CLF103) - Expert Level](https://github.com/pycaret/pycaret/blob/master/tutorials/Binary%20Classification%20Tutorial%20Level%20Expert%20-%20CLF103.ipynb)__"
   ]
  },
  {
   "cell_type": "markdown",
   "metadata": {
    "colab_type": "text",
    "id": "2DJaOwC_EQme"
   },
   "source": [
    "# 2.0 What is Binary Classification?\n",
    "이진 분류는 합격/불합격, 긍정/부정, 기본값/비기본값 등과 같이 이산적이고 순서가 지정되지 않은 범주형 클래스 레이블을 예측하는 것이 목표인 지도 기계 학습 기법이다.   \n",
    "분류를 위한 몇 가지 실제 사용 사례는 다음과 같다.:\n",
    "\n",
    "- 환자가 특정 질병을 가지고 있는지 여부를 결정하기 위한 의학적 테스트 - 분류 특성은 질병의 존재 여부.\n",
    "- 공장에서의 \"합격 또는 불합격\" 시험 방법 또는 품질 관리, 즉 규격이 충족되었는지 여부를 결정하는 - 합격/불합격 분류.\n",
    "- 정보 검색, 즉 페이지나 기사가 검색의 결과 집합에 있어야 하는지 여부를 결정하는 것 - 분류 속성은 기사의 관련성 또는 사용자에 대한 유용성임.\n",
    "\n",
    "__[Learn More about Binary Classification](https://medium.com/@categitau/in-one-of-my-previous-posts-i-introduced-machine-learning-and-talked-about-the-two-most-common-c1ac6e18df16)__"
   ]
  },
  {
   "cell_type": "markdown",
   "metadata": {
    "colab_type": "text",
    "id": "2DJaOwC_EQme"
   },
   "source": [
    "# 2.0 What is Binary Classification?\n",
    "Binary classification is a supervised machine learning technique where the goal is to predict categorical class labels which are discrete and unoredered such as Pass/Fail, Positive/Negative, Default/Not-Default etc. A few real world use cases for classification are listed below:\n",
    "\n",
    "- Medical testing to determine if a patient has a certain disease or not - the classification property is the presence of the disease.\n",
    "- A \"pass or fail\" test method or quality control in factories, i.e. deciding if a specification has or has not been met – a go/no-go classification.\n",
    "- Information retrieval, namely deciding whether a page or an article should be in the result set of a search or not – the classification property is the relevance of the article, or the usefulness to the user.\n",
    "\n",
    "__[Learn More about Binary Classification](https://medium.com/@categitau/in-one-of-my-previous-posts-i-introduced-machine-learning-and-talked-about-the-two-most-common-c1ac6e18df16)__"
   ]
  },
  {
   "cell_type": "markdown",
   "metadata": {},
   "source": [
    "# 3.0 Overview of the Classification Module in PyCaret\n",
    "PyCaret의 분류 모듈(pycaret.classification)은 다양한 기술과 알고리듬을 기반으로 요소를 이진 그룹으로 분류하는 데 사용되는 지도 기계학습 모듈이다. \n",
    "분류 문제의 일반적인 사용 사례로는 고객 채무불이행 예측(예 또는 아니오), 고객 이탈(고객 이탈 또는 잔류), 질병 발견(긍정 또는 부정) 등이 있습니다.\n",
    "\n",
    "PyCaret 분류 모듈은 Binary 또는 Multi-class 분류 문제에 사용할 수 있습니다. 18개가 넘는 알고리즘과 14개의 플롯을 통해 모델의 성능을 분석합니다. \n",
    "하이퍼 파라미터 튜닝, 앙상블 또는 스태킹과 같은 고급 기술 중 어느 것이든 PyCaret의 분류 모듈은 모든 것을 갖추고 있습니다.  "
   ]
  },
  {
   "cell_type": "markdown",
   "metadata": {
    "colab_type": "text",
    "id": "XC3kSuueEQmh"
   },
   "source": [
    "3.0 Overview of the Classification Module in PyCaret  \n",
    "PyCaret's classification module (`pycaret.classification`) is a supervised machine learning module which is used for classifying the elements into a binary group based on various techniques and algorithms. Some common use cases of classification problems include predicting customer default (yes or no), customer churn (customer will leave or stay), disease found (positive or negative).\n",
    "\n",
    "The PyCaret classification module can be used for Binary or Multi-class classification problems. It has over 18 algorithms and 14 plots to analyze the performance of models. Be it hyper-parameter tuning, ensembling or advanced techniques like stacking, PyCaret's classification module has it all."
   ]
  },
  {
   "cell_type": "markdown",
   "metadata": {
    "colab_type": "text",
    "id": "aAKRo-EbEQml"
   },
   "source": [
    "# 4.0 Dataset for the Tutorial"
   ]
  },
  {
   "cell_type": "markdown",
   "metadata": {},
   "source": [
    "### 신용카드 고객의 채무불이행 가능성 예측"
   ]
  },
  {
   "cell_type": "markdown",
   "metadata": {},
   "source": [
    "**신용카드를 사용하는 고객들의 과거 데이터를 통해 앞르로 채무불이행을 할 가능성이 있는지 없는지를 예측하는 이진분류 문제입니다.**"
   ]
  },
  {
   "cell_type": "markdown",
   "metadata": {},
   "source": [
    "- 종속(응답)변수 : 채무불이행여부(Yes=1, No=0), 이진분류 \n",
    "- 독립(설명)변수 : 23개 변수 사용   \n",
    "- \n",
    "- X1: 주어진 신용금액(NT달러): 개인소비자신용과 그 가족(보충)신용을 모두 포함한다.\n",
    "- X2: 성별(1 = 남성, 2 = 여성).\n",
    "- X3: 학력(1 = 대학원, 2 = 대학, 3 = 고등학교, 4 = 기타).\n",
    "- X4: 결혼 상태(1 = 기혼, 2 = 독신, 3 = 기타).\n",
    "- X5: 나이(년).\n",
    "- X6 - X11: 과거 지불 내역. 우리는 지난 월별 지불 기록(2005년 4월부터 9월까지)을 다음과 같이 추적했습니다. X6 = 2005년 9월 상환 상태; X7 = 2005년 8월 상환 상태; . . .;X11 = 2005년 4월 상환 상태. 상환 상태에 대한 측정 척도는 다음과 같습니다. -1 = 적법하게 지불합니다. 1 = 한 달 동안 지불 지연; 2 = 2개월 동안 지불 지연; . . .; 8 = 8개월 동안 지불 지연; 9 = 9개월 이상 지불 지연.\n",
    "- X12-X17: 청구서 금액(NT 달러). X12 = 2005년 9월 청구서 금액; X13 = 2005년 8월 청구서 금액; . . .; X17 = 2005년 4월 청구서 금액.\n",
    "- X18-X23: 이전 지불 금액(NT 달러). X18 = 2005년 9월에 지불한 금액; X19 = 2005년 8월에 지불한 금액; . . .;X23 = 2005년 4월에 지불한 금액."
   ]
  },
  {
   "cell_type": "markdown",
   "metadata": {},
   "source": [
    "이 튜토리얼에서는 **Default of Credit Card Clients Dataset**이라고 하는 UCI의 데이터 세트를 사용할 것이다.   \n",
    "이 데이터 세트는 2005년 4월부터 2005년 9월까지 타이완의 신용카드 고객의 채무불이행, 인구통계학적 요인, 신용 데이터, 결제 내역 및 청구서에 대한 정보를 포함하고 있다.   \n",
    "24,000개의 샘플과 25개의 특징이 있습니다.   \n",
    "각 열에 대한 간단한 설명은 다음과 같습니다.  \n",
    "\n",
    "- ID: 각 클라이언트의 ID\n",
    "- LIMIT_BAL: NT 달러로 표시된 신용 금액(개인 및 가족/추가 신용 포함)\n",
    "- SEX: 성별(1=남성, 2=여)\n",
    "- 학력: (1=고등학교, 2=대학교, 3=고등학교, 4=고등학교, 5=고등학교, 6=고등학교)\n",
    "- 결혼: 결혼 여부(1=기혼, 2=싱글, 3=신혼)\n",
    "- AGE: 나이(연령)\n",
    "- PAY_0 ~ PAY_6 : n개월 전 까지 상환현황 (PAY_0 = 지난달 ... PAY_6 = 6개월 전) (라벨 : -1 = 정당하게 결제, 1 = 1개월 지연, 2 = 2개월 지연, ... 8 = 8개월 지연, 9개월 이상 결제 지연)\n",
    "- BIL_AMT1 ~ BIL_AMT6 : n개월 전 계산서 금액 (BILL_AMT1 = last_month ) BIL_AMT6 = 6개월 전)\n",
    "- PAY_AMT1 to PAY_AMT6: n개월 전 지급액(BILL_AMT1 = last_month.. BIL_AMT6 = 6개월 전)\n",
    "- default: 기본 지급(1=예, 0=아니오), Target Column"
   ]
  },
  {
   "cell_type": "markdown",
   "metadata": {},
   "source": [
    "For this tutorial we will use a dataset from UCI called **Default of Credit Card Clients Dataset**. This dataset contains information on default payments, demographic factors, credit data, payment history, and billing statements of credit card clients in Taiwan from April 2005 to September 2005. There are 24,000 samples and 25 features. Short descriptions of each column are as follows:\n",
    "\n",
    "- **ID:** ID of each client\n",
    "- **LIMIT_BAL:** Amount of given credit in NT dollars (includes individual and family/supplementary credit)\n",
    "- **SEX:** Gender (1=male, 2=female)\n",
    "- **EDUCATION:** (1=graduate school, 2=university, 3=high school, 4=others, 5=unknown, 6=unknown)\n",
    "- **MARRIAGE:** Marital status (1=married, 2=single, 3=others)\n",
    "- **AGE:** Age in years\n",
    "- **PAY_0 to PAY_6:** Repayment status by n months ago (PAY_0 = last month ... PAY_6 = 6 months ago) (Labels: -1=pay duly, 1=payment delay for one month, 2=payment delay for two months, ... 8=payment delay for eight months, 9=payment delay for nine months and above)\n",
    "- **BILL_AMT1 to BILL_AMT6:** Amount of bill statement by n months ago ( BILL_AMT1 = last_month .. BILL_AMT6 = 6 months ago)\n",
    "- **PAY_AMT1 to PAY_AMT6:** Amount of payment by n months ago ( BILL_AMT1 = last_month .. BILL_AMT6 = 6 months ago)\n",
    "- **default:** Default payment (1=yes, 0=no) `Target Column`"
   ]
  },
  {
   "cell_type": "markdown",
   "metadata": {
    "colab_type": "text",
    "id": "VLKxlFjrEQmq"
   },
   "source": [
    "#### Dataset Acknowledgement:\n",
    "Lichman, M. (2013). UCI Machine Learning Repository. Irvine, CA: University of California, School of Information and Computer Science.\n",
    "\n",
    "The original dataset and data dictionary can be __[found here.](https://archive.ics.uci.edu/ml/datasets/default+of+credit+card+clients)__ "
   ]
  },
  {
   "cell_type": "markdown",
   "metadata": {
    "colab_type": "text",
    "id": "Ui_rALqYEQmv"
   },
   "source": [
    "# 5.0 Getting the Data"
   ]
  },
  {
   "cell_type": "markdown",
   "metadata": {
    "colab_type": "text",
    "id": "BfqIMeJNEQmz"
   },
   "source": [
    "PyCaret의 데이터 저장소를 사용하여 get_data() 기능을 사용하여 데이터를 로드(인터넷 연결이 필요합니다)."
   ]
  },
  {
   "cell_type": "markdown",
   "metadata": {
    "colab_type": "text",
    "id": "BfqIMeJNEQmz"
   },
   "source": [
    "You can download the data from the original source __[found here](https://archive.ics.uci.edu/ml/datasets/default+of+credit+card+clients)__ and load it using pandas __[(Learn How)](https://pandas.pydata.org/pandas-docs/stable/reference/api/pandas.read_csv.html)__ or you can use PyCaret's data respository to load the data using the `get_data()` function (This will require an internet connection)."
   ]
  },
  {
   "cell_type": "code",
   "execution_count": 1,
   "metadata": {
    "colab": {
     "base_uri": "https://localhost:8080/",
     "height": 211
    },
    "colab_type": "code",
    "id": "lUvE187JEQm3",
    "outputId": "8741262c-0e33-4ec0-b54d-3c8fb41e52c0"
   },
   "outputs": [
    {
     "data": {
      "text/html": [
       "<div>\n",
       "<style scoped>\n",
       "    .dataframe tbody tr th:only-of-type {\n",
       "        vertical-align: middle;\n",
       "    }\n",
       "\n",
       "    .dataframe tbody tr th {\n",
       "        vertical-align: top;\n",
       "    }\n",
       "\n",
       "    .dataframe thead th {\n",
       "        text-align: right;\n",
       "    }\n",
       "</style>\n",
       "<table border=\"1\" class=\"dataframe\">\n",
       "  <thead>\n",
       "    <tr style=\"text-align: right;\">\n",
       "      <th></th>\n",
       "      <th>LIMIT_BAL</th>\n",
       "      <th>SEX</th>\n",
       "      <th>EDUCATION</th>\n",
       "      <th>MARRIAGE</th>\n",
       "      <th>AGE</th>\n",
       "      <th>PAY_1</th>\n",
       "      <th>PAY_2</th>\n",
       "      <th>PAY_3</th>\n",
       "      <th>PAY_4</th>\n",
       "      <th>PAY_5</th>\n",
       "      <th>...</th>\n",
       "      <th>BILL_AMT4</th>\n",
       "      <th>BILL_AMT5</th>\n",
       "      <th>BILL_AMT6</th>\n",
       "      <th>PAY_AMT1</th>\n",
       "      <th>PAY_AMT2</th>\n",
       "      <th>PAY_AMT3</th>\n",
       "      <th>PAY_AMT4</th>\n",
       "      <th>PAY_AMT5</th>\n",
       "      <th>PAY_AMT6</th>\n",
       "      <th>default</th>\n",
       "    </tr>\n",
       "  </thead>\n",
       "  <tbody>\n",
       "    <tr>\n",
       "      <th>0</th>\n",
       "      <td>20000</td>\n",
       "      <td>2</td>\n",
       "      <td>2</td>\n",
       "      <td>1</td>\n",
       "      <td>24</td>\n",
       "      <td>2</td>\n",
       "      <td>2</td>\n",
       "      <td>-1</td>\n",
       "      <td>-1</td>\n",
       "      <td>-2</td>\n",
       "      <td>...</td>\n",
       "      <td>0.0</td>\n",
       "      <td>0.0</td>\n",
       "      <td>0.0</td>\n",
       "      <td>0.0</td>\n",
       "      <td>689.0</td>\n",
       "      <td>0.0</td>\n",
       "      <td>0.0</td>\n",
       "      <td>0.0</td>\n",
       "      <td>0.0</td>\n",
       "      <td>1</td>\n",
       "    </tr>\n",
       "    <tr>\n",
       "      <th>1</th>\n",
       "      <td>90000</td>\n",
       "      <td>2</td>\n",
       "      <td>2</td>\n",
       "      <td>2</td>\n",
       "      <td>34</td>\n",
       "      <td>0</td>\n",
       "      <td>0</td>\n",
       "      <td>0</td>\n",
       "      <td>0</td>\n",
       "      <td>0</td>\n",
       "      <td>...</td>\n",
       "      <td>14331.0</td>\n",
       "      <td>14948.0</td>\n",
       "      <td>15549.0</td>\n",
       "      <td>1518.0</td>\n",
       "      <td>1500.0</td>\n",
       "      <td>1000.0</td>\n",
       "      <td>1000.0</td>\n",
       "      <td>1000.0</td>\n",
       "      <td>5000.0</td>\n",
       "      <td>0</td>\n",
       "    </tr>\n",
       "    <tr>\n",
       "      <th>2</th>\n",
       "      <td>50000</td>\n",
       "      <td>2</td>\n",
       "      <td>2</td>\n",
       "      <td>1</td>\n",
       "      <td>37</td>\n",
       "      <td>0</td>\n",
       "      <td>0</td>\n",
       "      <td>0</td>\n",
       "      <td>0</td>\n",
       "      <td>0</td>\n",
       "      <td>...</td>\n",
       "      <td>28314.0</td>\n",
       "      <td>28959.0</td>\n",
       "      <td>29547.0</td>\n",
       "      <td>2000.0</td>\n",
       "      <td>2019.0</td>\n",
       "      <td>1200.0</td>\n",
       "      <td>1100.0</td>\n",
       "      <td>1069.0</td>\n",
       "      <td>1000.0</td>\n",
       "      <td>0</td>\n",
       "    </tr>\n",
       "    <tr>\n",
       "      <th>3</th>\n",
       "      <td>50000</td>\n",
       "      <td>1</td>\n",
       "      <td>2</td>\n",
       "      <td>1</td>\n",
       "      <td>57</td>\n",
       "      <td>-1</td>\n",
       "      <td>0</td>\n",
       "      <td>-1</td>\n",
       "      <td>0</td>\n",
       "      <td>0</td>\n",
       "      <td>...</td>\n",
       "      <td>20940.0</td>\n",
       "      <td>19146.0</td>\n",
       "      <td>19131.0</td>\n",
       "      <td>2000.0</td>\n",
       "      <td>36681.0</td>\n",
       "      <td>10000.0</td>\n",
       "      <td>9000.0</td>\n",
       "      <td>689.0</td>\n",
       "      <td>679.0</td>\n",
       "      <td>0</td>\n",
       "    </tr>\n",
       "    <tr>\n",
       "      <th>4</th>\n",
       "      <td>50000</td>\n",
       "      <td>1</td>\n",
       "      <td>1</td>\n",
       "      <td>2</td>\n",
       "      <td>37</td>\n",
       "      <td>0</td>\n",
       "      <td>0</td>\n",
       "      <td>0</td>\n",
       "      <td>0</td>\n",
       "      <td>0</td>\n",
       "      <td>...</td>\n",
       "      <td>19394.0</td>\n",
       "      <td>19619.0</td>\n",
       "      <td>20024.0</td>\n",
       "      <td>2500.0</td>\n",
       "      <td>1815.0</td>\n",
       "      <td>657.0</td>\n",
       "      <td>1000.0</td>\n",
       "      <td>1000.0</td>\n",
       "      <td>800.0</td>\n",
       "      <td>0</td>\n",
       "    </tr>\n",
       "  </tbody>\n",
       "</table>\n",
       "<p>5 rows × 24 columns</p>\n",
       "</div>"
      ],
      "text/plain": [
       "   LIMIT_BAL  SEX  EDUCATION  MARRIAGE  AGE  PAY_1  PAY_2  PAY_3  PAY_4  \\\n",
       "0      20000    2          2         1   24      2      2     -1     -1   \n",
       "1      90000    2          2         2   34      0      0      0      0   \n",
       "2      50000    2          2         1   37      0      0      0      0   \n",
       "3      50000    1          2         1   57     -1      0     -1      0   \n",
       "4      50000    1          1         2   37      0      0      0      0   \n",
       "\n",
       "   PAY_5  ...  BILL_AMT4  BILL_AMT5  BILL_AMT6  PAY_AMT1  PAY_AMT2  PAY_AMT3  \\\n",
       "0     -2  ...        0.0        0.0        0.0       0.0     689.0       0.0   \n",
       "1      0  ...    14331.0    14948.0    15549.0    1518.0    1500.0    1000.0   \n",
       "2      0  ...    28314.0    28959.0    29547.0    2000.0    2019.0    1200.0   \n",
       "3      0  ...    20940.0    19146.0    19131.0    2000.0   36681.0   10000.0   \n",
       "4      0  ...    19394.0    19619.0    20024.0    2500.0    1815.0     657.0   \n",
       "\n",
       "   PAY_AMT4  PAY_AMT5  PAY_AMT6  default  \n",
       "0       0.0       0.0       0.0        1  \n",
       "1    1000.0    1000.0    5000.0        0  \n",
       "2    1100.0    1069.0    1000.0        0  \n",
       "3    9000.0     689.0     679.0        0  \n",
       "4    1000.0    1000.0     800.0        0  \n",
       "\n",
       "[5 rows x 24 columns]"
      ]
     },
     "metadata": {},
     "output_type": "display_data"
    }
   ],
   "source": [
    "from pycaret.datasets import get_data\n",
    "dataset = get_data('credit')"
   ]
  },
  {
   "cell_type": "code",
   "execution_count": 2,
   "metadata": {
    "colab": {
     "base_uri": "https://localhost:8080/",
     "height": 33
    },
    "colab_type": "code",
    "id": "kMqDGBkJEQnN",
    "outputId": "b2015b7a-4c1a-4377-d9cf-3e9ac5ce3ea2"
   },
   "outputs": [
    {
     "data": {
      "text/plain": [
       "(24000, 24)"
      ]
     },
     "execution_count": 2,
     "metadata": {},
     "output_type": "execute_result"
    }
   ],
   "source": [
    "#check the shape of data\n",
    "dataset.shape"
   ]
  },
  {
   "cell_type": "markdown",
   "metadata": {
    "colab_type": "text",
    "id": "LyGFryEhEQne"
   },
   "source": [
    "* 데이터 분할   \n",
    "unseen 데이터에 대한 `predict_model()` 함수를 데모하기 위해 1200개 레코드의 샘플이 원래 데이터 세트에서 보류되었다.    \n",
    "이 분할은 실제 시나리오를 시뮬레이션하기 위해 수행되므로 train/test 분할과 혼동해서는 안 된다.   \n",
    "여기서의 착안점은 이 1200개의 레코드가 기계 학습 실험이 수행되었던 당시에 사용할 수 없다는 것이다. "
   ]
  },
  {
   "cell_type": "markdown",
   "metadata": {
    "colab_type": "text",
    "id": "LyGFryEhEQne"
   },
   "source": [
    "In order to demonstrate the `predict_model()` function on unseen data, a sample of 1200 records has been withheld from the original dataset to be used for predictions. This should not be confused with a train/test split as this particular split is performed to simulate a real life scenario.   \n",
    "Another way to think about this is that these 1200 records are not available at the time when the machine learning experiment was performed."
   ]
  },
  {
   "cell_type": "code",
   "execution_count": 3,
   "metadata": {
    "colab": {
     "base_uri": "https://localhost:8080/",
     "height": 50
    },
    "colab_type": "code",
    "id": "hXmaL1xFEQnj",
    "outputId": "f1f62a7d-5d3d-4832-ee00-a4d20ee39c41"
   },
   "outputs": [
    {
     "name": "stdout",
     "output_type": "stream",
     "text": [
      "Data for Modeling: (22800, 24)\n",
      "Unseen Data For Predictions: (1200, 24)\n"
     ]
    }
   ],
   "source": [
    "data = dataset.sample(frac=0.95, random_state=786) # train/test에 사용할 dataset\n",
    "data_unseen = dataset.drop(data.index)             # train/test dataset 을 제외하고 저장. 목적: 학습에 사용되지 않은 데이터로 모델을 최종 평가하기 위함\n",
    "data.reset_index(inplace=True, drop=True)\n",
    "data_unseen.reset_index(inplace=True, drop=True)\n",
    "print('Data for Modeling: ' + str(data.shape))\n",
    "print('Unseen Data For Predictions: ' + str(data_unseen.shape))"
   ]
  },
  {
   "cell_type": "code",
   "execution_count": null,
   "metadata": {},
   "outputs": [],
   "source": []
  },
  {
   "cell_type": "markdown",
   "metadata": {
    "colab_type": "text",
    "id": "y9s9wNcjEQn0"
   },
   "source": [
    "# 6.0 Setting up Environment in PyCaret"
   ]
  },
  {
   "cell_type": "markdown",
   "metadata": {
    "colab_type": "text",
    "id": "ZlA01j6NEQn7"
   },
   "source": [
    "`setup()` 함수는 pycaret에서 환경을 초기화하고 변환 파이프라인을 생성하여 모델링 및 배포를 위한 데이터를 준비합니다.   \n",
    "`setup()`은 pycaret에서 다른 함수를 실행하기 전에 호출해야 합니다. 여기에는 pandas dataframe과 target이라는 두 가지 필수 매개 변수가 필요합니다.   \n",
    "다른 모든 파라미터는 선택 사항이며 사전 처리 파이프라인을 사용자 지정하는 데 사용됩니다(나중에 나오는 자습서에서 확인할 수 있습니다).\n",
    "\n",
    "`setup()`이 실행되면 PyCaret의 추론 알고리즘은 특정 속성을 기반으로 모든 feature에 대한 data type을 자동으로 유추한다.  \n",
    "데이터 유형은 정확하게 추론되어야 하지만 항상 그런 것은 아니다. \n",
    "이를 설명하기 위해 PyCaret은 `setup()`이 실행된 후 특징과 유추된 데이터 유형을 포함하는 표를 표시합니다. \n",
    "모든 데이터 유형이 올바르게 식별되면 Enter 키를 눌러 계속하거나 quit 키를 눌러 실험을 종료할 수 있습니다. \n",
    "PyCaret는 기계 학습 실험에 필수적인 몇 가지 사전 처리 작업을 자동으로 수행하기 때문에 데이터 유형이 올바른지 확인하는 것이 근본적으로 중요하다. \n",
    "이러한 작업은 데이터 유형별로 다르게 수행되므로 올바르게 구성하는 것이 매우 중요합니다.\n",
    "\n",
    "이후 자습서에서는 `setup()`의 numeric_features 및 category_features 매개 변수를 사용하여 PyCaret의 추론된 데이터 유형을 수정하는 방법에 대해 배울 것입니다."
   ]
  },
  {
   "cell_type": "markdown",
   "metadata": {
    "colab_type": "text",
    "id": "ZlA01j6NEQn7"
   },
   "source": [
    "The `setup()` function initializes the environment in pycaret and creates the transformation pipeline to prepare the data for modeling and deployment. `setup()` must be called before executing any other function in pycaret. It takes two mandatory parameters: a pandas dataframe and the name of the target column. All other parameters are optional and are used to customize the pre-processing pipeline (we will see them in later tutorials).\n",
    "\n",
    "When `setup()` is executed, PyCaret's inference algorithm will automatically infer the data types for all features based on certain properties.  \n",
    "The data type should be inferred correctly but this is not always the case. To account for this, PyCaret displays a table containing the features and their inferred data types after `setup()` is executed. If all of the data types are correctly identified `enter` can be pressed to continue or `quit` can be typed to end the expriment. Ensuring that the data types are correct is of fundamental importance in PyCaret as it automatically performs a few pre-processing tasks which are imperative to any machine learning experiment. These tasks are performed differently for each data type which means it is very important for them to be correctly configured.\n",
    "\n",
    "In later tutorials we will learn how to overwrite PyCaret's infered data type using the `numeric_features` and `categorical_features` parameters in `setup()`."
   ]
  },
  {
   "cell_type": "code",
   "execution_count": 4,
   "metadata": {
    "colab": {},
    "colab_type": "code",
    "id": "BOmRR0deEQoA"
   },
   "outputs": [],
   "source": [
    "from pycaret.classification import *"
   ]
  },
  {
   "cell_type": "code",
   "execution_count": 5,
   "metadata": {
    "colab": {
     "base_uri": "https://localhost:8080/",
     "height": 803
    },
    "colab_type": "code",
    "id": "k2IuvfDHEQoO",
    "outputId": "c7754ae9-b060-4218-b6f0-de65a815aa3a"
   },
   "outputs": [
    {
     "data": {
      "text/html": [
       "<style type=\"text/css\">\n",
       "#T_c0e14_row44_col1 {\n",
       "  background-color: lightgreen;\n",
       "}\n",
       "</style>\n",
       "<table id=\"T_c0e14\">\n",
       "  <thead>\n",
       "    <tr>\n",
       "      <th class=\"blank level0\" >&nbsp;</th>\n",
       "      <th id=\"T_c0e14_level0_col0\" class=\"col_heading level0 col0\" >Description</th>\n",
       "      <th id=\"T_c0e14_level0_col1\" class=\"col_heading level0 col1\" >Value</th>\n",
       "    </tr>\n",
       "  </thead>\n",
       "  <tbody>\n",
       "    <tr>\n",
       "      <th id=\"T_c0e14_level0_row0\" class=\"row_heading level0 row0\" >0</th>\n",
       "      <td id=\"T_c0e14_row0_col0\" class=\"data row0 col0\" >session_id</td>\n",
       "      <td id=\"T_c0e14_row0_col1\" class=\"data row0 col1\" >123</td>\n",
       "    </tr>\n",
       "    <tr>\n",
       "      <th id=\"T_c0e14_level0_row1\" class=\"row_heading level0 row1\" >1</th>\n",
       "      <td id=\"T_c0e14_row1_col0\" class=\"data row1 col0\" >Target</td>\n",
       "      <td id=\"T_c0e14_row1_col1\" class=\"data row1 col1\" >default</td>\n",
       "    </tr>\n",
       "    <tr>\n",
       "      <th id=\"T_c0e14_level0_row2\" class=\"row_heading level0 row2\" >2</th>\n",
       "      <td id=\"T_c0e14_row2_col0\" class=\"data row2 col0\" >Target Type</td>\n",
       "      <td id=\"T_c0e14_row2_col1\" class=\"data row2 col1\" >Binary</td>\n",
       "    </tr>\n",
       "    <tr>\n",
       "      <th id=\"T_c0e14_level0_row3\" class=\"row_heading level0 row3\" >3</th>\n",
       "      <td id=\"T_c0e14_row3_col0\" class=\"data row3 col0\" >Label Encoded</td>\n",
       "      <td id=\"T_c0e14_row3_col1\" class=\"data row3 col1\" >None</td>\n",
       "    </tr>\n",
       "    <tr>\n",
       "      <th id=\"T_c0e14_level0_row4\" class=\"row_heading level0 row4\" >4</th>\n",
       "      <td id=\"T_c0e14_row4_col0\" class=\"data row4 col0\" >Original Data</td>\n",
       "      <td id=\"T_c0e14_row4_col1\" class=\"data row4 col1\" >(22800, 24)</td>\n",
       "    </tr>\n",
       "    <tr>\n",
       "      <th id=\"T_c0e14_level0_row5\" class=\"row_heading level0 row5\" >5</th>\n",
       "      <td id=\"T_c0e14_row5_col0\" class=\"data row5 col0\" >Missing Values</td>\n",
       "      <td id=\"T_c0e14_row5_col1\" class=\"data row5 col1\" >False</td>\n",
       "    </tr>\n",
       "    <tr>\n",
       "      <th id=\"T_c0e14_level0_row6\" class=\"row_heading level0 row6\" >6</th>\n",
       "      <td id=\"T_c0e14_row6_col0\" class=\"data row6 col0\" >Numeric Features</td>\n",
       "      <td id=\"T_c0e14_row6_col1\" class=\"data row6 col1\" >14</td>\n",
       "    </tr>\n",
       "    <tr>\n",
       "      <th id=\"T_c0e14_level0_row7\" class=\"row_heading level0 row7\" >7</th>\n",
       "      <td id=\"T_c0e14_row7_col0\" class=\"data row7 col0\" >Categorical Features</td>\n",
       "      <td id=\"T_c0e14_row7_col1\" class=\"data row7 col1\" >9</td>\n",
       "    </tr>\n",
       "    <tr>\n",
       "      <th id=\"T_c0e14_level0_row8\" class=\"row_heading level0 row8\" >8</th>\n",
       "      <td id=\"T_c0e14_row8_col0\" class=\"data row8 col0\" >Ordinal Features</td>\n",
       "      <td id=\"T_c0e14_row8_col1\" class=\"data row8 col1\" >False</td>\n",
       "    </tr>\n",
       "    <tr>\n",
       "      <th id=\"T_c0e14_level0_row9\" class=\"row_heading level0 row9\" >9</th>\n",
       "      <td id=\"T_c0e14_row9_col0\" class=\"data row9 col0\" >High Cardinality Features</td>\n",
       "      <td id=\"T_c0e14_row9_col1\" class=\"data row9 col1\" >False</td>\n",
       "    </tr>\n",
       "    <tr>\n",
       "      <th id=\"T_c0e14_level0_row10\" class=\"row_heading level0 row10\" >10</th>\n",
       "      <td id=\"T_c0e14_row10_col0\" class=\"data row10 col0\" >High Cardinality Method</td>\n",
       "      <td id=\"T_c0e14_row10_col1\" class=\"data row10 col1\" >None</td>\n",
       "    </tr>\n",
       "    <tr>\n",
       "      <th id=\"T_c0e14_level0_row11\" class=\"row_heading level0 row11\" >11</th>\n",
       "      <td id=\"T_c0e14_row11_col0\" class=\"data row11 col0\" >Transformed Train Set</td>\n",
       "      <td id=\"T_c0e14_row11_col1\" class=\"data row11 col1\" >(15959, 88)</td>\n",
       "    </tr>\n",
       "    <tr>\n",
       "      <th id=\"T_c0e14_level0_row12\" class=\"row_heading level0 row12\" >12</th>\n",
       "      <td id=\"T_c0e14_row12_col0\" class=\"data row12 col0\" >Transformed Test Set</td>\n",
       "      <td id=\"T_c0e14_row12_col1\" class=\"data row12 col1\" >(6841, 88)</td>\n",
       "    </tr>\n",
       "    <tr>\n",
       "      <th id=\"T_c0e14_level0_row13\" class=\"row_heading level0 row13\" >13</th>\n",
       "      <td id=\"T_c0e14_row13_col0\" class=\"data row13 col0\" >Shuffle Train-Test</td>\n",
       "      <td id=\"T_c0e14_row13_col1\" class=\"data row13 col1\" >True</td>\n",
       "    </tr>\n",
       "    <tr>\n",
       "      <th id=\"T_c0e14_level0_row14\" class=\"row_heading level0 row14\" >14</th>\n",
       "      <td id=\"T_c0e14_row14_col0\" class=\"data row14 col0\" >Stratify Train-Test</td>\n",
       "      <td id=\"T_c0e14_row14_col1\" class=\"data row14 col1\" >False</td>\n",
       "    </tr>\n",
       "    <tr>\n",
       "      <th id=\"T_c0e14_level0_row15\" class=\"row_heading level0 row15\" >15</th>\n",
       "      <td id=\"T_c0e14_row15_col0\" class=\"data row15 col0\" >Fold Generator</td>\n",
       "      <td id=\"T_c0e14_row15_col1\" class=\"data row15 col1\" >StratifiedKFold</td>\n",
       "    </tr>\n",
       "    <tr>\n",
       "      <th id=\"T_c0e14_level0_row16\" class=\"row_heading level0 row16\" >16</th>\n",
       "      <td id=\"T_c0e14_row16_col0\" class=\"data row16 col0\" >Fold Number</td>\n",
       "      <td id=\"T_c0e14_row16_col1\" class=\"data row16 col1\" >10</td>\n",
       "    </tr>\n",
       "    <tr>\n",
       "      <th id=\"T_c0e14_level0_row17\" class=\"row_heading level0 row17\" >17</th>\n",
       "      <td id=\"T_c0e14_row17_col0\" class=\"data row17 col0\" >CPU Jobs</td>\n",
       "      <td id=\"T_c0e14_row17_col1\" class=\"data row17 col1\" >-1</td>\n",
       "    </tr>\n",
       "    <tr>\n",
       "      <th id=\"T_c0e14_level0_row18\" class=\"row_heading level0 row18\" >18</th>\n",
       "      <td id=\"T_c0e14_row18_col0\" class=\"data row18 col0\" >Use GPU</td>\n",
       "      <td id=\"T_c0e14_row18_col1\" class=\"data row18 col1\" >False</td>\n",
       "    </tr>\n",
       "    <tr>\n",
       "      <th id=\"T_c0e14_level0_row19\" class=\"row_heading level0 row19\" >19</th>\n",
       "      <td id=\"T_c0e14_row19_col0\" class=\"data row19 col0\" >Log Experiment</td>\n",
       "      <td id=\"T_c0e14_row19_col1\" class=\"data row19 col1\" >False</td>\n",
       "    </tr>\n",
       "    <tr>\n",
       "      <th id=\"T_c0e14_level0_row20\" class=\"row_heading level0 row20\" >20</th>\n",
       "      <td id=\"T_c0e14_row20_col0\" class=\"data row20 col0\" >Experiment Name</td>\n",
       "      <td id=\"T_c0e14_row20_col1\" class=\"data row20 col1\" >clf-default-name</td>\n",
       "    </tr>\n",
       "    <tr>\n",
       "      <th id=\"T_c0e14_level0_row21\" class=\"row_heading level0 row21\" >21</th>\n",
       "      <td id=\"T_c0e14_row21_col0\" class=\"data row21 col0\" >USI</td>\n",
       "      <td id=\"T_c0e14_row21_col1\" class=\"data row21 col1\" >7813</td>\n",
       "    </tr>\n",
       "    <tr>\n",
       "      <th id=\"T_c0e14_level0_row22\" class=\"row_heading level0 row22\" >22</th>\n",
       "      <td id=\"T_c0e14_row22_col0\" class=\"data row22 col0\" >Imputation Type</td>\n",
       "      <td id=\"T_c0e14_row22_col1\" class=\"data row22 col1\" >simple</td>\n",
       "    </tr>\n",
       "    <tr>\n",
       "      <th id=\"T_c0e14_level0_row23\" class=\"row_heading level0 row23\" >23</th>\n",
       "      <td id=\"T_c0e14_row23_col0\" class=\"data row23 col0\" >Iterative Imputation Iteration</td>\n",
       "      <td id=\"T_c0e14_row23_col1\" class=\"data row23 col1\" >None</td>\n",
       "    </tr>\n",
       "    <tr>\n",
       "      <th id=\"T_c0e14_level0_row24\" class=\"row_heading level0 row24\" >24</th>\n",
       "      <td id=\"T_c0e14_row24_col0\" class=\"data row24 col0\" >Numeric Imputer</td>\n",
       "      <td id=\"T_c0e14_row24_col1\" class=\"data row24 col1\" >mean</td>\n",
       "    </tr>\n",
       "    <tr>\n",
       "      <th id=\"T_c0e14_level0_row25\" class=\"row_heading level0 row25\" >25</th>\n",
       "      <td id=\"T_c0e14_row25_col0\" class=\"data row25 col0\" >Iterative Imputation Numeric Model</td>\n",
       "      <td id=\"T_c0e14_row25_col1\" class=\"data row25 col1\" >None</td>\n",
       "    </tr>\n",
       "    <tr>\n",
       "      <th id=\"T_c0e14_level0_row26\" class=\"row_heading level0 row26\" >26</th>\n",
       "      <td id=\"T_c0e14_row26_col0\" class=\"data row26 col0\" >Categorical Imputer</td>\n",
       "      <td id=\"T_c0e14_row26_col1\" class=\"data row26 col1\" >constant</td>\n",
       "    </tr>\n",
       "    <tr>\n",
       "      <th id=\"T_c0e14_level0_row27\" class=\"row_heading level0 row27\" >27</th>\n",
       "      <td id=\"T_c0e14_row27_col0\" class=\"data row27 col0\" >Iterative Imputation Categorical Model</td>\n",
       "      <td id=\"T_c0e14_row27_col1\" class=\"data row27 col1\" >None</td>\n",
       "    </tr>\n",
       "    <tr>\n",
       "      <th id=\"T_c0e14_level0_row28\" class=\"row_heading level0 row28\" >28</th>\n",
       "      <td id=\"T_c0e14_row28_col0\" class=\"data row28 col0\" >Unknown Categoricals Handling</td>\n",
       "      <td id=\"T_c0e14_row28_col1\" class=\"data row28 col1\" >least_frequent</td>\n",
       "    </tr>\n",
       "    <tr>\n",
       "      <th id=\"T_c0e14_level0_row29\" class=\"row_heading level0 row29\" >29</th>\n",
       "      <td id=\"T_c0e14_row29_col0\" class=\"data row29 col0\" >Normalize</td>\n",
       "      <td id=\"T_c0e14_row29_col1\" class=\"data row29 col1\" >False</td>\n",
       "    </tr>\n",
       "    <tr>\n",
       "      <th id=\"T_c0e14_level0_row30\" class=\"row_heading level0 row30\" >30</th>\n",
       "      <td id=\"T_c0e14_row30_col0\" class=\"data row30 col0\" >Normalize Method</td>\n",
       "      <td id=\"T_c0e14_row30_col1\" class=\"data row30 col1\" >None</td>\n",
       "    </tr>\n",
       "    <tr>\n",
       "      <th id=\"T_c0e14_level0_row31\" class=\"row_heading level0 row31\" >31</th>\n",
       "      <td id=\"T_c0e14_row31_col0\" class=\"data row31 col0\" >Transformation</td>\n",
       "      <td id=\"T_c0e14_row31_col1\" class=\"data row31 col1\" >False</td>\n",
       "    </tr>\n",
       "    <tr>\n",
       "      <th id=\"T_c0e14_level0_row32\" class=\"row_heading level0 row32\" >32</th>\n",
       "      <td id=\"T_c0e14_row32_col0\" class=\"data row32 col0\" >Transformation Method</td>\n",
       "      <td id=\"T_c0e14_row32_col1\" class=\"data row32 col1\" >None</td>\n",
       "    </tr>\n",
       "    <tr>\n",
       "      <th id=\"T_c0e14_level0_row33\" class=\"row_heading level0 row33\" >33</th>\n",
       "      <td id=\"T_c0e14_row33_col0\" class=\"data row33 col0\" >PCA</td>\n",
       "      <td id=\"T_c0e14_row33_col1\" class=\"data row33 col1\" >False</td>\n",
       "    </tr>\n",
       "    <tr>\n",
       "      <th id=\"T_c0e14_level0_row34\" class=\"row_heading level0 row34\" >34</th>\n",
       "      <td id=\"T_c0e14_row34_col0\" class=\"data row34 col0\" >PCA Method</td>\n",
       "      <td id=\"T_c0e14_row34_col1\" class=\"data row34 col1\" >None</td>\n",
       "    </tr>\n",
       "    <tr>\n",
       "      <th id=\"T_c0e14_level0_row35\" class=\"row_heading level0 row35\" >35</th>\n",
       "      <td id=\"T_c0e14_row35_col0\" class=\"data row35 col0\" >PCA Components</td>\n",
       "      <td id=\"T_c0e14_row35_col1\" class=\"data row35 col1\" >None</td>\n",
       "    </tr>\n",
       "    <tr>\n",
       "      <th id=\"T_c0e14_level0_row36\" class=\"row_heading level0 row36\" >36</th>\n",
       "      <td id=\"T_c0e14_row36_col0\" class=\"data row36 col0\" >Ignore Low Variance</td>\n",
       "      <td id=\"T_c0e14_row36_col1\" class=\"data row36 col1\" >False</td>\n",
       "    </tr>\n",
       "    <tr>\n",
       "      <th id=\"T_c0e14_level0_row37\" class=\"row_heading level0 row37\" >37</th>\n",
       "      <td id=\"T_c0e14_row37_col0\" class=\"data row37 col0\" >Combine Rare Levels</td>\n",
       "      <td id=\"T_c0e14_row37_col1\" class=\"data row37 col1\" >False</td>\n",
       "    </tr>\n",
       "    <tr>\n",
       "      <th id=\"T_c0e14_level0_row38\" class=\"row_heading level0 row38\" >38</th>\n",
       "      <td id=\"T_c0e14_row38_col0\" class=\"data row38 col0\" >Rare Level Threshold</td>\n",
       "      <td id=\"T_c0e14_row38_col1\" class=\"data row38 col1\" >None</td>\n",
       "    </tr>\n",
       "    <tr>\n",
       "      <th id=\"T_c0e14_level0_row39\" class=\"row_heading level0 row39\" >39</th>\n",
       "      <td id=\"T_c0e14_row39_col0\" class=\"data row39 col0\" >Numeric Binning</td>\n",
       "      <td id=\"T_c0e14_row39_col1\" class=\"data row39 col1\" >False</td>\n",
       "    </tr>\n",
       "    <tr>\n",
       "      <th id=\"T_c0e14_level0_row40\" class=\"row_heading level0 row40\" >40</th>\n",
       "      <td id=\"T_c0e14_row40_col0\" class=\"data row40 col0\" >Remove Outliers</td>\n",
       "      <td id=\"T_c0e14_row40_col1\" class=\"data row40 col1\" >False</td>\n",
       "    </tr>\n",
       "    <tr>\n",
       "      <th id=\"T_c0e14_level0_row41\" class=\"row_heading level0 row41\" >41</th>\n",
       "      <td id=\"T_c0e14_row41_col0\" class=\"data row41 col0\" >Outliers Threshold</td>\n",
       "      <td id=\"T_c0e14_row41_col1\" class=\"data row41 col1\" >None</td>\n",
       "    </tr>\n",
       "    <tr>\n",
       "      <th id=\"T_c0e14_level0_row42\" class=\"row_heading level0 row42\" >42</th>\n",
       "      <td id=\"T_c0e14_row42_col0\" class=\"data row42 col0\" >Remove Multicollinearity</td>\n",
       "      <td id=\"T_c0e14_row42_col1\" class=\"data row42 col1\" >False</td>\n",
       "    </tr>\n",
       "    <tr>\n",
       "      <th id=\"T_c0e14_level0_row43\" class=\"row_heading level0 row43\" >43</th>\n",
       "      <td id=\"T_c0e14_row43_col0\" class=\"data row43 col0\" >Multicollinearity Threshold</td>\n",
       "      <td id=\"T_c0e14_row43_col1\" class=\"data row43 col1\" >None</td>\n",
       "    </tr>\n",
       "    <tr>\n",
       "      <th id=\"T_c0e14_level0_row44\" class=\"row_heading level0 row44\" >44</th>\n",
       "      <td id=\"T_c0e14_row44_col0\" class=\"data row44 col0\" >Remove Perfect Collinearity</td>\n",
       "      <td id=\"T_c0e14_row44_col1\" class=\"data row44 col1\" >True</td>\n",
       "    </tr>\n",
       "    <tr>\n",
       "      <th id=\"T_c0e14_level0_row45\" class=\"row_heading level0 row45\" >45</th>\n",
       "      <td id=\"T_c0e14_row45_col0\" class=\"data row45 col0\" >Clustering</td>\n",
       "      <td id=\"T_c0e14_row45_col1\" class=\"data row45 col1\" >False</td>\n",
       "    </tr>\n",
       "    <tr>\n",
       "      <th id=\"T_c0e14_level0_row46\" class=\"row_heading level0 row46\" >46</th>\n",
       "      <td id=\"T_c0e14_row46_col0\" class=\"data row46 col0\" >Clustering Iteration</td>\n",
       "      <td id=\"T_c0e14_row46_col1\" class=\"data row46 col1\" >None</td>\n",
       "    </tr>\n",
       "    <tr>\n",
       "      <th id=\"T_c0e14_level0_row47\" class=\"row_heading level0 row47\" >47</th>\n",
       "      <td id=\"T_c0e14_row47_col0\" class=\"data row47 col0\" >Polynomial Features</td>\n",
       "      <td id=\"T_c0e14_row47_col1\" class=\"data row47 col1\" >False</td>\n",
       "    </tr>\n",
       "    <tr>\n",
       "      <th id=\"T_c0e14_level0_row48\" class=\"row_heading level0 row48\" >48</th>\n",
       "      <td id=\"T_c0e14_row48_col0\" class=\"data row48 col0\" >Polynomial Degree</td>\n",
       "      <td id=\"T_c0e14_row48_col1\" class=\"data row48 col1\" >None</td>\n",
       "    </tr>\n",
       "    <tr>\n",
       "      <th id=\"T_c0e14_level0_row49\" class=\"row_heading level0 row49\" >49</th>\n",
       "      <td id=\"T_c0e14_row49_col0\" class=\"data row49 col0\" >Trignometry Features</td>\n",
       "      <td id=\"T_c0e14_row49_col1\" class=\"data row49 col1\" >False</td>\n",
       "    </tr>\n",
       "    <tr>\n",
       "      <th id=\"T_c0e14_level0_row50\" class=\"row_heading level0 row50\" >50</th>\n",
       "      <td id=\"T_c0e14_row50_col0\" class=\"data row50 col0\" >Polynomial Threshold</td>\n",
       "      <td id=\"T_c0e14_row50_col1\" class=\"data row50 col1\" >None</td>\n",
       "    </tr>\n",
       "    <tr>\n",
       "      <th id=\"T_c0e14_level0_row51\" class=\"row_heading level0 row51\" >51</th>\n",
       "      <td id=\"T_c0e14_row51_col0\" class=\"data row51 col0\" >Group Features</td>\n",
       "      <td id=\"T_c0e14_row51_col1\" class=\"data row51 col1\" >False</td>\n",
       "    </tr>\n",
       "    <tr>\n",
       "      <th id=\"T_c0e14_level0_row52\" class=\"row_heading level0 row52\" >52</th>\n",
       "      <td id=\"T_c0e14_row52_col0\" class=\"data row52 col0\" >Feature Selection</td>\n",
       "      <td id=\"T_c0e14_row52_col1\" class=\"data row52 col1\" >False</td>\n",
       "    </tr>\n",
       "    <tr>\n",
       "      <th id=\"T_c0e14_level0_row53\" class=\"row_heading level0 row53\" >53</th>\n",
       "      <td id=\"T_c0e14_row53_col0\" class=\"data row53 col0\" >Feature Selection Method</td>\n",
       "      <td id=\"T_c0e14_row53_col1\" class=\"data row53 col1\" >classic</td>\n",
       "    </tr>\n",
       "    <tr>\n",
       "      <th id=\"T_c0e14_level0_row54\" class=\"row_heading level0 row54\" >54</th>\n",
       "      <td id=\"T_c0e14_row54_col0\" class=\"data row54 col0\" >Features Selection Threshold</td>\n",
       "      <td id=\"T_c0e14_row54_col1\" class=\"data row54 col1\" >None</td>\n",
       "    </tr>\n",
       "    <tr>\n",
       "      <th id=\"T_c0e14_level0_row55\" class=\"row_heading level0 row55\" >55</th>\n",
       "      <td id=\"T_c0e14_row55_col0\" class=\"data row55 col0\" >Feature Interaction</td>\n",
       "      <td id=\"T_c0e14_row55_col1\" class=\"data row55 col1\" >False</td>\n",
       "    </tr>\n",
       "    <tr>\n",
       "      <th id=\"T_c0e14_level0_row56\" class=\"row_heading level0 row56\" >56</th>\n",
       "      <td id=\"T_c0e14_row56_col0\" class=\"data row56 col0\" >Feature Ratio</td>\n",
       "      <td id=\"T_c0e14_row56_col1\" class=\"data row56 col1\" >False</td>\n",
       "    </tr>\n",
       "    <tr>\n",
       "      <th id=\"T_c0e14_level0_row57\" class=\"row_heading level0 row57\" >57</th>\n",
       "      <td id=\"T_c0e14_row57_col0\" class=\"data row57 col0\" >Interaction Threshold</td>\n",
       "      <td id=\"T_c0e14_row57_col1\" class=\"data row57 col1\" >None</td>\n",
       "    </tr>\n",
       "    <tr>\n",
       "      <th id=\"T_c0e14_level0_row58\" class=\"row_heading level0 row58\" >58</th>\n",
       "      <td id=\"T_c0e14_row58_col0\" class=\"data row58 col0\" >Fix Imbalance</td>\n",
       "      <td id=\"T_c0e14_row58_col1\" class=\"data row58 col1\" >False</td>\n",
       "    </tr>\n",
       "    <tr>\n",
       "      <th id=\"T_c0e14_level0_row59\" class=\"row_heading level0 row59\" >59</th>\n",
       "      <td id=\"T_c0e14_row59_col0\" class=\"data row59 col0\" >Fix Imbalance Method</td>\n",
       "      <td id=\"T_c0e14_row59_col1\" class=\"data row59 col1\" >SMOTE</td>\n",
       "    </tr>\n",
       "  </tbody>\n",
       "</table>\n"
      ],
      "text/plain": [
       "<pandas.io.formats.style.Styler at 0x7efe1b622a60>"
      ]
     },
     "metadata": {},
     "output_type": "display_data"
    }
   ],
   "source": [
    "exp_clf101 = setup(data = data, target = 'default', session_id=123) "
   ]
  },
  {
   "cell_type": "markdown",
   "metadata": {},
   "source": [
    "setup()이 성공적으로 실행되면 몇 가지 중요한 정보가 포함된 정보 그리드를 인쇄합니다.   \n",
    "대부분의 정보는 setup()이 실행될 때 구성되는 전처리 파이프라인과 관련이 있습니다.  \n",
    "이러한 기능의 대부분은 이 튜토리얼에서는 사용할 수 없지만 이 단계에서 주의해야 할 몇 가지 중요한 사항은 다음과 같습니다.   \n",
    "\n",
    "- session_id : 나중에 재현할 수 있도록 모든 함수에 시드로 전달되는 pseudo-random number.   \n",
    "ession_id가 전달되지 않으면 모든 함수에  난수가 자동으로 생성됩니다. 이 실험에서 session_id는 나중에 재현할 수 있도록 123으로 설정됩니다.\n",
    "\n",
    "- Target 유형: 이진 또는 다중 클래스입니다. Target 유형이 자동으로 탐지되어 표시됩니다. \n",
    "이진 또는 다중 클래스 문제에 대해 실험을 수행하는 방법에 차이가 없습니다. 모든 기능은 동일합니다.\n",
    "\n",
    "- Label Encoded(인코딩된 레이블) : Target variable가 1 또는 0이 아닌 문자열 유형(예: 'Yes' 또는 'No')인 경우,   \n",
    "자동으로 레이블을 1 및 0으로 인코딩하고 참조를 위해 매핑(0 : No, 1: Yes)을 표시합니다. 이 실험에서는 Target변수가 숫자 유형이기 때문에 레이블 인코딩이 필요하지 않습니다.\n",
    "\n",
    "- Original 데이터 : 데이터 집합의 원래 모양을 표시합니다. 이 실험(22800, 24)에서 22,800개의 표본과 목표 열을 포함한 24개의 피처를 의미합니다."
   ]
  },
  {
   "cell_type": "markdown",
   "metadata": {},
   "source": [
    "Once the setup has been succesfully executed it prints the information grid which contains several important pieces of information.   \n",
    "Most of the information is related to the pre-processing pipeline which is constructed when `setup()` is executed.   \n",
    "The majority of these features are out of scope for the purposes of this tutorial however a few important things to note at this stage include:\n",
    "\n",
    "- **session_id :**  A pseudo-random number distributed as a seed in all functions for later reproducibility. If no `session_id` is passed, a random number is automatically generated that is distributed to all functions. In this experiment, the `session_id` is set as `123` for later reproducibility.<br/>\n",
    "<br/>\n",
    "- **Target Type :**  Binary or Multiclass. The Target type is automatically detected and shown. There is no difference in how the experiment is performed for Binary or Multiclass problems. All functionalities are identical.<br/>\n",
    "<br/>\n",
    "- **Label Encoded :**  When the Target variable is of type string (i.e. 'Yes' or 'No') instead of 1 or 0, it automatically encodes the label into 1 and 0 and displays the mapping (0 : No, 1 : Yes) for reference. In this experiment no label encoding is required since the target variable is of type numeric. <br/>\n",
    "<br/>\n",
    "- **Original Data :**  Displays the original shape of the dataset. In this experiment (22800, 24) means 22,800 samples and 24 features including the target column. <br/>\n",
    "<br/>"
   ]
  },
  {
   "cell_type": "markdown",
   "metadata": {},
   "source": [
    "- 결측값 : 원본 데이터에 결측값이 있는 경우 True로 표시됩니다. 이 실험의 경우 데이터 세트에 결측값이 없다.\n",
    "\n",
    "- 숫자형 Features : 숫자로 추론된 Features의 수입니다. 이 데이터 세트에서는 24개의 Feature 중 14개가 숫자로 추론된다.\n",
    "\n",
    "- 범주형 Features : 범주형으로 추론된 Feature의 수입니다. 이 데이터 집합에서 24개 Feature 중 9개는 범주형으로 추론된다.\n",
    "\n",
    "- 변환된 Train 세트 : 변환된 Train 세트의 모양을 표시합니다. (22800, 24)의 원래 모양이 변환된 열차 세트에 대해 (15959, 91)로 변환되고 범주형 인코딩으로 인해 Feature의 수가 24개에서 91개로 증가했습니다.\n",
    "\n",
    "- 변환된 테스트 세트 : 변환된 테스트/홀드아웃 세트의 모양을 표시합니다. 테스트/홀드아웃 세트에는 6841개의 샘플이 있습니다. <br/>이 분할은 설정에서 train_size 매개 변수를 사용하여 변경할 수 있는 기본값인 70/30을 기반으로 합니다.\n",
    "\n",
    "\n",
    "모델링 수행에 필수적인 몇 가지 작업이 누락된 값 대체(이 경우 훈련 데이터에 누락된 값은 없지만 보이지 않는 데이터에 대한 imputer),   \n",
    "범주형 인코딩 등과 같이 자동으로 처리되는 방법에 주목하십시오.  \n",
    "setup()에 있는 대부분의 매개 변수는 선택 사항이며 사전 처리 파이프라인을 사용자 지정하는 데 사용됩니다.   \n",
    "이러한 매개 변수는 이 튜토리얼에서는 사용할 수 없지만 중급 및 전문가 레벨로 넘어가면 훨씬 더 자세히 다룰 것입니다.   "
   ]
  },
  {
   "cell_type": "markdown",
   "metadata": {
    "colab_type": "text",
    "id": "JJSOhIOxEQoY"
   },
   "source": [
    "- **Missing Values :**  When there are missing values in the original data this will show as True. For this experiment there are no missing values in the dataset. \n",
    "<br/>\n",
    "<br/>\n",
    "- **Numeric Features :**  The number of features inferred as numeric. In this dataset, 14 out of 24 features are inferred as numeric. <br/>\n",
    "<br/>\n",
    "- **Categorical Features :**  The number of features inferred as categorical. In this dataset, 9 out of 24 features are inferred as categorical. <br/>\n",
    "<br/>\n",
    "- **Transformed Train Set :**  Displays the shape of the transformed training set. Notice that the original shape of (22800, 24) is transformed into (15959, 91) for the transformed train set and the number of features have increased to 91 from 24 due to categorical encoding <br/>\n",
    "<br/>\n",
    "- **Transformed Test Set :**  Displays the shape of the transformed test/hold-out set. There are 6841 samples in test/hold-out set. This split is based on the default value of 70/30 that can be changed using the `train_size` parameter in setup. <br/>\n",
    "\n",
    "Notice how a few tasks that are imperative to perform modeling are automatically handled such as missing value imputation (in this case there are no missing values in the training data, but we still need imputers for unseen data), categorical encoding etc. Most of the parameters in `setup()` are optional and used for customizing the pre-processing pipeline. These parameters are out of scope for this tutorial but as you progress to the intermediate and expert levels, we will cover them in much greater detail."
   ]
  },
  {
   "cell_type": "markdown",
   "metadata": {
    "colab_type": "text",
    "id": "it_nJo1IEQob"
   },
   "source": [
    "# 7.0 Comparing All Models"
   ]
  },
  {
   "cell_type": "markdown",
   "metadata": {},
   "source": [
    "설정이 완료된 후 모든 모델을 비교하여 성능을 평가하는 것이 모델링의 권장 시작점입니다  \n",
    "(필요한 모델의 종류를 정확히 알고 있지 않은 경우(대부분 그렇지 않은 경우가 많습니다. \n",
    "이 함수는 모델 라이브러리의 모든 모델을 교육하고 메트릭 평가를 위해 계층화된 교차 검증을 사용하여 점수를 매긴다. \n",
    "출력은 평균 Accuracy, AUC, Recall, Precision, F1, Kappa 및 MCC를 교육 시간과 함께 폴드(기본적으로 10개)에 걸쳐 보여주는 점수 그리드를 인쇄합니다."
   ]
  },
  {
   "cell_type": "markdown",
   "metadata": {
    "colab_type": "text",
    "id": "apb_B9bBEQof"
   },
   "source": [
    "Comparing all models to evaluate performance is the recommended starting point for modeling once the setup is completed (unless you exactly know what kind of model you need, which is often not the case). This function trains all models in the model library and scores them using stratified cross validation for metric evaluation. The output prints a score grid that shows average Accuracy, AUC, Recall, Precision, F1, Kappa, and MCC accross the folds (10 by default) along with training times."
   ]
  },
  {
   "cell_type": "markdown",
   "metadata": {},
   "source": [
    "# Kappa MCC"
   ]
  },
  {
   "cell_type": "code",
   "execution_count": 6,
   "metadata": {
    "colab": {},
    "colab_type": "code",
    "id": "AsG0b1NIEQoj",
    "outputId": "a6e3a510-45a1-4782-8ffe-0ec138a64eed"
   },
   "outputs": [
    {
     "data": {
      "text/html": [
       "<style type=\"text/css\">\n",
       "#T_dada2 th {\n",
       "  text-align: left;\n",
       "}\n",
       "#T_dada2_row0_col0, #T_dada2_row0_col2, #T_dada2_row0_col3, #T_dada2_row0_col5, #T_dada2_row0_col6, #T_dada2_row0_col7, #T_dada2_row1_col0, #T_dada2_row1_col1, #T_dada2_row1_col2, #T_dada2_row1_col3, #T_dada2_row1_col4, #T_dada2_row2_col0, #T_dada2_row2_col1, #T_dada2_row2_col3, #T_dada2_row2_col4, #T_dada2_row2_col5, #T_dada2_row2_col6, #T_dada2_row2_col7, #T_dada2_row3_col0, #T_dada2_row3_col1, #T_dada2_row3_col2, #T_dada2_row3_col3, #T_dada2_row3_col4, #T_dada2_row3_col5, #T_dada2_row3_col6, #T_dada2_row3_col7, #T_dada2_row4_col0, #T_dada2_row4_col1, #T_dada2_row4_col2, #T_dada2_row4_col3, #T_dada2_row4_col4, #T_dada2_row4_col5, #T_dada2_row4_col6, #T_dada2_row4_col7, #T_dada2_row5_col0, #T_dada2_row5_col1, #T_dada2_row5_col2, #T_dada2_row5_col3, #T_dada2_row5_col4, #T_dada2_row5_col5, #T_dada2_row5_col6, #T_dada2_row5_col7, #T_dada2_row6_col0, #T_dada2_row6_col1, #T_dada2_row6_col2, #T_dada2_row6_col3, #T_dada2_row6_col4, #T_dada2_row6_col5, #T_dada2_row6_col6, #T_dada2_row6_col7, #T_dada2_row7_col0, #T_dada2_row7_col1, #T_dada2_row7_col2, #T_dada2_row7_col3, #T_dada2_row7_col4, #T_dada2_row7_col5, #T_dada2_row7_col6, #T_dada2_row7_col7, #T_dada2_row8_col0, #T_dada2_row8_col1, #T_dada2_row8_col2, #T_dada2_row8_col3, #T_dada2_row8_col4, #T_dada2_row8_col5, #T_dada2_row8_col6, #T_dada2_row8_col7, #T_dada2_row9_col0, #T_dada2_row9_col1, #T_dada2_row9_col2, #T_dada2_row9_col3, #T_dada2_row9_col4, #T_dada2_row9_col5, #T_dada2_row9_col6, #T_dada2_row9_col7, #T_dada2_row10_col0, #T_dada2_row10_col1, #T_dada2_row10_col2, #T_dada2_row10_col3, #T_dada2_row10_col4, #T_dada2_row10_col5, #T_dada2_row10_col6, #T_dada2_row10_col7, #T_dada2_row11_col0, #T_dada2_row11_col1, #T_dada2_row11_col2, #T_dada2_row11_col3, #T_dada2_row11_col4, #T_dada2_row11_col5, #T_dada2_row11_col6, #T_dada2_row11_col7, #T_dada2_row12_col0, #T_dada2_row12_col1, #T_dada2_row12_col2, #T_dada2_row12_col3, #T_dada2_row12_col4, #T_dada2_row12_col5, #T_dada2_row12_col6, #T_dada2_row12_col7, #T_dada2_row13_col0, #T_dada2_row13_col1, #T_dada2_row13_col2, #T_dada2_row13_col4, #T_dada2_row13_col5, #T_dada2_row13_col6, #T_dada2_row13_col7 {\n",
       "  text-align: left;\n",
       "}\n",
       "#T_dada2_row0_col1, #T_dada2_row0_col4, #T_dada2_row1_col5, #T_dada2_row1_col6, #T_dada2_row1_col7, #T_dada2_row2_col2, #T_dada2_row13_col3 {\n",
       "  text-align: left;\n",
       "  background-color: yellow;\n",
       "}\n",
       "#T_dada2_row0_col8, #T_dada2_row1_col8, #T_dada2_row2_col8, #T_dada2_row3_col8, #T_dada2_row4_col8, #T_dada2_row5_col8, #T_dada2_row6_col8, #T_dada2_row7_col8, #T_dada2_row9_col8, #T_dada2_row10_col8, #T_dada2_row11_col8, #T_dada2_row12_col8, #T_dada2_row13_col8 {\n",
       "  text-align: left;\n",
       "  background-color: lightgrey;\n",
       "}\n",
       "#T_dada2_row8_col8 {\n",
       "  text-align: left;\n",
       "  background-color: yellow;\n",
       "  background-color: lightgrey;\n",
       "}\n",
       "</style>\n",
       "<table id=\"T_dada2\">\n",
       "  <thead>\n",
       "    <tr>\n",
       "      <th class=\"blank level0\" >&nbsp;</th>\n",
       "      <th id=\"T_dada2_level0_col0\" class=\"col_heading level0 col0\" >Model</th>\n",
       "      <th id=\"T_dada2_level0_col1\" class=\"col_heading level0 col1\" >Accuracy</th>\n",
       "      <th id=\"T_dada2_level0_col2\" class=\"col_heading level0 col2\" >AUC</th>\n",
       "      <th id=\"T_dada2_level0_col3\" class=\"col_heading level0 col3\" >Recall</th>\n",
       "      <th id=\"T_dada2_level0_col4\" class=\"col_heading level0 col4\" >Prec.</th>\n",
       "      <th id=\"T_dada2_level0_col5\" class=\"col_heading level0 col5\" >F1</th>\n",
       "      <th id=\"T_dada2_level0_col6\" class=\"col_heading level0 col6\" >Kappa</th>\n",
       "      <th id=\"T_dada2_level0_col7\" class=\"col_heading level0 col7\" >MCC</th>\n",
       "      <th id=\"T_dada2_level0_col8\" class=\"col_heading level0 col8\" >TT (Sec)</th>\n",
       "    </tr>\n",
       "  </thead>\n",
       "  <tbody>\n",
       "    <tr>\n",
       "      <th id=\"T_dada2_level0_row0\" class=\"row_heading level0 row0\" >ridge</th>\n",
       "      <td id=\"T_dada2_row0_col0\" class=\"data row0 col0\" >Ridge Classifier</td>\n",
       "      <td id=\"T_dada2_row0_col1\" class=\"data row0 col1\" >0.8254</td>\n",
       "      <td id=\"T_dada2_row0_col2\" class=\"data row0 col2\" >0.0000</td>\n",
       "      <td id=\"T_dada2_row0_col3\" class=\"data row0 col3\" >0.3637</td>\n",
       "      <td id=\"T_dada2_row0_col4\" class=\"data row0 col4\" >0.6913</td>\n",
       "      <td id=\"T_dada2_row0_col5\" class=\"data row0 col5\" >0.4764</td>\n",
       "      <td id=\"T_dada2_row0_col6\" class=\"data row0 col6\" >0.3836</td>\n",
       "      <td id=\"T_dada2_row0_col7\" class=\"data row0 col7\" >0.4122</td>\n",
       "      <td id=\"T_dada2_row0_col8\" class=\"data row0 col8\" >0.0170</td>\n",
       "    </tr>\n",
       "    <tr>\n",
       "      <th id=\"T_dada2_level0_row1\" class=\"row_heading level0 row1\" >lda</th>\n",
       "      <td id=\"T_dada2_row1_col0\" class=\"data row1 col0\" >Linear Discriminant Analysis</td>\n",
       "      <td id=\"T_dada2_row1_col1\" class=\"data row1 col1\" >0.8247</td>\n",
       "      <td id=\"T_dada2_row1_col2\" class=\"data row1 col2\" >0.7634</td>\n",
       "      <td id=\"T_dada2_row1_col3\" class=\"data row1 col3\" >0.3755</td>\n",
       "      <td id=\"T_dada2_row1_col4\" class=\"data row1 col4\" >0.6794</td>\n",
       "      <td id=\"T_dada2_row1_col5\" class=\"data row1 col5\" >0.4835</td>\n",
       "      <td id=\"T_dada2_row1_col6\" class=\"data row1 col6\" >0.3884</td>\n",
       "      <td id=\"T_dada2_row1_col7\" class=\"data row1 col7\" >0.4132</td>\n",
       "      <td id=\"T_dada2_row1_col8\" class=\"data row1 col8\" >0.0650</td>\n",
       "    </tr>\n",
       "    <tr>\n",
       "      <th id=\"T_dada2_level0_row2\" class=\"row_heading level0 row2\" >gbc</th>\n",
       "      <td id=\"T_dada2_row2_col0\" class=\"data row2 col0\" >Gradient Boosting Classifier</td>\n",
       "      <td id=\"T_dada2_row2_col1\" class=\"data row2 col1\" >0.8226</td>\n",
       "      <td id=\"T_dada2_row2_col2\" class=\"data row2 col2\" >0.7789</td>\n",
       "      <td id=\"T_dada2_row2_col3\" class=\"data row2 col3\" >0.3551</td>\n",
       "      <td id=\"T_dada2_row2_col4\" class=\"data row2 col4\" >0.6806</td>\n",
       "      <td id=\"T_dada2_row2_col5\" class=\"data row2 col5\" >0.4664</td>\n",
       "      <td id=\"T_dada2_row2_col6\" class=\"data row2 col6\" >0.3725</td>\n",
       "      <td id=\"T_dada2_row2_col7\" class=\"data row2 col7\" >0.4010</td>\n",
       "      <td id=\"T_dada2_row2_col8\" class=\"data row2 col8\" >0.9120</td>\n",
       "    </tr>\n",
       "    <tr>\n",
       "      <th id=\"T_dada2_level0_row3\" class=\"row_heading level0 row3\" >ada</th>\n",
       "      <td id=\"T_dada2_row3_col0\" class=\"data row3 col0\" >Ada Boost Classifier</td>\n",
       "      <td id=\"T_dada2_row3_col1\" class=\"data row3 col1\" >0.8221</td>\n",
       "      <td id=\"T_dada2_row3_col2\" class=\"data row3 col2\" >0.7697</td>\n",
       "      <td id=\"T_dada2_row3_col3\" class=\"data row3 col3\" >0.3505</td>\n",
       "      <td id=\"T_dada2_row3_col4\" class=\"data row3 col4\" >0.6811</td>\n",
       "      <td id=\"T_dada2_row3_col5\" class=\"data row3 col5\" >0.4626</td>\n",
       "      <td id=\"T_dada2_row3_col6\" class=\"data row3 col6\" >0.3690</td>\n",
       "      <td id=\"T_dada2_row3_col7\" class=\"data row3 col7\" >0.3983</td>\n",
       "      <td id=\"T_dada2_row3_col8\" class=\"data row3 col8\" >0.2100</td>\n",
       "    </tr>\n",
       "    <tr>\n",
       "      <th id=\"T_dada2_level0_row4\" class=\"row_heading level0 row4\" >lightgbm</th>\n",
       "      <td id=\"T_dada2_row4_col0\" class=\"data row4 col0\" >Light Gradient Boosting Machine</td>\n",
       "      <td id=\"T_dada2_row4_col1\" class=\"data row4 col1\" >0.8210</td>\n",
       "      <td id=\"T_dada2_row4_col2\" class=\"data row4 col2\" >0.7750</td>\n",
       "      <td id=\"T_dada2_row4_col3\" class=\"data row4 col3\" >0.3609</td>\n",
       "      <td id=\"T_dada2_row4_col4\" class=\"data row4 col4\" >0.6679</td>\n",
       "      <td id=\"T_dada2_row4_col5\" class=\"data row4 col5\" >0.4683</td>\n",
       "      <td id=\"T_dada2_row4_col6\" class=\"data row4 col6\" >0.3721</td>\n",
       "      <td id=\"T_dada2_row4_col7\" class=\"data row4 col7\" >0.3977</td>\n",
       "      <td id=\"T_dada2_row4_col8\" class=\"data row4 col8\" >0.0660</td>\n",
       "    </tr>\n",
       "    <tr>\n",
       "      <th id=\"T_dada2_level0_row5\" class=\"row_heading level0 row5\" >rf</th>\n",
       "      <td id=\"T_dada2_row5_col0\" class=\"data row5 col0\" >Random Forest Classifier</td>\n",
       "      <td id=\"T_dada2_row5_col1\" class=\"data row5 col1\" >0.8199</td>\n",
       "      <td id=\"T_dada2_row5_col2\" class=\"data row5 col2\" >0.7598</td>\n",
       "      <td id=\"T_dada2_row5_col3\" class=\"data row5 col3\" >0.3663</td>\n",
       "      <td id=\"T_dada2_row5_col4\" class=\"data row5 col4\" >0.6601</td>\n",
       "      <td id=\"T_dada2_row5_col5\" class=\"data row5 col5\" >0.4707</td>\n",
       "      <td id=\"T_dada2_row5_col6\" class=\"data row5 col6\" >0.3727</td>\n",
       "      <td id=\"T_dada2_row5_col7\" class=\"data row5 col7\" >0.3965</td>\n",
       "      <td id=\"T_dada2_row5_col8\" class=\"data row5 col8\" >0.3570</td>\n",
       "    </tr>\n",
       "    <tr>\n",
       "      <th id=\"T_dada2_level0_row6\" class=\"row_heading level0 row6\" >et</th>\n",
       "      <td id=\"T_dada2_row6_col0\" class=\"data row6 col0\" >Extra Trees Classifier</td>\n",
       "      <td id=\"T_dada2_row6_col1\" class=\"data row6 col1\" >0.8092</td>\n",
       "      <td id=\"T_dada2_row6_col2\" class=\"data row6 col2\" >0.7377</td>\n",
       "      <td id=\"T_dada2_row6_col3\" class=\"data row6 col3\" >0.3677</td>\n",
       "      <td id=\"T_dada2_row6_col4\" class=\"data row6 col4\" >0.6047</td>\n",
       "      <td id=\"T_dada2_row6_col5\" class=\"data row6 col5\" >0.4571</td>\n",
       "      <td id=\"T_dada2_row6_col6\" class=\"data row6 col6\" >0.3497</td>\n",
       "      <td id=\"T_dada2_row6_col7\" class=\"data row6 col7\" >0.3657</td>\n",
       "      <td id=\"T_dada2_row6_col8\" class=\"data row6 col8\" >0.2750</td>\n",
       "    </tr>\n",
       "    <tr>\n",
       "      <th id=\"T_dada2_level0_row7\" class=\"row_heading level0 row7\" >lr</th>\n",
       "      <td id=\"T_dada2_row7_col0\" class=\"data row7 col0\" >Logistic Regression</td>\n",
       "      <td id=\"T_dada2_row7_col1\" class=\"data row7 col1\" >0.7814</td>\n",
       "      <td id=\"T_dada2_row7_col2\" class=\"data row7 col2\" >0.6410</td>\n",
       "      <td id=\"T_dada2_row7_col3\" class=\"data row7 col3\" >0.0003</td>\n",
       "      <td id=\"T_dada2_row7_col4\" class=\"data row7 col4\" >0.1000</td>\n",
       "      <td id=\"T_dada2_row7_col5\" class=\"data row7 col5\" >0.0006</td>\n",
       "      <td id=\"T_dada2_row7_col6\" class=\"data row7 col6\" >0.0003</td>\n",
       "      <td id=\"T_dada2_row7_col7\" class=\"data row7 col7\" >0.0034</td>\n",
       "      <td id=\"T_dada2_row7_col8\" class=\"data row7 col8\" >0.2680</td>\n",
       "    </tr>\n",
       "    <tr>\n",
       "      <th id=\"T_dada2_level0_row8\" class=\"row_heading level0 row8\" >dummy</th>\n",
       "      <td id=\"T_dada2_row8_col0\" class=\"data row8 col0\" >Dummy Classifier</td>\n",
       "      <td id=\"T_dada2_row8_col1\" class=\"data row8 col1\" >0.7814</td>\n",
       "      <td id=\"T_dada2_row8_col2\" class=\"data row8 col2\" >0.5000</td>\n",
       "      <td id=\"T_dada2_row8_col3\" class=\"data row8 col3\" >0.0000</td>\n",
       "      <td id=\"T_dada2_row8_col4\" class=\"data row8 col4\" >0.0000</td>\n",
       "      <td id=\"T_dada2_row8_col5\" class=\"data row8 col5\" >0.0000</td>\n",
       "      <td id=\"T_dada2_row8_col6\" class=\"data row8 col6\" >0.0000</td>\n",
       "      <td id=\"T_dada2_row8_col7\" class=\"data row8 col7\" >0.0000</td>\n",
       "      <td id=\"T_dada2_row8_col8\" class=\"data row8 col8\" >0.0140</td>\n",
       "    </tr>\n",
       "    <tr>\n",
       "      <th id=\"T_dada2_level0_row9\" class=\"row_heading level0 row9\" >knn</th>\n",
       "      <td id=\"T_dada2_row9_col0\" class=\"data row9 col0\" >K Neighbors Classifier</td>\n",
       "      <td id=\"T_dada2_row9_col1\" class=\"data row9 col1\" >0.7547</td>\n",
       "      <td id=\"T_dada2_row9_col2\" class=\"data row9 col2\" >0.5939</td>\n",
       "      <td id=\"T_dada2_row9_col3\" class=\"data row9 col3\" >0.1763</td>\n",
       "      <td id=\"T_dada2_row9_col4\" class=\"data row9 col4\" >0.3719</td>\n",
       "      <td id=\"T_dada2_row9_col5\" class=\"data row9 col5\" >0.2388</td>\n",
       "      <td id=\"T_dada2_row9_col6\" class=\"data row9 col6\" >0.1145</td>\n",
       "      <td id=\"T_dada2_row9_col7\" class=\"data row9 col7\" >0.1259</td>\n",
       "      <td id=\"T_dada2_row9_col8\" class=\"data row9 col8\" >0.1330</td>\n",
       "    </tr>\n",
       "    <tr>\n",
       "      <th id=\"T_dada2_level0_row10\" class=\"row_heading level0 row10\" >dt</th>\n",
       "      <td id=\"T_dada2_row10_col0\" class=\"data row10 col0\" >Decision Tree Classifier</td>\n",
       "      <td id=\"T_dada2_row10_col1\" class=\"data row10 col1\" >0.7293</td>\n",
       "      <td id=\"T_dada2_row10_col2\" class=\"data row10 col2\" >0.6147</td>\n",
       "      <td id=\"T_dada2_row10_col3\" class=\"data row10 col3\" >0.4104</td>\n",
       "      <td id=\"T_dada2_row10_col4\" class=\"data row10 col4\" >0.3878</td>\n",
       "      <td id=\"T_dada2_row10_col5\" class=\"data row10 col5\" >0.3986</td>\n",
       "      <td id=\"T_dada2_row10_col6\" class=\"data row10 col6\" >0.2242</td>\n",
       "      <td id=\"T_dada2_row10_col7\" class=\"data row10 col7\" >0.2245</td>\n",
       "      <td id=\"T_dada2_row10_col8\" class=\"data row10 col8\" >0.0670</td>\n",
       "    </tr>\n",
       "    <tr>\n",
       "      <th id=\"T_dada2_level0_row11\" class=\"row_heading level0 row11\" >svm</th>\n",
       "      <td id=\"T_dada2_row11_col0\" class=\"data row11 col0\" >SVM - Linear Kernel</td>\n",
       "      <td id=\"T_dada2_row11_col1\" class=\"data row11 col1\" >0.7277</td>\n",
       "      <td id=\"T_dada2_row11_col2\" class=\"data row11 col2\" >0.0000</td>\n",
       "      <td id=\"T_dada2_row11_col3\" class=\"data row11 col3\" >0.1017</td>\n",
       "      <td id=\"T_dada2_row11_col4\" class=\"data row11 col4\" >0.1671</td>\n",
       "      <td id=\"T_dada2_row11_col5\" class=\"data row11 col5\" >0.0984</td>\n",
       "      <td id=\"T_dada2_row11_col6\" class=\"data row11 col6\" >0.0067</td>\n",
       "      <td id=\"T_dada2_row11_col7\" class=\"data row11 col7\" >0.0075</td>\n",
       "      <td id=\"T_dada2_row11_col8\" class=\"data row11 col8\" >0.1090</td>\n",
       "    </tr>\n",
       "    <tr>\n",
       "      <th id=\"T_dada2_level0_row12\" class=\"row_heading level0 row12\" >qda</th>\n",
       "      <td id=\"T_dada2_row12_col0\" class=\"data row12 col0\" >Quadratic Discriminant Analysis</td>\n",
       "      <td id=\"T_dada2_row12_col1\" class=\"data row12 col1\" >0.5032</td>\n",
       "      <td id=\"T_dada2_row12_col2\" class=\"data row12 col2\" >0.5473</td>\n",
       "      <td id=\"T_dada2_row12_col3\" class=\"data row12 col3\" >0.6257</td>\n",
       "      <td id=\"T_dada2_row12_col4\" class=\"data row12 col4\" >0.2549</td>\n",
       "      <td id=\"T_dada2_row12_col5\" class=\"data row12 col5\" >0.3494</td>\n",
       "      <td id=\"T_dada2_row12_col6\" class=\"data row12 col6\" >0.0678</td>\n",
       "      <td id=\"T_dada2_row12_col7\" class=\"data row12 col7\" >0.0813</td>\n",
       "      <td id=\"T_dada2_row12_col8\" class=\"data row12 col8\" >0.0410</td>\n",
       "    </tr>\n",
       "    <tr>\n",
       "      <th id=\"T_dada2_level0_row13\" class=\"row_heading level0 row13\" >nb</th>\n",
       "      <td id=\"T_dada2_row13_col0\" class=\"data row13 col0\" >Naive Bayes</td>\n",
       "      <td id=\"T_dada2_row13_col1\" class=\"data row13 col1\" >0.3760</td>\n",
       "      <td id=\"T_dada2_row13_col2\" class=\"data row13 col2\" >0.6442</td>\n",
       "      <td id=\"T_dada2_row13_col3\" class=\"data row13 col3\" >0.8845</td>\n",
       "      <td id=\"T_dada2_row13_col4\" class=\"data row13 col4\" >0.2441</td>\n",
       "      <td id=\"T_dada2_row13_col5\" class=\"data row13 col5\" >0.3826</td>\n",
       "      <td id=\"T_dada2_row13_col6\" class=\"data row13 col6\" >0.0608</td>\n",
       "      <td id=\"T_dada2_row13_col7\" class=\"data row13 col7\" >0.1207</td>\n",
       "      <td id=\"T_dada2_row13_col8\" class=\"data row13 col8\" >0.0170</td>\n",
       "    </tr>\n",
       "  </tbody>\n",
       "</table>\n"
      ],
      "text/plain": [
       "<pandas.io.formats.style.Styler at 0x7efe1b5c9880>"
      ]
     },
     "metadata": {},
     "output_type": "display_data"
    }
   ],
   "source": [
    "best_model = compare_models()"
   ]
  },
  {
   "cell_type": "markdown",
   "metadata": {},
   "source": [
    "두 개의 간단한 코드 단어(라인도 아님)는 교차 검증을 사용하여 15개 이상의 모델을 훈련하고 평가하였다. \n",
    "위에 인쇄된 점수 그리드는 비교 목적으로만 가장 높은 성능을 발휘하는 메트릭을 강조 표시합니다. \n",
    "기본적으로 그리드는 정렬 매개 변수를 전달하여 변경할 수 있는 'Accuracy'(가장 높은 값에서 가장 낮은 값)를 사용하여 정렬됩니다. \n",
    "예를 들어, compare_class (classive = 'Recall')는 Accuracy(정확도) 대신 Recall(호출)을 기준으로 그리드를 정렬합니다. \n",
    "fold 매개변수를 기본값 10에서 다른 값으로 변경하려면 fold 매개변수를 사용할 수 있습니다. \n",
    "예를 들어, compare_model(fold = 5)은 5fold 교차 검증에서 모든 모형을 비교합니다. fold 횟수를 줄이면 훈련 시간이 향상됩니다. \n",
    "기본적으로 compare_models는 기본 정렬 순서를 기준으로 가장 성능이 좋은 모델을 반환하지만 n_select 매개 변수를 사용하여 상위 N개 모델의 목록을 반환하는 데 사용할 수 있습니다."
   ]
  },
  {
   "cell_type": "markdown",
   "metadata": {
    "colab_type": "text",
    "id": "nZAUhQGLEQoz"
   },
   "source": [
    "Two simple words of code ***(not even a line)*** have trained and evaluated over 15 models using cross validation. The score grid printed above highlights the highest performing metric for comparison purposes only. The grid by default is sorted using 'Accuracy' (highest to lowest) which can be changed by passing the `sort` parameter. For example `compare_models(sort = 'Recall')` will sort the grid by Recall instead of Accuracy. If you want to change the fold parameter from the default value of `10` to a different value then you can use the `fold` parameter. For example `compare_models(fold = 5)` will compare all models on 5 fold cross validation. Reducing the number of folds will improve the training time. By default, `compare_models` return the best performing model based on default sort order but can be used to return a list of top N models by using `n_select` parameter."
   ]
  },
  {
   "cell_type": "code",
   "execution_count": 7,
   "metadata": {},
   "outputs": [
    {
     "name": "stdout",
     "output_type": "stream",
     "text": [
      "RidgeClassifier(alpha=1.0, class_weight=None, copy_X=True, fit_intercept=True,\n",
      "                max_iter=None, normalize=False, random_state=123, solver='auto',\n",
      "                tol=0.001)\n"
     ]
    }
   ],
   "source": [
    "print(best_model)"
   ]
  },
  {
   "cell_type": "markdown",
   "metadata": {
    "colab_type": "text",
    "id": "P5m2pciOEQo4"
   },
   "source": [
    "# 8.0 Create a Model"
   ]
  },
  {
   "cell_type": "markdown",
   "metadata": {},
   "source": [
    "`create_model`은 PyCaret에서 가장 세분화된 함수이며 대부분의 PyCaret 기능의 기반이 되는 경우가 많다. \n",
    "이름에서 알 수 있듯이 이 함수는 `fold` 매개 변수로 설정할 수 있는 교차 검증을 사용하여 모델을 학습하고 평가합니다. \n",
    "출력은 Accuracy, AUC, Recall, Precision, F1, Kappa 및 MCC를 폴드별로 보여주는 점수 그리드를 인쇄합니다.\n",
    "\n",
    "이 튜토리얼의 나머지 부분에서는 아래 모델을 후보 모델로 사용할 예정입니다. 선택 항목은 단지 설명을 위한 것일 뿐이며, 이러한 유형의 데이터에 대해 성능이 가장 우수하거나 이상적인 것은 아닙니다."
   ]
  },
  {
   "cell_type": "markdown",
   "metadata": {},
   "source": [
    "`create_model` is the most granular function in PyCaret and is often the foundation behind most of the PyCaret functionalities. As the name suggests this function trains and evaluates a model using cross validation that can be set with `fold` parameter. The output prints a score grid that shows Accuracy, AUC, Recall, Precision, F1, Kappa and MCC by fold. \n",
    "\n",
    "For the remaining part of this tutorial, we will work with the below models as our candidate models. The selections are for illustration purposes only and do not necessarily mean they are the top performing or ideal for this type of data."
   ]
  },
  {
   "cell_type": "markdown",
   "metadata": {
    "colab_type": "text",
    "id": "u_6cIilfEQo7"
   },
   "source": [
    "- Decision Tree Classifier ('dt')\n",
    "- K Neighbors Classifier ('knn')\n",
    "- Random Forest Classifier ('rf')\n",
    "\n",
    "PyCaret의 모델 라이브러리에는 18개의 분류기가 있다. 모든 분류기 목록을 보려면 문서 문자열을 확인하거나 모델 함수를 사용하여 라이브러리를 확인하십시오.\n",
    "There are 18 classifiers available in the model library of PyCaret. To see list of all classifiers either check the `docstring` or use `models` function to see the library."
   ]
  },
  {
   "cell_type": "code",
   "execution_count": 8,
   "metadata": {},
   "outputs": [
    {
     "data": {
      "text/html": [
       "<div>\n",
       "<style scoped>\n",
       "    .dataframe tbody tr th:only-of-type {\n",
       "        vertical-align: middle;\n",
       "    }\n",
       "\n",
       "    .dataframe tbody tr th {\n",
       "        vertical-align: top;\n",
       "    }\n",
       "\n",
       "    .dataframe thead th {\n",
       "        text-align: right;\n",
       "    }\n",
       "</style>\n",
       "<table border=\"1\" class=\"dataframe\">\n",
       "  <thead>\n",
       "    <tr style=\"text-align: right;\">\n",
       "      <th></th>\n",
       "      <th>Name</th>\n",
       "      <th>Reference</th>\n",
       "      <th>Turbo</th>\n",
       "    </tr>\n",
       "    <tr>\n",
       "      <th>ID</th>\n",
       "      <th></th>\n",
       "      <th></th>\n",
       "      <th></th>\n",
       "    </tr>\n",
       "  </thead>\n",
       "  <tbody>\n",
       "    <tr>\n",
       "      <th>lr</th>\n",
       "      <td>Logistic Regression</td>\n",
       "      <td>sklearn.linear_model._logistic.LogisticRegression</td>\n",
       "      <td>True</td>\n",
       "    </tr>\n",
       "    <tr>\n",
       "      <th>knn</th>\n",
       "      <td>K Neighbors Classifier</td>\n",
       "      <td>sklearn.neighbors._classification.KNeighborsCl...</td>\n",
       "      <td>True</td>\n",
       "    </tr>\n",
       "    <tr>\n",
       "      <th>nb</th>\n",
       "      <td>Naive Bayes</td>\n",
       "      <td>sklearn.naive_bayes.GaussianNB</td>\n",
       "      <td>True</td>\n",
       "    </tr>\n",
       "    <tr>\n",
       "      <th>dt</th>\n",
       "      <td>Decision Tree Classifier</td>\n",
       "      <td>sklearn.tree._classes.DecisionTreeClassifier</td>\n",
       "      <td>True</td>\n",
       "    </tr>\n",
       "    <tr>\n",
       "      <th>svm</th>\n",
       "      <td>SVM - Linear Kernel</td>\n",
       "      <td>sklearn.linear_model._stochastic_gradient.SGDC...</td>\n",
       "      <td>True</td>\n",
       "    </tr>\n",
       "    <tr>\n",
       "      <th>rbfsvm</th>\n",
       "      <td>SVM - Radial Kernel</td>\n",
       "      <td>sklearn.svm._classes.SVC</td>\n",
       "      <td>False</td>\n",
       "    </tr>\n",
       "    <tr>\n",
       "      <th>gpc</th>\n",
       "      <td>Gaussian Process Classifier</td>\n",
       "      <td>sklearn.gaussian_process._gpc.GaussianProcessC...</td>\n",
       "      <td>False</td>\n",
       "    </tr>\n",
       "    <tr>\n",
       "      <th>mlp</th>\n",
       "      <td>MLP Classifier</td>\n",
       "      <td>sklearn.neural_network._multilayer_perceptron....</td>\n",
       "      <td>False</td>\n",
       "    </tr>\n",
       "    <tr>\n",
       "      <th>ridge</th>\n",
       "      <td>Ridge Classifier</td>\n",
       "      <td>sklearn.linear_model._ridge.RidgeClassifier</td>\n",
       "      <td>True</td>\n",
       "    </tr>\n",
       "    <tr>\n",
       "      <th>rf</th>\n",
       "      <td>Random Forest Classifier</td>\n",
       "      <td>sklearn.ensemble._forest.RandomForestClassifier</td>\n",
       "      <td>True</td>\n",
       "    </tr>\n",
       "    <tr>\n",
       "      <th>qda</th>\n",
       "      <td>Quadratic Discriminant Analysis</td>\n",
       "      <td>sklearn.discriminant_analysis.QuadraticDiscrim...</td>\n",
       "      <td>True</td>\n",
       "    </tr>\n",
       "    <tr>\n",
       "      <th>ada</th>\n",
       "      <td>Ada Boost Classifier</td>\n",
       "      <td>sklearn.ensemble._weight_boosting.AdaBoostClas...</td>\n",
       "      <td>True</td>\n",
       "    </tr>\n",
       "    <tr>\n",
       "      <th>gbc</th>\n",
       "      <td>Gradient Boosting Classifier</td>\n",
       "      <td>sklearn.ensemble._gb.GradientBoostingClassifier</td>\n",
       "      <td>True</td>\n",
       "    </tr>\n",
       "    <tr>\n",
       "      <th>lda</th>\n",
       "      <td>Linear Discriminant Analysis</td>\n",
       "      <td>sklearn.discriminant_analysis.LinearDiscrimina...</td>\n",
       "      <td>True</td>\n",
       "    </tr>\n",
       "    <tr>\n",
       "      <th>et</th>\n",
       "      <td>Extra Trees Classifier</td>\n",
       "      <td>sklearn.ensemble._forest.ExtraTreesClassifier</td>\n",
       "      <td>True</td>\n",
       "    </tr>\n",
       "    <tr>\n",
       "      <th>lightgbm</th>\n",
       "      <td>Light Gradient Boosting Machine</td>\n",
       "      <td>lightgbm.sklearn.LGBMClassifier</td>\n",
       "      <td>True</td>\n",
       "    </tr>\n",
       "    <tr>\n",
       "      <th>dummy</th>\n",
       "      <td>Dummy Classifier</td>\n",
       "      <td>sklearn.dummy.DummyClassifier</td>\n",
       "      <td>True</td>\n",
       "    </tr>\n",
       "  </tbody>\n",
       "</table>\n",
       "</div>"
      ],
      "text/plain": [
       "                                     Name  \\\n",
       "ID                                          \n",
       "lr                    Logistic Regression   \n",
       "knn                K Neighbors Classifier   \n",
       "nb                            Naive Bayes   \n",
       "dt               Decision Tree Classifier   \n",
       "svm                   SVM - Linear Kernel   \n",
       "rbfsvm                SVM - Radial Kernel   \n",
       "gpc           Gaussian Process Classifier   \n",
       "mlp                        MLP Classifier   \n",
       "ridge                    Ridge Classifier   \n",
       "rf               Random Forest Classifier   \n",
       "qda       Quadratic Discriminant Analysis   \n",
       "ada                  Ada Boost Classifier   \n",
       "gbc          Gradient Boosting Classifier   \n",
       "lda          Linear Discriminant Analysis   \n",
       "et                 Extra Trees Classifier   \n",
       "lightgbm  Light Gradient Boosting Machine   \n",
       "dummy                    Dummy Classifier   \n",
       "\n",
       "                                                  Reference  Turbo  \n",
       "ID                                                                  \n",
       "lr        sklearn.linear_model._logistic.LogisticRegression   True  \n",
       "knn       sklearn.neighbors._classification.KNeighborsCl...   True  \n",
       "nb                           sklearn.naive_bayes.GaussianNB   True  \n",
       "dt             sklearn.tree._classes.DecisionTreeClassifier   True  \n",
       "svm       sklearn.linear_model._stochastic_gradient.SGDC...   True  \n",
       "rbfsvm                             sklearn.svm._classes.SVC  False  \n",
       "gpc       sklearn.gaussian_process._gpc.GaussianProcessC...  False  \n",
       "mlp       sklearn.neural_network._multilayer_perceptron....  False  \n",
       "ridge           sklearn.linear_model._ridge.RidgeClassifier   True  \n",
       "rf          sklearn.ensemble._forest.RandomForestClassifier   True  \n",
       "qda       sklearn.discriminant_analysis.QuadraticDiscrim...   True  \n",
       "ada       sklearn.ensemble._weight_boosting.AdaBoostClas...   True  \n",
       "gbc         sklearn.ensemble._gb.GradientBoostingClassifier   True  \n",
       "lda       sklearn.discriminant_analysis.LinearDiscrimina...   True  \n",
       "et            sklearn.ensemble._forest.ExtraTreesClassifier   True  \n",
       "lightgbm                    lightgbm.sklearn.LGBMClassifier   True  \n",
       "dummy                         sklearn.dummy.DummyClassifier   True  "
      ]
     },
     "execution_count": 8,
     "metadata": {},
     "output_type": "execute_result"
    }
   ],
   "source": [
    "models()"
   ]
  },
  {
   "cell_type": "markdown",
   "metadata": {
    "colab_type": "text",
    "id": "UWMSeyNhEQo-"
   },
   "source": [
    "### 8.1 Decision Tree Classifier"
   ]
  },
  {
   "cell_type": "code",
   "execution_count": 9,
   "metadata": {
    "colab": {
     "base_uri": "https://localhost:8080/",
     "height": 392
    },
    "colab_type": "code",
    "id": "LP896uSIEQpD",
    "outputId": "d6d31562-feb5-4052-ee23-0a444fecaacf"
   },
   "outputs": [
    {
     "data": {
      "text/html": [
       "<style type=\"text/css\">\n",
       "#T_dc4a3_row10_col0, #T_dc4a3_row10_col1, #T_dc4a3_row10_col2, #T_dc4a3_row10_col3, #T_dc4a3_row10_col4, #T_dc4a3_row10_col5, #T_dc4a3_row10_col6 {\n",
       "  background: yellow;\n",
       "}\n",
       "</style>\n",
       "<table id=\"T_dc4a3\">\n",
       "  <thead>\n",
       "    <tr>\n",
       "      <th class=\"blank level0\" >&nbsp;</th>\n",
       "      <th id=\"T_dc4a3_level0_col0\" class=\"col_heading level0 col0\" >Accuracy</th>\n",
       "      <th id=\"T_dc4a3_level0_col1\" class=\"col_heading level0 col1\" >AUC</th>\n",
       "      <th id=\"T_dc4a3_level0_col2\" class=\"col_heading level0 col2\" >Recall</th>\n",
       "      <th id=\"T_dc4a3_level0_col3\" class=\"col_heading level0 col3\" >Prec.</th>\n",
       "      <th id=\"T_dc4a3_level0_col4\" class=\"col_heading level0 col4\" >F1</th>\n",
       "      <th id=\"T_dc4a3_level0_col5\" class=\"col_heading level0 col5\" >Kappa</th>\n",
       "      <th id=\"T_dc4a3_level0_col6\" class=\"col_heading level0 col6\" >MCC</th>\n",
       "    </tr>\n",
       "    <tr>\n",
       "      <th class=\"index_name level0\" >Fold</th>\n",
       "      <th class=\"blank col0\" >&nbsp;</th>\n",
       "      <th class=\"blank col1\" >&nbsp;</th>\n",
       "      <th class=\"blank col2\" >&nbsp;</th>\n",
       "      <th class=\"blank col3\" >&nbsp;</th>\n",
       "      <th class=\"blank col4\" >&nbsp;</th>\n",
       "      <th class=\"blank col5\" >&nbsp;</th>\n",
       "      <th class=\"blank col6\" >&nbsp;</th>\n",
       "    </tr>\n",
       "  </thead>\n",
       "  <tbody>\n",
       "    <tr>\n",
       "      <th id=\"T_dc4a3_level0_row0\" class=\"row_heading level0 row0\" >0</th>\n",
       "      <td id=\"T_dc4a3_row0_col0\" class=\"data row0 col0\" >0.7343</td>\n",
       "      <td id=\"T_dc4a3_row0_col1\" class=\"data row0 col1\" >0.6257</td>\n",
       "      <td id=\"T_dc4a3_row0_col2\" class=\"data row0 col2\" >0.4327</td>\n",
       "      <td id=\"T_dc4a3_row0_col3\" class=\"data row0 col3\" >0.4005</td>\n",
       "      <td id=\"T_dc4a3_row0_col4\" class=\"data row0 col4\" >0.4160</td>\n",
       "      <td id=\"T_dc4a3_row0_col5\" class=\"data row0 col5\" >0.2444</td>\n",
       "      <td id=\"T_dc4a3_row0_col6\" class=\"data row0 col6\" >0.2447</td>\n",
       "    </tr>\n",
       "    <tr>\n",
       "      <th id=\"T_dc4a3_level0_row1\" class=\"row_heading level0 row1\" >1</th>\n",
       "      <td id=\"T_dc4a3_row1_col0\" class=\"data row1 col0\" >0.7325</td>\n",
       "      <td id=\"T_dc4a3_row1_col1\" class=\"data row1 col1\" >0.6277</td>\n",
       "      <td id=\"T_dc4a3_row1_col2\" class=\"data row1 col2\" >0.4384</td>\n",
       "      <td id=\"T_dc4a3_row1_col3\" class=\"data row1 col3\" >0.3984</td>\n",
       "      <td id=\"T_dc4a3_row1_col4\" class=\"data row1 col4\" >0.4175</td>\n",
       "      <td id=\"T_dc4a3_row1_col5\" class=\"data row1 col5\" >0.2443</td>\n",
       "      <td id=\"T_dc4a3_row1_col6\" class=\"data row1 col6\" >0.2448</td>\n",
       "    </tr>\n",
       "    <tr>\n",
       "      <th id=\"T_dc4a3_level0_row2\" class=\"row_heading level0 row2\" >2</th>\n",
       "      <td id=\"T_dc4a3_row2_col0\" class=\"data row2 col0\" >0.7431</td>\n",
       "      <td id=\"T_dc4a3_row2_col1\" class=\"data row2 col1\" >0.6282</td>\n",
       "      <td id=\"T_dc4a3_row2_col2\" class=\"data row2 col2\" >0.4241</td>\n",
       "      <td id=\"T_dc4a3_row2_col3\" class=\"data row2 col3\" >0.4146</td>\n",
       "      <td id=\"T_dc4a3_row2_col4\" class=\"data row2 col4\" >0.4193</td>\n",
       "      <td id=\"T_dc4a3_row2_col5\" class=\"data row2 col5\" >0.2544</td>\n",
       "      <td id=\"T_dc4a3_row2_col6\" class=\"data row2 col6\" >0.2544</td>\n",
       "    </tr>\n",
       "    <tr>\n",
       "      <th id=\"T_dc4a3_level0_row3\" class=\"row_heading level0 row3\" >3</th>\n",
       "      <td id=\"T_dc4a3_row3_col0\" class=\"data row3 col0\" >0.7274</td>\n",
       "      <td id=\"T_dc4a3_row3_col1\" class=\"data row3 col1\" >0.6151</td>\n",
       "      <td id=\"T_dc4a3_row3_col2\" class=\"data row3 col2\" >0.4155</td>\n",
       "      <td id=\"T_dc4a3_row3_col3\" class=\"data row3 col3\" >0.3856</td>\n",
       "      <td id=\"T_dc4a3_row3_col4\" class=\"data row3 col4\" >0.4000</td>\n",
       "      <td id=\"T_dc4a3_row3_col5\" class=\"data row3 col5\" >0.2240</td>\n",
       "      <td id=\"T_dc4a3_row3_col6\" class=\"data row3 col6\" >0.2242</td>\n",
       "    </tr>\n",
       "    <tr>\n",
       "      <th id=\"T_dc4a3_level0_row4\" class=\"row_heading level0 row4\" >4</th>\n",
       "      <td id=\"T_dc4a3_row4_col0\" class=\"data row4 col0\" >0.7187</td>\n",
       "      <td id=\"T_dc4a3_row4_col1\" class=\"data row4 col1\" >0.6054</td>\n",
       "      <td id=\"T_dc4a3_row4_col2\" class=\"data row4 col2\" >0.4040</td>\n",
       "      <td id=\"T_dc4a3_row4_col3\" class=\"data row4 col3\" >0.3691</td>\n",
       "      <td id=\"T_dc4a3_row4_col4\" class=\"data row4 col4\" >0.3858</td>\n",
       "      <td id=\"T_dc4a3_row4_col5\" class=\"data row4 col5\" >0.2038</td>\n",
       "      <td id=\"T_dc4a3_row4_col6\" class=\"data row4 col6\" >0.2042</td>\n",
       "    </tr>\n",
       "    <tr>\n",
       "      <th id=\"T_dc4a3_level0_row5\" class=\"row_heading level0 row5\" >5</th>\n",
       "      <td id=\"T_dc4a3_row5_col0\" class=\"data row5 col0\" >0.7187</td>\n",
       "      <td id=\"T_dc4a3_row5_col1\" class=\"data row5 col1\" >0.6014</td>\n",
       "      <td id=\"T_dc4a3_row5_col2\" class=\"data row5 col2\" >0.3897</td>\n",
       "      <td id=\"T_dc4a3_row5_col3\" class=\"data row5 col3\" >0.3656</td>\n",
       "      <td id=\"T_dc4a3_row5_col4\" class=\"data row5 col4\" >0.3773</td>\n",
       "      <td id=\"T_dc4a3_row5_col5\" class=\"data row5 col5\" >0.1958</td>\n",
       "      <td id=\"T_dc4a3_row5_col6\" class=\"data row5 col6\" >0.1960</td>\n",
       "    </tr>\n",
       "    <tr>\n",
       "      <th id=\"T_dc4a3_level0_row6\" class=\"row_heading level0 row6\" >6</th>\n",
       "      <td id=\"T_dc4a3_row6_col0\" class=\"data row6 col0\" >0.7206</td>\n",
       "      <td id=\"T_dc4a3_row6_col1\" class=\"data row6 col1\" >0.6128</td>\n",
       "      <td id=\"T_dc4a3_row6_col2\" class=\"data row6 col2\" >0.4212</td>\n",
       "      <td id=\"T_dc4a3_row6_col3\" class=\"data row6 col3\" >0.3760</td>\n",
       "      <td id=\"T_dc4a3_row6_col4\" class=\"data row6 col4\" >0.3973</td>\n",
       "      <td id=\"T_dc4a3_row6_col5\" class=\"data row6 col5\" >0.2162</td>\n",
       "      <td id=\"T_dc4a3_row6_col6\" class=\"data row6 col6\" >0.2168</td>\n",
       "    </tr>\n",
       "    <tr>\n",
       "      <th id=\"T_dc4a3_level0_row7\" class=\"row_heading level0 row7\" >7</th>\n",
       "      <td id=\"T_dc4a3_row7_col0\" class=\"data row7 col0\" >0.7331</td>\n",
       "      <td id=\"T_dc4a3_row7_col1\" class=\"data row7 col1\" >0.5986</td>\n",
       "      <td id=\"T_dc4a3_row7_col2\" class=\"data row7 col2\" >0.3610</td>\n",
       "      <td id=\"T_dc4a3_row7_col3\" class=\"data row7 col3\" >0.3830</td>\n",
       "      <td id=\"T_dc4a3_row7_col4\" class=\"data row7 col4\" >0.3717</td>\n",
       "      <td id=\"T_dc4a3_row7_col5\" class=\"data row7 col5\" >0.2024</td>\n",
       "      <td id=\"T_dc4a3_row7_col6\" class=\"data row7 col6\" >0.2026</td>\n",
       "    </tr>\n",
       "    <tr>\n",
       "      <th id=\"T_dc4a3_level0_row8\" class=\"row_heading level0 row8\" >8</th>\n",
       "      <td id=\"T_dc4a3_row8_col0\" class=\"data row8 col0\" >0.7206</td>\n",
       "      <td id=\"T_dc4a3_row8_col1\" class=\"data row8 col1\" >0.6045</td>\n",
       "      <td id=\"T_dc4a3_row8_col2\" class=\"data row8 col2\" >0.3983</td>\n",
       "      <td id=\"T_dc4a3_row8_col3\" class=\"data row8 col3\" >0.3707</td>\n",
       "      <td id=\"T_dc4a3_row8_col4\" class=\"data row8 col4\" >0.3840</td>\n",
       "      <td id=\"T_dc4a3_row8_col5\" class=\"data row8 col5\" >0.2036</td>\n",
       "      <td id=\"T_dc4a3_row8_col6\" class=\"data row8 col6\" >0.2038</td>\n",
       "    </tr>\n",
       "    <tr>\n",
       "      <th id=\"T_dc4a3_level0_row9\" class=\"row_heading level0 row9\" >9</th>\n",
       "      <td id=\"T_dc4a3_row9_col0\" class=\"data row9 col0\" >0.7442</td>\n",
       "      <td id=\"T_dc4a3_row9_col1\" class=\"data row9 col1\" >0.6272</td>\n",
       "      <td id=\"T_dc4a3_row9_col2\" class=\"data row9 col2\" >0.4195</td>\n",
       "      <td id=\"T_dc4a3_row9_col3\" class=\"data row9 col3\" >0.4148</td>\n",
       "      <td id=\"T_dc4a3_row9_col4\" class=\"data row9 col4\" >0.4171</td>\n",
       "      <td id=\"T_dc4a3_row9_col5\" class=\"data row9 col5\" >0.2533</td>\n",
       "      <td id=\"T_dc4a3_row9_col6\" class=\"data row9 col6\" >0.2533</td>\n",
       "    </tr>\n",
       "    <tr>\n",
       "      <th id=\"T_dc4a3_level0_row10\" class=\"row_heading level0 row10\" >Mean</th>\n",
       "      <td id=\"T_dc4a3_row10_col0\" class=\"data row10 col0\" >0.7293</td>\n",
       "      <td id=\"T_dc4a3_row10_col1\" class=\"data row10 col1\" >0.6147</td>\n",
       "      <td id=\"T_dc4a3_row10_col2\" class=\"data row10 col2\" >0.4104</td>\n",
       "      <td id=\"T_dc4a3_row10_col3\" class=\"data row10 col3\" >0.3878</td>\n",
       "      <td id=\"T_dc4a3_row10_col4\" class=\"data row10 col4\" >0.3986</td>\n",
       "      <td id=\"T_dc4a3_row10_col5\" class=\"data row10 col5\" >0.2242</td>\n",
       "      <td id=\"T_dc4a3_row10_col6\" class=\"data row10 col6\" >0.2245</td>\n",
       "    </tr>\n",
       "    <tr>\n",
       "      <th id=\"T_dc4a3_level0_row11\" class=\"row_heading level0 row11\" >Std</th>\n",
       "      <td id=\"T_dc4a3_row11_col0\" class=\"data row11 col0\" >0.0092</td>\n",
       "      <td id=\"T_dc4a3_row11_col1\" class=\"data row11 col1\" >0.0112</td>\n",
       "      <td id=\"T_dc4a3_row11_col2\" class=\"data row11 col2\" >0.0218</td>\n",
       "      <td id=\"T_dc4a3_row11_col3\" class=\"data row11 col3\" >0.0174</td>\n",
       "      <td id=\"T_dc4a3_row11_col4\" class=\"data row11 col4\" >0.0173</td>\n",
       "      <td id=\"T_dc4a3_row11_col5\" class=\"data row11 col5\" >0.0218</td>\n",
       "      <td id=\"T_dc4a3_row11_col6\" class=\"data row11 col6\" >0.0218</td>\n",
       "    </tr>\n",
       "  </tbody>\n",
       "</table>\n"
      ],
      "text/plain": [
       "<pandas.io.formats.style.Styler at 0x7efe1b0f8130>"
      ]
     },
     "metadata": {},
     "output_type": "display_data"
    }
   ],
   "source": [
    "dt = create_model('dt')"
   ]
  },
  {
   "cell_type": "code",
   "execution_count": 10,
   "metadata": {
    "colab": {},
    "colab_type": "code",
    "id": "FRat05yGEQpQ",
    "outputId": "c8e6a190-8bec-4646-d2c8-8a92b129c484"
   },
   "outputs": [
    {
     "name": "stdout",
     "output_type": "stream",
     "text": [
      "DecisionTreeClassifier(ccp_alpha=0.0, class_weight=None, criterion='gini',\n",
      "                       max_depth=None, max_features=None, max_leaf_nodes=None,\n",
      "                       min_impurity_decrease=0.0, min_impurity_split=None,\n",
      "                       min_samples_leaf=1, min_samples_split=2,\n",
      "                       min_weight_fraction_leaf=0.0, presort='deprecated',\n",
      "                       random_state=123, splitter='best')\n"
     ]
    }
   ],
   "source": [
    "#trained model object is stored in the variable 'dt'. \n",
    "print(dt)"
   ]
  },
  {
   "cell_type": "markdown",
   "metadata": {
    "colab_type": "text",
    "id": "rWUojqBCEQpb"
   },
   "source": [
    "### 8.2 K Neighbors Classifier"
   ]
  },
  {
   "cell_type": "code",
   "execution_count": 11,
   "metadata": {
    "colab": {
     "base_uri": "https://localhost:8080/",
     "height": 392
    },
    "colab_type": "code",
    "id": "2uonD20gEQpe",
    "outputId": "560e3cb6-41d5-4293-b1c5-2bd1cf3bc63b"
   },
   "outputs": [
    {
     "data": {
      "text/html": [
       "<style type=\"text/css\">\n",
       "#T_8171a_row10_col0, #T_8171a_row10_col1, #T_8171a_row10_col2, #T_8171a_row10_col3, #T_8171a_row10_col4, #T_8171a_row10_col5, #T_8171a_row10_col6 {\n",
       "  background: yellow;\n",
       "}\n",
       "</style>\n",
       "<table id=\"T_8171a\">\n",
       "  <thead>\n",
       "    <tr>\n",
       "      <th class=\"blank level0\" >&nbsp;</th>\n",
       "      <th id=\"T_8171a_level0_col0\" class=\"col_heading level0 col0\" >Accuracy</th>\n",
       "      <th id=\"T_8171a_level0_col1\" class=\"col_heading level0 col1\" >AUC</th>\n",
       "      <th id=\"T_8171a_level0_col2\" class=\"col_heading level0 col2\" >Recall</th>\n",
       "      <th id=\"T_8171a_level0_col3\" class=\"col_heading level0 col3\" >Prec.</th>\n",
       "      <th id=\"T_8171a_level0_col4\" class=\"col_heading level0 col4\" >F1</th>\n",
       "      <th id=\"T_8171a_level0_col5\" class=\"col_heading level0 col5\" >Kappa</th>\n",
       "      <th id=\"T_8171a_level0_col6\" class=\"col_heading level0 col6\" >MCC</th>\n",
       "    </tr>\n",
       "    <tr>\n",
       "      <th class=\"index_name level0\" >Fold</th>\n",
       "      <th class=\"blank col0\" >&nbsp;</th>\n",
       "      <th class=\"blank col1\" >&nbsp;</th>\n",
       "      <th class=\"blank col2\" >&nbsp;</th>\n",
       "      <th class=\"blank col3\" >&nbsp;</th>\n",
       "      <th class=\"blank col4\" >&nbsp;</th>\n",
       "      <th class=\"blank col5\" >&nbsp;</th>\n",
       "      <th class=\"blank col6\" >&nbsp;</th>\n",
       "    </tr>\n",
       "  </thead>\n",
       "  <tbody>\n",
       "    <tr>\n",
       "      <th id=\"T_8171a_level0_row0\" class=\"row_heading level0 row0\" >0</th>\n",
       "      <td id=\"T_8171a_row0_col0\" class=\"data row0 col0\" >0.7469</td>\n",
       "      <td id=\"T_8171a_row0_col1\" class=\"data row0 col1\" >0.6020</td>\n",
       "      <td id=\"T_8171a_row0_col2\" class=\"data row0 col2\" >0.1920</td>\n",
       "      <td id=\"T_8171a_row0_col3\" class=\"data row0 col3\" >0.3545</td>\n",
       "      <td id=\"T_8171a_row0_col4\" class=\"data row0 col4\" >0.2491</td>\n",
       "      <td id=\"T_8171a_row0_col5\" class=\"data row0 col5\" >0.1128</td>\n",
       "      <td id=\"T_8171a_row0_col6\" class=\"data row0 col6\" >0.1204</td>\n",
       "    </tr>\n",
       "    <tr>\n",
       "      <th id=\"T_8171a_level0_row1\" class=\"row_heading level0 row1\" >1</th>\n",
       "      <td id=\"T_8171a_row1_col0\" class=\"data row1 col0\" >0.7550</td>\n",
       "      <td id=\"T_8171a_row1_col1\" class=\"data row1 col1\" >0.5894</td>\n",
       "      <td id=\"T_8171a_row1_col2\" class=\"data row1 col2\" >0.2092</td>\n",
       "      <td id=\"T_8171a_row1_col3\" class=\"data row1 col3\" >0.3883</td>\n",
       "      <td id=\"T_8171a_row1_col4\" class=\"data row1 col4\" >0.2719</td>\n",
       "      <td id=\"T_8171a_row1_col5\" class=\"data row1 col5\" >0.1402</td>\n",
       "      <td id=\"T_8171a_row1_col6\" class=\"data row1 col6\" >0.1500</td>\n",
       "    </tr>\n",
       "    <tr>\n",
       "      <th id=\"T_8171a_level0_row2\" class=\"row_heading level0 row2\" >2</th>\n",
       "      <td id=\"T_8171a_row2_col0\" class=\"data row2 col0\" >0.7506</td>\n",
       "      <td id=\"T_8171a_row2_col1\" class=\"data row2 col1\" >0.5883</td>\n",
       "      <td id=\"T_8171a_row2_col2\" class=\"data row2 col2\" >0.1576</td>\n",
       "      <td id=\"T_8171a_row2_col3\" class=\"data row2 col3\" >0.3459</td>\n",
       "      <td id=\"T_8171a_row2_col4\" class=\"data row2 col4\" >0.2165</td>\n",
       "      <td id=\"T_8171a_row2_col5\" class=\"data row2 col5\" >0.0923</td>\n",
       "      <td id=\"T_8171a_row2_col6\" class=\"data row2 col6\" >0.1024</td>\n",
       "    </tr>\n",
       "    <tr>\n",
       "      <th id=\"T_8171a_level0_row3\" class=\"row_heading level0 row3\" >3</th>\n",
       "      <td id=\"T_8171a_row3_col0\" class=\"data row3 col0\" >0.7419</td>\n",
       "      <td id=\"T_8171a_row3_col1\" class=\"data row3 col1\" >0.5818</td>\n",
       "      <td id=\"T_8171a_row3_col2\" class=\"data row3 col2\" >0.1519</td>\n",
       "      <td id=\"T_8171a_row3_col3\" class=\"data row3 col3\" >0.3136</td>\n",
       "      <td id=\"T_8171a_row3_col4\" class=\"data row3 col4\" >0.2046</td>\n",
       "      <td id=\"T_8171a_row3_col5\" class=\"data row3 col5\" >0.0723</td>\n",
       "      <td id=\"T_8171a_row3_col6\" class=\"data row3 col6\" >0.0790</td>\n",
       "    </tr>\n",
       "    <tr>\n",
       "      <th id=\"T_8171a_level0_row4\" class=\"row_heading level0 row4\" >4</th>\n",
       "      <td id=\"T_8171a_row4_col0\" class=\"data row4 col0\" >0.7563</td>\n",
       "      <td id=\"T_8171a_row4_col1\" class=\"data row4 col1\" >0.5908</td>\n",
       "      <td id=\"T_8171a_row4_col2\" class=\"data row4 col2\" >0.1490</td>\n",
       "      <td id=\"T_8171a_row4_col3\" class=\"data row4 col3\" >0.3611</td>\n",
       "      <td id=\"T_8171a_row4_col4\" class=\"data row4 col4\" >0.2110</td>\n",
       "      <td id=\"T_8171a_row4_col5\" class=\"data row4 col5\" >0.0954</td>\n",
       "      <td id=\"T_8171a_row4_col6\" class=\"data row4 col6\" >0.1085</td>\n",
       "    </tr>\n",
       "    <tr>\n",
       "      <th id=\"T_8171a_level0_row5\" class=\"row_heading level0 row5\" >5</th>\n",
       "      <td id=\"T_8171a_row5_col0\" class=\"data row5 col0\" >0.7550</td>\n",
       "      <td id=\"T_8171a_row5_col1\" class=\"data row5 col1\" >0.5997</td>\n",
       "      <td id=\"T_8171a_row5_col2\" class=\"data row5 col2\" >0.1748</td>\n",
       "      <td id=\"T_8171a_row5_col3\" class=\"data row5 col3\" >0.3720</td>\n",
       "      <td id=\"T_8171a_row5_col4\" class=\"data row5 col4\" >0.2378</td>\n",
       "      <td id=\"T_8171a_row5_col5\" class=\"data row5 col5\" >0.1139</td>\n",
       "      <td id=\"T_8171a_row5_col6\" class=\"data row5 col6\" >0.1255</td>\n",
       "    </tr>\n",
       "    <tr>\n",
       "      <th id=\"T_8171a_level0_row6\" class=\"row_heading level0 row6\" >6</th>\n",
       "      <td id=\"T_8171a_row6_col0\" class=\"data row6 col0\" >0.7638</td>\n",
       "      <td id=\"T_8171a_row6_col1\" class=\"data row6 col1\" >0.5890</td>\n",
       "      <td id=\"T_8171a_row6_col2\" class=\"data row6 col2\" >0.1891</td>\n",
       "      <td id=\"T_8171a_row6_col3\" class=\"data row6 col3\" >0.4125</td>\n",
       "      <td id=\"T_8171a_row6_col4\" class=\"data row6 col4\" >0.2593</td>\n",
       "      <td id=\"T_8171a_row6_col5\" class=\"data row6 col5\" >0.1413</td>\n",
       "      <td id=\"T_8171a_row6_col6\" class=\"data row6 col6\" >0.1565</td>\n",
       "    </tr>\n",
       "    <tr>\n",
       "      <th id=\"T_8171a_level0_row7\" class=\"row_heading level0 row7\" >7</th>\n",
       "      <td id=\"T_8171a_row7_col0\" class=\"data row7 col0\" >0.7613</td>\n",
       "      <td id=\"T_8171a_row7_col1\" class=\"data row7 col1\" >0.6240</td>\n",
       "      <td id=\"T_8171a_row7_col2\" class=\"data row7 col2\" >0.1633</td>\n",
       "      <td id=\"T_8171a_row7_col3\" class=\"data row7 col3\" >0.3904</td>\n",
       "      <td id=\"T_8171a_row7_col4\" class=\"data row7 col4\" >0.2303</td>\n",
       "      <td id=\"T_8171a_row7_col5\" class=\"data row7 col5\" >0.1163</td>\n",
       "      <td id=\"T_8171a_row7_col6\" class=\"data row7 col6\" >0.1318</td>\n",
       "    </tr>\n",
       "    <tr>\n",
       "      <th id=\"T_8171a_level0_row8\" class=\"row_heading level0 row8\" >8</th>\n",
       "      <td id=\"T_8171a_row8_col0\" class=\"data row8 col0\" >0.7619</td>\n",
       "      <td id=\"T_8171a_row8_col1\" class=\"data row8 col1\" >0.5988</td>\n",
       "      <td id=\"T_8171a_row8_col2\" class=\"data row8 col2\" >0.1862</td>\n",
       "      <td id=\"T_8171a_row8_col3\" class=\"data row8 col3\" >0.4037</td>\n",
       "      <td id=\"T_8171a_row8_col4\" class=\"data row8 col4\" >0.2549</td>\n",
       "      <td id=\"T_8171a_row8_col5\" class=\"data row8 col5\" >0.1356</td>\n",
       "      <td id=\"T_8171a_row8_col6\" class=\"data row8 col6\" >0.1500</td>\n",
       "    </tr>\n",
       "    <tr>\n",
       "      <th id=\"T_8171a_level0_row9\" class=\"row_heading level0 row9\" >9</th>\n",
       "      <td id=\"T_8171a_row9_col0\" class=\"data row9 col0\" >0.7549</td>\n",
       "      <td id=\"T_8171a_row9_col1\" class=\"data row9 col1\" >0.5756</td>\n",
       "      <td id=\"T_8171a_row9_col2\" class=\"data row9 col2\" >0.1897</td>\n",
       "      <td id=\"T_8171a_row9_col3\" class=\"data row9 col3\" >0.3771</td>\n",
       "      <td id=\"T_8171a_row9_col4\" class=\"data row9 col4\" >0.2524</td>\n",
       "      <td id=\"T_8171a_row9_col5\" class=\"data row9 col5\" >0.1246</td>\n",
       "      <td id=\"T_8171a_row9_col6\" class=\"data row9 col6\" >0.1351</td>\n",
       "    </tr>\n",
       "    <tr>\n",
       "      <th id=\"T_8171a_level0_row10\" class=\"row_heading level0 row10\" >Mean</th>\n",
       "      <td id=\"T_8171a_row10_col0\" class=\"data row10 col0\" >0.7547</td>\n",
       "      <td id=\"T_8171a_row10_col1\" class=\"data row10 col1\" >0.5939</td>\n",
       "      <td id=\"T_8171a_row10_col2\" class=\"data row10 col2\" >0.1763</td>\n",
       "      <td id=\"T_8171a_row10_col3\" class=\"data row10 col3\" >0.3719</td>\n",
       "      <td id=\"T_8171a_row10_col4\" class=\"data row10 col4\" >0.2388</td>\n",
       "      <td id=\"T_8171a_row10_col5\" class=\"data row10 col5\" >0.1145</td>\n",
       "      <td id=\"T_8171a_row10_col6\" class=\"data row10 col6\" >0.1259</td>\n",
       "    </tr>\n",
       "    <tr>\n",
       "      <th id=\"T_8171a_level0_row11\" class=\"row_heading level0 row11\" >Std</th>\n",
       "      <td id=\"T_8171a_row11_col0\" class=\"data row11 col0\" >0.0065</td>\n",
       "      <td id=\"T_8171a_row11_col1\" class=\"data row11 col1\" >0.0126</td>\n",
       "      <td id=\"T_8171a_row11_col2\" class=\"data row11 col2\" >0.0191</td>\n",
       "      <td id=\"T_8171a_row11_col3\" class=\"data row11 col3\" >0.0279</td>\n",
       "      <td id=\"T_8171a_row11_col4\" class=\"data row11 col4\" >0.0214</td>\n",
       "      <td id=\"T_8171a_row11_col5\" class=\"data row11 col5\" >0.0214</td>\n",
       "      <td id=\"T_8171a_row11_col6\" class=\"data row11 col6\" >0.0230</td>\n",
       "    </tr>\n",
       "  </tbody>\n",
       "</table>\n"
      ],
      "text/plain": [
       "<pandas.io.formats.style.Styler at 0x7efe1b0f8c40>"
      ]
     },
     "metadata": {},
     "output_type": "display_data"
    }
   ],
   "source": [
    "knn = create_model('knn')"
   ]
  },
  {
   "cell_type": "markdown",
   "metadata": {
    "colab_type": "text",
    "id": "nSg3OUjuEQpu"
   },
   "source": [
    "### 8.3 Random Forest Classifier"
   ]
  },
  {
   "cell_type": "code",
   "execution_count": 12,
   "metadata": {
    "colab": {
     "base_uri": "https://localhost:8080/",
     "height": 392
    },
    "colab_type": "code",
    "id": "FGCoUiQpEQpz",
    "outputId": "212cb736-6dcb-4b77-e45b-14ad895bff43"
   },
   "outputs": [
    {
     "data": {
      "text/html": [
       "<style type=\"text/css\">\n",
       "#T_11971_row10_col0, #T_11971_row10_col1, #T_11971_row10_col2, #T_11971_row10_col3, #T_11971_row10_col4, #T_11971_row10_col5, #T_11971_row10_col6 {\n",
       "  background: yellow;\n",
       "}\n",
       "</style>\n",
       "<table id=\"T_11971\">\n",
       "  <thead>\n",
       "    <tr>\n",
       "      <th class=\"blank level0\" >&nbsp;</th>\n",
       "      <th id=\"T_11971_level0_col0\" class=\"col_heading level0 col0\" >Accuracy</th>\n",
       "      <th id=\"T_11971_level0_col1\" class=\"col_heading level0 col1\" >AUC</th>\n",
       "      <th id=\"T_11971_level0_col2\" class=\"col_heading level0 col2\" >Recall</th>\n",
       "      <th id=\"T_11971_level0_col3\" class=\"col_heading level0 col3\" >Prec.</th>\n",
       "      <th id=\"T_11971_level0_col4\" class=\"col_heading level0 col4\" >F1</th>\n",
       "      <th id=\"T_11971_level0_col5\" class=\"col_heading level0 col5\" >Kappa</th>\n",
       "      <th id=\"T_11971_level0_col6\" class=\"col_heading level0 col6\" >MCC</th>\n",
       "    </tr>\n",
       "    <tr>\n",
       "      <th class=\"index_name level0\" >Fold</th>\n",
       "      <th class=\"blank col0\" >&nbsp;</th>\n",
       "      <th class=\"blank col1\" >&nbsp;</th>\n",
       "      <th class=\"blank col2\" >&nbsp;</th>\n",
       "      <th class=\"blank col3\" >&nbsp;</th>\n",
       "      <th class=\"blank col4\" >&nbsp;</th>\n",
       "      <th class=\"blank col5\" >&nbsp;</th>\n",
       "      <th class=\"blank col6\" >&nbsp;</th>\n",
       "    </tr>\n",
       "  </thead>\n",
       "  <tbody>\n",
       "    <tr>\n",
       "      <th id=\"T_11971_level0_row0\" class=\"row_heading level0 row0\" >0</th>\n",
       "      <td id=\"T_11971_row0_col0\" class=\"data row0 col0\" >0.8133</td>\n",
       "      <td id=\"T_11971_row0_col1\" class=\"data row0 col1\" >0.7673</td>\n",
       "      <td id=\"T_11971_row0_col2\" class=\"data row0 col2\" >0.3610</td>\n",
       "      <td id=\"T_11971_row0_col3\" class=\"data row0 col3\" >0.6269</td>\n",
       "      <td id=\"T_11971_row0_col4\" class=\"data row0 col4\" >0.4582</td>\n",
       "      <td id=\"T_11971_row0_col5\" class=\"data row0 col5\" >0.3551</td>\n",
       "      <td id=\"T_11971_row0_col6\" class=\"data row0 col6\" >0.3749</td>\n",
       "    </tr>\n",
       "    <tr>\n",
       "      <th id=\"T_11971_level0_row1\" class=\"row_heading level0 row1\" >1</th>\n",
       "      <td id=\"T_11971_row1_col0\" class=\"data row1 col0\" >0.8239</td>\n",
       "      <td id=\"T_11971_row1_col1\" class=\"data row1 col1\" >0.7615</td>\n",
       "      <td id=\"T_11971_row1_col2\" class=\"data row1 col2\" >0.3782</td>\n",
       "      <td id=\"T_11971_row1_col3\" class=\"data row1 col3\" >0.6735</td>\n",
       "      <td id=\"T_11971_row1_col4\" class=\"data row1 col4\" >0.4844</td>\n",
       "      <td id=\"T_11971_row1_col5\" class=\"data row1 col5\" >0.3882</td>\n",
       "      <td id=\"T_11971_row1_col6\" class=\"data row1 col6\" >0.4117</td>\n",
       "    </tr>\n",
       "    <tr>\n",
       "      <th id=\"T_11971_level0_row2\" class=\"row_heading level0 row2\" >2</th>\n",
       "      <td id=\"T_11971_row2_col0\" class=\"data row2 col0\" >0.8258</td>\n",
       "      <td id=\"T_11971_row2_col1\" class=\"data row2 col1\" >0.7708</td>\n",
       "      <td id=\"T_11971_row2_col2\" class=\"data row2 col2\" >0.3467</td>\n",
       "      <td id=\"T_11971_row2_col3\" class=\"data row2 col3\" >0.7076</td>\n",
       "      <td id=\"T_11971_row2_col4\" class=\"data row2 col4\" >0.4654</td>\n",
       "      <td id=\"T_11971_row2_col5\" class=\"data row2 col5\" >0.3756</td>\n",
       "      <td id=\"T_11971_row2_col6\" class=\"data row2 col6\" >0.4098</td>\n",
       "    </tr>\n",
       "    <tr>\n",
       "      <th id=\"T_11971_level0_row3\" class=\"row_heading level0 row3\" >3</th>\n",
       "      <td id=\"T_11971_row3_col0\" class=\"data row3 col0\" >0.8177</td>\n",
       "      <td id=\"T_11971_row3_col1\" class=\"data row3 col1\" >0.7605</td>\n",
       "      <td id=\"T_11971_row3_col2\" class=\"data row3 col2\" >0.3725</td>\n",
       "      <td id=\"T_11971_row3_col3\" class=\"data row3 col3\" >0.6436</td>\n",
       "      <td id=\"T_11971_row3_col4\" class=\"data row3 col4\" >0.4719</td>\n",
       "      <td id=\"T_11971_row3_col5\" class=\"data row3 col5\" >0.3710</td>\n",
       "      <td id=\"T_11971_row3_col6\" class=\"data row3 col6\" >0.3913</td>\n",
       "    </tr>\n",
       "    <tr>\n",
       "      <th id=\"T_11971_level0_row4\" class=\"row_heading level0 row4\" >4</th>\n",
       "      <td id=\"T_11971_row4_col0\" class=\"data row4 col0\" >0.8208</td>\n",
       "      <td id=\"T_11971_row4_col1\" class=\"data row4 col1\" >0.7642</td>\n",
       "      <td id=\"T_11971_row4_col2\" class=\"data row4 col2\" >0.3725</td>\n",
       "      <td id=\"T_11971_row4_col3\" class=\"data row4 col3\" >0.6599</td>\n",
       "      <td id=\"T_11971_row4_col4\" class=\"data row4 col4\" >0.4762</td>\n",
       "      <td id=\"T_11971_row4_col5\" class=\"data row4 col5\" >0.3780</td>\n",
       "      <td id=\"T_11971_row4_col6\" class=\"data row4 col6\" >0.4006</td>\n",
       "    </tr>\n",
       "    <tr>\n",
       "      <th id=\"T_11971_level0_row5\" class=\"row_heading level0 row5\" >5</th>\n",
       "      <td id=\"T_11971_row5_col0\" class=\"data row5 col0\" >0.8283</td>\n",
       "      <td id=\"T_11971_row5_col1\" class=\"data row5 col1\" >0.7638</td>\n",
       "      <td id=\"T_11971_row5_col2\" class=\"data row5 col2\" >0.3954</td>\n",
       "      <td id=\"T_11971_row5_col3\" class=\"data row5 col3\" >0.6866</td>\n",
       "      <td id=\"T_11971_row5_col4\" class=\"data row5 col4\" >0.5018</td>\n",
       "      <td id=\"T_11971_row5_col5\" class=\"data row5 col5\" >0.4070</td>\n",
       "      <td id=\"T_11971_row5_col6\" class=\"data row5 col6\" >0.4297</td>\n",
       "    </tr>\n",
       "    <tr>\n",
       "      <th id=\"T_11971_level0_row6\" class=\"row_heading level0 row6\" >6</th>\n",
       "      <td id=\"T_11971_row6_col0\" class=\"data row6 col0\" >0.8127</td>\n",
       "      <td id=\"T_11971_row6_col1\" class=\"data row6 col1\" >0.7647</td>\n",
       "      <td id=\"T_11971_row6_col2\" class=\"data row6 col2\" >0.3582</td>\n",
       "      <td id=\"T_11971_row6_col3\" class=\"data row6 col3\" >0.6250</td>\n",
       "      <td id=\"T_11971_row6_col4\" class=\"data row6 col4\" >0.4554</td>\n",
       "      <td id=\"T_11971_row6_col5\" class=\"data row6 col5\" >0.3522</td>\n",
       "      <td id=\"T_11971_row6_col6\" class=\"data row6 col6\" >0.3721</td>\n",
       "    </tr>\n",
       "    <tr>\n",
       "      <th id=\"T_11971_level0_row7\" class=\"row_heading level0 row7\" >7</th>\n",
       "      <td id=\"T_11971_row7_col0\" class=\"data row7 col0\" >0.8283</td>\n",
       "      <td id=\"T_11971_row7_col1\" class=\"data row7 col1\" >0.7390</td>\n",
       "      <td id=\"T_11971_row7_col2\" class=\"data row7 col2\" >0.3553</td>\n",
       "      <td id=\"T_11971_row7_col3\" class=\"data row7 col3\" >0.7168</td>\n",
       "      <td id=\"T_11971_row7_col4\" class=\"data row7 col4\" >0.4751</td>\n",
       "      <td id=\"T_11971_row7_col5\" class=\"data row7 col5\" >0.3861</td>\n",
       "      <td id=\"T_11971_row7_col6\" class=\"data row7 col6\" >0.4202</td>\n",
       "    </tr>\n",
       "    <tr>\n",
       "      <th id=\"T_11971_level0_row8\" class=\"row_heading level0 row8\" >8</th>\n",
       "      <td id=\"T_11971_row8_col0\" class=\"data row8 col0\" >0.8108</td>\n",
       "      <td id=\"T_11971_row8_col1\" class=\"data row8 col1\" >0.7496</td>\n",
       "      <td id=\"T_11971_row8_col2\" class=\"data row8 col2\" >0.3610</td>\n",
       "      <td id=\"T_11971_row8_col3\" class=\"data row8 col3\" >0.6146</td>\n",
       "      <td id=\"T_11971_row8_col4\" class=\"data row8 col4\" >0.4549</td>\n",
       "      <td id=\"T_11971_row8_col5\" class=\"data row8 col5\" >0.3496</td>\n",
       "      <td id=\"T_11971_row8_col6\" class=\"data row8 col6\" >0.3678</td>\n",
       "    </tr>\n",
       "    <tr>\n",
       "      <th id=\"T_11971_level0_row9\" class=\"row_heading level0 row9\" >9</th>\n",
       "      <td id=\"T_11971_row9_col0\" class=\"data row9 col0\" >0.8176</td>\n",
       "      <td id=\"T_11971_row9_col1\" class=\"data row9 col1\" >0.7565</td>\n",
       "      <td id=\"T_11971_row9_col2\" class=\"data row9 col2\" >0.3621</td>\n",
       "      <td id=\"T_11971_row9_col3\" class=\"data row9 col3\" >0.6462</td>\n",
       "      <td id=\"T_11971_row9_col4\" class=\"data row9 col4\" >0.4641</td>\n",
       "      <td id=\"T_11971_row9_col5\" class=\"data row9 col5\" >0.3645</td>\n",
       "      <td id=\"T_11971_row9_col6\" class=\"data row9 col6\" >0.3867</td>\n",
       "    </tr>\n",
       "    <tr>\n",
       "      <th id=\"T_11971_level0_row10\" class=\"row_heading level0 row10\" >Mean</th>\n",
       "      <td id=\"T_11971_row10_col0\" class=\"data row10 col0\" >0.8199</td>\n",
       "      <td id=\"T_11971_row10_col1\" class=\"data row10 col1\" >0.7598</td>\n",
       "      <td id=\"T_11971_row10_col2\" class=\"data row10 col2\" >0.3663</td>\n",
       "      <td id=\"T_11971_row10_col3\" class=\"data row10 col3\" >0.6601</td>\n",
       "      <td id=\"T_11971_row10_col4\" class=\"data row10 col4\" >0.4707</td>\n",
       "      <td id=\"T_11971_row10_col5\" class=\"data row10 col5\" >0.3727</td>\n",
       "      <td id=\"T_11971_row10_col6\" class=\"data row10 col6\" >0.3965</td>\n",
       "    </tr>\n",
       "    <tr>\n",
       "      <th id=\"T_11971_level0_row11\" class=\"row_heading level0 row11\" >Std</th>\n",
       "      <td id=\"T_11971_row11_col0\" class=\"data row11 col0\" >0.0062</td>\n",
       "      <td id=\"T_11971_row11_col1\" class=\"data row11 col1\" >0.0089</td>\n",
       "      <td id=\"T_11971_row11_col2\" class=\"data row11 col2\" >0.0131</td>\n",
       "      <td id=\"T_11971_row11_col3\" class=\"data row11 col3\" >0.0335</td>\n",
       "      <td id=\"T_11971_row11_col4\" class=\"data row11 col4\" >0.0139</td>\n",
       "      <td id=\"T_11971_row11_col5\" class=\"data row11 col5\" >0.0172</td>\n",
       "      <td id=\"T_11971_row11_col6\" class=\"data row11 col6\" >0.0202</td>\n",
       "    </tr>\n",
       "  </tbody>\n",
       "</table>\n"
      ],
      "text/plain": [
       "<pandas.io.formats.style.Styler at 0x7efe1a81b130>"
      ]
     },
     "metadata": {},
     "output_type": "display_data"
    }
   ],
   "source": [
    "rf = create_model('rf')"
   ]
  },
  {
   "cell_type": "markdown",
   "metadata": {},
   "source": [
    "모든 모델의 평균 점수는 `compare_models()`에 인쇄된 점수와 일치합니다.   \n",
    "이는 `compare_models()` 점수 그리드에 인쇄된 메트릭이 모든 CV 폴드의 평균 점수이기 때문이다.   \n",
    "compare_models()와 마찬가지로 폴드 매개 변수를 기본값 10에서 다른 값으로 변경하려면 \"fold\" 매개 변수를 사용할 수 있습니다.   \n",
    "예를 들어, `create_model('dt', fold = 5)` 는 5 fold stratified CV를 사용하여 의사 결정 트리 분류기를 생성합니다."
   ]
  },
  {
   "cell_type": "markdown",
   "metadata": {
    "colab_type": "text",
    "id": "z6F3Fk7TEQp8"
   },
   "source": [
    "Notice that the mean score of all models matches with the score printed in `compare_models()`. This is because the metrics printed in the `compare_models()` score grid are the average scores across all CV folds. Similar to `compare_models()`, if you want to change the fold parameter from the default value of 10 to a different value then you can use the `fold` parameter. For Example: `create_model('dt', fold = 5)` will create a Decision Tree Classifier using 5 fold stratified CV."
   ]
  },
  {
   "cell_type": "markdown",
   "metadata": {
    "colab_type": "text",
    "id": "XvpjzbGQEQqB"
   },
   "source": [
    "# 9.0 Tune a Model"
   ]
  },
  {
   "cell_type": "markdown",
   "metadata": {},
   "source": [
    "create_model() 함수를 사용하여 모델을 만들 때 기본 하이퍼 파라미터를 사용하여 모델을 학습합니다.    \n",
    "하이퍼 파라미터를 조정하기 위해 tune_model() 함수를 사용합니다.  \n",
    "이  function은 사전 정의된 검색 공간에서 **Random Grid Search**을 사용하여 모델의 하이퍼 파라미터를 자동으로 조정합니다.   \n",
    "출력은 최적의 모델을 위해 Accuracy, AUC, Recall, Precision, F1, Kappa 및 MCC를 폴드별로 보여주는 점수 그리드를 인쇄합니다.   \n",
    "사용자 지정 검색 그리드를 사용하려면 tune_model 함수에 custom_grid 매개 변수를 전달하면 됩니다(아래 9.2 KNN 튜닝 참조).   "
   ]
  },
  {
   "cell_type": "markdown",
   "metadata": {
    "colab_type": "text",
    "id": "nc_GgksHEQqE"
   },
   "source": [
    "When a model is created using the `create_model()` function it uses the default hyperparameters to train the model. In order to tune hyperparameters, the `tune_model()` function is used. This function automatically tunes the hyperparameters of a model using `Random Grid Search` on a pre-defined search space. The output prints a score grid that shows Accuracy, AUC, Recall, Precision, F1, Kappa, and MCC by fold for the best model. To use the custom search grid, you can pass `custom_grid` parameter in the `tune_model` function (see 9.2 KNN tuning below). <br/>\n",
    "<br/>"
   ]
  },
  {
   "cell_type": "raw",
   "metadata": {},
   "source": [
    "https://driip.me/3ef36050-f5a3-41ea-9f23-874afe665342\n",
    "이진 분류의 성능 평가 지표"
   ]
  },
  {
   "cell_type": "markdown",
   "metadata": {},
   "source": [
    "- Accuracy(정확도)   \n",
    "Accuracy는 실제 데이터에서 예측 데이터가 얼마나 같은지를 판단하는 단순한 지표이다. <br>\n",
    "Accuracy = 정확히 예측한 데이터 건수/전체 예측 데이터 건수"
   ]
  },
  {
   "cell_type": "markdown",
   "metadata": {},
   "source": [
    "- 한계   \n",
    "이진 분류의 경우, 데이터의 구성에 따라 모델의 성능을 왜곡할 수 있기 때문에 정확도 수치 하나만 가지고 성능을 평가하지 않는다.   \n",
    "특히 정확도는 불균형한 레이블 값 분포에서 분류 모델의 성능을 판단할 경우, 적합한 평가 지표가 아니다.    \n",
    "예를 들어 100개의 데이터가 있고 이 중에 90개의 데이터 레이블이 0, 단 10개의 데이터 레이블이 1이라고 한다면,   \n",
    "무조건 0으로 예측 결과를 찍어도 Accuracy가 90%가 된다. 아무것도 하지 않고 무조건 특정한 결과로 찍어도 높은 정확도 수치가 나타날 수 있다는 것이다.    \n",
    "이렇듯 단순히 Accuracy만으로는 잘못된 평가 결과에 빠질 수 있다.   \n",
    "따라서 이진 분류에서는 정확도 보다는 다른 성능 평가 지표가 더 중요시되는 경우가 많다.  "
   ]
  },
  {
   "cell_type": "raw",
   "metadata": {},
   "source": [
    "True/False: 실제와 예측이 일치하는가?\n",
    "Positive/Negative: 뭘로 예측했는가?\n",
    "TN(True Negative, Negative Negative): 실제는 Negative인데, Negative로 예측함.\n",
    "FP(False Positive, Negative Positive): 실제는 Negative인데, Positive로 예측함.\n",
    "FN(False Negative, Positive Negative): 실제는 Positive인데, Negative로 예측함.\n",
    "TP(True Positive, Positive Positive): 실제는 Positive인데, Positive로 예측함.\n",
    "TN, FP, FN, TP값을 조합해 주요 지표인 정밀도(Precision), 재현율(Recall)값을 계산할 수 있다.   \n",
    "사실은 정확도도 Confusion matrix를 이용해 재정의할 수 있다.  "
   ]
  },
  {
   "cell_type": "code",
   "execution_count": null,
   "metadata": {},
   "outputs": [],
   "source": []
  },
  {
   "cell_type": "code",
   "execution_count": null,
   "metadata": {},
   "outputs": [],
   "source": []
  },
  {
   "cell_type": "markdown",
   "metadata": {},
   "source": [
    "Confusion Matrix(오차 행렬)\n",
    "Confusion Matrix는 이진 분류에서 예측 오류가 얼마인지와 더불어 어떠한 유형의 예측 오류가 발생하고 있는지를 함께 나타내는 지표이다."
   ]
  },
  {
   "cell_type": "code",
   "execution_count": 13,
   "metadata": {},
   "outputs": [
    {
     "data": {
      "text/html": [
       "<img src=\"https://oopy.lazyrockets.com/api/v2/notion/image?src=https%3A%2F%2Fs3-us-west-2.amazonaws.com%2Fsecure.notion-static.com%2Fa7fb3ffc-5c0e-4db5-89c6-021994823e01%2FUntitled.png&blockId=d5474d00-6501-48b7-a9a1-59d5bbb640d8\" width=\"600\"/>"
      ],
      "text/plain": [
       "<IPython.core.display.Image object>"
      ]
     },
     "execution_count": 13,
     "metadata": {},
     "output_type": "execute_result"
    }
   ],
   "source": [
    "from IPython.display import Image\n",
    "Image(url=\"https://oopy.lazyrockets.com/api/v2/notion/image?src=https%3A%2F%2Fs3-us-west-2.amazonaws.com%2Fsecure.notion-static.com%2Fa7fb3ffc-5c0e-4db5-89c6-021994823e01%2FUntitled.png&blockId=d5474d00-6501-48b7-a9a1-59d5bbb640d8\", \n",
    "      width = 600)\n",
    "# 출처 :  https://www.kdnuggets.com/2016/04/regression-correlation-military-tutorial.html/2"
   ]
  },
  {
   "cell_type": "code",
   "execution_count": null,
   "metadata": {},
   "outputs": [],
   "source": []
  },
  {
   "cell_type": "code",
   "execution_count": null,
   "metadata": {},
   "outputs": [],
   "source": []
  },
  {
   "cell_type": "markdown",
   "metadata": {
    "colab_type": "text",
    "id": "BQlMCxrUEQqG"
   },
   "source": [
    "### 9.1 Decision Tree Classifier"
   ]
  },
  {
   "cell_type": "code",
   "execution_count": 14,
   "metadata": {
    "colab": {
     "base_uri": "https://localhost:8080/",
     "height": 392
    },
    "colab_type": "code",
    "id": "of46aj6vEQqJ",
    "outputId": "26f7f708-739a-489b-bb76-b33e0a800362"
   },
   "outputs": [
    {
     "data": {
      "text/html": [
       "<style type=\"text/css\">\n",
       "#T_1e0c6_row10_col0, #T_1e0c6_row10_col1, #T_1e0c6_row10_col2, #T_1e0c6_row10_col3, #T_1e0c6_row10_col4, #T_1e0c6_row10_col5, #T_1e0c6_row10_col6 {\n",
       "  background: yellow;\n",
       "}\n",
       "</style>\n",
       "<table id=\"T_1e0c6\">\n",
       "  <thead>\n",
       "    <tr>\n",
       "      <th class=\"blank level0\" >&nbsp;</th>\n",
       "      <th id=\"T_1e0c6_level0_col0\" class=\"col_heading level0 col0\" >Accuracy</th>\n",
       "      <th id=\"T_1e0c6_level0_col1\" class=\"col_heading level0 col1\" >AUC</th>\n",
       "      <th id=\"T_1e0c6_level0_col2\" class=\"col_heading level0 col2\" >Recall</th>\n",
       "      <th id=\"T_1e0c6_level0_col3\" class=\"col_heading level0 col3\" >Prec.</th>\n",
       "      <th id=\"T_1e0c6_level0_col4\" class=\"col_heading level0 col4\" >F1</th>\n",
       "      <th id=\"T_1e0c6_level0_col5\" class=\"col_heading level0 col5\" >Kappa</th>\n",
       "      <th id=\"T_1e0c6_level0_col6\" class=\"col_heading level0 col6\" >MCC</th>\n",
       "    </tr>\n",
       "    <tr>\n",
       "      <th class=\"index_name level0\" >Fold</th>\n",
       "      <th class=\"blank col0\" >&nbsp;</th>\n",
       "      <th class=\"blank col1\" >&nbsp;</th>\n",
       "      <th class=\"blank col2\" >&nbsp;</th>\n",
       "      <th class=\"blank col3\" >&nbsp;</th>\n",
       "      <th class=\"blank col4\" >&nbsp;</th>\n",
       "      <th class=\"blank col5\" >&nbsp;</th>\n",
       "      <th class=\"blank col6\" >&nbsp;</th>\n",
       "    </tr>\n",
       "  </thead>\n",
       "  <tbody>\n",
       "    <tr>\n",
       "      <th id=\"T_1e0c6_level0_row0\" class=\"row_heading level0 row0\" >0</th>\n",
       "      <td id=\"T_1e0c6_row0_col0\" class=\"data row0 col0\" >0.8177</td>\n",
       "      <td id=\"T_1e0c6_row0_col1\" class=\"data row0 col1\" >0.7475</td>\n",
       "      <td id=\"T_1e0c6_row0_col2\" class=\"data row0 col2\" >0.3095</td>\n",
       "      <td id=\"T_1e0c6_row0_col3\" class=\"data row0 col3\" >0.6835</td>\n",
       "      <td id=\"T_1e0c6_row0_col4\" class=\"data row0 col4\" >0.4260</td>\n",
       "      <td id=\"T_1e0c6_row0_col5\" class=\"data row0 col5\" >0.3355</td>\n",
       "      <td id=\"T_1e0c6_row0_col6\" class=\"data row0 col6\" >0.3728</td>\n",
       "    </tr>\n",
       "    <tr>\n",
       "      <th id=\"T_1e0c6_level0_row1\" class=\"row_heading level0 row1\" >1</th>\n",
       "      <td id=\"T_1e0c6_row1_col0\" class=\"data row1 col0\" >0.8289</td>\n",
       "      <td id=\"T_1e0c6_row1_col1\" class=\"data row1 col1\" >0.7711</td>\n",
       "      <td id=\"T_1e0c6_row1_col2\" class=\"data row1 col2\" >0.3381</td>\n",
       "      <td id=\"T_1e0c6_row1_col3\" class=\"data row1 col3\" >0.7375</td>\n",
       "      <td id=\"T_1e0c6_row1_col4\" class=\"data row1 col4\" >0.4637</td>\n",
       "      <td id=\"T_1e0c6_row1_col5\" class=\"data row1 col5\" >0.3782</td>\n",
       "      <td id=\"T_1e0c6_row1_col6\" class=\"data row1 col6\" >0.4190</td>\n",
       "    </tr>\n",
       "    <tr>\n",
       "      <th id=\"T_1e0c6_level0_row2\" class=\"row_heading level0 row2\" >2</th>\n",
       "      <td id=\"T_1e0c6_row2_col0\" class=\"data row2 col0\" >0.8208</td>\n",
       "      <td id=\"T_1e0c6_row2_col1\" class=\"data row2 col1\" >0.7377</td>\n",
       "      <td id=\"T_1e0c6_row2_col2\" class=\"data row2 col2\" >0.2894</td>\n",
       "      <td id=\"T_1e0c6_row2_col3\" class=\"data row2 col3\" >0.7266</td>\n",
       "      <td id=\"T_1e0c6_row2_col4\" class=\"data row2 col4\" >0.4139</td>\n",
       "      <td id=\"T_1e0c6_row2_col5\" class=\"data row2 col5\" >0.3305</td>\n",
       "      <td id=\"T_1e0c6_row2_col6\" class=\"data row2 col6\" >0.3796</td>\n",
       "    </tr>\n",
       "    <tr>\n",
       "      <th id=\"T_1e0c6_level0_row3\" class=\"row_heading level0 row3\" >3</th>\n",
       "      <td id=\"T_1e0c6_row3_col0\" class=\"data row3 col0\" >0.8252</td>\n",
       "      <td id=\"T_1e0c6_row3_col1\" class=\"data row3 col1\" >0.7580</td>\n",
       "      <td id=\"T_1e0c6_row3_col2\" class=\"data row3 col2\" >0.3152</td>\n",
       "      <td id=\"T_1e0c6_row3_col3\" class=\"data row3 col3\" >0.7333</td>\n",
       "      <td id=\"T_1e0c6_row3_col4\" class=\"data row3 col4\" >0.4409</td>\n",
       "      <td id=\"T_1e0c6_row3_col5\" class=\"data row3 col5\" >0.3563</td>\n",
       "      <td id=\"T_1e0c6_row3_col6\" class=\"data row3 col6\" >0.4010</td>\n",
       "    </tr>\n",
       "    <tr>\n",
       "      <th id=\"T_1e0c6_level0_row4\" class=\"row_heading level0 row4\" >4</th>\n",
       "      <td id=\"T_1e0c6_row4_col0\" class=\"data row4 col0\" >0.8195</td>\n",
       "      <td id=\"T_1e0c6_row4_col1\" class=\"data row4 col1\" >0.7545</td>\n",
       "      <td id=\"T_1e0c6_row4_col2\" class=\"data row4 col2\" >0.3095</td>\n",
       "      <td id=\"T_1e0c6_row4_col3\" class=\"data row4 col3\" >0.6968</td>\n",
       "      <td id=\"T_1e0c6_row4_col4\" class=\"data row4 col4\" >0.4286</td>\n",
       "      <td id=\"T_1e0c6_row4_col5\" class=\"data row4 col5\" >0.3398</td>\n",
       "      <td id=\"T_1e0c6_row4_col6\" class=\"data row4 col6\" >0.3794</td>\n",
       "    </tr>\n",
       "    <tr>\n",
       "      <th id=\"T_1e0c6_level0_row5\" class=\"row_heading level0 row5\" >5</th>\n",
       "      <td id=\"T_1e0c6_row5_col0\" class=\"data row5 col0\" >0.8271</td>\n",
       "      <td id=\"T_1e0c6_row5_col1\" class=\"data row5 col1\" >0.7509</td>\n",
       "      <td id=\"T_1e0c6_row5_col2\" class=\"data row5 col2\" >0.3438</td>\n",
       "      <td id=\"T_1e0c6_row5_col3\" class=\"data row5 col3\" >0.7186</td>\n",
       "      <td id=\"T_1e0c6_row5_col4\" class=\"data row5 col4\" >0.4651</td>\n",
       "      <td id=\"T_1e0c6_row5_col5\" class=\"data row5 col5\" >0.3769</td>\n",
       "      <td id=\"T_1e0c6_row5_col6\" class=\"data row5 col6\" >0.4134</td>\n",
       "    </tr>\n",
       "    <tr>\n",
       "      <th id=\"T_1e0c6_level0_row6\" class=\"row_heading level0 row6\" >6</th>\n",
       "      <td id=\"T_1e0c6_row6_col0\" class=\"data row6 col0\" >0.8195</td>\n",
       "      <td id=\"T_1e0c6_row6_col1\" class=\"data row6 col1\" >0.7488</td>\n",
       "      <td id=\"T_1e0c6_row6_col2\" class=\"data row6 col2\" >0.3123</td>\n",
       "      <td id=\"T_1e0c6_row6_col3\" class=\"data row6 col3\" >0.6943</td>\n",
       "      <td id=\"T_1e0c6_row6_col4\" class=\"data row6 col4\" >0.4308</td>\n",
       "      <td id=\"T_1e0c6_row6_col5\" class=\"data row6 col5\" >0.3415</td>\n",
       "      <td id=\"T_1e0c6_row6_col6\" class=\"data row6 col6\" >0.3801</td>\n",
       "    </tr>\n",
       "    <tr>\n",
       "      <th id=\"T_1e0c6_level0_row7\" class=\"row_heading level0 row7\" >7</th>\n",
       "      <td id=\"T_1e0c6_row7_col0\" class=\"data row7 col0\" >0.8246</td>\n",
       "      <td id=\"T_1e0c6_row7_col1\" class=\"data row7 col1\" >0.7529</td>\n",
       "      <td id=\"T_1e0c6_row7_col2\" class=\"data row7 col2\" >0.2980</td>\n",
       "      <td id=\"T_1e0c6_row7_col3\" class=\"data row7 col3\" >0.7482</td>\n",
       "      <td id=\"T_1e0c6_row7_col4\" class=\"data row7 col4\" >0.4262</td>\n",
       "      <td id=\"T_1e0c6_row7_col5\" class=\"data row7 col5\" >0.3446</td>\n",
       "      <td id=\"T_1e0c6_row7_col6\" class=\"data row7 col6\" >0.3957</td>\n",
       "    </tr>\n",
       "    <tr>\n",
       "      <th id=\"T_1e0c6_level0_row8\" class=\"row_heading level0 row8\" >8</th>\n",
       "      <td id=\"T_1e0c6_row8_col0\" class=\"data row8 col0\" >0.8195</td>\n",
       "      <td id=\"T_1e0c6_row8_col1\" class=\"data row8 col1\" >0.7241</td>\n",
       "      <td id=\"T_1e0c6_row8_col2\" class=\"data row8 col2\" >0.3123</td>\n",
       "      <td id=\"T_1e0c6_row8_col3\" class=\"data row8 col3\" >0.6943</td>\n",
       "      <td id=\"T_1e0c6_row8_col4\" class=\"data row8 col4\" >0.4308</td>\n",
       "      <td id=\"T_1e0c6_row8_col5\" class=\"data row8 col5\" >0.3415</td>\n",
       "      <td id=\"T_1e0c6_row8_col6\" class=\"data row8 col6\" >0.3801</td>\n",
       "    </tr>\n",
       "    <tr>\n",
       "      <th id=\"T_1e0c6_level0_row9\" class=\"row_heading level0 row9\" >9</th>\n",
       "      <td id=\"T_1e0c6_row9_col0\" class=\"data row9 col0\" >0.8188</td>\n",
       "      <td id=\"T_1e0c6_row9_col1\" class=\"data row9 col1\" >0.7378</td>\n",
       "      <td id=\"T_1e0c6_row9_col2\" class=\"data row9 col2\" >0.3075</td>\n",
       "      <td id=\"T_1e0c6_row9_col3\" class=\"data row9 col3\" >0.6903</td>\n",
       "      <td id=\"T_1e0c6_row9_col4\" class=\"data row9 col4\" >0.4254</td>\n",
       "      <td id=\"T_1e0c6_row9_col5\" class=\"data row9 col5\" >0.3362</td>\n",
       "      <td id=\"T_1e0c6_row9_col6\" class=\"data row9 col6\" >0.3751</td>\n",
       "    </tr>\n",
       "    <tr>\n",
       "      <th id=\"T_1e0c6_level0_row10\" class=\"row_heading level0 row10\" >Mean</th>\n",
       "      <td id=\"T_1e0c6_row10_col0\" class=\"data row10 col0\" >0.8222</td>\n",
       "      <td id=\"T_1e0c6_row10_col1\" class=\"data row10 col1\" >0.7483</td>\n",
       "      <td id=\"T_1e0c6_row10_col2\" class=\"data row10 col2\" >0.3136</td>\n",
       "      <td id=\"T_1e0c6_row10_col3\" class=\"data row10 col3\" >0.7123</td>\n",
       "      <td id=\"T_1e0c6_row10_col4\" class=\"data row10 col4\" >0.4352</td>\n",
       "      <td id=\"T_1e0c6_row10_col5\" class=\"data row10 col5\" >0.3481</td>\n",
       "      <td id=\"T_1e0c6_row10_col6\" class=\"data row10 col6\" >0.3896</td>\n",
       "    </tr>\n",
       "    <tr>\n",
       "      <th id=\"T_1e0c6_level0_row11\" class=\"row_heading level0 row11\" >Std</th>\n",
       "      <td id=\"T_1e0c6_row11_col0\" class=\"data row11 col0\" >0.0037</td>\n",
       "      <td id=\"T_1e0c6_row11_col1\" class=\"data row11 col1\" >0.0122</td>\n",
       "      <td id=\"T_1e0c6_row11_col2\" class=\"data row11 col2\" >0.0156</td>\n",
       "      <td id=\"T_1e0c6_row11_col3\" class=\"data row11 col3\" >0.0219</td>\n",
       "      <td id=\"T_1e0c6_row11_col4\" class=\"data row11 col4\" >0.0159</td>\n",
       "      <td id=\"T_1e0c6_row11_col5\" class=\"data row11 col5\" >0.0161</td>\n",
       "      <td id=\"T_1e0c6_row11_col6\" class=\"data row11 col6\" >0.0158</td>\n",
       "    </tr>\n",
       "  </tbody>\n",
       "</table>\n"
      ],
      "text/plain": [
       "<pandas.io.formats.style.Styler at 0x7efe1b5d3eb0>"
      ]
     },
     "metadata": {},
     "output_type": "display_data"
    }
   ],
   "source": [
    "tuned_dt = tune_model(dt)"
   ]
  },
  {
   "cell_type": "code",
   "execution_count": 15,
   "metadata": {
    "colab": {},
    "colab_type": "code",
    "id": "__anDkttEQqV",
    "outputId": "7cf46ace-012a-4131-b8b8-370f9d4a63cb"
   },
   "outputs": [
    {
     "name": "stdout",
     "output_type": "stream",
     "text": [
      "DecisionTreeClassifier(ccp_alpha=0.0, class_weight=None, criterion='entropy',\n",
      "                       max_depth=6, max_features=1.0, max_leaf_nodes=None,\n",
      "                       min_impurity_decrease=0.002, min_impurity_split=None,\n",
      "                       min_samples_leaf=5, min_samples_split=5,\n",
      "                       min_weight_fraction_leaf=0.0, presort='deprecated',\n",
      "                       random_state=123, splitter='best')\n"
     ]
    }
   ],
   "source": [
    "#tuned model object is stored in the variable 'tuned_dt'. \n",
    "print(tuned_dt)"
   ]
  },
  {
   "cell_type": "markdown",
   "metadata": {
    "colab_type": "text",
    "id": "CD-f0delEQqq"
   },
   "source": [
    "### 9.2 K Neighbors Classifier"
   ]
  },
  {
   "cell_type": "code",
   "execution_count": 16,
   "metadata": {
    "colab": {
     "base_uri": "https://localhost:8080/",
     "height": 392
    },
    "colab_type": "code",
    "id": "xN1nYwFXEQqv",
    "outputId": "e4ab669d-bee0-4a9d-f5c7-2ed07ec613b9"
   },
   "outputs": [
    {
     "data": {
      "text/html": [
       "<style type=\"text/css\">\n",
       "#T_dddba_row10_col0, #T_dddba_row10_col1, #T_dddba_row10_col2, #T_dddba_row10_col3, #T_dddba_row10_col4, #T_dddba_row10_col5, #T_dddba_row10_col6 {\n",
       "  background: yellow;\n",
       "}\n",
       "</style>\n",
       "<table id=\"T_dddba\">\n",
       "  <thead>\n",
       "    <tr>\n",
       "      <th class=\"blank level0\" >&nbsp;</th>\n",
       "      <th id=\"T_dddba_level0_col0\" class=\"col_heading level0 col0\" >Accuracy</th>\n",
       "      <th id=\"T_dddba_level0_col1\" class=\"col_heading level0 col1\" >AUC</th>\n",
       "      <th id=\"T_dddba_level0_col2\" class=\"col_heading level0 col2\" >Recall</th>\n",
       "      <th id=\"T_dddba_level0_col3\" class=\"col_heading level0 col3\" >Prec.</th>\n",
       "      <th id=\"T_dddba_level0_col4\" class=\"col_heading level0 col4\" >F1</th>\n",
       "      <th id=\"T_dddba_level0_col5\" class=\"col_heading level0 col5\" >Kappa</th>\n",
       "      <th id=\"T_dddba_level0_col6\" class=\"col_heading level0 col6\" >MCC</th>\n",
       "    </tr>\n",
       "    <tr>\n",
       "      <th class=\"index_name level0\" >Fold</th>\n",
       "      <th class=\"blank col0\" >&nbsp;</th>\n",
       "      <th class=\"blank col1\" >&nbsp;</th>\n",
       "      <th class=\"blank col2\" >&nbsp;</th>\n",
       "      <th class=\"blank col3\" >&nbsp;</th>\n",
       "      <th class=\"blank col4\" >&nbsp;</th>\n",
       "      <th class=\"blank col5\" >&nbsp;</th>\n",
       "      <th class=\"blank col6\" >&nbsp;</th>\n",
       "    </tr>\n",
       "  </thead>\n",
       "  <tbody>\n",
       "    <tr>\n",
       "      <th id=\"T_dddba_level0_row0\" class=\"row_heading level0 row0\" >0</th>\n",
       "      <td id=\"T_dddba_row0_col0\" class=\"data row0 col0\" >0.7813</td>\n",
       "      <td id=\"T_dddba_row0_col1\" class=\"data row0 col1\" >0.6482</td>\n",
       "      <td id=\"T_dddba_row0_col2\" class=\"data row0 col2\" >0.0372</td>\n",
       "      <td id=\"T_dddba_row0_col3\" class=\"data row0 col3\" >0.5000</td>\n",
       "      <td id=\"T_dddba_row0_col4\" class=\"data row0 col4\" >0.0693</td>\n",
       "      <td id=\"T_dddba_row0_col5\" class=\"data row0 col5\" >0.0402</td>\n",
       "      <td id=\"T_dddba_row0_col6\" class=\"data row0 col6\" >0.0876</td>\n",
       "    </tr>\n",
       "    <tr>\n",
       "      <th id=\"T_dddba_level0_row1\" class=\"row_heading level0 row1\" >1</th>\n",
       "      <td id=\"T_dddba_row1_col0\" class=\"data row1 col0\" >0.7807</td>\n",
       "      <td id=\"T_dddba_row1_col1\" class=\"data row1 col1\" >0.6436</td>\n",
       "      <td id=\"T_dddba_row1_col2\" class=\"data row1 col2\" >0.0315</td>\n",
       "      <td id=\"T_dddba_row1_col3\" class=\"data row1 col3\" >0.4783</td>\n",
       "      <td id=\"T_dddba_row1_col4\" class=\"data row1 col4\" >0.0591</td>\n",
       "      <td id=\"T_dddba_row1_col5\" class=\"data row1 col5\" >0.0330</td>\n",
       "      <td id=\"T_dddba_row1_col6\" class=\"data row1 col6\" >0.0759</td>\n",
       "    </tr>\n",
       "    <tr>\n",
       "      <th id=\"T_dddba_level0_row2\" class=\"row_heading level0 row2\" >2</th>\n",
       "      <td id=\"T_dddba_row2_col0\" class=\"data row2 col0\" >0.7744</td>\n",
       "      <td id=\"T_dddba_row2_col1\" class=\"data row2 col1\" >0.6563</td>\n",
       "      <td id=\"T_dddba_row2_col2\" class=\"data row2 col2\" >0.0315</td>\n",
       "      <td id=\"T_dddba_row2_col3\" class=\"data row2 col3\" >0.3333</td>\n",
       "      <td id=\"T_dddba_row2_col4\" class=\"data row2 col4\" >0.0576</td>\n",
       "      <td id=\"T_dddba_row2_col5\" class=\"data row2 col5\" >0.0206</td>\n",
       "      <td id=\"T_dddba_row2_col6\" class=\"data row2 col6\" >0.0403</td>\n",
       "    </tr>\n",
       "    <tr>\n",
       "      <th id=\"T_dddba_level0_row3\" class=\"row_heading level0 row3\" >3</th>\n",
       "      <td id=\"T_dddba_row3_col0\" class=\"data row3 col0\" >0.7845</td>\n",
       "      <td id=\"T_dddba_row3_col1\" class=\"data row3 col1\" >0.6589</td>\n",
       "      <td id=\"T_dddba_row3_col2\" class=\"data row3 col2\" >0.0659</td>\n",
       "      <td id=\"T_dddba_row3_col3\" class=\"data row3 col3\" >0.5610</td>\n",
       "      <td id=\"T_dddba_row3_col4\" class=\"data row3 col4\" >0.1179</td>\n",
       "      <td id=\"T_dddba_row3_col5\" class=\"data row3 col5\" >0.0754</td>\n",
       "      <td id=\"T_dddba_row3_col6\" class=\"data row3 col6\" >0.1345</td>\n",
       "    </tr>\n",
       "    <tr>\n",
       "      <th id=\"T_dddba_level0_row4\" class=\"row_heading level0 row4\" >4</th>\n",
       "      <td id=\"T_dddba_row4_col0\" class=\"data row4 col0\" >0.7826</td>\n",
       "      <td id=\"T_dddba_row4_col1\" class=\"data row4 col1\" >0.6645</td>\n",
       "      <td id=\"T_dddba_row4_col2\" class=\"data row4 col2\" >0.0315</td>\n",
       "      <td id=\"T_dddba_row4_col3\" class=\"data row4 col3\" >0.5500</td>\n",
       "      <td id=\"T_dddba_row4_col4\" class=\"data row4 col4\" >0.0596</td>\n",
       "      <td id=\"T_dddba_row4_col5\" class=\"data row4 col5\" >0.0368</td>\n",
       "      <td id=\"T_dddba_row4_col6\" class=\"data row4 col6\" >0.0903</td>\n",
       "    </tr>\n",
       "    <tr>\n",
       "      <th id=\"T_dddba_level0_row5\" class=\"row_heading level0 row5\" >5</th>\n",
       "      <td id=\"T_dddba_row5_col0\" class=\"data row5 col0\" >0.7794</td>\n",
       "      <td id=\"T_dddba_row5_col1\" class=\"data row5 col1\" >0.6477</td>\n",
       "      <td id=\"T_dddba_row5_col2\" class=\"data row5 col2\" >0.0544</td>\n",
       "      <td id=\"T_dddba_row5_col3\" class=\"data row5 col3\" >0.4634</td>\n",
       "      <td id=\"T_dddba_row5_col4\" class=\"data row5 col4\" >0.0974</td>\n",
       "      <td id=\"T_dddba_row5_col5\" class=\"data row5 col5\" >0.0539</td>\n",
       "      <td id=\"T_dddba_row5_col6\" class=\"data row5 col6\" >0.0961</td>\n",
       "    </tr>\n",
       "    <tr>\n",
       "      <th id=\"T_dddba_level0_row6\" class=\"row_heading level0 row6\" >6</th>\n",
       "      <td id=\"T_dddba_row6_col0\" class=\"data row6 col0\" >0.7826</td>\n",
       "      <td id=\"T_dddba_row6_col1\" class=\"data row6 col1\" >0.6278</td>\n",
       "      <td id=\"T_dddba_row6_col2\" class=\"data row6 col2\" >0.0630</td>\n",
       "      <td id=\"T_dddba_row6_col3\" class=\"data row6 col3\" >0.5238</td>\n",
       "      <td id=\"T_dddba_row6_col4\" class=\"data row6 col4\" >0.1125</td>\n",
       "      <td id=\"T_dddba_row6_col5\" class=\"data row6 col5\" >0.0688</td>\n",
       "      <td id=\"T_dddba_row6_col6\" class=\"data row6 col6\" >0.1214</td>\n",
       "    </tr>\n",
       "    <tr>\n",
       "      <th id=\"T_dddba_level0_row7\" class=\"row_heading level0 row7\" >7</th>\n",
       "      <td id=\"T_dddba_row7_col0\" class=\"data row7 col0\" >0.7751</td>\n",
       "      <td id=\"T_dddba_row7_col1\" class=\"data row7 col1\" >0.6702</td>\n",
       "      <td id=\"T_dddba_row7_col2\" class=\"data row7 col2\" >0.0372</td>\n",
       "      <td id=\"T_dddba_row7_col3\" class=\"data row7 col3\" >0.3611</td>\n",
       "      <td id=\"T_dddba_row7_col4\" class=\"data row7 col4\" >0.0675</td>\n",
       "      <td id=\"T_dddba_row7_col5\" class=\"data row7 col5\" >0.0278</td>\n",
       "      <td id=\"T_dddba_row7_col6\" class=\"data row7 col6\" >0.0523</td>\n",
       "    </tr>\n",
       "    <tr>\n",
       "      <th id=\"T_dddba_level0_row8\" class=\"row_heading level0 row8\" >8</th>\n",
       "      <td id=\"T_dddba_row8_col0\" class=\"data row8 col0\" >0.7813</td>\n",
       "      <td id=\"T_dddba_row8_col1\" class=\"data row8 col1\" >0.6409</td>\n",
       "      <td id=\"T_dddba_row8_col2\" class=\"data row8 col2\" >0.0630</td>\n",
       "      <td id=\"T_dddba_row8_col3\" class=\"data row8 col3\" >0.5000</td>\n",
       "      <td id=\"T_dddba_row8_col4\" class=\"data row8 col4\" >0.1120</td>\n",
       "      <td id=\"T_dddba_row8_col5\" class=\"data row8 col5\" >0.0662</td>\n",
       "      <td id=\"T_dddba_row8_col6\" class=\"data row8 col6\" >0.1146</td>\n",
       "    </tr>\n",
       "    <tr>\n",
       "      <th id=\"T_dddba_level0_row9\" class=\"row_heading level0 row9\" >9</th>\n",
       "      <td id=\"T_dddba_row9_col0\" class=\"data row9 col0\" >0.7881</td>\n",
       "      <td id=\"T_dddba_row9_col1\" class=\"data row9 col1\" >0.6426</td>\n",
       "      <td id=\"T_dddba_row9_col2\" class=\"data row9 col2\" >0.0661</td>\n",
       "      <td id=\"T_dddba_row9_col3\" class=\"data row9 col3\" >0.6389</td>\n",
       "      <td id=\"T_dddba_row9_col4\" class=\"data row9 col4\" >0.1198</td>\n",
       "      <td id=\"T_dddba_row9_col5\" class=\"data row9 col5\" >0.0822</td>\n",
       "      <td id=\"T_dddba_row9_col6\" class=\"data row9 col6\" >0.1548</td>\n",
       "    </tr>\n",
       "    <tr>\n",
       "      <th id=\"T_dddba_level0_row10\" class=\"row_heading level0 row10\" >Mean</th>\n",
       "      <td id=\"T_dddba_row10_col0\" class=\"data row10 col0\" >0.7810</td>\n",
       "      <td id=\"T_dddba_row10_col1\" class=\"data row10 col1\" >0.6501</td>\n",
       "      <td id=\"T_dddba_row10_col2\" class=\"data row10 col2\" >0.0482</td>\n",
       "      <td id=\"T_dddba_row10_col3\" class=\"data row10 col3\" >0.4910</td>\n",
       "      <td id=\"T_dddba_row10_col4\" class=\"data row10 col4\" >0.0873</td>\n",
       "      <td id=\"T_dddba_row10_col5\" class=\"data row10 col5\" >0.0505</td>\n",
       "      <td id=\"T_dddba_row10_col6\" class=\"data row10 col6\" >0.0968</td>\n",
       "    </tr>\n",
       "    <tr>\n",
       "      <th id=\"T_dddba_level0_row11\" class=\"row_heading level0 row11\" >Std</th>\n",
       "      <td id=\"T_dddba_row11_col0\" class=\"data row11 col0\" >0.0039</td>\n",
       "      <td id=\"T_dddba_row11_col1\" class=\"data row11 col1\" >0.0119</td>\n",
       "      <td id=\"T_dddba_row11_col2\" class=\"data row11 col2\" >0.0148</td>\n",
       "      <td id=\"T_dddba_row11_col3\" class=\"data row11 col3\" >0.0861</td>\n",
       "      <td id=\"T_dddba_row11_col4\" class=\"data row11 col4\" >0.0255</td>\n",
       "      <td id=\"T_dddba_row11_col5\" class=\"data row11 col5\" >0.0206</td>\n",
       "      <td id=\"T_dddba_row11_col6\" class=\"data row11 col6\" >0.0338</td>\n",
       "    </tr>\n",
       "  </tbody>\n",
       "</table>\n"
      ],
      "text/plain": [
       "<pandas.io.formats.style.Styler at 0x7efe271d1d00>"
      ]
     },
     "metadata": {},
     "output_type": "display_data"
    }
   ],
   "source": [
    "import numpy as np\n",
    "tuned_knn = tune_model(knn, custom_grid = {'n_neighbors' : np.arange(0,50,1)})"
   ]
  },
  {
   "cell_type": "code",
   "execution_count": 17,
   "metadata": {},
   "outputs": [
    {
     "name": "stdout",
     "output_type": "stream",
     "text": [
      "KNeighborsClassifier(algorithm='auto', leaf_size=30, metric='minkowski',\n",
      "                     metric_params=None, n_jobs=-1, n_neighbors=42, p=2,\n",
      "                     weights='uniform')\n"
     ]
    }
   ],
   "source": [
    "print(tuned_knn)"
   ]
  },
  {
   "cell_type": "markdown",
   "metadata": {
    "colab_type": "text",
    "id": "KO3zIfs-EQrA"
   },
   "source": [
    "### 9.3 Random Forest Classifier"
   ]
  },
  {
   "cell_type": "code",
   "execution_count": 18,
   "metadata": {
    "colab": {
     "base_uri": "https://localhost:8080/",
     "height": 392
    },
    "colab_type": "code",
    "id": "gmaIfnBMEQrE",
    "outputId": "a59cebfa-f81e-477c-f83c-e9443fd80b0f"
   },
   "outputs": [
    {
     "data": {
      "text/html": [
       "<style type=\"text/css\">\n",
       "#T_d95e8_row10_col0, #T_d95e8_row10_col1, #T_d95e8_row10_col2, #T_d95e8_row10_col3, #T_d95e8_row10_col4, #T_d95e8_row10_col5, #T_d95e8_row10_col6 {\n",
       "  background: yellow;\n",
       "}\n",
       "</style>\n",
       "<table id=\"T_d95e8\">\n",
       "  <thead>\n",
       "    <tr>\n",
       "      <th class=\"blank level0\" >&nbsp;</th>\n",
       "      <th id=\"T_d95e8_level0_col0\" class=\"col_heading level0 col0\" >Accuracy</th>\n",
       "      <th id=\"T_d95e8_level0_col1\" class=\"col_heading level0 col1\" >AUC</th>\n",
       "      <th id=\"T_d95e8_level0_col2\" class=\"col_heading level0 col2\" >Recall</th>\n",
       "      <th id=\"T_d95e8_level0_col3\" class=\"col_heading level0 col3\" >Prec.</th>\n",
       "      <th id=\"T_d95e8_level0_col4\" class=\"col_heading level0 col4\" >F1</th>\n",
       "      <th id=\"T_d95e8_level0_col5\" class=\"col_heading level0 col5\" >Kappa</th>\n",
       "      <th id=\"T_d95e8_level0_col6\" class=\"col_heading level0 col6\" >MCC</th>\n",
       "    </tr>\n",
       "    <tr>\n",
       "      <th class=\"index_name level0\" >Fold</th>\n",
       "      <th class=\"blank col0\" >&nbsp;</th>\n",
       "      <th class=\"blank col1\" >&nbsp;</th>\n",
       "      <th class=\"blank col2\" >&nbsp;</th>\n",
       "      <th class=\"blank col3\" >&nbsp;</th>\n",
       "      <th class=\"blank col4\" >&nbsp;</th>\n",
       "      <th class=\"blank col5\" >&nbsp;</th>\n",
       "      <th class=\"blank col6\" >&nbsp;</th>\n",
       "    </tr>\n",
       "  </thead>\n",
       "  <tbody>\n",
       "    <tr>\n",
       "      <th id=\"T_d95e8_level0_row0\" class=\"row_heading level0 row0\" >0</th>\n",
       "      <td id=\"T_d95e8_row0_col0\" class=\"data row0 col0\" >0.8158</td>\n",
       "      <td id=\"T_d95e8_row0_col1\" class=\"data row0 col1\" >0.7508</td>\n",
       "      <td id=\"T_d95e8_row0_col2\" class=\"data row0 col2\" >0.3181</td>\n",
       "      <td id=\"T_d95e8_row0_col3\" class=\"data row0 col3\" >0.6647</td>\n",
       "      <td id=\"T_d95e8_row0_col4\" class=\"data row0 col4\" >0.4302</td>\n",
       "      <td id=\"T_d95e8_row0_col5\" class=\"data row0 col5\" >0.3363</td>\n",
       "      <td id=\"T_d95e8_row0_col6\" class=\"data row0 col6\" >0.3689</td>\n",
       "    </tr>\n",
       "    <tr>\n",
       "      <th id=\"T_d95e8_level0_row1\" class=\"row_heading level0 row1\" >1</th>\n",
       "      <td id=\"T_d95e8_row1_col0\" class=\"data row1 col0\" >0.8283</td>\n",
       "      <td id=\"T_d95e8_row1_col1\" class=\"data row1 col1\" >0.7675</td>\n",
       "      <td id=\"T_d95e8_row1_col2\" class=\"data row1 col2\" >0.3295</td>\n",
       "      <td id=\"T_d95e8_row1_col3\" class=\"data row1 col3\" >0.7419</td>\n",
       "      <td id=\"T_d95e8_row1_col4\" class=\"data row1 col4\" >0.4563</td>\n",
       "      <td id=\"T_d95e8_row1_col5\" class=\"data row1 col5\" >0.3719</td>\n",
       "      <td id=\"T_d95e8_row1_col6\" class=\"data row1 col6\" >0.4152</td>\n",
       "    </tr>\n",
       "    <tr>\n",
       "      <th id=\"T_d95e8_level0_row2\" class=\"row_heading level0 row2\" >2</th>\n",
       "      <td id=\"T_d95e8_row2_col0\" class=\"data row2 col0\" >0.8139</td>\n",
       "      <td id=\"T_d95e8_row2_col1\" class=\"data row2 col1\" >0.7337</td>\n",
       "      <td id=\"T_d95e8_row2_col2\" class=\"data row2 col2\" >0.3181</td>\n",
       "      <td id=\"T_d95e8_row2_col3\" class=\"data row2 col3\" >0.6529</td>\n",
       "      <td id=\"T_d95e8_row2_col4\" class=\"data row2 col4\" >0.4277</td>\n",
       "      <td id=\"T_d95e8_row2_col5\" class=\"data row2 col5\" >0.3321</td>\n",
       "      <td id=\"T_d95e8_row2_col6\" class=\"data row2 col6\" >0.3628</td>\n",
       "    </tr>\n",
       "    <tr>\n",
       "      <th id=\"T_d95e8_level0_row3\" class=\"row_heading level0 row3\" >3</th>\n",
       "      <td id=\"T_d95e8_row3_col0\" class=\"data row3 col0\" >0.8246</td>\n",
       "      <td id=\"T_d95e8_row3_col1\" class=\"data row3 col1\" >0.7588</td>\n",
       "      <td id=\"T_d95e8_row3_col2\" class=\"data row3 col2\" >0.3095</td>\n",
       "      <td id=\"T_d95e8_row3_col3\" class=\"data row3 col3\" >0.7347</td>\n",
       "      <td id=\"T_d95e8_row3_col4\" class=\"data row3 col4\" >0.4355</td>\n",
       "      <td id=\"T_d95e8_row3_col5\" class=\"data row3 col5\" >0.3514</td>\n",
       "      <td id=\"T_d95e8_row3_col6\" class=\"data row3 col6\" >0.3976</td>\n",
       "    </tr>\n",
       "    <tr>\n",
       "      <th id=\"T_d95e8_level0_row4\" class=\"row_heading level0 row4\" >4</th>\n",
       "      <td id=\"T_d95e8_row4_col0\" class=\"data row4 col0\" >0.8170</td>\n",
       "      <td id=\"T_d95e8_row4_col1\" class=\"data row4 col1\" >0.7567</td>\n",
       "      <td id=\"T_d95e8_row4_col2\" class=\"data row4 col2\" >0.3438</td>\n",
       "      <td id=\"T_d95e8_row4_col3\" class=\"data row4 col3\" >0.6557</td>\n",
       "      <td id=\"T_d95e8_row4_col4\" class=\"data row4 col4\" >0.4511</td>\n",
       "      <td id=\"T_d95e8_row4_col5\" class=\"data row4 col5\" >0.3539</td>\n",
       "      <td id=\"T_d95e8_row4_col6\" class=\"data row4 col6\" >0.3805</td>\n",
       "    </tr>\n",
       "    <tr>\n",
       "      <th id=\"T_d95e8_level0_row5\" class=\"row_heading level0 row5\" >5</th>\n",
       "      <td id=\"T_d95e8_row5_col0\" class=\"data row5 col0\" >0.8258</td>\n",
       "      <td id=\"T_d95e8_row5_col1\" class=\"data row5 col1\" >0.7506</td>\n",
       "      <td id=\"T_d95e8_row5_col2\" class=\"data row5 col2\" >0.3324</td>\n",
       "      <td id=\"T_d95e8_row5_col3\" class=\"data row5 col3\" >0.7205</td>\n",
       "      <td id=\"T_d95e8_row5_col4\" class=\"data row5 col4\" >0.4549</td>\n",
       "      <td id=\"T_d95e8_row5_col5\" class=\"data row5 col5\" >0.3676</td>\n",
       "      <td id=\"T_d95e8_row5_col6\" class=\"data row5 col6\" >0.4067</td>\n",
       "    </tr>\n",
       "    <tr>\n",
       "      <th id=\"T_d95e8_level0_row6\" class=\"row_heading level0 row6\" >6</th>\n",
       "      <td id=\"T_d95e8_row6_col0\" class=\"data row6 col0\" >0.8170</td>\n",
       "      <td id=\"T_d95e8_row6_col1\" class=\"data row6 col1\" >0.7530</td>\n",
       "      <td id=\"T_d95e8_row6_col2\" class=\"data row6 col2\" >0.3324</td>\n",
       "      <td id=\"T_d95e8_row6_col3\" class=\"data row6 col3\" >0.6629</td>\n",
       "      <td id=\"T_d95e8_row6_col4\" class=\"data row6 col4\" >0.4427</td>\n",
       "      <td id=\"T_d95e8_row6_col5\" class=\"data row6 col5\" >0.3474</td>\n",
       "      <td id=\"T_d95e8_row6_col6\" class=\"data row6 col6\" >0.3771</td>\n",
       "    </tr>\n",
       "    <tr>\n",
       "      <th id=\"T_d95e8_level0_row7\" class=\"row_heading level0 row7\" >7</th>\n",
       "      <td id=\"T_d95e8_row7_col0\" class=\"data row7 col0\" >0.8221</td>\n",
       "      <td id=\"T_d95e8_row7_col1\" class=\"data row7 col1\" >0.7507</td>\n",
       "      <td id=\"T_d95e8_row7_col2\" class=\"data row7 col2\" >0.3381</td>\n",
       "      <td id=\"T_d95e8_row7_col3\" class=\"data row7 col3\" >0.6901</td>\n",
       "      <td id=\"T_d95e8_row7_col4\" class=\"data row7 col4\" >0.4538</td>\n",
       "      <td id=\"T_d95e8_row7_col5\" class=\"data row7 col5\" >0.3621</td>\n",
       "      <td id=\"T_d95e8_row7_col6\" class=\"data row7 col6\" >0.3951</td>\n",
       "    </tr>\n",
       "    <tr>\n",
       "      <th id=\"T_d95e8_level0_row8\" class=\"row_heading level0 row8\" >8</th>\n",
       "      <td id=\"T_d95e8_row8_col0\" class=\"data row8 col0\" >0.8177</td>\n",
       "      <td id=\"T_d95e8_row8_col1\" class=\"data row8 col1\" >0.7201</td>\n",
       "      <td id=\"T_d95e8_row8_col2\" class=\"data row8 col2\" >0.2980</td>\n",
       "      <td id=\"T_d95e8_row8_col3\" class=\"data row8 col3\" >0.6933</td>\n",
       "      <td id=\"T_d95e8_row8_col4\" class=\"data row8 col4\" >0.4168</td>\n",
       "      <td id=\"T_d95e8_row8_col5\" class=\"data row8 col5\" >0.3286</td>\n",
       "      <td id=\"T_d95e8_row8_col6\" class=\"data row8 col6\" >0.3699</td>\n",
       "    </tr>\n",
       "    <tr>\n",
       "      <th id=\"T_d95e8_level0_row9\" class=\"row_heading level0 row9\" >9</th>\n",
       "      <td id=\"T_d95e8_row9_col0\" class=\"data row9 col0\" >0.8207</td>\n",
       "      <td id=\"T_d95e8_row9_col1\" class=\"data row9 col1\" >0.7484</td>\n",
       "      <td id=\"T_d95e8_row9_col2\" class=\"data row9 col2\" >0.3132</td>\n",
       "      <td id=\"T_d95e8_row9_col3\" class=\"data row9 col3\" >0.6987</td>\n",
       "      <td id=\"T_d95e8_row9_col4\" class=\"data row9 col4\" >0.4325</td>\n",
       "      <td id=\"T_d95e8_row9_col5\" class=\"data row9 col5\" >0.3439</td>\n",
       "      <td id=\"T_d95e8_row9_col6\" class=\"data row9 col6\" >0.3831</td>\n",
       "    </tr>\n",
       "    <tr>\n",
       "      <th id=\"T_d95e8_level0_row10\" class=\"row_heading level0 row10\" >Mean</th>\n",
       "      <td id=\"T_d95e8_row10_col0\" class=\"data row10 col0\" >0.8203</td>\n",
       "      <td id=\"T_d95e8_row10_col1\" class=\"data row10 col1\" >0.7490</td>\n",
       "      <td id=\"T_d95e8_row10_col2\" class=\"data row10 col2\" >0.3233</td>\n",
       "      <td id=\"T_d95e8_row10_col3\" class=\"data row10 col3\" >0.6915</td>\n",
       "      <td id=\"T_d95e8_row10_col4\" class=\"data row10 col4\" >0.4402</td>\n",
       "      <td id=\"T_d95e8_row10_col5\" class=\"data row10 col5\" >0.3495</td>\n",
       "      <td id=\"T_d95e8_row10_col6\" class=\"data row10 col6\" >0.3857</td>\n",
       "    </tr>\n",
       "    <tr>\n",
       "      <th id=\"T_d95e8_level0_row11\" class=\"row_heading level0 row11\" >Std</th>\n",
       "      <td id=\"T_d95e8_row11_col0\" class=\"data row11 col0\" >0.0045</td>\n",
       "      <td id=\"T_d95e8_row11_col1\" class=\"data row11 col1\" >0.0126</td>\n",
       "      <td id=\"T_d95e8_row11_col2\" class=\"data row11 col2\" >0.0135</td>\n",
       "      <td id=\"T_d95e8_row11_col3\" class=\"data row11 col3\" >0.0310</td>\n",
       "      <td id=\"T_d95e8_row11_col4\" class=\"data row11 col4\" >0.0129</td>\n",
       "      <td id=\"T_d95e8_row11_col5\" class=\"data row11 col5\" >0.0140</td>\n",
       "      <td id=\"T_d95e8_row11_col6\" class=\"data row11 col6\" >0.0165</td>\n",
       "    </tr>\n",
       "  </tbody>\n",
       "</table>\n"
      ],
      "text/plain": [
       "<pandas.io.formats.style.Styler at 0x7efe1b1160d0>"
      ]
     },
     "metadata": {},
     "output_type": "display_data"
    }
   ],
   "source": [
    "tuned_rf = tune_model(rf)"
   ]
  },
  {
   "cell_type": "markdown",
   "metadata": {
    "colab_type": "text",
    "id": "IqxEZRi1EQrO"
   },
   "source": [
    "기본적으로 tune_model은 Accuracy를 최적화하지만 optimize 매개 변수를 사용하여 변경할 수 있습니다.    \n",
    "예를 들어, tune_model(tune_model, optimize = 'AUC')은 Accuracy 대신 가장 높은 AUC를 생성하는 Decision Tree Classifier의 하이퍼 파라미터를 검색합니다.   \n",
    "이 예에서는 단순성을 위해 기본 메트릭 정확도를 사용했습니다.     \n",
    "일반적으로 데이터 세트가 불균형한 경우(예: 우리가 작업 중인 신용 데이터 세트) 정확도는 고려하기에 좋은 지표가 아니다.    \n",
    "분류기를 평가할 올바른 메트릭을 선택하는 방법은 이 튜토리얼의 범위를 벗어나지만,     \n",
    "분류기에 대해 자세히 알아보려면 여기를 [클릭](https://medium.com/@MohammedS/performance-metrics-for-classification-problems-in-machine-learning-part-i-b085d432082b)하여 올바른 평가 메트릭을 선택하는 방법에 대한 기사를 읽을 수 있습니다.    \n",
    "\n",
    "최적의 생산 모델을 완성할 때 고려해야 할 기준은 메트릭 뿐인 것은 아니다.    \n",
    "고려해야 할 다른 요인으로는 훈련 시간, k폴드의 표준 편차 등이 있습니다.       \n",
    "튜토리얼 시리즈를 진행하면서 중간 및 전문가 수준에서 이러한 요소에 대해 자세히 설명합니다.       \n",
    "현재 이 튜토리얼의 나머지 부분에서는 Tuned Random Forest Classifier tuned_rf를 최고의 모델로 고려하여 진행하겠습니다.  "
   ]
  },
  {
   "cell_type": "markdown",
   "metadata": {
    "colab_type": "text",
    "id": "IqxEZRi1EQrO"
   },
   "source": [
    "By default, `tune_model` optimizes `Accuracy` but this can be changed using `optimize` parameter. For example: `tune_model(dt, optimize = 'AUC')` will search for the hyperparameters of a Decision Tree Classifier that results in the highest `AUC` instead of `Accuracy`.      \n",
    "For the purposes of this example, we have used the default metric `Accuracy` only for the sake of simplicity.    \n",
    "Generally, when the dataset is imbalanced (such as the credit dataset we are working with) `Accuracy` is not a good metric for consideration.    \n",
    "The methodology behind selecting the right metric to evaluate a classifier is beyond the scope of this tutorial but if you would like to learn more about it, you can __[click here](https://medium.com/@MohammedS/performance-metrics-for-classification-problems-in-machine-learning-part-i-b085d432082b)__ to read an article on how to choose the right evaluation metric.\n",
    "\n",
    "Metrics alone are not the only criteria you should consider when finalizing the best model for production. Other factors to consider include training time, standard deviation of kfolds etc. As you progress through the tutorial series we will discuss those factors in detail at the intermediate and expert levels. For now, let's move forward considering the Tuned Random Forest Classifier `tuned_rf`, as our best model for the remainder of this tutorial."
   ]
  },
  {
   "cell_type": "markdown",
   "metadata": {
    "colab_type": "text",
    "id": "w_P46O0jEQrT"
   },
   "source": [
    "# 10.0 Plot a Model"
   ]
  },
  {
   "cell_type": "markdown",
   "metadata": {
    "colab_type": "text",
    "id": "FGM9GOtjEQrV"
   },
   "source": [
    "모델을 완성하기 전에 `plot_model()`함수를 사용하여 AUC, confusion_matrix, 의사 결정 경계 등과 같은 다양한 측면에 걸친 성능을 분석할 수 있다.   \n",
    "이 함수는 훈련된 모델 객체를 사용하고 테스트/홀드아웃 집합을 기반으로 그래프를 반환합니다.\n",
    "\n",
    "사용할 수 있는 플롯은 15개입니다. 사용 가능한 플롯 목록은 plot_model() docstring을 참조하십시오."
   ]
  },
  {
   "cell_type": "markdown",
   "metadata": {
    "colab_type": "text",
    "id": "FGM9GOtjEQrV"
   },
   "source": [
    "Before model finalization, the `plot_model()` function can be used to analyze the performance across different aspects such as AUC, confusion_matrix, decision boundary etc. This function takes a trained model object and returns a plot based on the test / hold-out set. \n",
    "\n",
    "There are 15 different plots available, please see the `plot_model()` docstring for the list of available plots."
   ]
  },
  {
   "cell_type": "markdown",
   "metadata": {
    "colab_type": "text",
    "id": "euqkQYJaEQrY"
   },
   "source": [
    "### 10.1 AUC Plot"
   ]
  },
  {
   "cell_type": "code",
   "execution_count": 19,
   "metadata": {
    "colab": {},
    "colab_type": "code",
    "id": "RLbLqvkHEQra",
    "outputId": "fe40b5e3-6375-43e8-e97d-1d487e02eb2d"
   },
   "outputs": [
    {
     "name": "stderr",
     "output_type": "stream",
     "text": [
      "findfont: Font family ['sans-serif'] not found. Falling back to DejaVu Sans.\n",
      "findfont: Generic family 'sans-serif' not found because none of the following families were found: Arial, Liberation Sans, Bitstream Vera Sans, sans-serif\n",
      "findfont: Font family ['sans-serif'] not found. Falling back to DejaVu Sans.\n",
      "findfont: Generic family 'sans-serif' not found because none of the following families were found: Arial, Liberation Sans, Bitstream Vera Sans, sans-serif\n",
      "findfont: Font family ['sans-serif'] not found. Falling back to DejaVu Sans.\n",
      "findfont: Generic family 'sans-serif' not found because none of the following families were found: Arial, Liberation Sans, Bitstream Vera Sans, sans-serif\n"
     ]
    },
    {
     "data": {
      "image/png": "[encoded data removed]",
      "text/plain": [
       "<Figure size 432x288 with 1 Axes>"
      ]
     },
     "metadata": {
      "needs_background": "light"
     },
     "output_type": "display_data"
    }
   ],
   "source": [
    "plot_model(tuned_rf, plot = 'auc')"
   ]
  },
  {
   "cell_type": "code",
   "execution_count": 20,
   "metadata": {},
   "outputs": [],
   "source": [
    "%config InlineBackend.figure_format = 'svg'"
   ]
  },
  {
   "cell_type": "code",
   "execution_count": 21,
   "metadata": {
    "colab": {},
    "colab_type": "code",
    "id": "RLbLqvkHEQra",
    "outputId": "fe40b5e3-6375-43e8-e97d-1d487e02eb2d"
   },
   "outputs": [
    {
     "data": {
      "image/svg+xml": "<?xml version=\"1.0\" encoding=\"utf-8\" standalone=\"no\"?>\n<!DOCTYPE svg PUBLIC \"-//W3C//DTD SVG 1.1//EN\"\n  \"http://www.w3.org/Graphics/SVG/1.1/DTD/svg11.dtd\">\n<svg xmlns:xlink=\"http://www.w3.org/1999/xlink\" width=\"394.700625pt\" height=\"278.282188pt\" viewBox=\"0 0 394.700625 278.282188\" xmlns=\"http://www.w3.org/2000/svg\" version=\"1.1\">\n <metadata>\n  <rdf:RDF xmlns:dc=\"http://purl.org/dc/elements/1.1/\" xmlns:cc=\"http://creativecommons.org/ns#\" xmlns:rdf=\"http://www.w3.org/1999/02/22-rdf-syntax-ns#\">\n   <cc:Work>\n    <dc:type rdf:resource=\"http://purl.org/dc/dcmitype/StillImage\"/>\n    <dc:date>2022-05-22T21:46:48.661361</dc:date>\n    <dc:format>image/svg+xml</dc:format>\n    <dc:creator>\n     <cc:Agent>\n      <dc:title>Matplotlib v3.5.2, https://matplotlib.org/</dc:title>\n     </cc:Agent>\n    </dc:creator>\n   </cc:Work>\n  </rdf:RDF>\n </metadata>\n <defs>\n  <style type=\"text/css\">*{stroke-linejoin: round; stroke-linecap: butt}</style>\n </defs>\n <g id=\"figure_1\">\n  <g id=\"patch_1\">\n   <path d=\"M 0 278.282188 \nL 394.700625 278.282188 \nL 394.700625 0 \nL 0 0 \nL 0 278.282188 \nz\n\" style=\"fill: none\"/>\n  </g>\n  <g id=\"axes_1\">\n   <g id=\"patch_2\">\n    <path d=\"M 44.749063 239.758125 \nL 379.549062 239.758125 \nL 379.549062 22.318125 \nL 44.749063 22.318125 \nz\n\" style=\"fill: #ffffff\"/>\n   </g>\n   <g id=\"matplotlib.axis_1\">\n    <g id=\"xtick_1\">\n     <g id=\"line2d_1\">\n      <path d=\"M 44.749063 239.758125 \nL 44.749063 22.318125 \n\" clip-path=\"url(#pd3e944079f)\" style=\"fill: none; stroke: #cccccc; stroke-linecap: round\"/>\n     </g>\n     <g id=\"line2d_2\"/>\n     <g id=\"text_1\">\n      <!-- 0.0 -->\n      <g style=\"fill: #262626\" transform=\"translate(36.7975 254.356563)scale(0.1 -0.1)\">\n       <defs>\n        <path id=\"DejaVuSans-30\" d=\"M 2034 4250 \nQ 1547 4250 1301 3770 \nQ 1056 3291 1056 2328 \nQ 1056 1369 1301 889 \nQ 1547 409 2034 409 \nQ 2525 409 2770 889 \nQ 3016 1369 3016 2328 \nQ 3016 3291 2770 3770 \nQ 2525 4250 2034 4250 \nz\nM 2034 4750 \nQ 2819 4750 3233 4129 \nQ 3647 3509 3647 2328 \nQ 3647 1150 3233 529 \nQ 2819 -91 2034 -91 \nQ 1250 -91 836 529 \nQ 422 1150 422 2328 \nQ 422 3509 836 4129 \nQ 1250 4750 2034 4750 \nz\n\" transform=\"scale(0.015625)\"/>\n        <path id=\"DejaVuSans-2e\" d=\"M 684 794 \nL 1344 794 \nL 1344 0 \nL 684 0 \nL 684 794 \nz\n\" transform=\"scale(0.015625)\"/>\n       </defs>\n       <use xlink:href=\"#DejaVuSans-30\"/>\n       <use xlink:href=\"#DejaVuSans-2e\" x=\"63.623047\"/>\n       <use xlink:href=\"#DejaVuSans-30\" x=\"95.410156\"/>\n      </g>\n     </g>\n    </g>\n    <g id=\"xtick_2\">\n     <g id=\"line2d_3\">\n      <path d=\"M 111.709063 239.758125 \nL 111.709063 22.318125 \n\" clip-path=\"url(#pd3e944079f)\" style=\"fill: none; stroke: #cccccc; stroke-linecap: round\"/>\n     </g>\n     <g id=\"line2d_4\"/>\n     <g id=\"text_2\">\n      <!-- 0.2 -->\n      <g style=\"fill: #262626\" transform=\"translate(103.7575 254.356563)scale(0.1 -0.1)\">\n       <defs>\n        <path id=\"DejaVuSans-32\" d=\"M 1228 531 \nL 3431 531 \nL 3431 0 \nL 469 0 \nL 469 531 \nQ 828 903 1448 1529 \nQ 2069 2156 2228 2338 \nQ 2531 2678 2651 2914 \nQ 2772 3150 2772 3378 \nQ 2772 3750 2511 3984 \nQ 2250 4219 1831 4219 \nQ 1534 4219 1204 4116 \nQ 875 4013 500 3803 \nL 500 4441 \nQ 881 4594 1212 4672 \nQ 1544 4750 1819 4750 \nQ 2544 4750 2975 4387 \nQ 3406 4025 3406 3419 \nQ 3406 3131 3298 2873 \nQ 3191 2616 2906 2266 \nQ 2828 2175 2409 1742 \nQ 1991 1309 1228 531 \nz\n\" transform=\"scale(0.015625)\"/>\n       </defs>\n       <use xlink:href=\"#DejaVuSans-30\"/>\n       <use xlink:href=\"#DejaVuSans-2e\" x=\"63.623047\"/>\n       <use xlink:href=\"#DejaVuSans-32\" x=\"95.410156\"/>\n      </g>\n     </g>\n    </g>\n    <g id=\"xtick_3\">\n     <g id=\"line2d_5\">\n      <path d=\"M 178.669062 239.758125 \nL 178.669062 22.318125 \n\" clip-path=\"url(#pd3e944079f)\" style=\"fill: none; stroke: #cccccc; stroke-linecap: round\"/>\n     </g>\n     <g id=\"line2d_6\"/>\n     <g id=\"text_3\">\n      <!-- 0.4 -->\n      <g style=\"fill: #262626\" transform=\"translate(170.7175 254.356563)scale(0.1 -0.1)\">\n       <defs>\n        <path id=\"DejaVuSans-34\" d=\"M 2419 4116 \nL 825 1625 \nL 2419 1625 \nL 2419 4116 \nz\nM 2253 4666 \nL 3047 4666 \nL 3047 1625 \nL 3713 1625 \nL 3713 1100 \nL 3047 1100 \nL 3047 0 \nL 2419 0 \nL 2419 1100 \nL 313 1100 \nL 313 1709 \nL 2253 4666 \nz\n\" transform=\"scale(0.015625)\"/>\n       </defs>\n       <use xlink:href=\"#DejaVuSans-30\"/>\n       <use xlink:href=\"#DejaVuSans-2e\" x=\"63.623047\"/>\n       <use xlink:href=\"#DejaVuSans-34\" x=\"95.410156\"/>\n      </g>\n     </g>\n    </g>\n    <g id=\"xtick_4\">\n     <g id=\"line2d_7\">\n      <path d=\"M 245.629063 239.758125 \nL 245.629063 22.318125 \n\" clip-path=\"url(#pd3e944079f)\" style=\"fill: none; stroke: #cccccc; stroke-linecap: round\"/>\n     </g>\n     <g id=\"line2d_8\"/>\n     <g id=\"text_4\">\n      <!-- 0.6 -->\n      <g style=\"fill: #262626\" transform=\"translate(237.6775 254.356563)scale(0.1 -0.1)\">\n       <defs>\n        <path id=\"DejaVuSans-36\" d=\"M 2113 2584 \nQ 1688 2584 1439 2293 \nQ 1191 2003 1191 1497 \nQ 1191 994 1439 701 \nQ 1688 409 2113 409 \nQ 2538 409 2786 701 \nQ 3034 994 3034 1497 \nQ 3034 2003 2786 2293 \nQ 2538 2584 2113 2584 \nz\nM 3366 4563 \nL 3366 3988 \nQ 3128 4100 2886 4159 \nQ 2644 4219 2406 4219 \nQ 1781 4219 1451 3797 \nQ 1122 3375 1075 2522 \nQ 1259 2794 1537 2939 \nQ 1816 3084 2150 3084 \nQ 2853 3084 3261 2657 \nQ 3669 2231 3669 1497 \nQ 3669 778 3244 343 \nQ 2819 -91 2113 -91 \nQ 1303 -91 875 529 \nQ 447 1150 447 2328 \nQ 447 3434 972 4092 \nQ 1497 4750 2381 4750 \nQ 2619 4750 2861 4703 \nQ 3103 4656 3366 4563 \nz\n\" transform=\"scale(0.015625)\"/>\n       </defs>\n       <use xlink:href=\"#DejaVuSans-30\"/>\n       <use xlink:href=\"#DejaVuSans-2e\" x=\"63.623047\"/>\n       <use xlink:href=\"#DejaVuSans-36\" x=\"95.410156\"/>\n      </g>\n     </g>\n    </g>\n    <g id=\"xtick_5\">\n     <g id=\"line2d_9\">\n      <path d=\"M 312.589062 239.758125 \nL 312.589062 22.318125 \n\" clip-path=\"url(#pd3e944079f)\" style=\"fill: none; stroke: #cccccc; stroke-linecap: round\"/>\n     </g>\n     <g id=\"line2d_10\"/>\n     <g id=\"text_5\">\n      <!-- 0.8 -->\n      <g style=\"fill: #262626\" transform=\"translate(304.6375 254.356563)scale(0.1 -0.1)\">\n       <defs>\n        <path id=\"DejaVuSans-38\" d=\"M 2034 2216 \nQ 1584 2216 1326 1975 \nQ 1069 1734 1069 1313 \nQ 1069 891 1326 650 \nQ 1584 409 2034 409 \nQ 2484 409 2743 651 \nQ 3003 894 3003 1313 \nQ 3003 1734 2745 1975 \nQ 2488 2216 2034 2216 \nz\nM 1403 2484 \nQ 997 2584 770 2862 \nQ 544 3141 544 3541 \nQ 544 4100 942 4425 \nQ 1341 4750 2034 4750 \nQ 2731 4750 3128 4425 \nQ 3525 4100 3525 3541 \nQ 3525 3141 3298 2862 \nQ 3072 2584 2669 2484 \nQ 3125 2378 3379 2068 \nQ 3634 1759 3634 1313 \nQ 3634 634 3220 271 \nQ 2806 -91 2034 -91 \nQ 1263 -91 848 271 \nQ 434 634 434 1313 \nQ 434 1759 690 2068 \nQ 947 2378 1403 2484 \nz\nM 1172 3481 \nQ 1172 3119 1398 2916 \nQ 1625 2713 2034 2713 \nQ 2441 2713 2670 2916 \nQ 2900 3119 2900 3481 \nQ 2900 3844 2670 4047 \nQ 2441 4250 2034 4250 \nQ 1625 4250 1398 4047 \nQ 1172 3844 1172 3481 \nz\n\" transform=\"scale(0.015625)\"/>\n       </defs>\n       <use xlink:href=\"#DejaVuSans-30\"/>\n       <use xlink:href=\"#DejaVuSans-2e\" x=\"63.623047\"/>\n       <use xlink:href=\"#DejaVuSans-38\" x=\"95.410156\"/>\n      </g>\n     </g>\n    </g>\n    <g id=\"xtick_6\">\n     <g id=\"line2d_11\">\n      <path d=\"M 379.549062 239.758125 \nL 379.549062 22.318125 \n\" clip-path=\"url(#pd3e944079f)\" style=\"fill: none; stroke: #cccccc; stroke-linecap: round\"/>\n     </g>\n     <g id=\"line2d_12\"/>\n     <g id=\"text_6\">\n      <!-- 1.0 -->\n      <g style=\"fill: #262626\" transform=\"translate(371.5975 254.356563)scale(0.1 -0.1)\">\n       <defs>\n        <path id=\"DejaVuSans-31\" d=\"M 794 531 \nL 1825 531 \nL 1825 4091 \nL 703 3866 \nL 703 4441 \nL 1819 4666 \nL 2450 4666 \nL 2450 531 \nL 3481 531 \nL 3481 0 \nL 794 0 \nL 794 531 \nz\n\" transform=\"scale(0.015625)\"/>\n       </defs>\n       <use xlink:href=\"#DejaVuSans-31\"/>\n       <use xlink:href=\"#DejaVuSans-2e\" x=\"63.623047\"/>\n       <use xlink:href=\"#DejaVuSans-30\" x=\"95.410156\"/>\n      </g>\n     </g>\n    </g>\n    <g id=\"text_7\">\n     <!-- False Positive Rate -->\n     <g style=\"fill: #262626\" transform=\"translate(161.036016 268.794531)scale(0.11 -0.11)\">\n      <defs>\n       <path id=\"DejaVuSans-46\" d=\"M 628 4666 \nL 3309 4666 \nL 3309 4134 \nL 1259 4134 \nL 1259 2759 \nL 3109 2759 \nL 3109 2228 \nL 1259 2228 \nL 1259 0 \nL 628 0 \nL 628 4666 \nz\n\" transform=\"scale(0.015625)\"/>\n       <path id=\"DejaVuSans-61\" d=\"M 2194 1759 \nQ 1497 1759 1228 1600 \nQ 959 1441 959 1056 \nQ 959 750 1161 570 \nQ 1363 391 1709 391 \nQ 2188 391 2477 730 \nQ 2766 1069 2766 1631 \nL 2766 1759 \nL 2194 1759 \nz\nM 3341 1997 \nL 3341 0 \nL 2766 0 \nL 2766 531 \nQ 2569 213 2275 61 \nQ 1981 -91 1556 -91 \nQ 1019 -91 701 211 \nQ 384 513 384 1019 \nQ 384 1609 779 1909 \nQ 1175 2209 1959 2209 \nL 2766 2209 \nL 2766 2266 \nQ 2766 2663 2505 2880 \nQ 2244 3097 1772 3097 \nQ 1472 3097 1187 3025 \nQ 903 2953 641 2809 \nL 641 3341 \nQ 956 3463 1253 3523 \nQ 1550 3584 1831 3584 \nQ 2591 3584 2966 3190 \nQ 3341 2797 3341 1997 \nz\n\" transform=\"scale(0.015625)\"/>\n       <path id=\"DejaVuSans-6c\" d=\"M 603 4863 \nL 1178 4863 \nL 1178 0 \nL 603 0 \nL 603 4863 \nz\n\" transform=\"scale(0.015625)\"/>\n       <path id=\"DejaVuSans-73\" d=\"M 2834 3397 \nL 2834 2853 \nQ 2591 2978 2328 3040 \nQ 2066 3103 1784 3103 \nQ 1356 3103 1142 2972 \nQ 928 2841 928 2578 \nQ 928 2378 1081 2264 \nQ 1234 2150 1697 2047 \nL 1894 2003 \nQ 2506 1872 2764 1633 \nQ 3022 1394 3022 966 \nQ 3022 478 2636 193 \nQ 2250 -91 1575 -91 \nQ 1294 -91 989 -36 \nQ 684 19 347 128 \nL 347 722 \nQ 666 556 975 473 \nQ 1284 391 1588 391 \nQ 1994 391 2212 530 \nQ 2431 669 2431 922 \nQ 2431 1156 2273 1281 \nQ 2116 1406 1581 1522 \nL 1381 1569 \nQ 847 1681 609 1914 \nQ 372 2147 372 2553 \nQ 372 3047 722 3315 \nQ 1072 3584 1716 3584 \nQ 2034 3584 2315 3537 \nQ 2597 3491 2834 3397 \nz\n\" transform=\"scale(0.015625)\"/>\n       <path id=\"DejaVuSans-65\" d=\"M 3597 1894 \nL 3597 1613 \nL 953 1613 \nQ 991 1019 1311 708 \nQ 1631 397 2203 397 \nQ 2534 397 2845 478 \nQ 3156 559 3463 722 \nL 3463 178 \nQ 3153 47 2828 -22 \nQ 2503 -91 2169 -91 \nQ 1331 -91 842 396 \nQ 353 884 353 1716 \nQ 353 2575 817 3079 \nQ 1281 3584 2069 3584 \nQ 2775 3584 3186 3129 \nQ 3597 2675 3597 1894 \nz\nM 3022 2063 \nQ 3016 2534 2758 2815 \nQ 2500 3097 2075 3097 \nQ 1594 3097 1305 2825 \nQ 1016 2553 972 2059 \nL 3022 2063 \nz\n\" transform=\"scale(0.015625)\"/>\n       <path id=\"DejaVuSans-20\" transform=\"scale(0.015625)\"/>\n       <path id=\"DejaVuSans-50\" d=\"M 1259 4147 \nL 1259 2394 \nL 2053 2394 \nQ 2494 2394 2734 2622 \nQ 2975 2850 2975 3272 \nQ 2975 3691 2734 3919 \nQ 2494 4147 2053 4147 \nL 1259 4147 \nz\nM 628 4666 \nL 2053 4666 \nQ 2838 4666 3239 4311 \nQ 3641 3956 3641 3272 \nQ 3641 2581 3239 2228 \nQ 2838 1875 2053 1875 \nL 1259 1875 \nL 1259 0 \nL 628 0 \nL 628 4666 \nz\n\" transform=\"scale(0.015625)\"/>\n       <path id=\"DejaVuSans-6f\" d=\"M 1959 3097 \nQ 1497 3097 1228 2736 \nQ 959 2375 959 1747 \nQ 959 1119 1226 758 \nQ 1494 397 1959 397 \nQ 2419 397 2687 759 \nQ 2956 1122 2956 1747 \nQ 2956 2369 2687 2733 \nQ 2419 3097 1959 3097 \nz\nM 1959 3584 \nQ 2709 3584 3137 3096 \nQ 3566 2609 3566 1747 \nQ 3566 888 3137 398 \nQ 2709 -91 1959 -91 \nQ 1206 -91 779 398 \nQ 353 888 353 1747 \nQ 353 2609 779 3096 \nQ 1206 3584 1959 3584 \nz\n\" transform=\"scale(0.015625)\"/>\n       <path id=\"DejaVuSans-69\" d=\"M 603 3500 \nL 1178 3500 \nL 1178 0 \nL 603 0 \nL 603 3500 \nz\nM 603 4863 \nL 1178 4863 \nL 1178 4134 \nL 603 4134 \nL 603 4863 \nz\n\" transform=\"scale(0.015625)\"/>\n       <path id=\"DejaVuSans-74\" d=\"M 1172 4494 \nL 1172 3500 \nL 2356 3500 \nL 2356 3053 \nL 1172 3053 \nL 1172 1153 \nQ 1172 725 1289 603 \nQ 1406 481 1766 481 \nL 2356 481 \nL 2356 0 \nL 1766 0 \nQ 1100 0 847 248 \nQ 594 497 594 1153 \nL 594 3053 \nL 172 3053 \nL 172 3500 \nL 594 3500 \nL 594 4494 \nL 1172 4494 \nz\n\" transform=\"scale(0.015625)\"/>\n       <path id=\"DejaVuSans-76\" d=\"M 191 3500 \nL 800 3500 \nL 1894 563 \nL 2988 3500 \nL 3597 3500 \nL 2284 0 \nL 1503 0 \nL 191 3500 \nz\n\" transform=\"scale(0.015625)\"/>\n       <path id=\"DejaVuSans-52\" d=\"M 2841 2188 \nQ 3044 2119 3236 1894 \nQ 3428 1669 3622 1275 \nL 4263 0 \nL 3584 0 \nL 2988 1197 \nQ 2756 1666 2539 1819 \nQ 2322 1972 1947 1972 \nL 1259 1972 \nL 1259 0 \nL 628 0 \nL 628 4666 \nL 2053 4666 \nQ 2853 4666 3247 4331 \nQ 3641 3997 3641 3322 \nQ 3641 2881 3436 2590 \nQ 3231 2300 2841 2188 \nz\nM 1259 4147 \nL 1259 2491 \nL 2053 2491 \nQ 2509 2491 2742 2702 \nQ 2975 2913 2975 3322 \nQ 2975 3731 2742 3939 \nQ 2509 4147 2053 4147 \nL 1259 4147 \nz\n\" transform=\"scale(0.015625)\"/>\n      </defs>\n      <use xlink:href=\"#DejaVuSans-46\"/>\n      <use xlink:href=\"#DejaVuSans-61\" x=\"48.394531\"/>\n      <use xlink:href=\"#DejaVuSans-6c\" x=\"109.673828\"/>\n      <use xlink:href=\"#DejaVuSans-73\" x=\"137.457031\"/>\n      <use xlink:href=\"#DejaVuSans-65\" x=\"189.556641\"/>\n      <use xlink:href=\"#DejaVuSans-20\" x=\"251.080078\"/>\n      <use xlink:href=\"#DejaVuSans-50\" x=\"282.867188\"/>\n      <use xlink:href=\"#DejaVuSans-6f\" x=\"339.544922\"/>\n      <use xlink:href=\"#DejaVuSans-73\" x=\"400.726562\"/>\n      <use xlink:href=\"#DejaVuSans-69\" x=\"452.826172\"/>\n      <use xlink:href=\"#DejaVuSans-74\" x=\"480.609375\"/>\n      <use xlink:href=\"#DejaVuSans-69\" x=\"519.818359\"/>\n      <use xlink:href=\"#DejaVuSans-76\" x=\"547.601562\"/>\n      <use xlink:href=\"#DejaVuSans-65\" x=\"606.78125\"/>\n      <use xlink:href=\"#DejaVuSans-20\" x=\"668.304688\"/>\n      <use xlink:href=\"#DejaVuSans-52\" x=\"700.091797\"/>\n      <use xlink:href=\"#DejaVuSans-61\" x=\"767.324219\"/>\n      <use xlink:href=\"#DejaVuSans-74\" x=\"828.603516\"/>\n      <use xlink:href=\"#DejaVuSans-65\" x=\"867.8125\"/>\n     </g>\n    </g>\n   </g>\n   <g id=\"matplotlib.axis_2\">\n    <g id=\"ytick_1\">\n     <g id=\"line2d_13\">\n      <path d=\"M 44.749063 239.758125 \nL 379.549062 239.758125 \n\" clip-path=\"url(#pd3e944079f)\" style=\"fill: none; stroke: #cccccc; stroke-linecap: round\"/>\n     </g>\n     <g id=\"line2d_14\"/>\n     <g id=\"text_8\">\n      <!-- 0.0 -->\n      <g style=\"fill: #262626\" transform=\"translate(21.845938 243.557344)scale(0.1 -0.1)\">\n       <use xlink:href=\"#DejaVuSans-30\"/>\n       <use xlink:href=\"#DejaVuSans-2e\" x=\"63.623047\"/>\n       <use xlink:href=\"#DejaVuSans-30\" x=\"95.410156\"/>\n      </g>\n     </g>\n    </g>\n    <g id=\"ytick_2\">\n     <g id=\"line2d_15\">\n      <path d=\"M 44.749063 196.270125 \nL 379.549062 196.270125 \n\" clip-path=\"url(#pd3e944079f)\" style=\"fill: none; stroke: #cccccc; stroke-linecap: round\"/>\n     </g>\n     <g id=\"line2d_16\"/>\n     <g id=\"text_9\">\n      <!-- 0.2 -->\n      <g style=\"fill: #262626\" transform=\"translate(21.845938 200.069344)scale(0.1 -0.1)\">\n       <use xlink:href=\"#DejaVuSans-30\"/>\n       <use xlink:href=\"#DejaVuSans-2e\" x=\"63.623047\"/>\n       <use xlink:href=\"#DejaVuSans-32\" x=\"95.410156\"/>\n      </g>\n     </g>\n    </g>\n    <g id=\"ytick_3\">\n     <g id=\"line2d_17\">\n      <path d=\"M 44.749063 152.782125 \nL 379.549062 152.782125 \n\" clip-path=\"url(#pd3e944079f)\" style=\"fill: none; stroke: #cccccc; stroke-linecap: round\"/>\n     </g>\n     <g id=\"line2d_18\"/>\n     <g id=\"text_10\">\n      <!-- 0.4 -->\n      <g style=\"fill: #262626\" transform=\"translate(21.845938 156.581344)scale(0.1 -0.1)\">\n       <use xlink:href=\"#DejaVuSans-30\"/>\n       <use xlink:href=\"#DejaVuSans-2e\" x=\"63.623047\"/>\n       <use xlink:href=\"#DejaVuSans-34\" x=\"95.410156\"/>\n      </g>\n     </g>\n    </g>\n    <g id=\"ytick_4\">\n     <g id=\"line2d_19\">\n      <path d=\"M 44.749063 109.294125 \nL 379.549062 109.294125 \n\" clip-path=\"url(#pd3e944079f)\" style=\"fill: none; stroke: #cccccc; stroke-linecap: round\"/>\n     </g>\n     <g id=\"line2d_20\"/>\n     <g id=\"text_11\">\n      <!-- 0.6 -->\n      <g style=\"fill: #262626\" transform=\"translate(21.845938 113.093344)scale(0.1 -0.1)\">\n       <use xlink:href=\"#DejaVuSans-30\"/>\n       <use xlink:href=\"#DejaVuSans-2e\" x=\"63.623047\"/>\n       <use xlink:href=\"#DejaVuSans-36\" x=\"95.410156\"/>\n      </g>\n     </g>\n    </g>\n    <g id=\"ytick_5\">\n     <g id=\"line2d_21\">\n      <path d=\"M 44.749063 65.806125 \nL 379.549062 65.806125 \n\" clip-path=\"url(#pd3e944079f)\" style=\"fill: none; stroke: #cccccc; stroke-linecap: round\"/>\n     </g>\n     <g id=\"line2d_22\"/>\n     <g id=\"text_12\">\n      <!-- 0.8 -->\n      <g style=\"fill: #262626\" transform=\"translate(21.845938 69.605344)scale(0.1 -0.1)\">\n       <use xlink:href=\"#DejaVuSans-30\"/>\n       <use xlink:href=\"#DejaVuSans-2e\" x=\"63.623047\"/>\n       <use xlink:href=\"#DejaVuSans-38\" x=\"95.410156\"/>\n      </g>\n     </g>\n    </g>\n    <g id=\"ytick_6\">\n     <g id=\"line2d_23\">\n      <path d=\"M 44.749063 22.318125 \nL 379.549062 22.318125 \n\" clip-path=\"url(#pd3e944079f)\" style=\"fill: none; stroke: #cccccc; stroke-linecap: round\"/>\n     </g>\n     <g id=\"line2d_24\"/>\n     <g id=\"text_13\">\n      <!-- 1.0 -->\n      <g style=\"fill: #262626\" transform=\"translate(21.845938 26.117344)scale(0.1 -0.1)\">\n       <use xlink:href=\"#DejaVuSans-31\"/>\n       <use xlink:href=\"#DejaVuSans-2e\" x=\"63.623047\"/>\n       <use xlink:href=\"#DejaVuSans-30\" x=\"95.410156\"/>\n      </g>\n     </g>\n    </g>\n    <g id=\"text_14\">\n     <!-- True Positive Rate -->\n     <g style=\"fill: #262626\" transform=\"translate(15.558281 180.020781)rotate(-90)scale(0.11 -0.11)\">\n      <defs>\n       <path id=\"DejaVuSans-54\" d=\"M -19 4666 \nL 3928 4666 \nL 3928 4134 \nL 2272 4134 \nL 2272 0 \nL 1638 0 \nL 1638 4134 \nL -19 4134 \nL -19 4666 \nz\n\" transform=\"scale(0.015625)\"/>\n       <path id=\"DejaVuSans-72\" d=\"M 2631 2963 \nQ 2534 3019 2420 3045 \nQ 2306 3072 2169 3072 \nQ 1681 3072 1420 2755 \nQ 1159 2438 1159 1844 \nL 1159 0 \nL 581 0 \nL 581 3500 \nL 1159 3500 \nL 1159 2956 \nQ 1341 3275 1631 3429 \nQ 1922 3584 2338 3584 \nQ 2397 3584 2469 3576 \nQ 2541 3569 2628 3553 \nL 2631 2963 \nz\n\" transform=\"scale(0.015625)\"/>\n       <path id=\"DejaVuSans-75\" d=\"M 544 1381 \nL 544 3500 \nL 1119 3500 \nL 1119 1403 \nQ 1119 906 1312 657 \nQ 1506 409 1894 409 \nQ 2359 409 2629 706 \nQ 2900 1003 2900 1516 \nL 2900 3500 \nL 3475 3500 \nL 3475 0 \nL 2900 0 \nL 2900 538 \nQ 2691 219 2414 64 \nQ 2138 -91 1772 -91 \nQ 1169 -91 856 284 \nQ 544 659 544 1381 \nz\nM 1991 3584 \nL 1991 3584 \nz\n\" transform=\"scale(0.015625)\"/>\n      </defs>\n      <use xlink:href=\"#DejaVuSans-54\"/>\n      <use xlink:href=\"#DejaVuSans-72\" x=\"46.333984\"/>\n      <use xlink:href=\"#DejaVuSans-75\" x=\"87.447266\"/>\n      <use xlink:href=\"#DejaVuSans-65\" x=\"150.826172\"/>\n      <use xlink:href=\"#DejaVuSans-20\" x=\"212.349609\"/>\n      <use xlink:href=\"#DejaVuSans-50\" x=\"244.136719\"/>\n      <use xlink:href=\"#DejaVuSans-6f\" x=\"300.814453\"/>\n      <use xlink:href=\"#DejaVuSans-73\" x=\"361.996094\"/>\n      <use xlink:href=\"#DejaVuSans-69\" x=\"414.095703\"/>\n      <use xlink:href=\"#DejaVuSans-74\" x=\"441.878906\"/>\n      <use xlink:href=\"#DejaVuSans-69\" x=\"481.087891\"/>\n      <use xlink:href=\"#DejaVuSans-76\" x=\"508.871094\"/>\n      <use xlink:href=\"#DejaVuSans-65\" x=\"568.050781\"/>\n      <use xlink:href=\"#DejaVuSans-20\" x=\"629.574219\"/>\n      <use xlink:href=\"#DejaVuSans-52\" x=\"661.361328\"/>\n      <use xlink:href=\"#DejaVuSans-61\" x=\"728.59375\"/>\n      <use xlink:href=\"#DejaVuSans-74\" x=\"789.873047\"/>\n      <use xlink:href=\"#DejaVuSans-65\" x=\"829.082031\"/>\n     </g>\n    </g>\n   </g>\n   <g id=\"line2d_25\">\n    <path d=\"M 44.749063 239.758125 \nL 46.041727 239.470234 \nL 93.008522 153.185172 \nL 101.626283 141.587276 \nL 101.841727 141.546148 \nL 150.747518 97.786708 \nL 173.800028 76.318261 \nL 174.230916 76.236007 \nL 180.478792 71.712004 \nL 206.978406 54.973196 \nL 216.027055 48.392829 \nL 216.027055 48.351702 \nL 216.027055 48.269447 \nL 216.242499 48.22832 \nL 247.050993 37.987624 \nL 256.961418 35.108713 \nL 264.501958 33.422494 \nL 264.501958 33.381367 \nL 281.522035 29.762165 \nL 281.522035 29.721038 \nL 283.676476 29.556529 \nL 284.322808 29.474274 \nL 284.322808 29.433147 \nL 286.477248 29.021874 \nL 293.5869 28.733983 \nL 338.399256 24.82689 \nL 339.261032 24.744635 \nL 340.122808 24.703508 \nL 369.20775 22.893907 \nL 376.74829 22.482634 \nL 379.549062 22.318125 \n\" clip-path=\"url(#pd3e944079f)\" style=\"fill: none; stroke: #0272a2; stroke-width: 1.75; stroke-linecap: round\"/>\n   </g>\n   <g id=\"line2d_26\">\n    <path d=\"M 44.749063 239.758125 \nL 45.002363 237.939129 \nL 45.635614 233.041832 \nL 48.42192 214.152256 \nL 48.485246 213.592565 \nL 48.611896 213.032874 \nL 54.627784 183.928936 \nL 55.07106 179.311484 \nL 55.704311 177.912256 \nL 55.767636 177.912256 \nL 55.894287 177.492488 \nL 56.147587 176.09326 \nL 56.210912 176.09326 \nL 61.783524 165.039361 \nL 61.84685 165.039361 \nL 64.44318 160.142063 \nL 68.87594 153.705615 \nL 84.643899 133.696658 \nL 84.707224 133.556735 \nL 84.833874 133.556735 \nL 84.897199 133.556735 \nL 95.029221 127.679978 \nL 120.802552 110.469476 \nL 127.768317 106.411716 \nL 127.894968 106.13187 \nL 160.950689 91.160133 \nL 228.328635 59.397662 \nL 228.39196 59.257739 \nL 246.249649 53.660828 \nL 379.105787 23.157662 \nL 379.549062 22.318125 \n\" clip-path=\"url(#pd3e944079f)\" style=\"fill: none; stroke: #9fc377; stroke-width: 1.75; stroke-linecap: round\"/>\n   </g>\n   <g id=\"line2d_27\">\n    <path d=\"M 44.749063 239.758125 \nL 45.238465 239.122428 \nL 55.907431 172.437862 \nL 57.86504 163.474541 \nL 57.91398 163.442756 \nL 69.023408 129.6237 \nL 74.260011 113.032021 \nL 74.749413 111.919552 \nL 74.847294 111.855982 \nL 77.000663 107.56503 \nL 78.419929 104.068699 \nL 78.46887 103.94156 \nL 84.488516 91.005136 \nL 86.544005 85.919563 \nL 86.544005 85.887779 \nL 86.641885 85.69707 \nL 86.690825 85.665285 \nL 91.340146 79.054041 \nL 91.682727 78.005142 \nL 98.681178 70.09072 \nL 100.932428 67.865782 \nL 101.42183 67.547934 \nL 101.47077 67.547934 \nL 103.183677 66.244756 \nL 103.281558 66.149401 \nL 103.281558 66.117616 \nL 103.477319 65.799768 \nL 103.526259 65.799768 \nL 107.832998 63.288767 \nL 111.699274 60.491702 \nL 111.699274 60.459917 \nL 112.188677 60.332778 \nL 112.237617 60.332778 \nL 112.384437 60.269208 \nL 114.390986 59.156739 \nL 114.390986 59.124954 \nL 114.880388 58.807106 \nL 118.306203 57.345004 \nL 130.492316 52.799774 \nL 132.107343 52.57728 \nL 142.286908 49.557722 \nL 142.335848 49.525937 \nL 142.629489 49.462367 \nL 142.67843 49.462367 \nL 150.508864 48.127404 \nL 170.427531 44.217871 \nL 170.623291 44.186086 \nL 176.006715 43.264326 \nL 182.613644 41.865793 \nL 182.711524 41.802224 \nL 184.424432 41.484376 \nL 209.971223 38.083399 \nL 262.04361 30.868243 \nL 262.09255 30.836459 \nL 275.89369 29.565066 \nL 378.570258 22.635973 \nL 379.549062 22.318125 \n\" clip-path=\"url(#pd3e944079f)\" style=\"fill: none; stroke-dasharray: 6.475,2.8; stroke-dashoffset: 0; stroke: #9fc377; stroke-width: 1.75\"/>\n   </g>\n   <g id=\"line2d_28\">\n    <path d=\"M 44.749063 239.758125 \nL 45.002363 238.82042 \nL 45.635614 236.301256 \nL 46.041727 234.879428 \nL 48.42192 224.624858 \nL 48.485246 224.286844 \nL 48.611896 223.89066 \nL 54.627784 203.812646 \nL 55.07106 201.096738 \nL 55.704311 199.815435 \nL 55.767636 199.757266 \nL 55.894287 199.431044 \nL 56.147587 198.498755 \nL 56.210912 198.440586 \nL 61.783524 187.794773 \nL 61.84685 187.736604 \nL 64.44318 182.903031 \nL 68.87594 175.612984 \nL 84.643899 151.12445 \nL 84.707224 150.99632 \nL 84.833874 150.879982 \nL 84.897199 150.821813 \nL 93.008522 141.018597 \nL 95.029221 139.072833 \nL 101.626283 132.430987 \nL 101.841727 132.338491 \nL 120.802552 117.525022 \nL 127.768317 112.379763 \nL 127.894968 112.183179 \nL 150.747518 96.784052 \nL 160.950689 89.722393 \nL 173.800028 80.710559 \nL 174.230916 80.56787 \nL 180.478792 76.833221 \nL 206.978406 62.217758 \nL 216.027055 56.733083 \nL 216.242499 56.661739 \nL 228.328635 51.804284 \nL 228.39196 51.723798 \nL 246.249649 45.957409 \nL 247.050993 45.732233 \nL 256.961418 43.155084 \nL 264.501958 41.425774 \nL 281.522035 37.641743 \nL 283.676476 37.312163 \nL 284.322808 37.176275 \nL 286.477248 36.723314 \nL 293.5869 35.763196 \nL 338.399256 28.665293 \nL 339.261032 28.525236 \nL 340.122808 28.405742 \nL 369.20775 24.162057 \nL 376.74829 23.090783 \nL 379.105787 22.750912 \nL 379.549062 22.318125 \n\" clip-path=\"url(#pd3e944079f)\" style=\"fill: none; stroke-dasharray: 6.475,2.8; stroke-dashoffset: 0; stroke: #9fc377; stroke-width: 1.75\"/>\n   </g>\n   <g id=\"line2d_29\">\n    <path d=\"M 44.749063 239.758125 \nL 379.549062 22.318125 \n\" clip-path=\"url(#pd3e944079f)\" style=\"fill: none; stroke-dasharray: 1.75,2.8875; stroke-dashoffset: 0; stroke: #111111; stroke-width: 1.75\"/>\n   </g>\n   <g id=\"patch_3\">\n    <path d=\"M 44.749063 239.758125 \nL 44.749063 22.318125 \n\" style=\"fill: none; stroke: #cccccc; stroke-width: 1.25; stroke-linejoin: miter; stroke-linecap: square\"/>\n   </g>\n   <g id=\"patch_4\">\n    <path d=\"M 379.549062 239.758125 \nL 379.549062 22.318125 \n\" style=\"fill: none; stroke: #cccccc; stroke-width: 1.25; stroke-linejoin: miter; stroke-linecap: square\"/>\n   </g>\n   <g id=\"patch_5\">\n    <path d=\"M 44.749063 239.758125 \nL 379.549062 239.758125 \n\" style=\"fill: none; stroke: #cccccc; stroke-width: 1.25; stroke-linejoin: miter; stroke-linecap: square\"/>\n   </g>\n   <g id=\"patch_6\">\n    <path d=\"M 44.749063 22.318125 \nL 379.549062 22.318125 \n\" style=\"fill: none; stroke: #cccccc; stroke-width: 1.25; stroke-linejoin: miter; stroke-linecap: square\"/>\n   </g>\n   <g id=\"text_15\">\n    <!-- ROC Curves for RandomForestClassifier -->\n    <g style=\"fill: #262626\" transform=\"translate(93.635937 16.318125)scale(0.12 -0.12)\">\n     <defs>\n      <path id=\"DejaVuSans-4f\" d=\"M 2522 4238 \nQ 1834 4238 1429 3725 \nQ 1025 3213 1025 2328 \nQ 1025 1447 1429 934 \nQ 1834 422 2522 422 \nQ 3209 422 3611 934 \nQ 4013 1447 4013 2328 \nQ 4013 3213 3611 3725 \nQ 3209 4238 2522 4238 \nz\nM 2522 4750 \nQ 3503 4750 4090 4092 \nQ 4678 3434 4678 2328 \nQ 4678 1225 4090 567 \nQ 3503 -91 2522 -91 \nQ 1538 -91 948 565 \nQ 359 1222 359 2328 \nQ 359 3434 948 4092 \nQ 1538 4750 2522 4750 \nz\n\" transform=\"scale(0.015625)\"/>\n      <path id=\"DejaVuSans-43\" d=\"M 4122 4306 \nL 4122 3641 \nQ 3803 3938 3442 4084 \nQ 3081 4231 2675 4231 \nQ 1875 4231 1450 3742 \nQ 1025 3253 1025 2328 \nQ 1025 1406 1450 917 \nQ 1875 428 2675 428 \nQ 3081 428 3442 575 \nQ 3803 722 4122 1019 \nL 4122 359 \nQ 3791 134 3420 21 \nQ 3050 -91 2638 -91 \nQ 1578 -91 968 557 \nQ 359 1206 359 2328 \nQ 359 3453 968 4101 \nQ 1578 4750 2638 4750 \nQ 3056 4750 3426 4639 \nQ 3797 4528 4122 4306 \nz\n\" transform=\"scale(0.015625)\"/>\n      <path id=\"DejaVuSans-66\" d=\"M 2375 4863 \nL 2375 4384 \nL 1825 4384 \nQ 1516 4384 1395 4259 \nQ 1275 4134 1275 3809 \nL 1275 3500 \nL 2222 3500 \nL 2222 3053 \nL 1275 3053 \nL 1275 0 \nL 697 0 \nL 697 3053 \nL 147 3053 \nL 147 3500 \nL 697 3500 \nL 697 3744 \nQ 697 4328 969 4595 \nQ 1241 4863 1831 4863 \nL 2375 4863 \nz\n\" transform=\"scale(0.015625)\"/>\n      <path id=\"DejaVuSans-6e\" d=\"M 3513 2113 \nL 3513 0 \nL 2938 0 \nL 2938 2094 \nQ 2938 2591 2744 2837 \nQ 2550 3084 2163 3084 \nQ 1697 3084 1428 2787 \nQ 1159 2491 1159 1978 \nL 1159 0 \nL 581 0 \nL 581 3500 \nL 1159 3500 \nL 1159 2956 \nQ 1366 3272 1645 3428 \nQ 1925 3584 2291 3584 \nQ 2894 3584 3203 3211 \nQ 3513 2838 3513 2113 \nz\n\" transform=\"scale(0.015625)\"/>\n      <path id=\"DejaVuSans-64\" d=\"M 2906 2969 \nL 2906 4863 \nL 3481 4863 \nL 3481 0 \nL 2906 0 \nL 2906 525 \nQ 2725 213 2448 61 \nQ 2172 -91 1784 -91 \nQ 1150 -91 751 415 \nQ 353 922 353 1747 \nQ 353 2572 751 3078 \nQ 1150 3584 1784 3584 \nQ 2172 3584 2448 3432 \nQ 2725 3281 2906 2969 \nz\nM 947 1747 \nQ 947 1113 1208 752 \nQ 1469 391 1925 391 \nQ 2381 391 2643 752 \nQ 2906 1113 2906 1747 \nQ 2906 2381 2643 2742 \nQ 2381 3103 1925 3103 \nQ 1469 3103 1208 2742 \nQ 947 2381 947 1747 \nz\n\" transform=\"scale(0.015625)\"/>\n      <path id=\"DejaVuSans-6d\" d=\"M 3328 2828 \nQ 3544 3216 3844 3400 \nQ 4144 3584 4550 3584 \nQ 5097 3584 5394 3201 \nQ 5691 2819 5691 2113 \nL 5691 0 \nL 5113 0 \nL 5113 2094 \nQ 5113 2597 4934 2840 \nQ 4756 3084 4391 3084 \nQ 3944 3084 3684 2787 \nQ 3425 2491 3425 1978 \nL 3425 0 \nL 2847 0 \nL 2847 2094 \nQ 2847 2600 2669 2842 \nQ 2491 3084 2119 3084 \nQ 1678 3084 1418 2786 \nQ 1159 2488 1159 1978 \nL 1159 0 \nL 581 0 \nL 581 3500 \nL 1159 3500 \nL 1159 2956 \nQ 1356 3278 1631 3431 \nQ 1906 3584 2284 3584 \nQ 2666 3584 2933 3390 \nQ 3200 3197 3328 2828 \nz\n\" transform=\"scale(0.015625)\"/>\n     </defs>\n     <use xlink:href=\"#DejaVuSans-52\"/>\n     <use xlink:href=\"#DejaVuSans-4f\" x=\"69.482422\"/>\n     <use xlink:href=\"#DejaVuSans-43\" x=\"148.193359\"/>\n     <use xlink:href=\"#DejaVuSans-20\" x=\"218.017578\"/>\n     <use xlink:href=\"#DejaVuSans-43\" x=\"249.804688\"/>\n     <use xlink:href=\"#DejaVuSans-75\" x=\"319.628906\"/>\n     <use xlink:href=\"#DejaVuSans-72\" x=\"383.007812\"/>\n     <use xlink:href=\"#DejaVuSans-76\" x=\"424.121094\"/>\n     <use xlink:href=\"#DejaVuSans-65\" x=\"483.300781\"/>\n     <use xlink:href=\"#DejaVuSans-73\" x=\"544.824219\"/>\n     <use xlink:href=\"#DejaVuSans-20\" x=\"596.923828\"/>\n     <use xlink:href=\"#DejaVuSans-66\" x=\"628.710938\"/>\n     <use xlink:href=\"#DejaVuSans-6f\" x=\"663.916016\"/>\n     <use xlink:href=\"#DejaVuSans-72\" x=\"725.097656\"/>\n     <use xlink:href=\"#DejaVuSans-20\" x=\"766.210938\"/>\n     <use xlink:href=\"#DejaVuSans-52\" x=\"797.998047\"/>\n     <use xlink:href=\"#DejaVuSans-61\" x=\"865.230469\"/>\n     <use xlink:href=\"#DejaVuSans-6e\" x=\"926.509766\"/>\n     <use xlink:href=\"#DejaVuSans-64\" x=\"989.888672\"/>\n     <use xlink:href=\"#DejaVuSans-6f\" x=\"1053.365234\"/>\n     <use xlink:href=\"#DejaVuSans-6d\" x=\"1114.546875\"/>\n     <use xlink:href=\"#DejaVuSans-46\" x=\"1211.958984\"/>\n     <use xlink:href=\"#DejaVuSans-6f\" x=\"1265.853516\"/>\n     <use xlink:href=\"#DejaVuSans-72\" x=\"1327.035156\"/>\n     <use xlink:href=\"#DejaVuSans-65\" x=\"1365.898438\"/>\n     <use xlink:href=\"#DejaVuSans-73\" x=\"1427.421875\"/>\n     <use xlink:href=\"#DejaVuSans-74\" x=\"1479.521484\"/>\n     <use xlink:href=\"#DejaVuSans-43\" x=\"1518.730469\"/>\n     <use xlink:href=\"#DejaVuSans-6c\" x=\"1588.554688\"/>\n     <use xlink:href=\"#DejaVuSans-61\" x=\"1616.337891\"/>\n     <use xlink:href=\"#DejaVuSans-73\" x=\"1677.617188\"/>\n     <use xlink:href=\"#DejaVuSans-73\" x=\"1729.716797\"/>\n     <use xlink:href=\"#DejaVuSans-69\" x=\"1781.816406\"/>\n     <use xlink:href=\"#DejaVuSans-66\" x=\"1809.599609\"/>\n     <use xlink:href=\"#DejaVuSans-69\" x=\"1844.804688\"/>\n     <use xlink:href=\"#DejaVuSans-65\" x=\"1872.587891\"/>\n     <use xlink:href=\"#DejaVuSans-72\" x=\"1934.111328\"/>\n    </g>\n   </g>\n   <g id=\"legend_1\">\n    <g id=\"patch_7\">\n     <path d=\"M 143.763125 234.758125 \nL 372.549062 234.758125 \nQ 374.549062 234.758125 374.549062 232.758125 \nL 374.549062 175.045625 \nQ 374.549062 173.045625 372.549062 173.045625 \nL 143.763125 173.045625 \nQ 141.763125 173.045625 141.763125 175.045625 \nL 141.763125 232.758125 \nQ 141.763125 234.758125 143.763125 234.758125 \nz\n\" style=\"fill: #ffffff; opacity: 0.8; stroke: #cccccc; stroke-width: 0.3; stroke-linejoin: miter\"/>\n    </g>\n    <g id=\"line2d_30\">\n     <path d=\"M 145.763125 181.144063 \nL 155.763125 181.144063 \nL 165.763125 181.144063 \n\" style=\"fill: none; stroke: #0272a2; stroke-width: 1.75; stroke-linecap: round\"/>\n    </g>\n    <g id=\"text_16\">\n     <!-- ROC of class 0, AUC = 0.74 -->\n     <g style=\"fill: #262626\" transform=\"translate(173.763125 184.644063)scale(0.1 -0.1)\">\n      <defs>\n       <path id=\"DejaVuSans-63\" d=\"M 3122 3366 \nL 3122 2828 \nQ 2878 2963 2633 3030 \nQ 2388 3097 2138 3097 \nQ 1578 3097 1268 2742 \nQ 959 2388 959 1747 \nQ 959 1106 1268 751 \nQ 1578 397 2138 397 \nQ 2388 397 2633 464 \nQ 2878 531 3122 666 \nL 3122 134 \nQ 2881 22 2623 -34 \nQ 2366 -91 2075 -91 \nQ 1284 -91 818 406 \nQ 353 903 353 1747 \nQ 353 2603 823 3093 \nQ 1294 3584 2113 3584 \nQ 2378 3584 2631 3529 \nQ 2884 3475 3122 3366 \nz\n\" transform=\"scale(0.015625)\"/>\n       <path id=\"DejaVuSans-2c\" d=\"M 750 794 \nL 1409 794 \nL 1409 256 \nL 897 -744 \nL 494 -744 \nL 750 256 \nL 750 794 \nz\n\" transform=\"scale(0.015625)\"/>\n       <path id=\"DejaVuSans-41\" d=\"M 2188 4044 \nL 1331 1722 \nL 3047 1722 \nL 2188 4044 \nz\nM 1831 4666 \nL 2547 4666 \nL 4325 0 \nL 3669 0 \nL 3244 1197 \nL 1141 1197 \nL 716 0 \nL 50 0 \nL 1831 4666 \nz\n\" transform=\"scale(0.015625)\"/>\n       <path id=\"DejaVuSans-55\" d=\"M 556 4666 \nL 1191 4666 \nL 1191 1831 \nQ 1191 1081 1462 751 \nQ 1734 422 2344 422 \nQ 2950 422 3222 751 \nQ 3494 1081 3494 1831 \nL 3494 4666 \nL 4128 4666 \nL 4128 1753 \nQ 4128 841 3676 375 \nQ 3225 -91 2344 -91 \nQ 1459 -91 1007 375 \nQ 556 841 556 1753 \nL 556 4666 \nz\n\" transform=\"scale(0.015625)\"/>\n       <path id=\"DejaVuSans-3d\" d=\"M 678 2906 \nL 4684 2906 \nL 4684 2381 \nL 678 2381 \nL 678 2906 \nz\nM 678 1631 \nL 4684 1631 \nL 4684 1100 \nL 678 1100 \nL 678 1631 \nz\n\" transform=\"scale(0.015625)\"/>\n       <path id=\"DejaVuSans-37\" d=\"M 525 4666 \nL 3525 4666 \nL 3525 4397 \nL 1831 0 \nL 1172 0 \nL 2766 4134 \nL 525 4134 \nL 525 4666 \nz\n\" transform=\"scale(0.015625)\"/>\n      </defs>\n      <use xlink:href=\"#DejaVuSans-52\"/>\n      <use xlink:href=\"#DejaVuSans-4f\" x=\"69.482422\"/>\n      <use xlink:href=\"#DejaVuSans-43\" x=\"148.193359\"/>\n      <use xlink:href=\"#DejaVuSans-20\" x=\"218.017578\"/>\n      <use xlink:href=\"#DejaVuSans-6f\" x=\"249.804688\"/>\n      <use xlink:href=\"#DejaVuSans-66\" x=\"310.986328\"/>\n      <use xlink:href=\"#DejaVuSans-20\" x=\"346.191406\"/>\n      <use xlink:href=\"#DejaVuSans-63\" x=\"377.978516\"/>\n      <use xlink:href=\"#DejaVuSans-6c\" x=\"432.958984\"/>\n      <use xlink:href=\"#DejaVuSans-61\" x=\"460.742188\"/>\n      <use xlink:href=\"#DejaVuSans-73\" x=\"522.021484\"/>\n      <use xlink:href=\"#DejaVuSans-73\" x=\"574.121094\"/>\n      <use xlink:href=\"#DejaVuSans-20\" x=\"626.220703\"/>\n      <use xlink:href=\"#DejaVuSans-30\" x=\"658.007812\"/>\n      <use xlink:href=\"#DejaVuSans-2c\" x=\"721.630859\"/>\n      <use xlink:href=\"#DejaVuSans-20\" x=\"753.417969\"/>\n      <use xlink:href=\"#DejaVuSans-41\" x=\"785.205078\"/>\n      <use xlink:href=\"#DejaVuSans-55\" x=\"853.613281\"/>\n      <use xlink:href=\"#DejaVuSans-43\" x=\"926.806641\"/>\n      <use xlink:href=\"#DejaVuSans-20\" x=\"996.630859\"/>\n      <use xlink:href=\"#DejaVuSans-3d\" x=\"1028.417969\"/>\n      <use xlink:href=\"#DejaVuSans-20\" x=\"1112.207031\"/>\n      <use xlink:href=\"#DejaVuSans-30\" x=\"1143.994141\"/>\n      <use xlink:href=\"#DejaVuSans-2e\" x=\"1207.617188\"/>\n      <use xlink:href=\"#DejaVuSans-37\" x=\"1239.404297\"/>\n      <use xlink:href=\"#DejaVuSans-34\" x=\"1303.027344\"/>\n     </g>\n    </g>\n    <g id=\"line2d_31\">\n     <path d=\"M 145.763125 195.822188 \nL 155.763125 195.822188 \nL 165.763125 195.822188 \n\" style=\"fill: none; stroke: #9fc377; stroke-width: 1.75; stroke-linecap: round\"/>\n    </g>\n    <g id=\"text_17\">\n     <!-- ROC of class 1, AUC = 0.74 -->\n     <g style=\"fill: #262626\" transform=\"translate(173.763125 199.322188)scale(0.1 -0.1)\">\n      <use xlink:href=\"#DejaVuSans-52\"/>\n      <use xlink:href=\"#DejaVuSans-4f\" x=\"69.482422\"/>\n      <use xlink:href=\"#DejaVuSans-43\" x=\"148.193359\"/>\n      <use xlink:href=\"#DejaVuSans-20\" x=\"218.017578\"/>\n      <use xlink:href=\"#DejaVuSans-6f\" x=\"249.804688\"/>\n      <use xlink:href=\"#DejaVuSans-66\" x=\"310.986328\"/>\n      <use xlink:href=\"#DejaVuSans-20\" x=\"346.191406\"/>\n      <use xlink:href=\"#DejaVuSans-63\" x=\"377.978516\"/>\n      <use xlink:href=\"#DejaVuSans-6c\" x=\"432.958984\"/>\n      <use xlink:href=\"#DejaVuSans-61\" x=\"460.742188\"/>\n      <use xlink:href=\"#DejaVuSans-73\" x=\"522.021484\"/>\n      <use xlink:href=\"#DejaVuSans-73\" x=\"574.121094\"/>\n      <use xlink:href=\"#DejaVuSans-20\" x=\"626.220703\"/>\n      <use xlink:href=\"#DejaVuSans-31\" x=\"658.007812\"/>\n      <use xlink:href=\"#DejaVuSans-2c\" x=\"721.630859\"/>\n      <use xlink:href=\"#DejaVuSans-20\" x=\"753.417969\"/>\n      <use xlink:href=\"#DejaVuSans-41\" x=\"785.205078\"/>\n      <use xlink:href=\"#DejaVuSans-55\" x=\"853.613281\"/>\n      <use xlink:href=\"#DejaVuSans-43\" x=\"926.806641\"/>\n      <use xlink:href=\"#DejaVuSans-20\" x=\"996.630859\"/>\n      <use xlink:href=\"#DejaVuSans-3d\" x=\"1028.417969\"/>\n      <use xlink:href=\"#DejaVuSans-20\" x=\"1112.207031\"/>\n      <use xlink:href=\"#DejaVuSans-30\" x=\"1143.994141\"/>\n      <use xlink:href=\"#DejaVuSans-2e\" x=\"1207.617188\"/>\n      <use xlink:href=\"#DejaVuSans-37\" x=\"1239.404297\"/>\n      <use xlink:href=\"#DejaVuSans-34\" x=\"1303.027344\"/>\n     </g>\n    </g>\n    <g id=\"line2d_32\">\n     <path d=\"M 145.763125 210.500313 \nL 155.763125 210.500313 \nL 165.763125 210.500313 \n\" style=\"fill: none; stroke-dasharray: 6.475,2.8; stroke-dashoffset: 0; stroke: #9fc377; stroke-width: 1.75\"/>\n    </g>\n    <g id=\"text_18\">\n     <!-- micro-average ROC curve, AUC = 0.86 -->\n     <g style=\"fill: #262626\" transform=\"translate(173.763125 214.000313)scale(0.1 -0.1)\">\n      <defs>\n       <path id=\"DejaVuSans-2d\" d=\"M 313 2009 \nL 1997 2009 \nL 1997 1497 \nL 313 1497 \nL 313 2009 \nz\n\" transform=\"scale(0.015625)\"/>\n       <path id=\"DejaVuSans-67\" d=\"M 2906 1791 \nQ 2906 2416 2648 2759 \nQ 2391 3103 1925 3103 \nQ 1463 3103 1205 2759 \nQ 947 2416 947 1791 \nQ 947 1169 1205 825 \nQ 1463 481 1925 481 \nQ 2391 481 2648 825 \nQ 2906 1169 2906 1791 \nz\nM 3481 434 \nQ 3481 -459 3084 -895 \nQ 2688 -1331 1869 -1331 \nQ 1566 -1331 1297 -1286 \nQ 1028 -1241 775 -1147 \nL 775 -588 \nQ 1028 -725 1275 -790 \nQ 1522 -856 1778 -856 \nQ 2344 -856 2625 -561 \nQ 2906 -266 2906 331 \nL 2906 616 \nQ 2728 306 2450 153 \nQ 2172 0 1784 0 \nQ 1141 0 747 490 \nQ 353 981 353 1791 \nQ 353 2603 747 3093 \nQ 1141 3584 1784 3584 \nQ 2172 3584 2450 3431 \nQ 2728 3278 2906 2969 \nL 2906 3500 \nL 3481 3500 \nL 3481 434 \nz\n\" transform=\"scale(0.015625)\"/>\n      </defs>\n      <use xlink:href=\"#DejaVuSans-6d\"/>\n      <use xlink:href=\"#DejaVuSans-69\" x=\"97.412109\"/>\n      <use xlink:href=\"#DejaVuSans-63\" x=\"125.195312\"/>\n      <use xlink:href=\"#DejaVuSans-72\" x=\"180.175781\"/>\n      <use xlink:href=\"#DejaVuSans-6f\" x=\"219.039062\"/>\n      <use xlink:href=\"#DejaVuSans-2d\" x=\"282.095703\"/>\n      <use xlink:href=\"#DejaVuSans-61\" x=\"318.179688\"/>\n      <use xlink:href=\"#DejaVuSans-76\" x=\"379.458984\"/>\n      <use xlink:href=\"#DejaVuSans-65\" x=\"438.638672\"/>\n      <use xlink:href=\"#DejaVuSans-72\" x=\"500.162109\"/>\n      <use xlink:href=\"#DejaVuSans-61\" x=\"541.275391\"/>\n      <use xlink:href=\"#DejaVuSans-67\" x=\"602.554688\"/>\n      <use xlink:href=\"#DejaVuSans-65\" x=\"666.03125\"/>\n      <use xlink:href=\"#DejaVuSans-20\" x=\"727.554688\"/>\n      <use xlink:href=\"#DejaVuSans-52\" x=\"759.341797\"/>\n      <use xlink:href=\"#DejaVuSans-4f\" x=\"828.824219\"/>\n      <use xlink:href=\"#DejaVuSans-43\" x=\"907.535156\"/>\n      <use xlink:href=\"#DejaVuSans-20\" x=\"977.359375\"/>\n      <use xlink:href=\"#DejaVuSans-63\" x=\"1009.146484\"/>\n      <use xlink:href=\"#DejaVuSans-75\" x=\"1064.126953\"/>\n      <use xlink:href=\"#DejaVuSans-72\" x=\"1127.505859\"/>\n      <use xlink:href=\"#DejaVuSans-76\" x=\"1168.619141\"/>\n      <use xlink:href=\"#DejaVuSans-65\" x=\"1227.798828\"/>\n      <use xlink:href=\"#DejaVuSans-2c\" x=\"1289.322266\"/>\n      <use xlink:href=\"#DejaVuSans-20\" x=\"1321.109375\"/>\n      <use xlink:href=\"#DejaVuSans-41\" x=\"1352.896484\"/>\n      <use xlink:href=\"#DejaVuSans-55\" x=\"1421.304688\"/>\n      <use xlink:href=\"#DejaVuSans-43\" x=\"1494.498047\"/>\n      <use xlink:href=\"#DejaVuSans-20\" x=\"1564.322266\"/>\n      <use xlink:href=\"#DejaVuSans-3d\" x=\"1596.109375\"/>\n      <use xlink:href=\"#DejaVuSans-20\" x=\"1679.898438\"/>\n      <use xlink:href=\"#DejaVuSans-30\" x=\"1711.685547\"/>\n      <use xlink:href=\"#DejaVuSans-2e\" x=\"1775.308594\"/>\n      <use xlink:href=\"#DejaVuSans-38\" x=\"1807.095703\"/>\n      <use xlink:href=\"#DejaVuSans-36\" x=\"1870.71875\"/>\n     </g>\n    </g>\n    <g id=\"line2d_33\">\n     <path d=\"M 145.763125 225.178438 \nL 155.763125 225.178438 \nL 165.763125 225.178438 \n\" style=\"fill: none; stroke-dasharray: 6.475,2.8; stroke-dashoffset: 0; stroke: #9fc377; stroke-width: 1.75\"/>\n    </g>\n    <g id=\"text_19\">\n     <!-- macro-average ROC curve, AUC = 0.74 -->\n     <g style=\"fill: #262626\" transform=\"translate(173.763125 228.678438)scale(0.1 -0.1)\">\n      <use xlink:href=\"#DejaVuSans-6d\"/>\n      <use xlink:href=\"#DejaVuSans-61\" x=\"97.412109\"/>\n      <use xlink:href=\"#DejaVuSans-63\" x=\"158.691406\"/>\n      <use xlink:href=\"#DejaVuSans-72\" x=\"213.671875\"/>\n      <use xlink:href=\"#DejaVuSans-6f\" x=\"252.535156\"/>\n      <use xlink:href=\"#DejaVuSans-2d\" x=\"315.591797\"/>\n      <use xlink:href=\"#DejaVuSans-61\" x=\"351.675781\"/>\n      <use xlink:href=\"#DejaVuSans-76\" x=\"412.955078\"/>\n      <use xlink:href=\"#DejaVuSans-65\" x=\"472.134766\"/>\n      <use xlink:href=\"#DejaVuSans-72\" x=\"533.658203\"/>\n      <use xlink:href=\"#DejaVuSans-61\" x=\"574.771484\"/>\n      <use xlink:href=\"#DejaVuSans-67\" x=\"636.050781\"/>\n      <use xlink:href=\"#DejaVuSans-65\" x=\"699.527344\"/>\n      <use xlink:href=\"#DejaVuSans-20\" x=\"761.050781\"/>\n      <use xlink:href=\"#DejaVuSans-52\" x=\"792.837891\"/>\n      <use xlink:href=\"#DejaVuSans-4f\" x=\"862.320312\"/>\n      <use xlink:href=\"#DejaVuSans-43\" x=\"941.03125\"/>\n      <use xlink:href=\"#DejaVuSans-20\" x=\"1010.855469\"/>\n      <use xlink:href=\"#DejaVuSans-63\" x=\"1042.642578\"/>\n      <use xlink:href=\"#DejaVuSans-75\" x=\"1097.623047\"/>\n      <use xlink:href=\"#DejaVuSans-72\" x=\"1161.001953\"/>\n      <use xlink:href=\"#DejaVuSans-76\" x=\"1202.115234\"/>\n      <use xlink:href=\"#DejaVuSans-65\" x=\"1261.294922\"/>\n      <use xlink:href=\"#DejaVuSans-2c\" x=\"1322.818359\"/>\n      <use xlink:href=\"#DejaVuSans-20\" x=\"1354.605469\"/>\n      <use xlink:href=\"#DejaVuSans-41\" x=\"1386.392578\"/>\n      <use xlink:href=\"#DejaVuSans-55\" x=\"1454.800781\"/>\n      <use xlink:href=\"#DejaVuSans-43\" x=\"1527.994141\"/>\n      <use xlink:href=\"#DejaVuSans-20\" x=\"1597.818359\"/>\n      <use xlink:href=\"#DejaVuSans-3d\" x=\"1629.605469\"/>\n      <use xlink:href=\"#DejaVuSans-20\" x=\"1713.394531\"/>\n      <use xlink:href=\"#DejaVuSans-30\" x=\"1745.181641\"/>\n      <use xlink:href=\"#DejaVuSans-2e\" x=\"1808.804688\"/>\n      <use xlink:href=\"#DejaVuSans-37\" x=\"1840.591797\"/>\n      <use xlink:href=\"#DejaVuSans-34\" x=\"1904.214844\"/>\n     </g>\n    </g>\n   </g>\n  </g>\n </g>\n <defs>\n  <clipPath id=\"pd3e944079f\">\n   <rect x=\"44.749063\" y=\"22.318125\" width=\"334.8\" height=\"217.44\"/>\n  </clipPath>\n </defs>\n</svg>\n",
      "text/plain": [
       "<Figure size 432x288 with 1 Axes>"
      ]
     },
     "metadata": {
      "needs_background": "light"
     },
     "output_type": "display_data"
    }
   ],
   "source": [
    "plot_model(tuned_rf, plot = 'auc')"
   ]
  },
  {
   "cell_type": "markdown",
   "metadata": {
    "colab_type": "text",
    "id": "bwyoTUDQEQrm"
   },
   "source": [
    "### 10.2 Precision-Recall Curve"
   ]
  },
  {
   "cell_type": "raw",
   "metadata": {},
   "source": [
    "Precision-Recall Curve\n",
    "https://ardentdays.tistory.com/20"
   ]
  },
  {
   "cell_type": "code",
   "execution_count": 22,
   "metadata": {
    "colab": {},
    "colab_type": "code",
    "id": "4IvchQoiEQrr",
    "outputId": "fdff2076-86fc-42f5-beee-f0051ea30dd4"
   },
   "outputs": [
    {
     "data": {
      "image/svg+xml": "<?xml version=\"1.0\" encoding=\"utf-8\" standalone=\"no\"?>\n<!DOCTYPE svg PUBLIC \"-//W3C//DTD SVG 1.1//EN\"\n  \"http://www.w3.org/Graphics/SVG/1.1/DTD/svg11.dtd\">\n<svg xmlns:xlink=\"http://www.w3.org/1999/xlink\" width=\"394.700625pt\" height=\"278.282188pt\" viewBox=\"0 0 394.700625 278.282188\" xmlns=\"http://www.w3.org/2000/svg\" version=\"1.1\">\n <metadata>\n  <rdf:RDF xmlns:dc=\"http://purl.org/dc/elements/1.1/\" xmlns:cc=\"http://creativecommons.org/ns#\" xmlns:rdf=\"http://www.w3.org/1999/02/22-rdf-syntax-ns#\">\n   <cc:Work>\n    <dc:type rdf:resource=\"http://purl.org/dc/dcmitype/StillImage\"/>\n    <dc:date>2022-05-22T21:46:49.093100</dc:date>\n    <dc:format>image/svg+xml</dc:format>\n    <dc:creator>\n     <cc:Agent>\n      <dc:title>Matplotlib v3.5.2, https://matplotlib.org/</dc:title>\n     </cc:Agent>\n    </dc:creator>\n   </cc:Work>\n  </rdf:RDF>\n </metadata>\n <defs>\n  <style type=\"text/css\">*{stroke-linejoin: round; stroke-linecap: butt}</style>\n </defs>\n <g id=\"figure_1\">\n  <g id=\"patch_1\">\n   <path d=\"M 0 278.282188 \nL 394.700625 278.282188 \nL 394.700625 0 \nL 0 0 \nL 0 278.282188 \nz\n\" style=\"fill: none\"/>\n  </g>\n  <g id=\"axes_1\">\n   <g id=\"patch_2\">\n    <path d=\"M 44.749063 239.758125 \nL 379.549062 239.758125 \nL 379.549062 22.318125 \nL 44.749063 22.318125 \nz\n\" style=\"fill: #ffffff\"/>\n   </g>\n   <g id=\"matplotlib.axis_1\">\n    <g id=\"xtick_1\">\n     <g id=\"line2d_1\"/>\n     <g id=\"text_1\">\n      <!-- 0.0 -->\n      <g style=\"fill: #262626\" transform=\"translate(36.7975 254.356563)scale(0.1 -0.1)\">\n       <defs>\n        <path id=\"DejaVuSans-30\" d=\"M 2034 4250 \nQ 1547 4250 1301 3770 \nQ 1056 3291 1056 2328 \nQ 1056 1369 1301 889 \nQ 1547 409 2034 409 \nQ 2525 409 2770 889 \nQ 3016 1369 3016 2328 \nQ 3016 3291 2770 3770 \nQ 2525 4250 2034 4250 \nz\nM 2034 4750 \nQ 2819 4750 3233 4129 \nQ 3647 3509 3647 2328 \nQ 3647 1150 3233 529 \nQ 2819 -91 2034 -91 \nQ 1250 -91 836 529 \nQ 422 1150 422 2328 \nQ 422 3509 836 4129 \nQ 1250 4750 2034 4750 \nz\n\" transform=\"scale(0.015625)\"/>\n        <path id=\"DejaVuSans-2e\" d=\"M 684 794 \nL 1344 794 \nL 1344 0 \nL 684 0 \nL 684 794 \nz\n\" transform=\"scale(0.015625)\"/>\n       </defs>\n       <use xlink:href=\"#DejaVuSans-30\"/>\n       <use xlink:href=\"#DejaVuSans-2e\" x=\"63.623047\"/>\n       <use xlink:href=\"#DejaVuSans-30\" x=\"95.410156\"/>\n      </g>\n     </g>\n    </g>\n    <g id=\"xtick_2\">\n     <g id=\"line2d_2\"/>\n     <g id=\"text_2\">\n      <!-- 0.2 -->\n      <g style=\"fill: #262626\" transform=\"translate(103.7575 254.356563)scale(0.1 -0.1)\">\n       <defs>\n        <path id=\"DejaVuSans-32\" d=\"M 1228 531 \nL 3431 531 \nL 3431 0 \nL 469 0 \nL 469 531 \nQ 828 903 1448 1529 \nQ 2069 2156 2228 2338 \nQ 2531 2678 2651 2914 \nQ 2772 3150 2772 3378 \nQ 2772 3750 2511 3984 \nQ 2250 4219 1831 4219 \nQ 1534 4219 1204 4116 \nQ 875 4013 500 3803 \nL 500 4441 \nQ 881 4594 1212 4672 \nQ 1544 4750 1819 4750 \nQ 2544 4750 2975 4387 \nQ 3406 4025 3406 3419 \nQ 3406 3131 3298 2873 \nQ 3191 2616 2906 2266 \nQ 2828 2175 2409 1742 \nQ 1991 1309 1228 531 \nz\n\" transform=\"scale(0.015625)\"/>\n       </defs>\n       <use xlink:href=\"#DejaVuSans-30\"/>\n       <use xlink:href=\"#DejaVuSans-2e\" x=\"63.623047\"/>\n       <use xlink:href=\"#DejaVuSans-32\" x=\"95.410156\"/>\n      </g>\n     </g>\n    </g>\n    <g id=\"xtick_3\">\n     <g id=\"line2d_3\"/>\n     <g id=\"text_3\">\n      <!-- 0.4 -->\n      <g style=\"fill: #262626\" transform=\"translate(170.7175 254.356563)scale(0.1 -0.1)\">\n       <defs>\n        <path id=\"DejaVuSans-34\" d=\"M 2419 4116 \nL 825 1625 \nL 2419 1625 \nL 2419 4116 \nz\nM 2253 4666 \nL 3047 4666 \nL 3047 1625 \nL 3713 1625 \nL 3713 1100 \nL 3047 1100 \nL 3047 0 \nL 2419 0 \nL 2419 1100 \nL 313 1100 \nL 313 1709 \nL 2253 4666 \nz\n\" transform=\"scale(0.015625)\"/>\n       </defs>\n       <use xlink:href=\"#DejaVuSans-30\"/>\n       <use xlink:href=\"#DejaVuSans-2e\" x=\"63.623047\"/>\n       <use xlink:href=\"#DejaVuSans-34\" x=\"95.410156\"/>\n      </g>\n     </g>\n    </g>\n    <g id=\"xtick_4\">\n     <g id=\"line2d_4\"/>\n     <g id=\"text_4\">\n      <!-- 0.6 -->\n      <g style=\"fill: #262626\" transform=\"translate(237.6775 254.356563)scale(0.1 -0.1)\">\n       <defs>\n        <path id=\"DejaVuSans-36\" d=\"M 2113 2584 \nQ 1688 2584 1439 2293 \nQ 1191 2003 1191 1497 \nQ 1191 994 1439 701 \nQ 1688 409 2113 409 \nQ 2538 409 2786 701 \nQ 3034 994 3034 1497 \nQ 3034 2003 2786 2293 \nQ 2538 2584 2113 2584 \nz\nM 3366 4563 \nL 3366 3988 \nQ 3128 4100 2886 4159 \nQ 2644 4219 2406 4219 \nQ 1781 4219 1451 3797 \nQ 1122 3375 1075 2522 \nQ 1259 2794 1537 2939 \nQ 1816 3084 2150 3084 \nQ 2853 3084 3261 2657 \nQ 3669 2231 3669 1497 \nQ 3669 778 3244 343 \nQ 2819 -91 2113 -91 \nQ 1303 -91 875 529 \nQ 447 1150 447 2328 \nQ 447 3434 972 4092 \nQ 1497 4750 2381 4750 \nQ 2619 4750 2861 4703 \nQ 3103 4656 3366 4563 \nz\n\" transform=\"scale(0.015625)\"/>\n       </defs>\n       <use xlink:href=\"#DejaVuSans-30\"/>\n       <use xlink:href=\"#DejaVuSans-2e\" x=\"63.623047\"/>\n       <use xlink:href=\"#DejaVuSans-36\" x=\"95.410156\"/>\n      </g>\n     </g>\n    </g>\n    <g id=\"xtick_5\">\n     <g id=\"line2d_5\"/>\n     <g id=\"text_5\">\n      <!-- 0.8 -->\n      <g style=\"fill: #262626\" transform=\"translate(304.6375 254.356563)scale(0.1 -0.1)\">\n       <defs>\n        <path id=\"DejaVuSans-38\" d=\"M 2034 2216 \nQ 1584 2216 1326 1975 \nQ 1069 1734 1069 1313 \nQ 1069 891 1326 650 \nQ 1584 409 2034 409 \nQ 2484 409 2743 651 \nQ 3003 894 3003 1313 \nQ 3003 1734 2745 1975 \nQ 2488 2216 2034 2216 \nz\nM 1403 2484 \nQ 997 2584 770 2862 \nQ 544 3141 544 3541 \nQ 544 4100 942 4425 \nQ 1341 4750 2034 4750 \nQ 2731 4750 3128 4425 \nQ 3525 4100 3525 3541 \nQ 3525 3141 3298 2862 \nQ 3072 2584 2669 2484 \nQ 3125 2378 3379 2068 \nQ 3634 1759 3634 1313 \nQ 3634 634 3220 271 \nQ 2806 -91 2034 -91 \nQ 1263 -91 848 271 \nQ 434 634 434 1313 \nQ 434 1759 690 2068 \nQ 947 2378 1403 2484 \nz\nM 1172 3481 \nQ 1172 3119 1398 2916 \nQ 1625 2713 2034 2713 \nQ 2441 2713 2670 2916 \nQ 2900 3119 2900 3481 \nQ 2900 3844 2670 4047 \nQ 2441 4250 2034 4250 \nQ 1625 4250 1398 4047 \nQ 1172 3844 1172 3481 \nz\n\" transform=\"scale(0.015625)\"/>\n       </defs>\n       <use xlink:href=\"#DejaVuSans-30\"/>\n       <use xlink:href=\"#DejaVuSans-2e\" x=\"63.623047\"/>\n       <use xlink:href=\"#DejaVuSans-38\" x=\"95.410156\"/>\n      </g>\n     </g>\n    </g>\n    <g id=\"xtick_6\">\n     <g id=\"line2d_6\"/>\n     <g id=\"text_6\">\n      <!-- 1.0 -->\n      <g style=\"fill: #262626\" transform=\"translate(371.5975 254.356563)scale(0.1 -0.1)\">\n       <defs>\n        <path id=\"DejaVuSans-31\" d=\"M 794 531 \nL 1825 531 \nL 1825 4091 \nL 703 3866 \nL 703 4441 \nL 1819 4666 \nL 2450 4666 \nL 2450 531 \nL 3481 531 \nL 3481 0 \nL 794 0 \nL 794 531 \nz\n\" transform=\"scale(0.015625)\"/>\n       </defs>\n       <use xlink:href=\"#DejaVuSans-31\"/>\n       <use xlink:href=\"#DejaVuSans-2e\" x=\"63.623047\"/>\n       <use xlink:href=\"#DejaVuSans-30\" x=\"95.410156\"/>\n      </g>\n     </g>\n    </g>\n    <g id=\"text_7\">\n     <!-- Recall -->\n     <g style=\"fill: #262626\" transform=\"translate(195.740156 268.794531)scale(0.11 -0.11)\">\n      <defs>\n       <path id=\"DejaVuSans-52\" d=\"M 2841 2188 \nQ 3044 2119 3236 1894 \nQ 3428 1669 3622 1275 \nL 4263 0 \nL 3584 0 \nL 2988 1197 \nQ 2756 1666 2539 1819 \nQ 2322 1972 1947 1972 \nL 1259 1972 \nL 1259 0 \nL 628 0 \nL 628 4666 \nL 2053 4666 \nQ 2853 4666 3247 4331 \nQ 3641 3997 3641 3322 \nQ 3641 2881 3436 2590 \nQ 3231 2300 2841 2188 \nz\nM 1259 4147 \nL 1259 2491 \nL 2053 2491 \nQ 2509 2491 2742 2702 \nQ 2975 2913 2975 3322 \nQ 2975 3731 2742 3939 \nQ 2509 4147 2053 4147 \nL 1259 4147 \nz\n\" transform=\"scale(0.015625)\"/>\n       <path id=\"DejaVuSans-65\" d=\"M 3597 1894 \nL 3597 1613 \nL 953 1613 \nQ 991 1019 1311 708 \nQ 1631 397 2203 397 \nQ 2534 397 2845 478 \nQ 3156 559 3463 722 \nL 3463 178 \nQ 3153 47 2828 -22 \nQ 2503 -91 2169 -91 \nQ 1331 -91 842 396 \nQ 353 884 353 1716 \nQ 353 2575 817 3079 \nQ 1281 3584 2069 3584 \nQ 2775 3584 3186 3129 \nQ 3597 2675 3597 1894 \nz\nM 3022 2063 \nQ 3016 2534 2758 2815 \nQ 2500 3097 2075 3097 \nQ 1594 3097 1305 2825 \nQ 1016 2553 972 2059 \nL 3022 2063 \nz\n\" transform=\"scale(0.015625)\"/>\n       <path id=\"DejaVuSans-63\" d=\"M 3122 3366 \nL 3122 2828 \nQ 2878 2963 2633 3030 \nQ 2388 3097 2138 3097 \nQ 1578 3097 1268 2742 \nQ 959 2388 959 1747 \nQ 959 1106 1268 751 \nQ 1578 397 2138 397 \nQ 2388 397 2633 464 \nQ 2878 531 3122 666 \nL 3122 134 \nQ 2881 22 2623 -34 \nQ 2366 -91 2075 -91 \nQ 1284 -91 818 406 \nQ 353 903 353 1747 \nQ 353 2603 823 3093 \nQ 1294 3584 2113 3584 \nQ 2378 3584 2631 3529 \nQ 2884 3475 3122 3366 \nz\n\" transform=\"scale(0.015625)\"/>\n       <path id=\"DejaVuSans-61\" d=\"M 2194 1759 \nQ 1497 1759 1228 1600 \nQ 959 1441 959 1056 \nQ 959 750 1161 570 \nQ 1363 391 1709 391 \nQ 2188 391 2477 730 \nQ 2766 1069 2766 1631 \nL 2766 1759 \nL 2194 1759 \nz\nM 3341 1997 \nL 3341 0 \nL 2766 0 \nL 2766 531 \nQ 2569 213 2275 61 \nQ 1981 -91 1556 -91 \nQ 1019 -91 701 211 \nQ 384 513 384 1019 \nQ 384 1609 779 1909 \nQ 1175 2209 1959 2209 \nL 2766 2209 \nL 2766 2266 \nQ 2766 2663 2505 2880 \nQ 2244 3097 1772 3097 \nQ 1472 3097 1187 3025 \nQ 903 2953 641 2809 \nL 641 3341 \nQ 956 3463 1253 3523 \nQ 1550 3584 1831 3584 \nQ 2591 3584 2966 3190 \nQ 3341 2797 3341 1997 \nz\n\" transform=\"scale(0.015625)\"/>\n       <path id=\"DejaVuSans-6c\" d=\"M 603 4863 \nL 1178 4863 \nL 1178 0 \nL 603 0 \nL 603 4863 \nz\n\" transform=\"scale(0.015625)\"/>\n      </defs>\n      <use xlink:href=\"#DejaVuSans-52\"/>\n      <use xlink:href=\"#DejaVuSans-65\" x=\"64.982422\"/>\n      <use xlink:href=\"#DejaVuSans-63\" x=\"126.505859\"/>\n      <use xlink:href=\"#DejaVuSans-61\" x=\"181.486328\"/>\n      <use xlink:href=\"#DejaVuSans-6c\" x=\"242.765625\"/>\n      <use xlink:href=\"#DejaVuSans-6c\" x=\"270.548828\"/>\n     </g>\n    </g>\n   </g>\n   <g id=\"matplotlib.axis_2\">\n    <g id=\"ytick_1\">\n     <g id=\"line2d_7\"/>\n     <g id=\"text_8\">\n      <!-- 0.0 -->\n      <g style=\"fill: #262626\" transform=\"translate(21.845938 243.557344)scale(0.1 -0.1)\">\n       <use xlink:href=\"#DejaVuSans-30\"/>\n       <use xlink:href=\"#DejaVuSans-2e\" x=\"63.623047\"/>\n       <use xlink:href=\"#DejaVuSans-30\" x=\"95.410156\"/>\n      </g>\n     </g>\n    </g>\n    <g id=\"ytick_2\">\n     <g id=\"line2d_8\"/>\n     <g id=\"text_9\">\n      <!-- 0.2 -->\n      <g style=\"fill: #262626\" transform=\"translate(21.845938 200.069344)scale(0.1 -0.1)\">\n       <use xlink:href=\"#DejaVuSans-30\"/>\n       <use xlink:href=\"#DejaVuSans-2e\" x=\"63.623047\"/>\n       <use xlink:href=\"#DejaVuSans-32\" x=\"95.410156\"/>\n      </g>\n     </g>\n    </g>\n    <g id=\"ytick_3\">\n     <g id=\"line2d_9\"/>\n     <g id=\"text_10\">\n      <!-- 0.4 -->\n      <g style=\"fill: #262626\" transform=\"translate(21.845938 156.581344)scale(0.1 -0.1)\">\n       <use xlink:href=\"#DejaVuSans-30\"/>\n       <use xlink:href=\"#DejaVuSans-2e\" x=\"63.623047\"/>\n       <use xlink:href=\"#DejaVuSans-34\" x=\"95.410156\"/>\n      </g>\n     </g>\n    </g>\n    <g id=\"ytick_4\">\n     <g id=\"line2d_10\"/>\n     <g id=\"text_11\">\n      <!-- 0.6 -->\n      <g style=\"fill: #262626\" transform=\"translate(21.845938 113.093344)scale(0.1 -0.1)\">\n       <use xlink:href=\"#DejaVuSans-30\"/>\n       <use xlink:href=\"#DejaVuSans-2e\" x=\"63.623047\"/>\n       <use xlink:href=\"#DejaVuSans-36\" x=\"95.410156\"/>\n      </g>\n     </g>\n    </g>\n    <g id=\"ytick_5\">\n     <g id=\"line2d_11\"/>\n     <g id=\"text_12\">\n      <!-- 0.8 -->\n      <g style=\"fill: #262626\" transform=\"translate(21.845938 69.605344)scale(0.1 -0.1)\">\n       <use xlink:href=\"#DejaVuSans-30\"/>\n       <use xlink:href=\"#DejaVuSans-2e\" x=\"63.623047\"/>\n       <use xlink:href=\"#DejaVuSans-38\" x=\"95.410156\"/>\n      </g>\n     </g>\n    </g>\n    <g id=\"ytick_6\">\n     <g id=\"line2d_12\"/>\n     <g id=\"text_13\">\n      <!-- 1.0 -->\n      <g style=\"fill: #262626\" transform=\"translate(21.845938 26.117344)scale(0.1 -0.1)\">\n       <use xlink:href=\"#DejaVuSans-31\"/>\n       <use xlink:href=\"#DejaVuSans-2e\" x=\"63.623047\"/>\n       <use xlink:href=\"#DejaVuSans-30\" x=\"95.410156\"/>\n      </g>\n     </g>\n    </g>\n    <g id=\"text_14\">\n     <!-- Precision -->\n     <g style=\"fill: #262626\" transform=\"translate(15.558281 155.575859)rotate(-90)scale(0.11 -0.11)\">\n      <defs>\n       <path id=\"DejaVuSans-50\" d=\"M 1259 4147 \nL 1259 2394 \nL 2053 2394 \nQ 2494 2394 2734 2622 \nQ 2975 2850 2975 3272 \nQ 2975 3691 2734 3919 \nQ 2494 4147 2053 4147 \nL 1259 4147 \nz\nM 628 4666 \nL 2053 4666 \nQ 2838 4666 3239 4311 \nQ 3641 3956 3641 3272 \nQ 3641 2581 3239 2228 \nQ 2838 1875 2053 1875 \nL 1259 1875 \nL 1259 0 \nL 628 0 \nL 628 4666 \nz\n\" transform=\"scale(0.015625)\"/>\n       <path id=\"DejaVuSans-72\" d=\"M 2631 2963 \nQ 2534 3019 2420 3045 \nQ 2306 3072 2169 3072 \nQ 1681 3072 1420 2755 \nQ 1159 2438 1159 1844 \nL 1159 0 \nL 581 0 \nL 581 3500 \nL 1159 3500 \nL 1159 2956 \nQ 1341 3275 1631 3429 \nQ 1922 3584 2338 3584 \nQ 2397 3584 2469 3576 \nQ 2541 3569 2628 3553 \nL 2631 2963 \nz\n\" transform=\"scale(0.015625)\"/>\n       <path id=\"DejaVuSans-69\" d=\"M 603 3500 \nL 1178 3500 \nL 1178 0 \nL 603 0 \nL 603 3500 \nz\nM 603 4863 \nL 1178 4863 \nL 1178 4134 \nL 603 4134 \nL 603 4863 \nz\n\" transform=\"scale(0.015625)\"/>\n       <path id=\"DejaVuSans-73\" d=\"M 2834 3397 \nL 2834 2853 \nQ 2591 2978 2328 3040 \nQ 2066 3103 1784 3103 \nQ 1356 3103 1142 2972 \nQ 928 2841 928 2578 \nQ 928 2378 1081 2264 \nQ 1234 2150 1697 2047 \nL 1894 2003 \nQ 2506 1872 2764 1633 \nQ 3022 1394 3022 966 \nQ 3022 478 2636 193 \nQ 2250 -91 1575 -91 \nQ 1294 -91 989 -36 \nQ 684 19 347 128 \nL 347 722 \nQ 666 556 975 473 \nQ 1284 391 1588 391 \nQ 1994 391 2212 530 \nQ 2431 669 2431 922 \nQ 2431 1156 2273 1281 \nQ 2116 1406 1581 1522 \nL 1381 1569 \nQ 847 1681 609 1914 \nQ 372 2147 372 2553 \nQ 372 3047 722 3315 \nQ 1072 3584 1716 3584 \nQ 2034 3584 2315 3537 \nQ 2597 3491 2834 3397 \nz\n\" transform=\"scale(0.015625)\"/>\n       <path id=\"DejaVuSans-6f\" d=\"M 1959 3097 \nQ 1497 3097 1228 2736 \nQ 959 2375 959 1747 \nQ 959 1119 1226 758 \nQ 1494 397 1959 397 \nQ 2419 397 2687 759 \nQ 2956 1122 2956 1747 \nQ 2956 2369 2687 2733 \nQ 2419 3097 1959 3097 \nz\nM 1959 3584 \nQ 2709 3584 3137 3096 \nQ 3566 2609 3566 1747 \nQ 3566 888 3137 398 \nQ 2709 -91 1959 -91 \nQ 1206 -91 779 398 \nQ 353 888 353 1747 \nQ 353 2609 779 3096 \nQ 1206 3584 1959 3584 \nz\n\" transform=\"scale(0.015625)\"/>\n       <path id=\"DejaVuSans-6e\" d=\"M 3513 2113 \nL 3513 0 \nL 2938 0 \nL 2938 2094 \nQ 2938 2591 2744 2837 \nQ 2550 3084 2163 3084 \nQ 1697 3084 1428 2787 \nQ 1159 2491 1159 1978 \nL 1159 0 \nL 581 0 \nL 581 3500 \nL 1159 3500 \nL 1159 2956 \nQ 1366 3272 1645 3428 \nQ 1925 3584 2291 3584 \nQ 2894 3584 3203 3211 \nQ 3513 2838 3513 2113 \nz\n\" transform=\"scale(0.015625)\"/>\n      </defs>\n      <use xlink:href=\"#DejaVuSans-50\"/>\n      <use xlink:href=\"#DejaVuSans-72\" x=\"58.552734\"/>\n      <use xlink:href=\"#DejaVuSans-65\" x=\"97.416016\"/>\n      <use xlink:href=\"#DejaVuSans-63\" x=\"158.939453\"/>\n      <use xlink:href=\"#DejaVuSans-69\" x=\"213.919922\"/>\n      <use xlink:href=\"#DejaVuSans-73\" x=\"241.703125\"/>\n      <use xlink:href=\"#DejaVuSans-69\" x=\"293.802734\"/>\n      <use xlink:href=\"#DejaVuSans-6f\" x=\"321.585938\"/>\n      <use xlink:href=\"#DejaVuSans-6e\" x=\"382.767578\"/>\n     </g>\n    </g>\n   </g>\n   <g id=\"PolyCollection_1\">\n    <path d=\"M 379.549062 239.758125 \nL 379.549062 190.364504 \nL 378.256398 190.364504 \nL 378.256398 190.461534 \nL 331.289603 190.461534 \nL 331.289603 175.663444 \nL 322.671842 175.663444 \nL 322.671842 172.81359 \nL 322.456398 172.81359 \nL 322.456398 172.83354 \nL 273.550607 172.83354 \nL 273.550607 160.047638 \nL 250.498097 160.047638 \nL 250.498097 148.199395 \nL 250.067209 148.199395 \nL 250.067209 148.229715 \nL 243.819333 148.229715 \nL 243.819333 145.210097 \nL 217.319719 145.210097 \nL 217.319719 130.560984 \nL 208.27107 130.560984 \nL 208.27107 121.282203 \nL 208.27107 121.282203 \nL 208.27107 121.197091 \nL 208.27107 121.197091 \nL 208.27107 121.026499 \nL 208.055626 121.026499 \nL 208.055626 121.012073 \nL 177.247132 121.012073 \nL 177.247132 105.495474 \nL 167.336707 105.495474 \nL 167.336707 99.163398 \nL 159.796167 99.163398 \nL 159.796167 95.339021 \nL 159.796167 95.339021 \nL 159.796167 95.159171 \nL 142.77609 95.159171 \nL 142.77609 84.199634 \nL 142.77609 84.199634 \nL 142.77609 83.95466 \nL 140.621649 83.95466 \nL 140.621649 83.943632 \nL 139.975317 83.943632 \nL 139.975317 83.737865 \nL 139.975317 83.737865 \nL 139.975317 83.484174 \nL 137.820877 83.484174 \nL 137.820877 81.885722 \nL 130.711225 81.885722 \nL 130.711225 83.436395 \nL 85.898869 83.436395 \nL 85.898869 74.952411 \nL 85.037093 74.952411 \nL 85.037093 74.468369 \nL 84.175317 74.468369 \nL 84.175317 74.648084 \nL 55.090375 74.648084 \nL 55.090375 71.41748 \nL 47.549835 71.41748 \nL 47.549835 73.480478 \nL 44.749063 73.480478 \nL 44.749063 22.318125 \nL 44.749063 239.758125 \nL 44.749063 239.758125 \nL 44.749063 239.758125 \nL 47.549835 239.758125 \nL 47.549835 239.758125 \nL 55.090375 239.758125 \nL 55.090375 239.758125 \nL 84.175317 239.758125 \nL 84.175317 239.758125 \nL 85.037093 239.758125 \nL 85.037093 239.758125 \nL 85.898869 239.758125 \nL 85.898869 239.758125 \nL 130.711225 239.758125 \nL 130.711225 239.758125 \nL 137.820877 239.758125 \nL 137.820877 239.758125 \nL 139.975317 239.758125 \nL 139.975317 239.758125 \nL 139.975317 239.758125 \nL 139.975317 239.758125 \nL 140.621649 239.758125 \nL 140.621649 239.758125 \nL 142.77609 239.758125 \nL 142.77609 239.758125 \nL 142.77609 239.758125 \nL 142.77609 239.758125 \nL 159.796167 239.758125 \nL 159.796167 239.758125 \nL 159.796167 239.758125 \nL 159.796167 239.758125 \nL 167.336707 239.758125 \nL 167.336707 239.758125 \nL 177.247132 239.758125 \nL 177.247132 239.758125 \nL 208.055626 239.758125 \nL 208.055626 239.758125 \nL 208.27107 239.758125 \nL 208.27107 239.758125 \nL 208.27107 239.758125 \nL 208.27107 239.758125 \nL 208.27107 239.758125 \nL 208.27107 239.758125 \nL 217.319719 239.758125 \nL 217.319719 239.758125 \nL 243.819333 239.758125 \nL 243.819333 239.758125 \nL 250.067209 239.758125 \nL 250.067209 239.758125 \nL 250.498097 239.758125 \nL 250.498097 239.758125 \nL 273.550607 239.758125 \nL 273.550607 239.758125 \nL 322.456398 239.758125 \nL 322.456398 239.758125 \nL 322.671842 239.758125 \nL 322.671842 239.758125 \nL 331.289603 239.758125 \nL 331.289603 239.758125 \nL 378.256398 239.758125 \nL 378.256398 239.758125 \nL 379.549062 239.758125 \nz\n\" clip-path=\"url(#p67c4140547)\" style=\"fill: #0272a2; fill-opacity: 0.2\"/>\n   </g>\n   <g id=\"line2d_13\">\n    <path d=\"M 379.549062 190.364504 \nL 378.256398 190.364504 \nL 378.256398 190.461534 \nL 331.289603 190.461534 \nL 331.289603 175.663444 \nL 322.671842 175.663444 \nL 322.671842 172.81359 \nL 322.456398 172.81359 \nL 322.456398 172.83354 \nL 273.550607 172.83354 \nL 273.550607 160.047638 \nL 250.498097 160.047638 \nL 250.498097 148.199395 \nL 250.067209 148.199395 \nL 250.067209 148.229715 \nL 243.819333 148.229715 \nL 243.819333 145.210097 \nL 217.319719 145.210097 \nL 217.319719 130.560984 \nL 208.27107 130.560984 \nL 208.27107 121.282203 \nL 208.27107 121.282203 \nL 208.27107 121.197091 \nL 208.27107 121.197091 \nL 208.27107 121.026499 \nL 208.055626 121.026499 \nL 208.055626 121.012073 \nL 177.247132 121.012073 \nL 177.247132 105.495474 \nL 167.336707 105.495474 \nL 167.336707 99.163398 \nL 159.796167 99.163398 \nL 159.796167 95.339021 \nL 159.796167 95.339021 \nL 159.796167 95.159171 \nL 142.77609 95.159171 \nL 142.77609 84.199634 \nL 142.77609 84.199634 \nL 142.77609 83.95466 \nL 140.621649 83.95466 \nL 140.621649 83.943632 \nL 139.975317 83.943632 \nL 139.975317 83.737865 \nL 139.975317 83.737865 \nL 139.975317 83.484174 \nL 137.820877 83.484174 \nL 137.820877 81.885722 \nL 130.711225 81.885722 \nL 130.711225 83.436395 \nL 85.898869 83.436395 \nL 85.898869 74.952411 \nL 85.037093 74.952411 \nL 85.037093 74.468369 \nL 84.175317 74.468369 \nL 84.175317 74.648084 \nL 55.090375 74.648084 \nL 55.090375 71.41748 \nL 47.549835 71.41748 \nL 47.549835 73.480478 \nL 44.749063 73.480478 \nL 44.749063 22.318125 \n\" clip-path=\"url(#p67c4140547)\" style=\"fill: none; stroke: #0272a2; stroke-opacity: 0.8; stroke-width: 1.75; stroke-linecap: round\"/>\n   </g>\n   <g id=\"line2d_14\">\n    <path d=\"M 44.749063 130.978132 \nL 379.549062 130.978132 \n\" clip-path=\"url(#p67c4140547)\" style=\"fill: none; stroke-dasharray: 6.475,2.8; stroke-dashoffset: 0; stroke: #ca0b03; stroke-width: 1.75\"/>\n   </g>\n   <g id=\"patch_3\">\n    <path d=\"M 44.749063 239.758125 \nL 44.749063 22.318125 \n\" style=\"fill: none; stroke: #cccccc; stroke-width: 1.25; stroke-linejoin: miter; stroke-linecap: square\"/>\n   </g>\n   <g id=\"patch_4\">\n    <path d=\"M 379.549062 239.758125 \nL 379.549062 22.318125 \n\" style=\"fill: none; stroke: #cccccc; stroke-width: 1.25; stroke-linejoin: miter; stroke-linecap: square\"/>\n   </g>\n   <g id=\"patch_5\">\n    <path d=\"M 44.749063 239.758125 \nL 379.549062 239.758125 \n\" style=\"fill: none; stroke: #cccccc; stroke-width: 1.25; stroke-linejoin: miter; stroke-linecap: square\"/>\n   </g>\n   <g id=\"patch_6\">\n    <path d=\"M 44.749063 22.318125 \nL 379.549062 22.318125 \n\" style=\"fill: none; stroke: #cccccc; stroke-width: 1.25; stroke-linejoin: miter; stroke-linecap: square\"/>\n   </g>\n   <g id=\"text_15\">\n    <!-- Precision-Recall Curve for RandomForestClassifier -->\n    <g style=\"fill: #262626\" transform=\"translate(63.009687 16.318125)scale(0.12 -0.12)\">\n     <defs>\n      <path id=\"DejaVuSans-2d\" d=\"M 313 2009 \nL 1997 2009 \nL 1997 1497 \nL 313 1497 \nL 313 2009 \nz\n\" transform=\"scale(0.015625)\"/>\n      <path id=\"DejaVuSans-20\" transform=\"scale(0.015625)\"/>\n      <path id=\"DejaVuSans-43\" d=\"M 4122 4306 \nL 4122 3641 \nQ 3803 3938 3442 4084 \nQ 3081 4231 2675 4231 \nQ 1875 4231 1450 3742 \nQ 1025 3253 1025 2328 \nQ 1025 1406 1450 917 \nQ 1875 428 2675 428 \nQ 3081 428 3442 575 \nQ 3803 722 4122 1019 \nL 4122 359 \nQ 3791 134 3420 21 \nQ 3050 -91 2638 -91 \nQ 1578 -91 968 557 \nQ 359 1206 359 2328 \nQ 359 3453 968 4101 \nQ 1578 4750 2638 4750 \nQ 3056 4750 3426 4639 \nQ 3797 4528 4122 4306 \nz\n\" transform=\"scale(0.015625)\"/>\n      <path id=\"DejaVuSans-75\" d=\"M 544 1381 \nL 544 3500 \nL 1119 3500 \nL 1119 1403 \nQ 1119 906 1312 657 \nQ 1506 409 1894 409 \nQ 2359 409 2629 706 \nQ 2900 1003 2900 1516 \nL 2900 3500 \nL 3475 3500 \nL 3475 0 \nL 2900 0 \nL 2900 538 \nQ 2691 219 2414 64 \nQ 2138 -91 1772 -91 \nQ 1169 -91 856 284 \nQ 544 659 544 1381 \nz\nM 1991 3584 \nL 1991 3584 \nz\n\" transform=\"scale(0.015625)\"/>\n      <path id=\"DejaVuSans-76\" d=\"M 191 3500 \nL 800 3500 \nL 1894 563 \nL 2988 3500 \nL 3597 3500 \nL 2284 0 \nL 1503 0 \nL 191 3500 \nz\n\" transform=\"scale(0.015625)\"/>\n      <path id=\"DejaVuSans-66\" d=\"M 2375 4863 \nL 2375 4384 \nL 1825 4384 \nQ 1516 4384 1395 4259 \nQ 1275 4134 1275 3809 \nL 1275 3500 \nL 2222 3500 \nL 2222 3053 \nL 1275 3053 \nL 1275 0 \nL 697 0 \nL 697 3053 \nL 147 3053 \nL 147 3500 \nL 697 3500 \nL 697 3744 \nQ 697 4328 969 4595 \nQ 1241 4863 1831 4863 \nL 2375 4863 \nz\n\" transform=\"scale(0.015625)\"/>\n      <path id=\"DejaVuSans-64\" d=\"M 2906 2969 \nL 2906 4863 \nL 3481 4863 \nL 3481 0 \nL 2906 0 \nL 2906 525 \nQ 2725 213 2448 61 \nQ 2172 -91 1784 -91 \nQ 1150 -91 751 415 \nQ 353 922 353 1747 \nQ 353 2572 751 3078 \nQ 1150 3584 1784 3584 \nQ 2172 3584 2448 3432 \nQ 2725 3281 2906 2969 \nz\nM 947 1747 \nQ 947 1113 1208 752 \nQ 1469 391 1925 391 \nQ 2381 391 2643 752 \nQ 2906 1113 2906 1747 \nQ 2906 2381 2643 2742 \nQ 2381 3103 1925 3103 \nQ 1469 3103 1208 2742 \nQ 947 2381 947 1747 \nz\n\" transform=\"scale(0.015625)\"/>\n      <path id=\"DejaVuSans-6d\" d=\"M 3328 2828 \nQ 3544 3216 3844 3400 \nQ 4144 3584 4550 3584 \nQ 5097 3584 5394 3201 \nQ 5691 2819 5691 2113 \nL 5691 0 \nL 5113 0 \nL 5113 2094 \nQ 5113 2597 4934 2840 \nQ 4756 3084 4391 3084 \nQ 3944 3084 3684 2787 \nQ 3425 2491 3425 1978 \nL 3425 0 \nL 2847 0 \nL 2847 2094 \nQ 2847 2600 2669 2842 \nQ 2491 3084 2119 3084 \nQ 1678 3084 1418 2786 \nQ 1159 2488 1159 1978 \nL 1159 0 \nL 581 0 \nL 581 3500 \nL 1159 3500 \nL 1159 2956 \nQ 1356 3278 1631 3431 \nQ 1906 3584 2284 3584 \nQ 2666 3584 2933 3390 \nQ 3200 3197 3328 2828 \nz\n\" transform=\"scale(0.015625)\"/>\n      <path id=\"DejaVuSans-46\" d=\"M 628 4666 \nL 3309 4666 \nL 3309 4134 \nL 1259 4134 \nL 1259 2759 \nL 3109 2759 \nL 3109 2228 \nL 1259 2228 \nL 1259 0 \nL 628 0 \nL 628 4666 \nz\n\" transform=\"scale(0.015625)\"/>\n      <path id=\"DejaVuSans-74\" d=\"M 1172 4494 \nL 1172 3500 \nL 2356 3500 \nL 2356 3053 \nL 1172 3053 \nL 1172 1153 \nQ 1172 725 1289 603 \nQ 1406 481 1766 481 \nL 2356 481 \nL 2356 0 \nL 1766 0 \nQ 1100 0 847 248 \nQ 594 497 594 1153 \nL 594 3053 \nL 172 3053 \nL 172 3500 \nL 594 3500 \nL 594 4494 \nL 1172 4494 \nz\n\" transform=\"scale(0.015625)\"/>\n     </defs>\n     <use xlink:href=\"#DejaVuSans-50\"/>\n     <use xlink:href=\"#DejaVuSans-72\" x=\"58.552734\"/>\n     <use xlink:href=\"#DejaVuSans-65\" x=\"97.416016\"/>\n     <use xlink:href=\"#DejaVuSans-63\" x=\"158.939453\"/>\n     <use xlink:href=\"#DejaVuSans-69\" x=\"213.919922\"/>\n     <use xlink:href=\"#DejaVuSans-73\" x=\"241.703125\"/>\n     <use xlink:href=\"#DejaVuSans-69\" x=\"293.802734\"/>\n     <use xlink:href=\"#DejaVuSans-6f\" x=\"321.585938\"/>\n     <use xlink:href=\"#DejaVuSans-6e\" x=\"382.767578\"/>\n     <use xlink:href=\"#DejaVuSans-2d\" x=\"446.146484\"/>\n     <use xlink:href=\"#DejaVuSans-52\" x=\"482.230469\"/>\n     <use xlink:href=\"#DejaVuSans-65\" x=\"547.212891\"/>\n     <use xlink:href=\"#DejaVuSans-63\" x=\"608.736328\"/>\n     <use xlink:href=\"#DejaVuSans-61\" x=\"663.716797\"/>\n     <use xlink:href=\"#DejaVuSans-6c\" x=\"724.996094\"/>\n     <use xlink:href=\"#DejaVuSans-6c\" x=\"752.779297\"/>\n     <use xlink:href=\"#DejaVuSans-20\" x=\"780.5625\"/>\n     <use xlink:href=\"#DejaVuSans-43\" x=\"812.349609\"/>\n     <use xlink:href=\"#DejaVuSans-75\" x=\"882.173828\"/>\n     <use xlink:href=\"#DejaVuSans-72\" x=\"945.552734\"/>\n     <use xlink:href=\"#DejaVuSans-76\" x=\"986.666016\"/>\n     <use xlink:href=\"#DejaVuSans-65\" x=\"1045.845703\"/>\n     <use xlink:href=\"#DejaVuSans-20\" x=\"1107.369141\"/>\n     <use xlink:href=\"#DejaVuSans-66\" x=\"1139.15625\"/>\n     <use xlink:href=\"#DejaVuSans-6f\" x=\"1174.361328\"/>\n     <use xlink:href=\"#DejaVuSans-72\" x=\"1235.542969\"/>\n     <use xlink:href=\"#DejaVuSans-20\" x=\"1276.65625\"/>\n     <use xlink:href=\"#DejaVuSans-52\" x=\"1308.443359\"/>\n     <use xlink:href=\"#DejaVuSans-61\" x=\"1375.675781\"/>\n     <use xlink:href=\"#DejaVuSans-6e\" x=\"1436.955078\"/>\n     <use xlink:href=\"#DejaVuSans-64\" x=\"1500.333984\"/>\n     <use xlink:href=\"#DejaVuSans-6f\" x=\"1563.810547\"/>\n     <use xlink:href=\"#DejaVuSans-6d\" x=\"1624.992188\"/>\n     <use xlink:href=\"#DejaVuSans-46\" x=\"1722.404297\"/>\n     <use xlink:href=\"#DejaVuSans-6f\" x=\"1776.298828\"/>\n     <use xlink:href=\"#DejaVuSans-72\" x=\"1837.480469\"/>\n     <use xlink:href=\"#DejaVuSans-65\" x=\"1876.34375\"/>\n     <use xlink:href=\"#DejaVuSans-73\" x=\"1937.867188\"/>\n     <use xlink:href=\"#DejaVuSans-74\" x=\"1989.966797\"/>\n     <use xlink:href=\"#DejaVuSans-43\" x=\"2029.175781\"/>\n     <use xlink:href=\"#DejaVuSans-6c\" x=\"2099\"/>\n     <use xlink:href=\"#DejaVuSans-61\" x=\"2126.783203\"/>\n     <use xlink:href=\"#DejaVuSans-73\" x=\"2188.0625\"/>\n     <use xlink:href=\"#DejaVuSans-73\" x=\"2240.162109\"/>\n     <use xlink:href=\"#DejaVuSans-69\" x=\"2292.261719\"/>\n     <use xlink:href=\"#DejaVuSans-66\" x=\"2320.044922\"/>\n     <use xlink:href=\"#DejaVuSans-69\" x=\"2355.25\"/>\n     <use xlink:href=\"#DejaVuSans-65\" x=\"2383.033203\"/>\n     <use xlink:href=\"#DejaVuSans-72\" x=\"2444.556641\"/>\n    </g>\n   </g>\n   <g id=\"legend_1\">\n    <g id=\"patch_7\">\n     <path d=\"M 51.749063 234.758125 \nL 184.37875 234.758125 \nQ 186.37875 234.758125 186.37875 232.758125 \nL 186.37875 204.401875 \nQ 186.37875 202.401875 184.37875 202.401875 \nL 51.749063 202.401875 \nQ 49.749063 202.401875 49.749063 204.401875 \nL 49.749063 232.758125 \nQ 49.749063 234.758125 51.749063 234.758125 \nz\n\" style=\"fill: #ffffff; opacity: 0.8; stroke: #cccccc; stroke-width: 0.3; stroke-linejoin: miter\"/>\n    </g>\n    <g id=\"line2d_15\">\n     <path d=\"M 53.749063 210.500313 \nL 63.749063 210.500313 \nL 63.749063 210.500313 \nL 73.749063 210.500313 \nL 73.749063 210.500313 \n\" style=\"fill: none; stroke: #0272a2; stroke-opacity: 0.8; stroke-width: 1.75; stroke-linecap: round\"/>\n    </g>\n    <g id=\"text_16\">\n     <!-- Binary PR curve -->\n     <g style=\"fill: #262626\" transform=\"translate(81.749063 214.000313)scale(0.1 -0.1)\">\n      <defs>\n       <path id=\"DejaVuSans-42\" d=\"M 1259 2228 \nL 1259 519 \nL 2272 519 \nQ 2781 519 3026 730 \nQ 3272 941 3272 1375 \nQ 3272 1813 3026 2020 \nQ 2781 2228 2272 2228 \nL 1259 2228 \nz\nM 1259 4147 \nL 1259 2741 \nL 2194 2741 \nQ 2656 2741 2882 2914 \nQ 3109 3088 3109 3444 \nQ 3109 3797 2882 3972 \nQ 2656 4147 2194 4147 \nL 1259 4147 \nz\nM 628 4666 \nL 2241 4666 \nQ 2963 4666 3353 4366 \nQ 3744 4066 3744 3513 \nQ 3744 3084 3544 2831 \nQ 3344 2578 2956 2516 \nQ 3422 2416 3680 2098 \nQ 3938 1781 3938 1306 \nQ 3938 681 3513 340 \nQ 3088 0 2303 0 \nL 628 0 \nL 628 4666 \nz\n\" transform=\"scale(0.015625)\"/>\n       <path id=\"DejaVuSans-79\" d=\"M 2059 -325 \nQ 1816 -950 1584 -1140 \nQ 1353 -1331 966 -1331 \nL 506 -1331 \nL 506 -850 \nL 844 -850 \nQ 1081 -850 1212 -737 \nQ 1344 -625 1503 -206 \nL 1606 56 \nL 191 3500 \nL 800 3500 \nL 1894 763 \nL 2988 3500 \nL 3597 3500 \nL 2059 -325 \nz\n\" transform=\"scale(0.015625)\"/>\n      </defs>\n      <use xlink:href=\"#DejaVuSans-42\"/>\n      <use xlink:href=\"#DejaVuSans-69\" x=\"68.603516\"/>\n      <use xlink:href=\"#DejaVuSans-6e\" x=\"96.386719\"/>\n      <use xlink:href=\"#DejaVuSans-61\" x=\"159.765625\"/>\n      <use xlink:href=\"#DejaVuSans-72\" x=\"221.044922\"/>\n      <use xlink:href=\"#DejaVuSans-79\" x=\"262.158203\"/>\n      <use xlink:href=\"#DejaVuSans-20\" x=\"321.337891\"/>\n      <use xlink:href=\"#DejaVuSans-50\" x=\"353.125\"/>\n      <use xlink:href=\"#DejaVuSans-52\" x=\"413.427734\"/>\n      <use xlink:href=\"#DejaVuSans-20\" x=\"482.910156\"/>\n      <use xlink:href=\"#DejaVuSans-63\" x=\"514.697266\"/>\n      <use xlink:href=\"#DejaVuSans-75\" x=\"569.677734\"/>\n      <use xlink:href=\"#DejaVuSans-72\" x=\"633.056641\"/>\n      <use xlink:href=\"#DejaVuSans-76\" x=\"674.169922\"/>\n      <use xlink:href=\"#DejaVuSans-65\" x=\"733.349609\"/>\n     </g>\n    </g>\n    <g id=\"line2d_16\">\n     <path d=\"M 53.749063 225.178438 \nL 63.749063 225.178438 \nL 73.749063 225.178438 \n\" style=\"fill: none; stroke-dasharray: 6.475,2.8; stroke-dashoffset: 0; stroke: #ca0b03; stroke-width: 1.75\"/>\n    </g>\n    <g id=\"text_17\">\n     <!-- Avg. precision=0.50 -->\n     <g style=\"fill: #262626\" transform=\"translate(81.749063 228.678438)scale(0.1 -0.1)\">\n      <defs>\n       <path id=\"DejaVuSans-41\" d=\"M 2188 4044 \nL 1331 1722 \nL 3047 1722 \nL 2188 4044 \nz\nM 1831 4666 \nL 2547 4666 \nL 4325 0 \nL 3669 0 \nL 3244 1197 \nL 1141 1197 \nL 716 0 \nL 50 0 \nL 1831 4666 \nz\n\" transform=\"scale(0.015625)\"/>\n       <path id=\"DejaVuSans-67\" d=\"M 2906 1791 \nQ 2906 2416 2648 2759 \nQ 2391 3103 1925 3103 \nQ 1463 3103 1205 2759 \nQ 947 2416 947 1791 \nQ 947 1169 1205 825 \nQ 1463 481 1925 481 \nQ 2391 481 2648 825 \nQ 2906 1169 2906 1791 \nz\nM 3481 434 \nQ 3481 -459 3084 -895 \nQ 2688 -1331 1869 -1331 \nQ 1566 -1331 1297 -1286 \nQ 1028 -1241 775 -1147 \nL 775 -588 \nQ 1028 -725 1275 -790 \nQ 1522 -856 1778 -856 \nQ 2344 -856 2625 -561 \nQ 2906 -266 2906 331 \nL 2906 616 \nQ 2728 306 2450 153 \nQ 2172 0 1784 0 \nQ 1141 0 747 490 \nQ 353 981 353 1791 \nQ 353 2603 747 3093 \nQ 1141 3584 1784 3584 \nQ 2172 3584 2450 3431 \nQ 2728 3278 2906 2969 \nL 2906 3500 \nL 3481 3500 \nL 3481 434 \nz\n\" transform=\"scale(0.015625)\"/>\n       <path id=\"DejaVuSans-70\" d=\"M 1159 525 \nL 1159 -1331 \nL 581 -1331 \nL 581 3500 \nL 1159 3500 \nL 1159 2969 \nQ 1341 3281 1617 3432 \nQ 1894 3584 2278 3584 \nQ 2916 3584 3314 3078 \nQ 3713 2572 3713 1747 \nQ 3713 922 3314 415 \nQ 2916 -91 2278 -91 \nQ 1894 -91 1617 61 \nQ 1341 213 1159 525 \nz\nM 3116 1747 \nQ 3116 2381 2855 2742 \nQ 2594 3103 2138 3103 \nQ 1681 3103 1420 2742 \nQ 1159 2381 1159 1747 \nQ 1159 1113 1420 752 \nQ 1681 391 2138 391 \nQ 2594 391 2855 752 \nQ 3116 1113 3116 1747 \nz\n\" transform=\"scale(0.015625)\"/>\n       <path id=\"DejaVuSans-3d\" d=\"M 678 2906 \nL 4684 2906 \nL 4684 2381 \nL 678 2381 \nL 678 2906 \nz\nM 678 1631 \nL 4684 1631 \nL 4684 1100 \nL 678 1100 \nL 678 1631 \nz\n\" transform=\"scale(0.015625)\"/>\n       <path id=\"DejaVuSans-35\" d=\"M 691 4666 \nL 3169 4666 \nL 3169 4134 \nL 1269 4134 \nL 1269 2991 \nQ 1406 3038 1543 3061 \nQ 1681 3084 1819 3084 \nQ 2600 3084 3056 2656 \nQ 3513 2228 3513 1497 \nQ 3513 744 3044 326 \nQ 2575 -91 1722 -91 \nQ 1428 -91 1123 -41 \nQ 819 9 494 109 \nL 494 744 \nQ 775 591 1075 516 \nQ 1375 441 1709 441 \nQ 2250 441 2565 725 \nQ 2881 1009 2881 1497 \nQ 2881 1984 2565 2268 \nQ 2250 2553 1709 2553 \nQ 1456 2553 1204 2497 \nQ 953 2441 691 2322 \nL 691 4666 \nz\n\" transform=\"scale(0.015625)\"/>\n      </defs>\n      <use xlink:href=\"#DejaVuSans-41\"/>\n      <use xlink:href=\"#DejaVuSans-76\" x=\"62.533203\"/>\n      <use xlink:href=\"#DejaVuSans-67\" x=\"121.712891\"/>\n      <use xlink:href=\"#DejaVuSans-2e\" x=\"185.189453\"/>\n      <use xlink:href=\"#DejaVuSans-20\" x=\"216.976562\"/>\n      <use xlink:href=\"#DejaVuSans-70\" x=\"248.763672\"/>\n      <use xlink:href=\"#DejaVuSans-72\" x=\"312.240234\"/>\n      <use xlink:href=\"#DejaVuSans-65\" x=\"351.103516\"/>\n      <use xlink:href=\"#DejaVuSans-63\" x=\"412.626953\"/>\n      <use xlink:href=\"#DejaVuSans-69\" x=\"467.607422\"/>\n      <use xlink:href=\"#DejaVuSans-73\" x=\"495.390625\"/>\n      <use xlink:href=\"#DejaVuSans-69\" x=\"547.490234\"/>\n      <use xlink:href=\"#DejaVuSans-6f\" x=\"575.273438\"/>\n      <use xlink:href=\"#DejaVuSans-6e\" x=\"636.455078\"/>\n      <use xlink:href=\"#DejaVuSans-3d\" x=\"699.833984\"/>\n      <use xlink:href=\"#DejaVuSans-30\" x=\"783.623047\"/>\n      <use xlink:href=\"#DejaVuSans-2e\" x=\"847.246094\"/>\n      <use xlink:href=\"#DejaVuSans-35\" x=\"879.033203\"/>\n      <use xlink:href=\"#DejaVuSans-30\" x=\"942.65625\"/>\n     </g>\n    </g>\n   </g>\n  </g>\n </g>\n <defs>\n  <clipPath id=\"p67c4140547\">\n   <rect x=\"44.749063\" y=\"22.318125\" width=\"334.8\" height=\"217.44\"/>\n  </clipPath>\n </defs>\n</svg>\n",
      "text/plain": [
       "<Figure size 432x288 with 1 Axes>"
      ]
     },
     "metadata": {
      "needs_background": "light"
     },
     "output_type": "display_data"
    }
   ],
   "source": [
    "plot_model(tuned_rf, plot = 'pr')"
   ]
  },
  {
   "cell_type": "code",
   "execution_count": null,
   "metadata": {},
   "outputs": [],
   "source": []
  },
  {
   "cell_type": "markdown",
   "metadata": {
    "colab_type": "text",
    "id": "_r9rwEw7EQrz"
   },
   "source": [
    "### 10.3 Feature Importance Plot"
   ]
  },
  {
   "cell_type": "code",
   "execution_count": 23,
   "metadata": {
    "colab": {},
    "colab_type": "code",
    "id": "nVScSxJ-EQr2",
    "outputId": "f44f4b08-b749-4d0e-dcc9-d7e3dc6240c8"
   },
   "outputs": [
    {
     "data": {
      "image/svg+xml": "<?xml version=\"1.0\" encoding=\"utf-8\" standalone=\"no\"?>\n<!DOCTYPE svg PUBLIC \"-//W3C//DTD SVG 1.1//EN\"\n  \"http://www.w3.org/Graphics/SVG/1.1/DTD/svg11.dtd\">\n<svg xmlns:xlink=\"http://www.w3.org/1999/xlink\" width=\"532.950625pt\" height=\"332.642188pt\" viewBox=\"0 0 532.950625 332.642188\" xmlns=\"http://www.w3.org/2000/svg\" version=\"1.1\">\n <metadata>\n  <rdf:RDF xmlns:dc=\"http://purl.org/dc/elements/1.1/\" xmlns:cc=\"http://creativecommons.org/ns#\" xmlns:rdf=\"http://www.w3.org/1999/02/22-rdf-syntax-ns#\">\n   <cc:Work>\n    <dc:type rdf:resource=\"http://purl.org/dc/dcmitype/StillImage\"/>\n    <dc:date>2022-05-22T21:46:49.521595</dc:date>\n    <dc:format>image/svg+xml</dc:format>\n    <dc:creator>\n     <cc:Agent>\n      <dc:title>Matplotlib v3.5.2, https://matplotlib.org/</dc:title>\n     </cc:Agent>\n    </dc:creator>\n   </cc:Work>\n  </rdf:RDF>\n </metadata>\n <defs>\n  <style type=\"text/css\">*{stroke-linejoin: round; stroke-linecap: butt}</style>\n </defs>\n <g id=\"figure_1\">\n  <g id=\"patch_1\">\n   <path d=\"M 0 332.642188 \nL 532.950625 332.642188 \nL 532.950625 0 \nL 0 0 \nL 0 332.642188 \nz\n\" style=\"fill: none\"/>\n  </g>\n  <g id=\"axes_1\">\n   <g id=\"patch_2\">\n    <path d=\"M 79.350625 294.118125 \nL 525.750625 294.118125 \nL 525.750625 22.318125 \nL 79.350625 22.318125 \nz\n\" style=\"fill: #ffffff\"/>\n   </g>\n   <g id=\"matplotlib.axis_1\">\n    <g id=\"xtick_1\">\n     <g id=\"line2d_1\">\n      <path d=\"M 99.641534 294.118125 \nL 99.641534 22.318125 \n\" clip-path=\"url(#pb3107a0b5d)\" style=\"fill: none; stroke: #cccccc; stroke-linecap: round\"/>\n     </g>\n     <g id=\"line2d_2\"/>\n     <g id=\"text_1\">\n      <!-- 0.0 -->\n      <g style=\"fill: #262626\" transform=\"translate(91.689972 308.716563)scale(0.1 -0.1)\">\n       <defs>\n        <path id=\"DejaVuSans-30\" d=\"M 2034 4250 \nQ 1547 4250 1301 3770 \nQ 1056 3291 1056 2328 \nQ 1056 1369 1301 889 \nQ 1547 409 2034 409 \nQ 2525 409 2770 889 \nQ 3016 1369 3016 2328 \nQ 3016 3291 2770 3770 \nQ 2525 4250 2034 4250 \nz\nM 2034 4750 \nQ 2819 4750 3233 4129 \nQ 3647 3509 3647 2328 \nQ 3647 1150 3233 529 \nQ 2819 -91 2034 -91 \nQ 1250 -91 836 529 \nQ 422 1150 422 2328 \nQ 422 3509 836 4129 \nQ 1250 4750 2034 4750 \nz\n\" transform=\"scale(0.015625)\"/>\n        <path id=\"DejaVuSans-2e\" d=\"M 684 794 \nL 1344 794 \nL 1344 0 \nL 684 0 \nL 684 794 \nz\n\" transform=\"scale(0.015625)\"/>\n       </defs>\n       <use xlink:href=\"#DejaVuSans-30\"/>\n       <use xlink:href=\"#DejaVuSans-2e\" x=\"63.623047\"/>\n       <use xlink:href=\"#DejaVuSans-30\" x=\"95.410156\"/>\n      </g>\n     </g>\n    </g>\n    <g id=\"xtick_2\">\n     <g id=\"line2d_3\">\n      <path d=\"M 171.716264 294.118125 \nL 171.716264 22.318125 \n\" clip-path=\"url(#pb3107a0b5d)\" style=\"fill: none; stroke: #cccccc; stroke-linecap: round\"/>\n     </g>\n     <g id=\"line2d_4\"/>\n     <g id=\"text_2\">\n      <!-- 0.1 -->\n      <g style=\"fill: #262626\" transform=\"translate(163.764701 308.716563)scale(0.1 -0.1)\">\n       <defs>\n        <path id=\"DejaVuSans-31\" d=\"M 794 531 \nL 1825 531 \nL 1825 4091 \nL 703 3866 \nL 703 4441 \nL 1819 4666 \nL 2450 4666 \nL 2450 531 \nL 3481 531 \nL 3481 0 \nL 794 0 \nL 794 531 \nz\n\" transform=\"scale(0.015625)\"/>\n       </defs>\n       <use xlink:href=\"#DejaVuSans-30\"/>\n       <use xlink:href=\"#DejaVuSans-2e\" x=\"63.623047\"/>\n       <use xlink:href=\"#DejaVuSans-31\" x=\"95.410156\"/>\n      </g>\n     </g>\n    </g>\n    <g id=\"xtick_3\">\n     <g id=\"line2d_5\">\n      <path d=\"M 243.790993 294.118125 \nL 243.790993 22.318125 \n\" clip-path=\"url(#pb3107a0b5d)\" style=\"fill: none; stroke: #cccccc; stroke-linecap: round\"/>\n     </g>\n     <g id=\"line2d_6\"/>\n     <g id=\"text_3\">\n      <!-- 0.2 -->\n      <g style=\"fill: #262626\" transform=\"translate(235.839431 308.716563)scale(0.1 -0.1)\">\n       <defs>\n        <path id=\"DejaVuSans-32\" d=\"M 1228 531 \nL 3431 531 \nL 3431 0 \nL 469 0 \nL 469 531 \nQ 828 903 1448 1529 \nQ 2069 2156 2228 2338 \nQ 2531 2678 2651 2914 \nQ 2772 3150 2772 3378 \nQ 2772 3750 2511 3984 \nQ 2250 4219 1831 4219 \nQ 1534 4219 1204 4116 \nQ 875 4013 500 3803 \nL 500 4441 \nQ 881 4594 1212 4672 \nQ 1544 4750 1819 4750 \nQ 2544 4750 2975 4387 \nQ 3406 4025 3406 3419 \nQ 3406 3131 3298 2873 \nQ 3191 2616 2906 2266 \nQ 2828 2175 2409 1742 \nQ 1991 1309 1228 531 \nz\n\" transform=\"scale(0.015625)\"/>\n       </defs>\n       <use xlink:href=\"#DejaVuSans-30\"/>\n       <use xlink:href=\"#DejaVuSans-2e\" x=\"63.623047\"/>\n       <use xlink:href=\"#DejaVuSans-32\" x=\"95.410156\"/>\n      </g>\n     </g>\n    </g>\n    <g id=\"xtick_4\">\n     <g id=\"line2d_7\">\n      <path d=\"M 315.865723 294.118125 \nL 315.865723 22.318125 \n\" clip-path=\"url(#pb3107a0b5d)\" style=\"fill: none; stroke: #cccccc; stroke-linecap: round\"/>\n     </g>\n     <g id=\"line2d_8\"/>\n     <g id=\"text_4\">\n      <!-- 0.3 -->\n      <g style=\"fill: #262626\" transform=\"translate(307.91416 308.716563)scale(0.1 -0.1)\">\n       <defs>\n        <path id=\"DejaVuSans-33\" d=\"M 2597 2516 \nQ 3050 2419 3304 2112 \nQ 3559 1806 3559 1356 \nQ 3559 666 3084 287 \nQ 2609 -91 1734 -91 \nQ 1441 -91 1130 -33 \nQ 819 25 488 141 \nL 488 750 \nQ 750 597 1062 519 \nQ 1375 441 1716 441 \nQ 2309 441 2620 675 \nQ 2931 909 2931 1356 \nQ 2931 1769 2642 2001 \nQ 2353 2234 1838 2234 \nL 1294 2234 \nL 1294 2753 \nL 1863 2753 \nQ 2328 2753 2575 2939 \nQ 2822 3125 2822 3475 \nQ 2822 3834 2567 4026 \nQ 2313 4219 1838 4219 \nQ 1578 4219 1281 4162 \nQ 984 4106 628 3988 \nL 628 4550 \nQ 988 4650 1302 4700 \nQ 1616 4750 1894 4750 \nQ 2613 4750 3031 4423 \nQ 3450 4097 3450 3541 \nQ 3450 3153 3228 2886 \nQ 3006 2619 2597 2516 \nz\n\" transform=\"scale(0.015625)\"/>\n       </defs>\n       <use xlink:href=\"#DejaVuSans-30\"/>\n       <use xlink:href=\"#DejaVuSans-2e\" x=\"63.623047\"/>\n       <use xlink:href=\"#DejaVuSans-33\" x=\"95.410156\"/>\n      </g>\n     </g>\n    </g>\n    <g id=\"xtick_5\">\n     <g id=\"line2d_9\">\n      <path d=\"M 387.940453 294.118125 \nL 387.940453 22.318125 \n\" clip-path=\"url(#pb3107a0b5d)\" style=\"fill: none; stroke: #cccccc; stroke-linecap: round\"/>\n     </g>\n     <g id=\"line2d_10\"/>\n     <g id=\"text_5\">\n      <!-- 0.4 -->\n      <g style=\"fill: #262626\" transform=\"translate(379.98889 308.716563)scale(0.1 -0.1)\">\n       <defs>\n        <path id=\"DejaVuSans-34\" d=\"M 2419 4116 \nL 825 1625 \nL 2419 1625 \nL 2419 4116 \nz\nM 2253 4666 \nL 3047 4666 \nL 3047 1625 \nL 3713 1625 \nL 3713 1100 \nL 3047 1100 \nL 3047 0 \nL 2419 0 \nL 2419 1100 \nL 313 1100 \nL 313 1709 \nL 2253 4666 \nz\n\" transform=\"scale(0.015625)\"/>\n       </defs>\n       <use xlink:href=\"#DejaVuSans-30\"/>\n       <use xlink:href=\"#DejaVuSans-2e\" x=\"63.623047\"/>\n       <use xlink:href=\"#DejaVuSans-34\" x=\"95.410156\"/>\n      </g>\n     </g>\n    </g>\n    <g id=\"xtick_6\">\n     <g id=\"line2d_11\">\n      <path d=\"M 460.015182 294.118125 \nL 460.015182 22.318125 \n\" clip-path=\"url(#pb3107a0b5d)\" style=\"fill: none; stroke: #cccccc; stroke-linecap: round\"/>\n     </g>\n     <g id=\"line2d_12\"/>\n     <g id=\"text_6\">\n      <!-- 0.5 -->\n      <g style=\"fill: #262626\" transform=\"translate(452.06362 308.716563)scale(0.1 -0.1)\">\n       <defs>\n        <path id=\"DejaVuSans-35\" d=\"M 691 4666 \nL 3169 4666 \nL 3169 4134 \nL 1269 4134 \nL 1269 2991 \nQ 1406 3038 1543 3061 \nQ 1681 3084 1819 3084 \nQ 2600 3084 3056 2656 \nQ 3513 2228 3513 1497 \nQ 3513 744 3044 326 \nQ 2575 -91 1722 -91 \nQ 1428 -91 1123 -41 \nQ 819 9 494 109 \nL 494 744 \nQ 775 591 1075 516 \nQ 1375 441 1709 441 \nQ 2250 441 2565 725 \nQ 2881 1009 2881 1497 \nQ 2881 1984 2565 2268 \nQ 2250 2553 1709 2553 \nQ 1456 2553 1204 2497 \nQ 953 2441 691 2322 \nL 691 4666 \nz\n\" transform=\"scale(0.015625)\"/>\n       </defs>\n       <use xlink:href=\"#DejaVuSans-30\"/>\n       <use xlink:href=\"#DejaVuSans-2e\" x=\"63.623047\"/>\n       <use xlink:href=\"#DejaVuSans-35\" x=\"95.410156\"/>\n      </g>\n     </g>\n    </g>\n    <g id=\"text_7\">\n     <!-- Variable Importance -->\n     <g style=\"fill: #262626\" transform=\"translate(247.014375 323.154531)scale(0.11 -0.11)\">\n      <defs>\n       <path id=\"DejaVuSans-56\" d=\"M 1831 0 \nL 50 4666 \nL 709 4666 \nL 2188 738 \nL 3669 4666 \nL 4325 4666 \nL 2547 0 \nL 1831 0 \nz\n\" transform=\"scale(0.015625)\"/>\n       <path id=\"DejaVuSans-61\" d=\"M 2194 1759 \nQ 1497 1759 1228 1600 \nQ 959 1441 959 1056 \nQ 959 750 1161 570 \nQ 1363 391 1709 391 \nQ 2188 391 2477 730 \nQ 2766 1069 2766 1631 \nL 2766 1759 \nL 2194 1759 \nz\nM 3341 1997 \nL 3341 0 \nL 2766 0 \nL 2766 531 \nQ 2569 213 2275 61 \nQ 1981 -91 1556 -91 \nQ 1019 -91 701 211 \nQ 384 513 384 1019 \nQ 384 1609 779 1909 \nQ 1175 2209 1959 2209 \nL 2766 2209 \nL 2766 2266 \nQ 2766 2663 2505 2880 \nQ 2244 3097 1772 3097 \nQ 1472 3097 1187 3025 \nQ 903 2953 641 2809 \nL 641 3341 \nQ 956 3463 1253 3523 \nQ 1550 3584 1831 3584 \nQ 2591 3584 2966 3190 \nQ 3341 2797 3341 1997 \nz\n\" transform=\"scale(0.015625)\"/>\n       <path id=\"DejaVuSans-72\" d=\"M 2631 2963 \nQ 2534 3019 2420 3045 \nQ 2306 3072 2169 3072 \nQ 1681 3072 1420 2755 \nQ 1159 2438 1159 1844 \nL 1159 0 \nL 581 0 \nL 581 3500 \nL 1159 3500 \nL 1159 2956 \nQ 1341 3275 1631 3429 \nQ 1922 3584 2338 3584 \nQ 2397 3584 2469 3576 \nQ 2541 3569 2628 3553 \nL 2631 2963 \nz\n\" transform=\"scale(0.015625)\"/>\n       <path id=\"DejaVuSans-69\" d=\"M 603 3500 \nL 1178 3500 \nL 1178 0 \nL 603 0 \nL 603 3500 \nz\nM 603 4863 \nL 1178 4863 \nL 1178 4134 \nL 603 4134 \nL 603 4863 \nz\n\" transform=\"scale(0.015625)\"/>\n       <path id=\"DejaVuSans-62\" d=\"M 3116 1747 \nQ 3116 2381 2855 2742 \nQ 2594 3103 2138 3103 \nQ 1681 3103 1420 2742 \nQ 1159 2381 1159 1747 \nQ 1159 1113 1420 752 \nQ 1681 391 2138 391 \nQ 2594 391 2855 752 \nQ 3116 1113 3116 1747 \nz\nM 1159 2969 \nQ 1341 3281 1617 3432 \nQ 1894 3584 2278 3584 \nQ 2916 3584 3314 3078 \nQ 3713 2572 3713 1747 \nQ 3713 922 3314 415 \nQ 2916 -91 2278 -91 \nQ 1894 -91 1617 61 \nQ 1341 213 1159 525 \nL 1159 0 \nL 581 0 \nL 581 4863 \nL 1159 4863 \nL 1159 2969 \nz\n\" transform=\"scale(0.015625)\"/>\n       <path id=\"DejaVuSans-6c\" d=\"M 603 4863 \nL 1178 4863 \nL 1178 0 \nL 603 0 \nL 603 4863 \nz\n\" transform=\"scale(0.015625)\"/>\n       <path id=\"DejaVuSans-65\" d=\"M 3597 1894 \nL 3597 1613 \nL 953 1613 \nQ 991 1019 1311 708 \nQ 1631 397 2203 397 \nQ 2534 397 2845 478 \nQ 3156 559 3463 722 \nL 3463 178 \nQ 3153 47 2828 -22 \nQ 2503 -91 2169 -91 \nQ 1331 -91 842 396 \nQ 353 884 353 1716 \nQ 353 2575 817 3079 \nQ 1281 3584 2069 3584 \nQ 2775 3584 3186 3129 \nQ 3597 2675 3597 1894 \nz\nM 3022 2063 \nQ 3016 2534 2758 2815 \nQ 2500 3097 2075 3097 \nQ 1594 3097 1305 2825 \nQ 1016 2553 972 2059 \nL 3022 2063 \nz\n\" transform=\"scale(0.015625)\"/>\n       <path id=\"DejaVuSans-20\" transform=\"scale(0.015625)\"/>\n       <path id=\"DejaVuSans-49\" d=\"M 628 4666 \nL 1259 4666 \nL 1259 0 \nL 628 0 \nL 628 4666 \nz\n\" transform=\"scale(0.015625)\"/>\n       <path id=\"DejaVuSans-6d\" d=\"M 3328 2828 \nQ 3544 3216 3844 3400 \nQ 4144 3584 4550 3584 \nQ 5097 3584 5394 3201 \nQ 5691 2819 5691 2113 \nL 5691 0 \nL 5113 0 \nL 5113 2094 \nQ 5113 2597 4934 2840 \nQ 4756 3084 4391 3084 \nQ 3944 3084 3684 2787 \nQ 3425 2491 3425 1978 \nL 3425 0 \nL 2847 0 \nL 2847 2094 \nQ 2847 2600 2669 2842 \nQ 2491 3084 2119 3084 \nQ 1678 3084 1418 2786 \nQ 1159 2488 1159 1978 \nL 1159 0 \nL 581 0 \nL 581 3500 \nL 1159 3500 \nL 1159 2956 \nQ 1356 3278 1631 3431 \nQ 1906 3584 2284 3584 \nQ 2666 3584 2933 3390 \nQ 3200 3197 3328 2828 \nz\n\" transform=\"scale(0.015625)\"/>\n       <path id=\"DejaVuSans-70\" d=\"M 1159 525 \nL 1159 -1331 \nL 581 -1331 \nL 581 3500 \nL 1159 3500 \nL 1159 2969 \nQ 1341 3281 1617 3432 \nQ 1894 3584 2278 3584 \nQ 2916 3584 3314 3078 \nQ 3713 2572 3713 1747 \nQ 3713 922 3314 415 \nQ 2916 -91 2278 -91 \nQ 1894 -91 1617 61 \nQ 1341 213 1159 525 \nz\nM 3116 1747 \nQ 3116 2381 2855 2742 \nQ 2594 3103 2138 3103 \nQ 1681 3103 1420 2742 \nQ 1159 2381 1159 1747 \nQ 1159 1113 1420 752 \nQ 1681 391 2138 391 \nQ 2594 391 2855 752 \nQ 3116 1113 3116 1747 \nz\n\" transform=\"scale(0.015625)\"/>\n       <path id=\"DejaVuSans-6f\" d=\"M 1959 3097 \nQ 1497 3097 1228 2736 \nQ 959 2375 959 1747 \nQ 959 1119 1226 758 \nQ 1494 397 1959 397 \nQ 2419 397 2687 759 \nQ 2956 1122 2956 1747 \nQ 2956 2369 2687 2733 \nQ 2419 3097 1959 3097 \nz\nM 1959 3584 \nQ 2709 3584 3137 3096 \nQ 3566 2609 3566 1747 \nQ 3566 888 3137 398 \nQ 2709 -91 1959 -91 \nQ 1206 -91 779 398 \nQ 353 888 353 1747 \nQ 353 2609 779 3096 \nQ 1206 3584 1959 3584 \nz\n\" transform=\"scale(0.015625)\"/>\n       <path id=\"DejaVuSans-74\" d=\"M 1172 4494 \nL 1172 3500 \nL 2356 3500 \nL 2356 3053 \nL 1172 3053 \nL 1172 1153 \nQ 1172 725 1289 603 \nQ 1406 481 1766 481 \nL 2356 481 \nL 2356 0 \nL 1766 0 \nQ 1100 0 847 248 \nQ 594 497 594 1153 \nL 594 3053 \nL 172 3053 \nL 172 3500 \nL 594 3500 \nL 594 4494 \nL 1172 4494 \nz\n\" transform=\"scale(0.015625)\"/>\n       <path id=\"DejaVuSans-6e\" d=\"M 3513 2113 \nL 3513 0 \nL 2938 0 \nL 2938 2094 \nQ 2938 2591 2744 2837 \nQ 2550 3084 2163 3084 \nQ 1697 3084 1428 2787 \nQ 1159 2491 1159 1978 \nL 1159 0 \nL 581 0 \nL 581 3500 \nL 1159 3500 \nL 1159 2956 \nQ 1366 3272 1645 3428 \nQ 1925 3584 2291 3584 \nQ 2894 3584 3203 3211 \nQ 3513 2838 3513 2113 \nz\n\" transform=\"scale(0.015625)\"/>\n       <path id=\"DejaVuSans-63\" d=\"M 3122 3366 \nL 3122 2828 \nQ 2878 2963 2633 3030 \nQ 2388 3097 2138 3097 \nQ 1578 3097 1268 2742 \nQ 959 2388 959 1747 \nQ 959 1106 1268 751 \nQ 1578 397 2138 397 \nQ 2388 397 2633 464 \nQ 2878 531 3122 666 \nL 3122 134 \nQ 2881 22 2623 -34 \nQ 2366 -91 2075 -91 \nQ 1284 -91 818 406 \nQ 353 903 353 1747 \nQ 353 2603 823 3093 \nQ 1294 3584 2113 3584 \nQ 2378 3584 2631 3529 \nQ 2884 3475 3122 3366 \nz\n\" transform=\"scale(0.015625)\"/>\n      </defs>\n      <use xlink:href=\"#DejaVuSans-56\"/>\n      <use xlink:href=\"#DejaVuSans-61\" x=\"60.658203\"/>\n      <use xlink:href=\"#DejaVuSans-72\" x=\"121.9375\"/>\n      <use xlink:href=\"#DejaVuSans-69\" x=\"163.050781\"/>\n      <use xlink:href=\"#DejaVuSans-61\" x=\"190.833984\"/>\n      <use xlink:href=\"#DejaVuSans-62\" x=\"252.113281\"/>\n      <use xlink:href=\"#DejaVuSans-6c\" x=\"315.589844\"/>\n      <use xlink:href=\"#DejaVuSans-65\" x=\"343.373047\"/>\n      <use xlink:href=\"#DejaVuSans-20\" x=\"404.896484\"/>\n      <use xlink:href=\"#DejaVuSans-49\" x=\"436.683594\"/>\n      <use xlink:href=\"#DejaVuSans-6d\" x=\"466.175781\"/>\n      <use xlink:href=\"#DejaVuSans-70\" x=\"563.587891\"/>\n      <use xlink:href=\"#DejaVuSans-6f\" x=\"627.064453\"/>\n      <use xlink:href=\"#DejaVuSans-72\" x=\"688.246094\"/>\n      <use xlink:href=\"#DejaVuSans-74\" x=\"729.359375\"/>\n      <use xlink:href=\"#DejaVuSans-61\" x=\"768.568359\"/>\n      <use xlink:href=\"#DejaVuSans-6e\" x=\"829.847656\"/>\n      <use xlink:href=\"#DejaVuSans-63\" x=\"893.226562\"/>\n      <use xlink:href=\"#DejaVuSans-65\" x=\"948.207031\"/>\n     </g>\n    </g>\n   </g>\n   <g id=\"matplotlib.axis_2\">\n    <g id=\"ytick_1\">\n     <g id=\"line2d_13\">\n      <path d=\"M 79.350625 281.76358 \nL 525.750625 281.76358 \n\" clip-path=\"url(#pb3107a0b5d)\" style=\"fill: none; stroke: #cccccc; stroke-linecap: round\"/>\n     </g>\n     <g id=\"line2d_14\"/>\n     <g id=\"text_8\">\n      <!-- PAY_6_-1 -->\n      <g style=\"fill: #262626\" transform=\"translate(28.452188 285.474517)scale(0.1 -0.1)\">\n       <defs>\n        <path id=\"DejaVuSans-50\" d=\"M 1259 4147 \nL 1259 2394 \nL 2053 2394 \nQ 2494 2394 2734 2622 \nQ 2975 2850 2975 3272 \nQ 2975 3691 2734 3919 \nQ 2494 4147 2053 4147 \nL 1259 4147 \nz\nM 628 4666 \nL 2053 4666 \nQ 2838 4666 3239 4311 \nQ 3641 3956 3641 3272 \nQ 3641 2581 3239 2228 \nQ 2838 1875 2053 1875 \nL 1259 1875 \nL 1259 0 \nL 628 0 \nL 628 4666 \nz\n\" transform=\"scale(0.015625)\"/>\n        <path id=\"DejaVuSans-41\" d=\"M 2188 4044 \nL 1331 1722 \nL 3047 1722 \nL 2188 4044 \nz\nM 1831 4666 \nL 2547 4666 \nL 4325 0 \nL 3669 0 \nL 3244 1197 \nL 1141 1197 \nL 716 0 \nL 50 0 \nL 1831 4666 \nz\n\" transform=\"scale(0.015625)\"/>\n        <path id=\"DejaVuSans-59\" d=\"M -13 4666 \nL 666 4666 \nL 1959 2747 \nL 3244 4666 \nL 3922 4666 \nL 2272 2222 \nL 2272 0 \nL 1638 0 \nL 1638 2222 \nL -13 4666 \nz\n\" transform=\"scale(0.015625)\"/>\n        <path id=\"DejaVuSans-5f\" d=\"M 3263 -1063 \nL 3263 -1509 \nL -63 -1509 \nL -63 -1063 \nL 3263 -1063 \nz\n\" transform=\"scale(0.015625)\"/>\n        <path id=\"DejaVuSans-36\" d=\"M 2113 2584 \nQ 1688 2584 1439 2293 \nQ 1191 2003 1191 1497 \nQ 1191 994 1439 701 \nQ 1688 409 2113 409 \nQ 2538 409 2786 701 \nQ 3034 994 3034 1497 \nQ 3034 2003 2786 2293 \nQ 2538 2584 2113 2584 \nz\nM 3366 4563 \nL 3366 3988 \nQ 3128 4100 2886 4159 \nQ 2644 4219 2406 4219 \nQ 1781 4219 1451 3797 \nQ 1122 3375 1075 2522 \nQ 1259 2794 1537 2939 \nQ 1816 3084 2150 3084 \nQ 2853 3084 3261 2657 \nQ 3669 2231 3669 1497 \nQ 3669 778 3244 343 \nQ 2819 -91 2113 -91 \nQ 1303 -91 875 529 \nQ 447 1150 447 2328 \nQ 447 3434 972 4092 \nQ 1497 4750 2381 4750 \nQ 2619 4750 2861 4703 \nQ 3103 4656 3366 4563 \nz\n\" transform=\"scale(0.015625)\"/>\n        <path id=\"DejaVuSans-2d\" d=\"M 313 2009 \nL 1997 2009 \nL 1997 1497 \nL 313 1497 \nL 313 2009 \nz\n\" transform=\"scale(0.015625)\"/>\n       </defs>\n       <use xlink:href=\"#DejaVuSans-50\"/>\n       <use xlink:href=\"#DejaVuSans-41\" x=\"53.927734\"/>\n       <use xlink:href=\"#DejaVuSans-59\" x=\"114.585938\"/>\n       <use xlink:href=\"#DejaVuSans-5f\" x=\"175.669922\"/>\n       <use xlink:href=\"#DejaVuSans-36\" x=\"225.669922\"/>\n       <use xlink:href=\"#DejaVuSans-5f\" x=\"289.292969\"/>\n       <use xlink:href=\"#DejaVuSans-2d\" x=\"339.292969\"/>\n       <use xlink:href=\"#DejaVuSans-31\" x=\"375.376953\"/>\n      </g>\n     </g>\n    </g>\n    <g id=\"ytick_2\">\n     <g id=\"line2d_15\">\n      <path d=\"M 79.350625 254.309034 \nL 525.750625 254.309034 \n\" clip-path=\"url(#pb3107a0b5d)\" style=\"fill: none; stroke: #cccccc; stroke-linecap: round\"/>\n     </g>\n     <g id=\"line2d_16\"/>\n     <g id=\"text_9\">\n      <!-- PAY_3_3 -->\n      <g style=\"fill: #262626\" transform=\"translate(32.06 258.019972)scale(0.1 -0.1)\">\n       <use xlink:href=\"#DejaVuSans-50\"/>\n       <use xlink:href=\"#DejaVuSans-41\" x=\"53.927734\"/>\n       <use xlink:href=\"#DejaVuSans-59\" x=\"114.585938\"/>\n       <use xlink:href=\"#DejaVuSans-5f\" x=\"175.669922\"/>\n       <use xlink:href=\"#DejaVuSans-33\" x=\"225.669922\"/>\n       <use xlink:href=\"#DejaVuSans-5f\" x=\"289.292969\"/>\n       <use xlink:href=\"#DejaVuSans-33\" x=\"339.292969\"/>\n      </g>\n     </g>\n    </g>\n    <g id=\"ytick_3\">\n     <g id=\"line2d_17\">\n      <path d=\"M 79.350625 226.854489 \nL 525.750625 226.854489 \n\" clip-path=\"url(#pb3107a0b5d)\" style=\"fill: none; stroke: #cccccc; stroke-linecap: round\"/>\n     </g>\n     <g id=\"line2d_18\"/>\n     <g id=\"text_10\">\n      <!-- PAY_3_-1 -->\n      <g style=\"fill: #262626\" transform=\"translate(28.452188 230.565426)scale(0.1 -0.1)\">\n       <use xlink:href=\"#DejaVuSans-50\"/>\n       <use xlink:href=\"#DejaVuSans-41\" x=\"53.927734\"/>\n       <use xlink:href=\"#DejaVuSans-59\" x=\"114.585938\"/>\n       <use xlink:href=\"#DejaVuSans-5f\" x=\"175.669922\"/>\n       <use xlink:href=\"#DejaVuSans-33\" x=\"225.669922\"/>\n       <use xlink:href=\"#DejaVuSans-5f\" x=\"289.292969\"/>\n       <use xlink:href=\"#DejaVuSans-2d\" x=\"339.292969\"/>\n       <use xlink:href=\"#DejaVuSans-31\" x=\"375.376953\"/>\n      </g>\n     </g>\n    </g>\n    <g id=\"ytick_4\">\n     <g id=\"line2d_19\">\n      <path d=\"M 79.350625 199.399943 \nL 525.750625 199.399943 \n\" clip-path=\"url(#pb3107a0b5d)\" style=\"fill: none; stroke: #cccccc; stroke-linecap: round\"/>\n     </g>\n     <g id=\"line2d_20\"/>\n     <g id=\"text_11\">\n      <!-- PAY_AMT3 -->\n      <g style=\"fill: #262626\" transform=\"translate(21.845938 203.110881)scale(0.1 -0.1)\">\n       <defs>\n        <path id=\"DejaVuSans-4d\" d=\"M 628 4666 \nL 1569 4666 \nL 2759 1491 \nL 3956 4666 \nL 4897 4666 \nL 4897 0 \nL 4281 0 \nL 4281 4097 \nL 3078 897 \nL 2444 897 \nL 1241 4097 \nL 1241 0 \nL 628 0 \nL 628 4666 \nz\n\" transform=\"scale(0.015625)\"/>\n        <path id=\"DejaVuSans-54\" d=\"M -19 4666 \nL 3928 4666 \nL 3928 4134 \nL 2272 4134 \nL 2272 0 \nL 1638 0 \nL 1638 4134 \nL -19 4134 \nL -19 4666 \nz\n\" transform=\"scale(0.015625)\"/>\n       </defs>\n       <use xlink:href=\"#DejaVuSans-50\"/>\n       <use xlink:href=\"#DejaVuSans-41\" x=\"53.927734\"/>\n       <use xlink:href=\"#DejaVuSans-59\" x=\"114.585938\"/>\n       <use xlink:href=\"#DejaVuSans-5f\" x=\"175.669922\"/>\n       <use xlink:href=\"#DejaVuSans-41\" x=\"225.669922\"/>\n       <use xlink:href=\"#DejaVuSans-4d\" x=\"294.078125\"/>\n       <use xlink:href=\"#DejaVuSans-54\" x=\"380.357422\"/>\n       <use xlink:href=\"#DejaVuSans-33\" x=\"441.441406\"/>\n      </g>\n     </g>\n    </g>\n    <g id=\"ytick_5\">\n     <g id=\"line2d_21\">\n      <path d=\"M 79.350625 171.945398 \nL 525.750625 171.945398 \n\" clip-path=\"url(#pb3107a0b5d)\" style=\"fill: none; stroke: #cccccc; stroke-linecap: round\"/>\n     </g>\n     <g id=\"line2d_22\"/>\n     <g id=\"text_12\">\n      <!-- PAY_1_1 -->\n      <g style=\"fill: #262626\" transform=\"translate(32.06 175.605554)scale(0.1 -0.1)\">\n       <use xlink:href=\"#DejaVuSans-50\"/>\n       <use xlink:href=\"#DejaVuSans-41\" x=\"53.927734\"/>\n       <use xlink:href=\"#DejaVuSans-59\" x=\"114.585938\"/>\n       <use xlink:href=\"#DejaVuSans-5f\" x=\"175.669922\"/>\n       <use xlink:href=\"#DejaVuSans-31\" x=\"225.669922\"/>\n       <use xlink:href=\"#DejaVuSans-5f\" x=\"289.292969\"/>\n       <use xlink:href=\"#DejaVuSans-31\" x=\"339.292969\"/>\n      </g>\n     </g>\n    </g>\n    <g id=\"ytick_6\">\n     <g id=\"line2d_23\">\n      <path d=\"M 79.350625 144.490852 \nL 525.750625 144.490852 \n\" clip-path=\"url(#pb3107a0b5d)\" style=\"fill: none; stroke: #cccccc; stroke-linecap: round\"/>\n     </g>\n     <g id=\"line2d_24\"/>\n     <g id=\"text_13\">\n      <!-- PAY_1_3 -->\n      <g style=\"fill: #262626\" transform=\"translate(32.06 148.20179)scale(0.1 -0.1)\">\n       <use xlink:href=\"#DejaVuSans-50\"/>\n       <use xlink:href=\"#DejaVuSans-41\" x=\"53.927734\"/>\n       <use xlink:href=\"#DejaVuSans-59\" x=\"114.585938\"/>\n       <use xlink:href=\"#DejaVuSans-5f\" x=\"175.669922\"/>\n       <use xlink:href=\"#DejaVuSans-31\" x=\"225.669922\"/>\n       <use xlink:href=\"#DejaVuSans-5f\" x=\"289.292969\"/>\n       <use xlink:href=\"#DejaVuSans-33\" x=\"339.292969\"/>\n      </g>\n     </g>\n    </g>\n    <g id=\"ytick_7\">\n     <g id=\"line2d_25\">\n      <path d=\"M 79.350625 117.036307 \nL 525.750625 117.036307 \n\" clip-path=\"url(#pb3107a0b5d)\" style=\"fill: none; stroke: #cccccc; stroke-linecap: round\"/>\n     </g>\n     <g id=\"line2d_26\"/>\n     <g id=\"text_14\">\n      <!-- LIMIT_BAL -->\n      <g style=\"fill: #262626\" transform=\"translate(21.869375 120.696463)scale(0.1 -0.1)\">\n       <defs>\n        <path id=\"DejaVuSans-4c\" d=\"M 628 4666 \nL 1259 4666 \nL 1259 531 \nL 3531 531 \nL 3531 0 \nL 628 0 \nL 628 4666 \nz\n\" transform=\"scale(0.015625)\"/>\n        <path id=\"DejaVuSans-42\" d=\"M 1259 2228 \nL 1259 519 \nL 2272 519 \nQ 2781 519 3026 730 \nQ 3272 941 3272 1375 \nQ 3272 1813 3026 2020 \nQ 2781 2228 2272 2228 \nL 1259 2228 \nz\nM 1259 4147 \nL 1259 2741 \nL 2194 2741 \nQ 2656 2741 2882 2914 \nQ 3109 3088 3109 3444 \nQ 3109 3797 2882 3972 \nQ 2656 4147 2194 4147 \nL 1259 4147 \nz\nM 628 4666 \nL 2241 4666 \nQ 2963 4666 3353 4366 \nQ 3744 4066 3744 3513 \nQ 3744 3084 3544 2831 \nQ 3344 2578 2956 2516 \nQ 3422 2416 3680 2098 \nQ 3938 1781 3938 1306 \nQ 3938 681 3513 340 \nQ 3088 0 2303 0 \nL 628 0 \nL 628 4666 \nz\n\" transform=\"scale(0.015625)\"/>\n       </defs>\n       <use xlink:href=\"#DejaVuSans-4c\"/>\n       <use xlink:href=\"#DejaVuSans-49\" x=\"55.712891\"/>\n       <use xlink:href=\"#DejaVuSans-4d\" x=\"85.205078\"/>\n       <use xlink:href=\"#DejaVuSans-49\" x=\"171.484375\"/>\n       <use xlink:href=\"#DejaVuSans-54\" x=\"200.976562\"/>\n       <use xlink:href=\"#DejaVuSans-5f\" x=\"262.060547\"/>\n       <use xlink:href=\"#DejaVuSans-42\" x=\"312.060547\"/>\n       <use xlink:href=\"#DejaVuSans-41\" x=\"380.664062\"/>\n       <use xlink:href=\"#DejaVuSans-4c\" x=\"449.072266\"/>\n      </g>\n     </g>\n    </g>\n    <g id=\"ytick_8\">\n     <g id=\"line2d_27\">\n      <path d=\"M 79.350625 89.581761 \nL 525.750625 89.581761 \n\" clip-path=\"url(#pb3107a0b5d)\" style=\"fill: none; stroke: #cccccc; stroke-linecap: round\"/>\n     </g>\n     <g id=\"line2d_28\"/>\n     <g id=\"text_15\">\n      <!-- PAY_AMT1 -->\n      <g style=\"fill: #262626\" transform=\"translate(21.845938 93.241918)scale(0.1 -0.1)\">\n       <use xlink:href=\"#DejaVuSans-50\"/>\n       <use xlink:href=\"#DejaVuSans-41\" x=\"53.927734\"/>\n       <use xlink:href=\"#DejaVuSans-59\" x=\"114.585938\"/>\n       <use xlink:href=\"#DejaVuSans-5f\" x=\"175.669922\"/>\n       <use xlink:href=\"#DejaVuSans-41\" x=\"225.669922\"/>\n       <use xlink:href=\"#DejaVuSans-4d\" x=\"294.078125\"/>\n       <use xlink:href=\"#DejaVuSans-54\" x=\"380.357422\"/>\n       <use xlink:href=\"#DejaVuSans-31\" x=\"441.441406\"/>\n      </g>\n     </g>\n    </g>\n    <g id=\"ytick_9\">\n     <g id=\"line2d_29\">\n      <path d=\"M 79.350625 62.127216 \nL 525.750625 62.127216 \n\" clip-path=\"url(#pb3107a0b5d)\" style=\"fill: none; stroke: #cccccc; stroke-linecap: round\"/>\n     </g>\n     <g id=\"line2d_30\"/>\n     <g id=\"text_16\">\n      <!-- PAY_3_2 -->\n      <g style=\"fill: #262626\" transform=\"translate(32.06 65.838153)scale(0.1 -0.1)\">\n       <use xlink:href=\"#DejaVuSans-50\"/>\n       <use xlink:href=\"#DejaVuSans-41\" x=\"53.927734\"/>\n       <use xlink:href=\"#DejaVuSans-59\" x=\"114.585938\"/>\n       <use xlink:href=\"#DejaVuSans-5f\" x=\"175.669922\"/>\n       <use xlink:href=\"#DejaVuSans-33\" x=\"225.669922\"/>\n       <use xlink:href=\"#DejaVuSans-5f\" x=\"289.292969\"/>\n       <use xlink:href=\"#DejaVuSans-32\" x=\"339.292969\"/>\n      </g>\n     </g>\n    </g>\n    <g id=\"ytick_10\">\n     <g id=\"line2d_31\">\n      <path d=\"M 79.350625 34.67267 \nL 525.750625 34.67267 \n\" clip-path=\"url(#pb3107a0b5d)\" style=\"fill: none; stroke: #cccccc; stroke-linecap: round\"/>\n     </g>\n     <g id=\"line2d_32\"/>\n     <g id=\"text_17\">\n      <!-- PAY_1_2 -->\n      <g style=\"fill: #262626\" transform=\"translate(32.06 38.383608)scale(0.1 -0.1)\">\n       <use xlink:href=\"#DejaVuSans-50\"/>\n       <use xlink:href=\"#DejaVuSans-41\" x=\"53.927734\"/>\n       <use xlink:href=\"#DejaVuSans-59\" x=\"114.585938\"/>\n       <use xlink:href=\"#DejaVuSans-5f\" x=\"175.669922\"/>\n       <use xlink:href=\"#DejaVuSans-31\" x=\"225.669922\"/>\n       <use xlink:href=\"#DejaVuSans-5f\" x=\"289.292969\"/>\n       <use xlink:href=\"#DejaVuSans-32\" x=\"339.292969\"/>\n      </g>\n     </g>\n    </g>\n    <g id=\"text_18\">\n     <!-- Features -->\n     <g style=\"fill: #262626\" transform=\"translate(15.558281 181.862109)rotate(-90)scale(0.11 -0.11)\">\n      <defs>\n       <path id=\"DejaVuSans-46\" d=\"M 628 4666 \nL 3309 4666 \nL 3309 4134 \nL 1259 4134 \nL 1259 2759 \nL 3109 2759 \nL 3109 2228 \nL 1259 2228 \nL 1259 0 \nL 628 0 \nL 628 4666 \nz\n\" transform=\"scale(0.015625)\"/>\n       <path id=\"DejaVuSans-75\" d=\"M 544 1381 \nL 544 3500 \nL 1119 3500 \nL 1119 1403 \nQ 1119 906 1312 657 \nQ 1506 409 1894 409 \nQ 2359 409 2629 706 \nQ 2900 1003 2900 1516 \nL 2900 3500 \nL 3475 3500 \nL 3475 0 \nL 2900 0 \nL 2900 538 \nQ 2691 219 2414 64 \nQ 2138 -91 1772 -91 \nQ 1169 -91 856 284 \nQ 544 659 544 1381 \nz\nM 1991 3584 \nL 1991 3584 \nz\n\" transform=\"scale(0.015625)\"/>\n       <path id=\"DejaVuSans-73\" d=\"M 2834 3397 \nL 2834 2853 \nQ 2591 2978 2328 3040 \nQ 2066 3103 1784 3103 \nQ 1356 3103 1142 2972 \nQ 928 2841 928 2578 \nQ 928 2378 1081 2264 \nQ 1234 2150 1697 2047 \nL 1894 2003 \nQ 2506 1872 2764 1633 \nQ 3022 1394 3022 966 \nQ 3022 478 2636 193 \nQ 2250 -91 1575 -91 \nQ 1294 -91 989 -36 \nQ 684 19 347 128 \nL 347 722 \nQ 666 556 975 473 \nQ 1284 391 1588 391 \nQ 1994 391 2212 530 \nQ 2431 669 2431 922 \nQ 2431 1156 2273 1281 \nQ 2116 1406 1581 1522 \nL 1381 1569 \nQ 847 1681 609 1914 \nQ 372 2147 372 2553 \nQ 372 3047 722 3315 \nQ 1072 3584 1716 3584 \nQ 2034 3584 2315 3537 \nQ 2597 3491 2834 3397 \nz\n\" transform=\"scale(0.015625)\"/>\n      </defs>\n      <use xlink:href=\"#DejaVuSans-46\"/>\n      <use xlink:href=\"#DejaVuSans-65\" x=\"52.019531\"/>\n      <use xlink:href=\"#DejaVuSans-61\" x=\"113.542969\"/>\n      <use xlink:href=\"#DejaVuSans-74\" x=\"174.822266\"/>\n      <use xlink:href=\"#DejaVuSans-75\" x=\"214.03125\"/>\n      <use xlink:href=\"#DejaVuSans-72\" x=\"277.410156\"/>\n      <use xlink:href=\"#DejaVuSans-65\" x=\"316.273438\"/>\n      <use xlink:href=\"#DejaVuSans-73\" x=\"377.796875\"/>\n     </g>\n    </g>\n   </g>\n   <g id=\"LineCollection_1\">\n    <path d=\"M 99.641534 281.76358 \nL 105.364449 281.76358 \n\" clip-path=\"url(#pb3107a0b5d)\" style=\"fill: none; stroke: #87ceeb; stroke-width: 1.75\"/>\n    <path d=\"M 99.641534 254.309034 \nL 105.505762 254.309034 \n\" clip-path=\"url(#pb3107a0b5d)\" style=\"fill: none; stroke: #87ceeb; stroke-width: 1.75\"/>\n    <path d=\"M 99.641534 226.854489 \nL 105.762669 226.854489 \n\" clip-path=\"url(#pb3107a0b5d)\" style=\"fill: none; stroke: #87ceeb; stroke-width: 1.75\"/>\n    <path d=\"M 99.641534 199.399943 \nL 115.291874 199.399943 \n\" clip-path=\"url(#pb3107a0b5d)\" style=\"fill: none; stroke: #87ceeb; stroke-width: 1.75\"/>\n    <path d=\"M 99.641534 171.945398 \nL 119.81246 171.945398 \n\" clip-path=\"url(#pb3107a0b5d)\" style=\"fill: none; stroke: #87ceeb; stroke-width: 1.75\"/>\n    <path d=\"M 99.641534 144.490852 \nL 120.661758 144.490852 \n\" clip-path=\"url(#pb3107a0b5d)\" style=\"fill: none; stroke: #87ceeb; stroke-width: 1.75\"/>\n    <path d=\"M 99.641534 117.036307 \nL 125.780138 117.036307 \n\" clip-path=\"url(#pb3107a0b5d)\" style=\"fill: none; stroke: #87ceeb; stroke-width: 1.75\"/>\n    <path d=\"M 99.641534 89.581761 \nL 170.163518 89.581761 \n\" clip-path=\"url(#pb3107a0b5d)\" style=\"fill: none; stroke: #87ceeb; stroke-width: 1.75\"/>\n    <path d=\"M 99.641534 62.127216 \nL 217.523103 62.127216 \n\" clip-path=\"url(#pb3107a0b5d)\" style=\"fill: none; stroke: #87ceeb; stroke-width: 1.75\"/>\n    <path d=\"M 99.641534 34.67267 \nL 505.459716 34.67267 \n\" clip-path=\"url(#pb3107a0b5d)\" style=\"fill: none; stroke: #87ceeb; stroke-width: 1.75\"/>\n   </g>\n   <g id=\"line2d_33\">\n    <defs>\n     <path id=\"me66dc621d6\" d=\"M 0 3.5 \nC 0.928211 3.5 1.81853 3.131218 2.474874 2.474874 \nC 3.131218 1.81853 3.5 0.928211 3.5 0 \nC 3.5 -0.928211 3.131218 -1.81853 2.474874 -2.474874 \nC 1.81853 -3.131218 0.928211 -3.5 0 -3.5 \nC -0.928211 -3.5 -1.81853 -3.131218 -2.474874 -2.474874 \nC -3.131218 -1.81853 -3.5 -0.928211 -3.5 0 \nC -3.5 0.928211 -3.131218 1.81853 -2.474874 2.474874 \nC -1.81853 3.131218 -0.928211 3.5 0 3.5 \nz\n\"/>\n    </defs>\n    <g clip-path=\"url(#pb3107a0b5d)\">\n     <use xlink:href=\"#me66dc621d6\" x=\"105.364449\" y=\"281.76358\" style=\"fill: #0272a2\"/>\n     <use xlink:href=\"#me66dc621d6\" x=\"105.505762\" y=\"254.309034\" style=\"fill: #0272a2\"/>\n     <use xlink:href=\"#me66dc621d6\" x=\"105.762669\" y=\"226.854489\" style=\"fill: #0272a2\"/>\n     <use xlink:href=\"#me66dc621d6\" x=\"115.291874\" y=\"199.399943\" style=\"fill: #0272a2\"/>\n     <use xlink:href=\"#me66dc621d6\" x=\"119.81246\" y=\"171.945398\" style=\"fill: #0272a2\"/>\n     <use xlink:href=\"#me66dc621d6\" x=\"120.661758\" y=\"144.490852\" style=\"fill: #0272a2\"/>\n     <use xlink:href=\"#me66dc621d6\" x=\"125.780138\" y=\"117.036307\" style=\"fill: #0272a2\"/>\n     <use xlink:href=\"#me66dc621d6\" x=\"170.163518\" y=\"89.581761\" style=\"fill: #0272a2\"/>\n     <use xlink:href=\"#me66dc621d6\" x=\"217.523103\" y=\"62.127216\" style=\"fill: #0272a2\"/>\n     <use xlink:href=\"#me66dc621d6\" x=\"505.459716\" y=\"34.67267\" style=\"fill: #0272a2\"/>\n    </g>\n   </g>\n   <g id=\"patch_3\">\n    <path d=\"M 79.350625 294.118125 \nL 79.350625 22.318125 \n\" style=\"fill: none; stroke: #cccccc; stroke-width: 1.25; stroke-linejoin: miter; stroke-linecap: square\"/>\n   </g>\n   <g id=\"patch_4\">\n    <path d=\"M 525.750625 294.118125 \nL 525.750625 22.318125 \n\" style=\"fill: none; stroke: #cccccc; stroke-width: 1.25; stroke-linejoin: miter; stroke-linecap: square\"/>\n   </g>\n   <g id=\"patch_5\">\n    <path d=\"M 79.350625 294.118125 \nL 525.750625 294.118125 \n\" style=\"fill: none; stroke: #cccccc; stroke-width: 1.25; stroke-linejoin: miter; stroke-linecap: square\"/>\n   </g>\n   <g id=\"patch_6\">\n    <path d=\"M 79.350625 22.318125 \nL 525.750625 22.318125 \n\" style=\"fill: none; stroke: #cccccc; stroke-width: 1.25; stroke-linejoin: miter; stroke-linecap: square\"/>\n   </g>\n   <g id=\"text_19\">\n    <!-- Feature Importance Plot -->\n    <g style=\"fill: #262626\" transform=\"translate(230.377187 16.318125)scale(0.12 -0.12)\">\n     <use xlink:href=\"#DejaVuSans-46\"/>\n     <use xlink:href=\"#DejaVuSans-65\" x=\"52.019531\"/>\n     <use xlink:href=\"#DejaVuSans-61\" x=\"113.542969\"/>\n     <use xlink:href=\"#DejaVuSans-74\" x=\"174.822266\"/>\n     <use xlink:href=\"#DejaVuSans-75\" x=\"214.03125\"/>\n     <use xlink:href=\"#DejaVuSans-72\" x=\"277.410156\"/>\n     <use xlink:href=\"#DejaVuSans-65\" x=\"316.273438\"/>\n     <use xlink:href=\"#DejaVuSans-20\" x=\"377.796875\"/>\n     <use xlink:href=\"#DejaVuSans-49\" x=\"409.583984\"/>\n     <use xlink:href=\"#DejaVuSans-6d\" x=\"439.076172\"/>\n     <use xlink:href=\"#DejaVuSans-70\" x=\"536.488281\"/>\n     <use xlink:href=\"#DejaVuSans-6f\" x=\"599.964844\"/>\n     <use xlink:href=\"#DejaVuSans-72\" x=\"661.146484\"/>\n     <use xlink:href=\"#DejaVuSans-74\" x=\"702.259766\"/>\n     <use xlink:href=\"#DejaVuSans-61\" x=\"741.46875\"/>\n     <use xlink:href=\"#DejaVuSans-6e\" x=\"802.748047\"/>\n     <use xlink:href=\"#DejaVuSans-63\" x=\"866.126953\"/>\n     <use xlink:href=\"#DejaVuSans-65\" x=\"921.107422\"/>\n     <use xlink:href=\"#DejaVuSans-20\" x=\"982.630859\"/>\n     <use xlink:href=\"#DejaVuSans-50\" x=\"1014.417969\"/>\n     <use xlink:href=\"#DejaVuSans-6c\" x=\"1074.720703\"/>\n     <use xlink:href=\"#DejaVuSans-6f\" x=\"1102.503906\"/>\n     <use xlink:href=\"#DejaVuSans-74\" x=\"1163.685547\"/>\n    </g>\n   </g>\n  </g>\n </g>\n <defs>\n  <clipPath id=\"pb3107a0b5d\">\n   <rect x=\"79.350625\" y=\"22.318125\" width=\"446.4\" height=\"271.8\"/>\n  </clipPath>\n </defs>\n</svg>\n",
      "text/plain": [
       "<Figure size 800x500 with 1 Axes>"
      ]
     },
     "metadata": {
      "needs_background": "light"
     },
     "output_type": "display_data"
    }
   ],
   "source": [
    "plot_model(tuned_rf, plot='feature')"
   ]
  },
  {
   "cell_type": "markdown",
   "metadata": {
    "colab_type": "text",
    "id": "FfWC3NEhEQr9"
   },
   "source": [
    "### 10.4 Confusion Matrix"
   ]
  },
  {
   "cell_type": "code",
   "execution_count": 24,
   "metadata": {
    "colab": {},
    "colab_type": "code",
    "id": "OAB5mes-EQsA",
    "outputId": "bd82130d-2cc3-4b63-df5d-03b7aa54bf52"
   },
   "outputs": [
    {
     "name": "stderr",
     "output_type": "stream",
     "text": [
      "findfont: Font family ['sans-serif'] not found. Falling back to DejaVu Sans.\n",
      "findfont: Generic family 'sans-serif' not found because none of the following families were found: Arial, Liberation Sans, Bitstream Vera Sans, sans-serif\n"
     ]
    },
    {
     "data": {
      "image/svg+xml": "<?xml version=\"1.0\" encoding=\"utf-8\" standalone=\"no\"?>\n<!DOCTYPE svg PUBLIC \"-//W3C//DTD SVG 1.1//EN\"\n  \"http://www.w3.org/Graphics/SVG/1.1/DTD/svg11.dtd\">\n<svg xmlns:xlink=\"http://www.w3.org/1999/xlink\" width=\"425.489687pt\" height=\"280.607813pt\" viewBox=\"0 0 425.489687 280.607813\" xmlns=\"http://www.w3.org/2000/svg\" version=\"1.1\">\n <metadata>\n  <rdf:RDF xmlns:dc=\"http://purl.org/dc/elements/1.1/\" xmlns:cc=\"http://creativecommons.org/ns#\" xmlns:rdf=\"http://www.w3.org/1999/02/22-rdf-syntax-ns#\">\n   <cc:Work>\n    <dc:type rdf:resource=\"http://purl.org/dc/dcmitype/StillImage\"/>\n    <dc:date>2022-05-22T21:46:49.971647</dc:date>\n    <dc:format>image/svg+xml</dc:format>\n    <dc:creator>\n     <cc:Agent>\n      <dc:title>Matplotlib v3.5.2, https://matplotlib.org/</dc:title>\n     </cc:Agent>\n    </dc:creator>\n   </cc:Work>\n  </rdf:RDF>\n </metadata>\n <defs>\n  <style type=\"text/css\">*{stroke-linejoin: round; stroke-linecap: butt}</style>\n </defs>\n <g id=\"figure_1\">\n  <g id=\"patch_1\">\n   <path d=\"M 0 280.607813 \nL 425.489687 280.607813 \nL 425.489687 0 \nL 0 0 \nL 0 280.607813 \nz\n\" style=\"fill: none\"/>\n  </g>\n  <g id=\"axes_1\">\n   <g id=\"patch_2\">\n    <path d=\"M 38.389688 242.218125 \nL 418.289688 242.218125 \nL 418.289688 22.318125 \nL 38.389688 22.318125 \nz\n\" style=\"fill: #ffffff\"/>\n   </g>\n   <g id=\"matplotlib.axis_1\">\n    <g id=\"xtick_1\">\n     <g id=\"line2d_1\"/>\n     <g id=\"text_1\">\n      <!-- 0 -->\n      <g style=\"fill: #262626\" transform=\"translate(137.50375 258.761875)rotate(-90)scale(0.15 -0.15)\">\n       <defs>\n        <path id=\"DejaVuSans-30\" d=\"M 2034 4250 \nQ 1547 4250 1301 3770 \nQ 1056 3291 1056 2328 \nQ 1056 1369 1301 889 \nQ 1547 409 2034 409 \nQ 2525 409 2770 889 \nQ 3016 1369 3016 2328 \nQ 3016 3291 2770 3770 \nQ 2525 4250 2034 4250 \nz\nM 2034 4750 \nQ 2819 4750 3233 4129 \nQ 3647 3509 3647 2328 \nQ 3647 1150 3233 529 \nQ 2819 -91 2034 -91 \nQ 1250 -91 836 529 \nQ 422 1150 422 2328 \nQ 422 3509 836 4129 \nQ 1250 4750 2034 4750 \nz\n\" transform=\"scale(0.015625)\"/>\n       </defs>\n       <use xlink:href=\"#DejaVuSans-30\"/>\n      </g>\n     </g>\n    </g>\n    <g id=\"xtick_2\">\n     <g id=\"line2d_2\"/>\n     <g id=\"text_2\">\n      <!-- 1 -->\n      <g style=\"fill: #262626\" transform=\"translate(327.45375 258.761875)rotate(-90)scale(0.15 -0.15)\">\n       <defs>\n        <path id=\"DejaVuSans-31\" d=\"M 794 531 \nL 1825 531 \nL 1825 4091 \nL 703 3866 \nL 703 4441 \nL 1819 4666 \nL 2450 4666 \nL 2450 531 \nL 3481 531 \nL 3481 0 \nL 794 0 \nL 794 531 \nz\n\" transform=\"scale(0.015625)\"/>\n       </defs>\n       <use xlink:href=\"#DejaVuSans-31\"/>\n      </g>\n     </g>\n    </g>\n    <g id=\"text_3\">\n     <!-- Predicted Class -->\n     <g style=\"fill: #262626\" transform=\"translate(186.305078 271.120156)scale(0.11 -0.11)\">\n      <defs>\n       <path id=\"DejaVuSans-50\" d=\"M 1259 4147 \nL 1259 2394 \nL 2053 2394 \nQ 2494 2394 2734 2622 \nQ 2975 2850 2975 3272 \nQ 2975 3691 2734 3919 \nQ 2494 4147 2053 4147 \nL 1259 4147 \nz\nM 628 4666 \nL 2053 4666 \nQ 2838 4666 3239 4311 \nQ 3641 3956 3641 3272 \nQ 3641 2581 3239 2228 \nQ 2838 1875 2053 1875 \nL 1259 1875 \nL 1259 0 \nL 628 0 \nL 628 4666 \nz\n\" transform=\"scale(0.015625)\"/>\n       <path id=\"DejaVuSans-72\" d=\"M 2631 2963 \nQ 2534 3019 2420 3045 \nQ 2306 3072 2169 3072 \nQ 1681 3072 1420 2755 \nQ 1159 2438 1159 1844 \nL 1159 0 \nL 581 0 \nL 581 3500 \nL 1159 3500 \nL 1159 2956 \nQ 1341 3275 1631 3429 \nQ 1922 3584 2338 3584 \nQ 2397 3584 2469 3576 \nQ 2541 3569 2628 3553 \nL 2631 2963 \nz\n\" transform=\"scale(0.015625)\"/>\n       <path id=\"DejaVuSans-65\" d=\"M 3597 1894 \nL 3597 1613 \nL 953 1613 \nQ 991 1019 1311 708 \nQ 1631 397 2203 397 \nQ 2534 397 2845 478 \nQ 3156 559 3463 722 \nL 3463 178 \nQ 3153 47 2828 -22 \nQ 2503 -91 2169 -91 \nQ 1331 -91 842 396 \nQ 353 884 353 1716 \nQ 353 2575 817 3079 \nQ 1281 3584 2069 3584 \nQ 2775 3584 3186 3129 \nQ 3597 2675 3597 1894 \nz\nM 3022 2063 \nQ 3016 2534 2758 2815 \nQ 2500 3097 2075 3097 \nQ 1594 3097 1305 2825 \nQ 1016 2553 972 2059 \nL 3022 2063 \nz\n\" transform=\"scale(0.015625)\"/>\n       <path id=\"DejaVuSans-64\" d=\"M 2906 2969 \nL 2906 4863 \nL 3481 4863 \nL 3481 0 \nL 2906 0 \nL 2906 525 \nQ 2725 213 2448 61 \nQ 2172 -91 1784 -91 \nQ 1150 -91 751 415 \nQ 353 922 353 1747 \nQ 353 2572 751 3078 \nQ 1150 3584 1784 3584 \nQ 2172 3584 2448 3432 \nQ 2725 3281 2906 2969 \nz\nM 947 1747 \nQ 947 1113 1208 752 \nQ 1469 391 1925 391 \nQ 2381 391 2643 752 \nQ 2906 1113 2906 1747 \nQ 2906 2381 2643 2742 \nQ 2381 3103 1925 3103 \nQ 1469 3103 1208 2742 \nQ 947 2381 947 1747 \nz\n\" transform=\"scale(0.015625)\"/>\n       <path id=\"DejaVuSans-69\" d=\"M 603 3500 \nL 1178 3500 \nL 1178 0 \nL 603 0 \nL 603 3500 \nz\nM 603 4863 \nL 1178 4863 \nL 1178 4134 \nL 603 4134 \nL 603 4863 \nz\n\" transform=\"scale(0.015625)\"/>\n       <path id=\"DejaVuSans-63\" d=\"M 3122 3366 \nL 3122 2828 \nQ 2878 2963 2633 3030 \nQ 2388 3097 2138 3097 \nQ 1578 3097 1268 2742 \nQ 959 2388 959 1747 \nQ 959 1106 1268 751 \nQ 1578 397 2138 397 \nQ 2388 397 2633 464 \nQ 2878 531 3122 666 \nL 3122 134 \nQ 2881 22 2623 -34 \nQ 2366 -91 2075 -91 \nQ 1284 -91 818 406 \nQ 353 903 353 1747 \nQ 353 2603 823 3093 \nQ 1294 3584 2113 3584 \nQ 2378 3584 2631 3529 \nQ 2884 3475 3122 3366 \nz\n\" transform=\"scale(0.015625)\"/>\n       <path id=\"DejaVuSans-74\" d=\"M 1172 4494 \nL 1172 3500 \nL 2356 3500 \nL 2356 3053 \nL 1172 3053 \nL 1172 1153 \nQ 1172 725 1289 603 \nQ 1406 481 1766 481 \nL 2356 481 \nL 2356 0 \nL 1766 0 \nQ 1100 0 847 248 \nQ 594 497 594 1153 \nL 594 3053 \nL 172 3053 \nL 172 3500 \nL 594 3500 \nL 594 4494 \nL 1172 4494 \nz\n\" transform=\"scale(0.015625)\"/>\n       <path id=\"DejaVuSans-20\" transform=\"scale(0.015625)\"/>\n       <path id=\"DejaVuSans-43\" d=\"M 4122 4306 \nL 4122 3641 \nQ 3803 3938 3442 4084 \nQ 3081 4231 2675 4231 \nQ 1875 4231 1450 3742 \nQ 1025 3253 1025 2328 \nQ 1025 1406 1450 917 \nQ 1875 428 2675 428 \nQ 3081 428 3442 575 \nQ 3803 722 4122 1019 \nL 4122 359 \nQ 3791 134 3420 21 \nQ 3050 -91 2638 -91 \nQ 1578 -91 968 557 \nQ 359 1206 359 2328 \nQ 359 3453 968 4101 \nQ 1578 4750 2638 4750 \nQ 3056 4750 3426 4639 \nQ 3797 4528 4122 4306 \nz\n\" transform=\"scale(0.015625)\"/>\n       <path id=\"DejaVuSans-6c\" d=\"M 603 4863 \nL 1178 4863 \nL 1178 0 \nL 603 0 \nL 603 4863 \nz\n\" transform=\"scale(0.015625)\"/>\n       <path id=\"DejaVuSans-61\" d=\"M 2194 1759 \nQ 1497 1759 1228 1600 \nQ 959 1441 959 1056 \nQ 959 750 1161 570 \nQ 1363 391 1709 391 \nQ 2188 391 2477 730 \nQ 2766 1069 2766 1631 \nL 2766 1759 \nL 2194 1759 \nz\nM 3341 1997 \nL 3341 0 \nL 2766 0 \nL 2766 531 \nQ 2569 213 2275 61 \nQ 1981 -91 1556 -91 \nQ 1019 -91 701 211 \nQ 384 513 384 1019 \nQ 384 1609 779 1909 \nQ 1175 2209 1959 2209 \nL 2766 2209 \nL 2766 2266 \nQ 2766 2663 2505 2880 \nQ 2244 3097 1772 3097 \nQ 1472 3097 1187 3025 \nQ 903 2953 641 2809 \nL 641 3341 \nQ 956 3463 1253 3523 \nQ 1550 3584 1831 3584 \nQ 2591 3584 2966 3190 \nQ 3341 2797 3341 1997 \nz\n\" transform=\"scale(0.015625)\"/>\n       <path id=\"DejaVuSans-73\" d=\"M 2834 3397 \nL 2834 2853 \nQ 2591 2978 2328 3040 \nQ 2066 3103 1784 3103 \nQ 1356 3103 1142 2972 \nQ 928 2841 928 2578 \nQ 928 2378 1081 2264 \nQ 1234 2150 1697 2047 \nL 1894 2003 \nQ 2506 1872 2764 1633 \nQ 3022 1394 3022 966 \nQ 3022 478 2636 193 \nQ 2250 -91 1575 -91 \nQ 1294 -91 989 -36 \nQ 684 19 347 128 \nL 347 722 \nQ 666 556 975 473 \nQ 1284 391 1588 391 \nQ 1994 391 2212 530 \nQ 2431 669 2431 922 \nQ 2431 1156 2273 1281 \nQ 2116 1406 1581 1522 \nL 1381 1569 \nQ 847 1681 609 1914 \nQ 372 2147 372 2553 \nQ 372 3047 722 3315 \nQ 1072 3584 1716 3584 \nQ 2034 3584 2315 3537 \nQ 2597 3491 2834 3397 \nz\n\" transform=\"scale(0.015625)\"/>\n      </defs>\n      <use xlink:href=\"#DejaVuSans-50\"/>\n      <use xlink:href=\"#DejaVuSans-72\" x=\"58.552734\"/>\n      <use xlink:href=\"#DejaVuSans-65\" x=\"97.416016\"/>\n      <use xlink:href=\"#DejaVuSans-64\" x=\"158.939453\"/>\n      <use xlink:href=\"#DejaVuSans-69\" x=\"222.416016\"/>\n      <use xlink:href=\"#DejaVuSans-63\" x=\"250.199219\"/>\n      <use xlink:href=\"#DejaVuSans-74\" x=\"305.179688\"/>\n      <use xlink:href=\"#DejaVuSans-65\" x=\"344.388672\"/>\n      <use xlink:href=\"#DejaVuSans-64\" x=\"405.912109\"/>\n      <use xlink:href=\"#DejaVuSans-20\" x=\"469.388672\"/>\n      <use xlink:href=\"#DejaVuSans-43\" x=\"501.175781\"/>\n      <use xlink:href=\"#DejaVuSans-6c\" x=\"571\"/>\n      <use xlink:href=\"#DejaVuSans-61\" x=\"598.783203\"/>\n      <use xlink:href=\"#DejaVuSans-73\" x=\"660.0625\"/>\n      <use xlink:href=\"#DejaVuSans-73\" x=\"712.162109\"/>\n     </g>\n    </g>\n   </g>\n   <g id=\"matplotlib.axis_2\">\n    <g id=\"ytick_1\">\n     <g id=\"line2d_3\"/>\n     <g id=\"text_4\">\n      <!-- 1 -->\n      <g style=\"fill: #262626\" transform=\"translate(21.845938 192.941953)scale(0.15 -0.15)\">\n       <use xlink:href=\"#DejaVuSans-31\"/>\n      </g>\n     </g>\n    </g>\n    <g id=\"ytick_2\">\n     <g id=\"line2d_4\"/>\n     <g id=\"text_5\">\n      <!-- 0 -->\n      <g style=\"fill: #262626\" transform=\"translate(21.845938 82.991953)scale(0.15 -0.15)\">\n       <use xlink:href=\"#DejaVuSans-30\"/>\n      </g>\n     </g>\n    </g>\n    <g id=\"text_6\">\n     <!-- True Class -->\n     <g style=\"fill: #262626\" transform=\"translate(15.558281 160.164297)rotate(-90)scale(0.11 -0.11)\">\n      <defs>\n       <path id=\"DejaVuSans-54\" d=\"M -19 4666 \nL 3928 4666 \nL 3928 4134 \nL 2272 4134 \nL 2272 0 \nL 1638 0 \nL 1638 4134 \nL -19 4134 \nL -19 4666 \nz\n\" transform=\"scale(0.015625)\"/>\n       <path id=\"DejaVuSans-75\" d=\"M 544 1381 \nL 544 3500 \nL 1119 3500 \nL 1119 1403 \nQ 1119 906 1312 657 \nQ 1506 409 1894 409 \nQ 2359 409 2629 706 \nQ 2900 1003 2900 1516 \nL 2900 3500 \nL 3475 3500 \nL 3475 0 \nL 2900 0 \nL 2900 538 \nQ 2691 219 2414 64 \nQ 2138 -91 1772 -91 \nQ 1169 -91 856 284 \nQ 544 659 544 1381 \nz\nM 1991 3584 \nL 1991 3584 \nz\n\" transform=\"scale(0.015625)\"/>\n      </defs>\n      <use xlink:href=\"#DejaVuSans-54\"/>\n      <use xlink:href=\"#DejaVuSans-72\" x=\"46.333984\"/>\n      <use xlink:href=\"#DejaVuSans-75\" x=\"87.447266\"/>\n      <use xlink:href=\"#DejaVuSans-65\" x=\"150.826172\"/>\n      <use xlink:href=\"#DejaVuSans-20\" x=\"212.349609\"/>\n      <use xlink:href=\"#DejaVuSans-43\" x=\"244.136719\"/>\n      <use xlink:href=\"#DejaVuSans-6c\" x=\"313.960938\"/>\n      <use xlink:href=\"#DejaVuSans-61\" x=\"341.744141\"/>\n      <use xlink:href=\"#DejaVuSans-73\" x=\"403.023438\"/>\n      <use xlink:href=\"#DejaVuSans-73\" x=\"455.123047\"/>\n     </g>\n    </g>\n   </g>\n   <g id=\"QuadMesh_1\">\n    <path d=\"M 38.389688 242.218125 \nL 228.339688 242.218125 \nL 228.339688 132.268125 \nL 38.389688 132.268125 \nL 38.389688 242.218125 \n\" clip-path=\"url(#pefaf625c5a)\" style=\"fill: #e5f5e0; stroke: #ffffff; stroke-width: 0.01\"/>\n    <path d=\"M 228.339688 242.218125 \nL 418.289688 242.218125 \nL 418.289688 132.268125 \nL 228.339688 132.268125 \nL 228.339688 242.218125 \n\" clip-path=\"url(#pefaf625c5a)\" style=\"fill: #f7fcf5; stroke: #111111; stroke-width: 0.01\"/>\n    <path d=\"M 38.389688 132.268125 \nL 228.339688 132.268125 \nL 228.339688 22.318125 \nL 38.389688 22.318125 \nL 38.389688 132.268125 \n\" clip-path=\"url(#pefaf625c5a)\" style=\"fill: #00441b; stroke: #111111; stroke-width: 0.01\"/>\n    <path d=\"M 228.339688 132.268125 \nL 418.289688 132.268125 \nL 418.289688 22.318125 \nL 228.339688 22.318125 \nL 228.339688 132.268125 \n\" clip-path=\"url(#pefaf625c5a)\" style=\"fill: #f7fcf5; stroke: #ffffff; stroke-width: 0.01\"/>\n   </g>\n   <g id=\"patch_3\">\n    <path d=\"M 38.389688 242.218125 \nL 38.389688 22.318125 \n\" style=\"fill: none; stroke: #cccccc; stroke-width: 1.25; stroke-linejoin: miter; stroke-linecap: square\"/>\n   </g>\n   <g id=\"patch_4\">\n    <path d=\"M 418.289688 242.218125 \nL 418.289688 22.318125 \n\" style=\"fill: none; stroke: #cccccc; stroke-width: 1.25; stroke-linejoin: miter; stroke-linecap: square\"/>\n   </g>\n   <g id=\"patch_5\">\n    <path d=\"M 38.389688 242.218125 \nL 418.289688 242.218125 \n\" style=\"fill: none; stroke: #cccccc; stroke-width: 1.25; stroke-linejoin: miter; stroke-linecap: square\"/>\n   </g>\n   <g id=\"patch_6\">\n    <path d=\"M 38.389688 22.318125 \nL 418.289688 22.318125 \n\" style=\"fill: none; stroke: #cccccc; stroke-width: 1.25; stroke-linejoin: miter; stroke-linecap: square\"/>\n   </g>\n   <g id=\"text_7\">\n    <!-- 1020 -->\n    <g transform=\"translate(114.277187 191.382188)scale(0.15 -0.15)\">\n     <defs>\n      <path id=\"DejaVuSans-32\" d=\"M 1228 531 \nL 3431 531 \nL 3431 0 \nL 469 0 \nL 469 531 \nQ 828 903 1448 1529 \nQ 2069 2156 2228 2338 \nQ 2531 2678 2651 2914 \nQ 2772 3150 2772 3378 \nQ 2772 3750 2511 3984 \nQ 2250 4219 1831 4219 \nQ 1534 4219 1204 4116 \nQ 875 4013 500 3803 \nL 500 4441 \nQ 881 4594 1212 4672 \nQ 1544 4750 1819 4750 \nQ 2544 4750 2975 4387 \nQ 3406 4025 3406 3419 \nQ 3406 3131 3298 2873 \nQ 3191 2616 2906 2266 \nQ 2828 2175 2409 1742 \nQ 1991 1309 1228 531 \nz\n\" transform=\"scale(0.015625)\"/>\n     </defs>\n     <use xlink:href=\"#DejaVuSans-31\"/>\n     <use xlink:href=\"#DejaVuSans-30\" x=\"63.623047\"/>\n     <use xlink:href=\"#DejaVuSans-32\" x=\"127.246094\"/>\n     <use xlink:href=\"#DejaVuSans-30\" x=\"190.869141\"/>\n    </g>\n   </g>\n   <g id=\"text_8\">\n    <!-- 534 -->\n    <g transform=\"translate(308.999062 191.382188)scale(0.15 -0.15)\">\n     <defs>\n      <path id=\"DejaVuSans-35\" d=\"M 691 4666 \nL 3169 4666 \nL 3169 4134 \nL 1269 4134 \nL 1269 2991 \nQ 1406 3038 1543 3061 \nQ 1681 3084 1819 3084 \nQ 2600 3084 3056 2656 \nQ 3513 2228 3513 1497 \nQ 3513 744 3044 326 \nQ 2575 -91 1722 -91 \nQ 1428 -91 1123 -41 \nQ 819 9 494 109 \nL 494 744 \nQ 775 591 1075 516 \nQ 1375 441 1709 441 \nQ 2250 441 2565 725 \nQ 2881 1009 2881 1497 \nQ 2881 1984 2565 2268 \nQ 2250 2553 1709 2553 \nQ 1456 2553 1204 2497 \nQ 953 2441 691 2322 \nL 691 4666 \nz\n\" transform=\"scale(0.015625)\"/>\n      <path id=\"DejaVuSans-33\" d=\"M 2597 2516 \nQ 3050 2419 3304 2112 \nQ 3559 1806 3559 1356 \nQ 3559 666 3084 287 \nQ 2609 -91 1734 -91 \nQ 1441 -91 1130 -33 \nQ 819 25 488 141 \nL 488 750 \nQ 750 597 1062 519 \nQ 1375 441 1716 441 \nQ 2309 441 2620 675 \nQ 2931 909 2931 1356 \nQ 2931 1769 2642 2001 \nQ 2353 2234 1838 2234 \nL 1294 2234 \nL 1294 2753 \nL 1863 2753 \nQ 2328 2753 2575 2939 \nQ 2822 3125 2822 3475 \nQ 2822 3834 2567 4026 \nQ 2313 4219 1838 4219 \nQ 1578 4219 1281 4162 \nQ 984 4106 628 3988 \nL 628 4550 \nQ 988 4650 1302 4700 \nQ 1616 4750 1894 4750 \nQ 2613 4750 3031 4423 \nQ 3450 4097 3450 3541 \nQ 3450 3153 3228 2886 \nQ 3006 2619 2597 2516 \nz\n\" transform=\"scale(0.015625)\"/>\n      <path id=\"DejaVuSans-34\" d=\"M 2419 4116 \nL 825 1625 \nL 2419 1625 \nL 2419 4116 \nz\nM 2253 4666 \nL 3047 4666 \nL 3047 1625 \nL 3713 1625 \nL 3713 1100 \nL 3047 1100 \nL 3047 0 \nL 2419 0 \nL 2419 1100 \nL 313 1100 \nL 313 1709 \nL 2253 4666 \nz\n\" transform=\"scale(0.015625)\"/>\n     </defs>\n     <use xlink:href=\"#DejaVuSans-35\"/>\n     <use xlink:href=\"#DejaVuSans-33\" x=\"63.623047\"/>\n     <use xlink:href=\"#DejaVuSans-34\" x=\"127.246094\"/>\n    </g>\n   </g>\n   <g id=\"text_9\">\n    <!-- 5018 -->\n    <g style=\"fill: #ffffff\" transform=\"translate(114.277187 81.432188)scale(0.15 -0.15)\">\n     <defs>\n      <path id=\"DejaVuSans-38\" d=\"M 2034 2216 \nQ 1584 2216 1326 1975 \nQ 1069 1734 1069 1313 \nQ 1069 891 1326 650 \nQ 1584 409 2034 409 \nQ 2484 409 2743 651 \nQ 3003 894 3003 1313 \nQ 3003 1734 2745 1975 \nQ 2488 2216 2034 2216 \nz\nM 1403 2484 \nQ 997 2584 770 2862 \nQ 544 3141 544 3541 \nQ 544 4100 942 4425 \nQ 1341 4750 2034 4750 \nQ 2731 4750 3128 4425 \nQ 3525 4100 3525 3541 \nQ 3525 3141 3298 2862 \nQ 3072 2584 2669 2484 \nQ 3125 2378 3379 2068 \nQ 3634 1759 3634 1313 \nQ 3634 634 3220 271 \nQ 2806 -91 2034 -91 \nQ 1263 -91 848 271 \nQ 434 634 434 1313 \nQ 434 1759 690 2068 \nQ 947 2378 1403 2484 \nz\nM 1172 3481 \nQ 1172 3119 1398 2916 \nQ 1625 2713 2034 2713 \nQ 2441 2713 2670 2916 \nQ 2900 3119 2900 3481 \nQ 2900 3844 2670 4047 \nQ 2441 4250 2034 4250 \nQ 1625 4250 1398 4047 \nQ 1172 3844 1172 3481 \nz\n\" transform=\"scale(0.015625)\"/>\n     </defs>\n     <use xlink:href=\"#DejaVuSans-35\"/>\n     <use xlink:href=\"#DejaVuSans-30\" x=\"63.623047\"/>\n     <use xlink:href=\"#DejaVuSans-31\" x=\"127.246094\"/>\n     <use xlink:href=\"#DejaVuSans-38\" x=\"190.869141\"/>\n    </g>\n   </g>\n   <g id=\"text_10\">\n    <!-- 269 -->\n    <g transform=\"translate(308.999062 81.432188)scale(0.15 -0.15)\">\n     <defs>\n      <path id=\"DejaVuSans-36\" d=\"M 2113 2584 \nQ 1688 2584 1439 2293 \nQ 1191 2003 1191 1497 \nQ 1191 994 1439 701 \nQ 1688 409 2113 409 \nQ 2538 409 2786 701 \nQ 3034 994 3034 1497 \nQ 3034 2003 2786 2293 \nQ 2538 2584 2113 2584 \nz\nM 3366 4563 \nL 3366 3988 \nQ 3128 4100 2886 4159 \nQ 2644 4219 2406 4219 \nQ 1781 4219 1451 3797 \nQ 1122 3375 1075 2522 \nQ 1259 2794 1537 2939 \nQ 1816 3084 2150 3084 \nQ 2853 3084 3261 2657 \nQ 3669 2231 3669 1497 \nQ 3669 778 3244 343 \nQ 2819 -91 2113 -91 \nQ 1303 -91 875 529 \nQ 447 1150 447 2328 \nQ 447 3434 972 4092 \nQ 1497 4750 2381 4750 \nQ 2619 4750 2861 4703 \nQ 3103 4656 3366 4563 \nz\n\" transform=\"scale(0.015625)\"/>\n      <path id=\"DejaVuSans-39\" d=\"M 703 97 \nL 703 672 \nQ 941 559 1184 500 \nQ 1428 441 1663 441 \nQ 2288 441 2617 861 \nQ 2947 1281 2994 2138 \nQ 2813 1869 2534 1725 \nQ 2256 1581 1919 1581 \nQ 1219 1581 811 2004 \nQ 403 2428 403 3163 \nQ 403 3881 828 4315 \nQ 1253 4750 1959 4750 \nQ 2769 4750 3195 4129 \nQ 3622 3509 3622 2328 \nQ 3622 1225 3098 567 \nQ 2575 -91 1691 -91 \nQ 1453 -91 1209 -44 \nQ 966 3 703 97 \nz\nM 1959 2075 \nQ 2384 2075 2632 2365 \nQ 2881 2656 2881 3163 \nQ 2881 3666 2632 3958 \nQ 2384 4250 1959 4250 \nQ 1534 4250 1286 3958 \nQ 1038 3666 1038 3163 \nQ 1038 2656 1286 2365 \nQ 1534 2075 1959 2075 \nz\n\" transform=\"scale(0.015625)\"/>\n     </defs>\n     <use xlink:href=\"#DejaVuSans-32\"/>\n     <use xlink:href=\"#DejaVuSans-36\" x=\"63.623047\"/>\n     <use xlink:href=\"#DejaVuSans-39\" x=\"127.246094\"/>\n    </g>\n   </g>\n   <g id=\"text_11\">\n    <!-- RandomForestClassifier Confusion Matrix -->\n    <g style=\"fill: #262626\" transform=\"translate(105.157813 16.318125)scale(0.12 -0.12)\">\n     <defs>\n      <path id=\"DejaVuSans-52\" d=\"M 2841 2188 \nQ 3044 2119 3236 1894 \nQ 3428 1669 3622 1275 \nL 4263 0 \nL 3584 0 \nL 2988 1197 \nQ 2756 1666 2539 1819 \nQ 2322 1972 1947 1972 \nL 1259 1972 \nL 1259 0 \nL 628 0 \nL 628 4666 \nL 2053 4666 \nQ 2853 4666 3247 4331 \nQ 3641 3997 3641 3322 \nQ 3641 2881 3436 2590 \nQ 3231 2300 2841 2188 \nz\nM 1259 4147 \nL 1259 2491 \nL 2053 2491 \nQ 2509 2491 2742 2702 \nQ 2975 2913 2975 3322 \nQ 2975 3731 2742 3939 \nQ 2509 4147 2053 4147 \nL 1259 4147 \nz\n\" transform=\"scale(0.015625)\"/>\n      <path id=\"DejaVuSans-6e\" d=\"M 3513 2113 \nL 3513 0 \nL 2938 0 \nL 2938 2094 \nQ 2938 2591 2744 2837 \nQ 2550 3084 2163 3084 \nQ 1697 3084 1428 2787 \nQ 1159 2491 1159 1978 \nL 1159 0 \nL 581 0 \nL 581 3500 \nL 1159 3500 \nL 1159 2956 \nQ 1366 3272 1645 3428 \nQ 1925 3584 2291 3584 \nQ 2894 3584 3203 3211 \nQ 3513 2838 3513 2113 \nz\n\" transform=\"scale(0.015625)\"/>\n      <path id=\"DejaVuSans-6f\" d=\"M 1959 3097 \nQ 1497 3097 1228 2736 \nQ 959 2375 959 1747 \nQ 959 1119 1226 758 \nQ 1494 397 1959 397 \nQ 2419 397 2687 759 \nQ 2956 1122 2956 1747 \nQ 2956 2369 2687 2733 \nQ 2419 3097 1959 3097 \nz\nM 1959 3584 \nQ 2709 3584 3137 3096 \nQ 3566 2609 3566 1747 \nQ 3566 888 3137 398 \nQ 2709 -91 1959 -91 \nQ 1206 -91 779 398 \nQ 353 888 353 1747 \nQ 353 2609 779 3096 \nQ 1206 3584 1959 3584 \nz\n\" transform=\"scale(0.015625)\"/>\n      <path id=\"DejaVuSans-6d\" d=\"M 3328 2828 \nQ 3544 3216 3844 3400 \nQ 4144 3584 4550 3584 \nQ 5097 3584 5394 3201 \nQ 5691 2819 5691 2113 \nL 5691 0 \nL 5113 0 \nL 5113 2094 \nQ 5113 2597 4934 2840 \nQ 4756 3084 4391 3084 \nQ 3944 3084 3684 2787 \nQ 3425 2491 3425 1978 \nL 3425 0 \nL 2847 0 \nL 2847 2094 \nQ 2847 2600 2669 2842 \nQ 2491 3084 2119 3084 \nQ 1678 3084 1418 2786 \nQ 1159 2488 1159 1978 \nL 1159 0 \nL 581 0 \nL 581 3500 \nL 1159 3500 \nL 1159 2956 \nQ 1356 3278 1631 3431 \nQ 1906 3584 2284 3584 \nQ 2666 3584 2933 3390 \nQ 3200 3197 3328 2828 \nz\n\" transform=\"scale(0.015625)\"/>\n      <path id=\"DejaVuSans-46\" d=\"M 628 4666 \nL 3309 4666 \nL 3309 4134 \nL 1259 4134 \nL 1259 2759 \nL 3109 2759 \nL 3109 2228 \nL 1259 2228 \nL 1259 0 \nL 628 0 \nL 628 4666 \nz\n\" transform=\"scale(0.015625)\"/>\n      <path id=\"DejaVuSans-66\" d=\"M 2375 4863 \nL 2375 4384 \nL 1825 4384 \nQ 1516 4384 1395 4259 \nQ 1275 4134 1275 3809 \nL 1275 3500 \nL 2222 3500 \nL 2222 3053 \nL 1275 3053 \nL 1275 0 \nL 697 0 \nL 697 3053 \nL 147 3053 \nL 147 3500 \nL 697 3500 \nL 697 3744 \nQ 697 4328 969 4595 \nQ 1241 4863 1831 4863 \nL 2375 4863 \nz\n\" transform=\"scale(0.015625)\"/>\n      <path id=\"DejaVuSans-4d\" d=\"M 628 4666 \nL 1569 4666 \nL 2759 1491 \nL 3956 4666 \nL 4897 4666 \nL 4897 0 \nL 4281 0 \nL 4281 4097 \nL 3078 897 \nL 2444 897 \nL 1241 4097 \nL 1241 0 \nL 628 0 \nL 628 4666 \nz\n\" transform=\"scale(0.015625)\"/>\n      <path id=\"DejaVuSans-78\" d=\"M 3513 3500 \nL 2247 1797 \nL 3578 0 \nL 2900 0 \nL 1881 1375 \nL 863 0 \nL 184 0 \nL 1544 1831 \nL 300 3500 \nL 978 3500 \nL 1906 2253 \nL 2834 3500 \nL 3513 3500 \nz\n\" transform=\"scale(0.015625)\"/>\n     </defs>\n     <use xlink:href=\"#DejaVuSans-52\"/>\n     <use xlink:href=\"#DejaVuSans-61\" x=\"67.232422\"/>\n     <use xlink:href=\"#DejaVuSans-6e\" x=\"128.511719\"/>\n     <use xlink:href=\"#DejaVuSans-64\" x=\"191.890625\"/>\n     <use xlink:href=\"#DejaVuSans-6f\" x=\"255.367188\"/>\n     <use xlink:href=\"#DejaVuSans-6d\" x=\"316.548828\"/>\n     <use xlink:href=\"#DejaVuSans-46\" x=\"413.960938\"/>\n     <use xlink:href=\"#DejaVuSans-6f\" x=\"467.855469\"/>\n     <use xlink:href=\"#DejaVuSans-72\" x=\"529.037109\"/>\n     <use xlink:href=\"#DejaVuSans-65\" x=\"567.900391\"/>\n     <use xlink:href=\"#DejaVuSans-73\" x=\"629.423828\"/>\n     <use xlink:href=\"#DejaVuSans-74\" x=\"681.523438\"/>\n     <use xlink:href=\"#DejaVuSans-43\" x=\"720.732422\"/>\n     <use xlink:href=\"#DejaVuSans-6c\" x=\"790.556641\"/>\n     <use xlink:href=\"#DejaVuSans-61\" x=\"818.339844\"/>\n     <use xlink:href=\"#DejaVuSans-73\" x=\"879.619141\"/>\n     <use xlink:href=\"#DejaVuSans-73\" x=\"931.71875\"/>\n     <use xlink:href=\"#DejaVuSans-69\" x=\"983.818359\"/>\n     <use xlink:href=\"#DejaVuSans-66\" x=\"1011.601562\"/>\n     <use xlink:href=\"#DejaVuSans-69\" x=\"1046.806641\"/>\n     <use xlink:href=\"#DejaVuSans-65\" x=\"1074.589844\"/>\n     <use xlink:href=\"#DejaVuSans-72\" x=\"1136.113281\"/>\n     <use xlink:href=\"#DejaVuSans-20\" x=\"1177.226562\"/>\n     <use xlink:href=\"#DejaVuSans-43\" x=\"1209.013672\"/>\n     <use xlink:href=\"#DejaVuSans-6f\" x=\"1278.837891\"/>\n     <use xlink:href=\"#DejaVuSans-6e\" x=\"1340.019531\"/>\n     <use xlink:href=\"#DejaVuSans-66\" x=\"1403.398438\"/>\n     <use xlink:href=\"#DejaVuSans-75\" x=\"1438.603516\"/>\n     <use xlink:href=\"#DejaVuSans-73\" x=\"1501.982422\"/>\n     <use xlink:href=\"#DejaVuSans-69\" x=\"1554.082031\"/>\n     <use xlink:href=\"#DejaVuSans-6f\" x=\"1581.865234\"/>\n     <use xlink:href=\"#DejaVuSans-6e\" x=\"1643.046875\"/>\n     <use xlink:href=\"#DejaVuSans-20\" x=\"1706.425781\"/>\n     <use xlink:href=\"#DejaVuSans-4d\" x=\"1738.212891\"/>\n     <use xlink:href=\"#DejaVuSans-61\" x=\"1824.492188\"/>\n     <use xlink:href=\"#DejaVuSans-74\" x=\"1885.771484\"/>\n     <use xlink:href=\"#DejaVuSans-72\" x=\"1924.980469\"/>\n     <use xlink:href=\"#DejaVuSans-69\" x=\"1966.09375\"/>\n     <use xlink:href=\"#DejaVuSans-78\" x=\"1993.876953\"/>\n    </g>\n   </g>\n  </g>\n </g>\n <defs>\n  <clipPath id=\"pefaf625c5a\">\n   <rect x=\"38.389688\" y=\"22.318125\" width=\"379.9\" height=\"219.9\"/>\n  </clipPath>\n </defs>\n</svg>\n",
      "text/plain": [
       "<Figure size 432x288 with 1 Axes>"
      ]
     },
     "metadata": {
      "needs_background": "light"
     },
     "output_type": "display_data"
    }
   ],
   "source": [
    "plot_model(tuned_rf, plot = 'confusion_matrix')"
   ]
  },
  {
   "cell_type": "markdown",
   "metadata": {
    "colab_type": "text",
    "id": "deClKJrbEQsJ"
   },
   "source": [
    "*Another* way to analyze the performance of models is to use the `evaluate_model()` function which displays a user interface for all of the available plots for a given model. It internally uses the `plot_model()` function. "
   ]
  },
  {
   "cell_type": "code",
   "execution_count": 25,
   "metadata": {
    "colab": {
     "base_uri": "https://localhost:8080/",
     "height": 436,
     "referenced_widgets": [
      "42d5400d235d40b78190016ef0dabe11",
      "41031579127f4a53b58957e601465083",
      "12bf8b3c6ae8444a900474912589fdf1",
      "9bb3600d38c04691b444ff375ad5e3f5",
      "8886001bc7c1463ba58a8453f5c55073",
      "0a06fb091bd94ce6b6ab892e2c6faadf",
      "3cc1e83b91f34b289c7d52003f20a97a",
      "8d709ec9ec484944b1f9773748857f84",
      "8399e21b17634116861a5abaa9c0ccf7",
      "d5b6fce1763b4b54898ff3397b0f5bb0",
      "57b94ac505d142769b79de2f1e5c1166",
      "2a81017413ca4fe789c2272a5831a069",
      "02771b4dc3284414ab05df1906f4556b",
      "9e338844e75b4e17be8483529f5f38fd",
      "22588a12c0db4067982e62ebbe7e6930"
     ]
    },
    "colab_type": "code",
    "id": "OcLV1Ln6EQsN",
    "outputId": "7b5b8b4e-8d4a-4371-9a4f-cabb0a96265a"
   },
   "outputs": [
    {
     "data": {
      "application/vnd.jupyter.widget-view+json": {
       "model_id": "6228734713514b90b8fe9d9c7c1ee8ef",
       "version_major": 2,
       "version_minor": 0
      },
      "text/plain": [
       "interactive(children=(ToggleButtons(description='Plot Type:', icons=('',), options=(('Hyperparameters', 'param…"
      ]
     },
     "metadata": {},
     "output_type": "display_data"
    }
   ],
   "source": [
    "evaluate_model(tuned_rf)"
   ]
  },
  {
   "cell_type": "markdown",
   "metadata": {
    "colab_type": "text",
    "id": "RX5pYUJJEQsV"
   },
   "source": [
    "# 11.0 Predict on test / hold-out Sample"
   ]
  },
  {
   "cell_type": "markdown",
   "metadata": {
    "colab_type": "text",
    "id": "mFSvRYiaEQsd"
   },
   "source": [
    "Before finalizing the model, it is advisable to perform one final check by predicting the test/hold-out set and reviewing the evaluation metrics. If you look at the information grid in Section 6 above, you will see that 30% (6,841 samples) of the data has been separated out as test/hold-out sample. All of the evaluation metrics we have seen above are cross validated results based on the training set (70%) only. Now, using our final trained model stored in the `tuned_rf` variable we will predict against the hold-out sample and evaluate the metrics to see if they are materially different than the CV results."
   ]
  },
  {
   "cell_type": "code",
   "execution_count": 26,
   "metadata": {
    "colab": {},
    "colab_type": "code",
    "id": "nwaZk6oTEQsi",
    "outputId": "d30c8533-d347-4fa6-f18e-5b2abc937bec"
   },
   "outputs": [
    {
     "data": {
      "text/html": [
       "<style type=\"text/css\">\n",
       "</style>\n",
       "<table id=\"T_da958\">\n",
       "  <thead>\n",
       "    <tr>\n",
       "      <th class=\"blank level0\" >&nbsp;</th>\n",
       "      <th id=\"T_da958_level0_col0\" class=\"col_heading level0 col0\" >Model</th>\n",
       "      <th id=\"T_da958_level0_col1\" class=\"col_heading level0 col1\" >Accuracy</th>\n",
       "      <th id=\"T_da958_level0_col2\" class=\"col_heading level0 col2\" >AUC</th>\n",
       "      <th id=\"T_da958_level0_col3\" class=\"col_heading level0 col3\" >Recall</th>\n",
       "      <th id=\"T_da958_level0_col4\" class=\"col_heading level0 col4\" >Prec.</th>\n",
       "      <th id=\"T_da958_level0_col5\" class=\"col_heading level0 col5\" >F1</th>\n",
       "      <th id=\"T_da958_level0_col6\" class=\"col_heading level0 col6\" >Kappa</th>\n",
       "      <th id=\"T_da958_level0_col7\" class=\"col_heading level0 col7\" >MCC</th>\n",
       "    </tr>\n",
       "  </thead>\n",
       "  <tbody>\n",
       "    <tr>\n",
       "      <th id=\"T_da958_level0_row0\" class=\"row_heading level0 row0\" >0</th>\n",
       "      <td id=\"T_da958_row0_col0\" class=\"data row0 col0\" >Random Forest Classifier</td>\n",
       "      <td id=\"T_da958_row0_col1\" class=\"data row0 col1\" >0.8116</td>\n",
       "      <td id=\"T_da958_row0_col2\" class=\"data row0 col2\" >0.7407</td>\n",
       "      <td id=\"T_da958_row0_col3\" class=\"data row0 col3\" >0.3436</td>\n",
       "      <td id=\"T_da958_row0_col4\" class=\"data row0 col4\" >0.6650</td>\n",
       "      <td id=\"T_da958_row0_col5\" class=\"data row0 col5\" >0.4531</td>\n",
       "      <td id=\"T_da958_row0_col6\" class=\"data row0 col6\" >0.3530</td>\n",
       "      <td id=\"T_da958_row0_col7\" class=\"data row0 col7\" >0.3811</td>\n",
       "    </tr>\n",
       "  </tbody>\n",
       "</table>\n"
      ],
      "text/plain": [
       "<pandas.io.formats.style.Styler at 0x7efe1b4ec550>"
      ]
     },
     "metadata": {},
     "output_type": "display_data"
    }
   ],
   "source": [
    "predict_model(tuned_rf);"
   ]
  },
  {
   "cell_type": "markdown",
   "metadata": {
    "colab_type": "text",
    "id": "E-fHsX2AEQsx"
   },
   "source": [
    "The accuracy on test/hold-out set is **`0.8116`** compared to **`0.8203`** achieved on the `tuned_rf` CV results (in section 9.3 above). This is not a significant difference. If there is a large variation between the test/hold-out and CV results, then this would normally indicate over-fitting but could also be due to several other factors and would require further investigation. In this case, we will move forward with finalizing the model and predicting on unseen data (the 5% that we had separated in the beginning and never exposed to PyCaret).\n",
    "\n",
    "(TIP : It's always good to look at the standard deviation of CV results when using `create_model()`.)"
   ]
  },
  {
   "cell_type": "markdown",
   "metadata": {
    "colab_type": "text",
    "id": "r79BGjIfEQs1"
   },
   "source": [
    "# 12.0 Finalize Model for Deployment"
   ]
  },
  {
   "cell_type": "markdown",
   "metadata": {
    "colab_type": "text",
    "id": "B-6xJ9kQEQs7"
   },
   "source": [
    "Model finalization is the last step in the experiment. A normal machine learning workflow in PyCaret starts with `setup()`, followed by comparing all models using `compare_models()` and shortlisting a few candidate models (based on the metric of interest) to perform several modeling techniques such as hyperparameter tuning, ensembling, stacking etc. This workflow will eventually lead you to the best model for use in making predictions on new and unseen data. The `finalize_model()` function fits the model onto the complete dataset including the test/hold-out sample (30% in this case). The purpose of this function is to train the model on the complete dataset before it is deployed in production."
   ]
  },
  {
   "cell_type": "code",
   "execution_count": 27,
   "metadata": {
    "colab": {},
    "colab_type": "code",
    "id": "_--tO4KGEQs-"
   },
   "outputs": [],
   "source": [
    "final_rf = finalize_model(tuned_rf)"
   ]
  },
  {
   "cell_type": "code",
   "execution_count": 28,
   "metadata": {
    "colab": {
     "base_uri": "https://localhost:8080/",
     "height": 147
    },
    "colab_type": "code",
    "id": "U9W6kXsSEQtQ",
    "outputId": "794b24a4-9c95-4730-eddd-f82e4925b866"
   },
   "outputs": [
    {
     "name": "stdout",
     "output_type": "stream",
     "text": [
      "RandomForestClassifier(bootstrap=False, ccp_alpha=0.0, class_weight={},\n",
      "                       criterion='entropy', max_depth=5, max_features=1.0,\n",
      "                       max_leaf_nodes=None, max_samples=None,\n",
      "                       min_impurity_decrease=0.0002, min_impurity_split=None,\n",
      "                       min_samples_leaf=5, min_samples_split=10,\n",
      "                       min_weight_fraction_leaf=0.0, n_estimators=150,\n",
      "                       n_jobs=-1, oob_score=False, random_state=123, verbose=0,\n",
      "                       warm_start=False)\n"
     ]
    }
   ],
   "source": [
    "#Final Random Forest model parameters for deployment\n",
    "print(final_rf)"
   ]
  },
  {
   "cell_type": "markdown",
   "metadata": {
    "colab_type": "text",
    "id": "kgdOjxypEQtd"
   },
   "source": [
    "**Caution:** One final word of caution. Once the model is finalized using `finalize_model()`, the entire dataset including the test/hold-out set is used for training. As such, if the model is used for predictions on the hold-out set after `finalize_model()` is used, the information grid printed will be misleading as you are trying to predict on the same data that was used for modeling. In order to demonstrate this point only, we will use `final_rf` under `predict_model()` to compare the information grid with the one above in section 11. "
   ]
  },
  {
   "cell_type": "code",
   "execution_count": 29,
   "metadata": {
    "colab": {},
    "colab_type": "code",
    "id": "NJDk3I-EEQtg",
    "outputId": "4d75663a-e86f-4826-c8e4-c9aa722648df"
   },
   "outputs": [
    {
     "data": {
      "text/html": [
       "<style type=\"text/css\">\n",
       "</style>\n",
       "<table id=\"T_42bb0\">\n",
       "  <thead>\n",
       "    <tr>\n",
       "      <th class=\"blank level0\" >&nbsp;</th>\n",
       "      <th id=\"T_42bb0_level0_col0\" class=\"col_heading level0 col0\" >Model</th>\n",
       "      <th id=\"T_42bb0_level0_col1\" class=\"col_heading level0 col1\" >Accuracy</th>\n",
       "      <th id=\"T_42bb0_level0_col2\" class=\"col_heading level0 col2\" >AUC</th>\n",
       "      <th id=\"T_42bb0_level0_col3\" class=\"col_heading level0 col3\" >Recall</th>\n",
       "      <th id=\"T_42bb0_level0_col4\" class=\"col_heading level0 col4\" >Prec.</th>\n",
       "      <th id=\"T_42bb0_level0_col5\" class=\"col_heading level0 col5\" >F1</th>\n",
       "      <th id=\"T_42bb0_level0_col6\" class=\"col_heading level0 col6\" >Kappa</th>\n",
       "      <th id=\"T_42bb0_level0_col7\" class=\"col_heading level0 col7\" >MCC</th>\n",
       "    </tr>\n",
       "  </thead>\n",
       "  <tbody>\n",
       "    <tr>\n",
       "      <th id=\"T_42bb0_level0_row0\" class=\"row_heading level0 row0\" >0</th>\n",
       "      <td id=\"T_42bb0_row0_col0\" class=\"data row0 col0\" >Random Forest Classifier</td>\n",
       "      <td id=\"T_42bb0_row0_col1\" class=\"data row0 col1\" >0.8184</td>\n",
       "      <td id=\"T_42bb0_row0_col2\" class=\"data row0 col2\" >0.7526</td>\n",
       "      <td id=\"T_42bb0_row0_col3\" class=\"data row0 col3\" >0.3533</td>\n",
       "      <td id=\"T_42bb0_row0_col4\" class=\"data row0 col4\" >0.6985</td>\n",
       "      <td id=\"T_42bb0_row0_col5\" class=\"data row0 col5\" >0.4692</td>\n",
       "      <td id=\"T_42bb0_row0_col6\" class=\"data row0 col6\" >0.3736</td>\n",
       "      <td id=\"T_42bb0_row0_col7\" class=\"data row0 col7\" >0.4053</td>\n",
       "    </tr>\n",
       "  </tbody>\n",
       "</table>\n"
      ],
      "text/plain": [
       "<pandas.io.formats.style.Styler at 0x7efe1b0fffa0>"
      ]
     },
     "metadata": {},
     "output_type": "display_data"
    }
   ],
   "source": [
    "predict_model(final_rf);"
   ]
  },
  {
   "cell_type": "markdown",
   "metadata": {
    "colab_type": "text",
    "id": "V77JC5JVEQtp"
   },
   "source": [
    "Notice how the AUC in `final_rf` has increased to **`0.7526`** from **`0.7407`**, even though the model is the same. This is because the `final_rf` variable has been trained on the complete dataset including the test/hold-out set."
   ]
  },
  {
   "cell_type": "markdown",
   "metadata": {
    "colab_type": "text",
    "id": "hUzc6tXNEQtr"
   },
   "source": [
    "# 13.0 Predict on unseen data"
   ]
  },
  {
   "cell_type": "markdown",
   "metadata": {
    "colab_type": "text",
    "id": "dx5vXjChEQtt"
   },
   "source": [
    "The `predict_model()` function is also used to predict on the unseen dataset. The only difference from section 11 above is that this time we will pass the `data_unseen` parameter. `data_unseen` is the variable created at the beginning of the tutorial and contains 5% (1200 samples) of the original dataset which was never exposed to PyCaret. (see section 5 for explanation)"
   ]
  },
  {
   "cell_type": "code",
   "execution_count": 30,
   "metadata": {
    "colab": {
     "base_uri": "https://localhost:8080/",
     "height": 211
    },
    "colab_type": "code",
    "id": "0y5KWLC6EQtx",
    "outputId": "30771f87-7847-43ce-e984-9963cff7d043"
   },
   "outputs": [
    {
     "data": {
      "text/html": [
       "<style type=\"text/css\">\n",
       "</style>\n",
       "<table id=\"T_c4178\">\n",
       "  <thead>\n",
       "    <tr>\n",
       "      <th class=\"blank level0\" >&nbsp;</th>\n",
       "      <th id=\"T_c4178_level0_col0\" class=\"col_heading level0 col0\" >Model</th>\n",
       "      <th id=\"T_c4178_level0_col1\" class=\"col_heading level0 col1\" >Accuracy</th>\n",
       "      <th id=\"T_c4178_level0_col2\" class=\"col_heading level0 col2\" >AUC</th>\n",
       "      <th id=\"T_c4178_level0_col3\" class=\"col_heading level0 col3\" >Recall</th>\n",
       "      <th id=\"T_c4178_level0_col4\" class=\"col_heading level0 col4\" >Prec.</th>\n",
       "      <th id=\"T_c4178_level0_col5\" class=\"col_heading level0 col5\" >F1</th>\n",
       "      <th id=\"T_c4178_level0_col6\" class=\"col_heading level0 col6\" >Kappa</th>\n",
       "      <th id=\"T_c4178_level0_col7\" class=\"col_heading level0 col7\" >MCC</th>\n",
       "    </tr>\n",
       "  </thead>\n",
       "  <tbody>\n",
       "    <tr>\n",
       "      <th id=\"T_c4178_level0_row0\" class=\"row_heading level0 row0\" >0</th>\n",
       "      <td id=\"T_c4178_row0_col0\" class=\"data row0 col0\" >Random Forest Classifier</td>\n",
       "      <td id=\"T_c4178_row0_col1\" class=\"data row0 col1\" >0.8167</td>\n",
       "      <td id=\"T_c4178_row0_col2\" class=\"data row0 col2\" >0.7768</td>\n",
       "      <td id=\"T_c4178_row0_col3\" class=\"data row0 col3\" >0.3612</td>\n",
       "      <td id=\"T_c4178_row0_col4\" class=\"data row0 col4\" >0.6463</td>\n",
       "      <td id=\"T_c4178_row0_col5\" class=\"data row0 col5\" >0.4634</td>\n",
       "      <td id=\"T_c4178_row0_col6\" class=\"data row0 col6\" >0.3634</td>\n",
       "      <td id=\"T_c4178_row0_col7\" class=\"data row0 col7\" >0.3857</td>\n",
       "    </tr>\n",
       "  </tbody>\n",
       "</table>\n"
      ],
      "text/plain": [
       "<pandas.io.formats.style.Styler at 0x7efe8414cf10>"
      ]
     },
     "metadata": {},
     "output_type": "display_data"
    },
    {
     "data": {
      "text/html": [
       "<div>\n",
       "<style scoped>\n",
       "    .dataframe tbody tr th:only-of-type {\n",
       "        vertical-align: middle;\n",
       "    }\n",
       "\n",
       "    .dataframe tbody tr th {\n",
       "        vertical-align: top;\n",
       "    }\n",
       "\n",
       "    .dataframe thead th {\n",
       "        text-align: right;\n",
       "    }\n",
       "</style>\n",
       "<table border=\"1\" class=\"dataframe\">\n",
       "  <thead>\n",
       "    <tr style=\"text-align: right;\">\n",
       "      <th></th>\n",
       "      <th>LIMIT_BAL</th>\n",
       "      <th>SEX</th>\n",
       "      <th>EDUCATION</th>\n",
       "      <th>MARRIAGE</th>\n",
       "      <th>AGE</th>\n",
       "      <th>PAY_1</th>\n",
       "      <th>PAY_2</th>\n",
       "      <th>PAY_3</th>\n",
       "      <th>PAY_4</th>\n",
       "      <th>PAY_5</th>\n",
       "      <th>...</th>\n",
       "      <th>BILL_AMT6</th>\n",
       "      <th>PAY_AMT1</th>\n",
       "      <th>PAY_AMT2</th>\n",
       "      <th>PAY_AMT3</th>\n",
       "      <th>PAY_AMT4</th>\n",
       "      <th>PAY_AMT5</th>\n",
       "      <th>PAY_AMT6</th>\n",
       "      <th>default</th>\n",
       "      <th>Label</th>\n",
       "      <th>Score</th>\n",
       "    </tr>\n",
       "  </thead>\n",
       "  <tbody>\n",
       "    <tr>\n",
       "      <th>0</th>\n",
       "      <td>100000</td>\n",
       "      <td>2</td>\n",
       "      <td>2</td>\n",
       "      <td>2</td>\n",
       "      <td>23</td>\n",
       "      <td>0</td>\n",
       "      <td>-1</td>\n",
       "      <td>-1</td>\n",
       "      <td>0</td>\n",
       "      <td>0</td>\n",
       "      <td>...</td>\n",
       "      <td>567.0</td>\n",
       "      <td>380.0</td>\n",
       "      <td>601.0</td>\n",
       "      <td>0.0</td>\n",
       "      <td>581.0</td>\n",
       "      <td>1687.0</td>\n",
       "      <td>1542.0</td>\n",
       "      <td>0</td>\n",
       "      <td>0</td>\n",
       "      <td>0.8051</td>\n",
       "    </tr>\n",
       "    <tr>\n",
       "      <th>1</th>\n",
       "      <td>380000</td>\n",
       "      <td>1</td>\n",
       "      <td>2</td>\n",
       "      <td>2</td>\n",
       "      <td>32</td>\n",
       "      <td>-1</td>\n",
       "      <td>-1</td>\n",
       "      <td>-1</td>\n",
       "      <td>-1</td>\n",
       "      <td>-1</td>\n",
       "      <td>...</td>\n",
       "      <td>11873.0</td>\n",
       "      <td>21540.0</td>\n",
       "      <td>15138.0</td>\n",
       "      <td>24677.0</td>\n",
       "      <td>11851.0</td>\n",
       "      <td>11875.0</td>\n",
       "      <td>8251.0</td>\n",
       "      <td>0</td>\n",
       "      <td>0</td>\n",
       "      <td>0.9121</td>\n",
       "    </tr>\n",
       "    <tr>\n",
       "      <th>2</th>\n",
       "      <td>200000</td>\n",
       "      <td>2</td>\n",
       "      <td>2</td>\n",
       "      <td>1</td>\n",
       "      <td>32</td>\n",
       "      <td>-1</td>\n",
       "      <td>-1</td>\n",
       "      <td>-1</td>\n",
       "      <td>-1</td>\n",
       "      <td>2</td>\n",
       "      <td>...</td>\n",
       "      <td>3151.0</td>\n",
       "      <td>5818.0</td>\n",
       "      <td>15.0</td>\n",
       "      <td>9102.0</td>\n",
       "      <td>17.0</td>\n",
       "      <td>3165.0</td>\n",
       "      <td>1395.0</td>\n",
       "      <td>0</td>\n",
       "      <td>0</td>\n",
       "      <td>0.8051</td>\n",
       "    </tr>\n",
       "    <tr>\n",
       "      <th>3</th>\n",
       "      <td>200000</td>\n",
       "      <td>1</td>\n",
       "      <td>1</td>\n",
       "      <td>1</td>\n",
       "      <td>53</td>\n",
       "      <td>2</td>\n",
       "      <td>2</td>\n",
       "      <td>2</td>\n",
       "      <td>2</td>\n",
       "      <td>2</td>\n",
       "      <td>...</td>\n",
       "      <td>149531.0</td>\n",
       "      <td>6300.0</td>\n",
       "      <td>5500.0</td>\n",
       "      <td>5500.0</td>\n",
       "      <td>5500.0</td>\n",
       "      <td>5000.0</td>\n",
       "      <td>5000.0</td>\n",
       "      <td>1</td>\n",
       "      <td>1</td>\n",
       "      <td>0.7911</td>\n",
       "    </tr>\n",
       "    <tr>\n",
       "      <th>4</th>\n",
       "      <td>240000</td>\n",
       "      <td>1</td>\n",
       "      <td>1</td>\n",
       "      <td>2</td>\n",
       "      <td>41</td>\n",
       "      <td>1</td>\n",
       "      <td>-1</td>\n",
       "      <td>-1</td>\n",
       "      <td>0</td>\n",
       "      <td>0</td>\n",
       "      <td>...</td>\n",
       "      <td>1737.0</td>\n",
       "      <td>2622.0</td>\n",
       "      <td>3301.0</td>\n",
       "      <td>0.0</td>\n",
       "      <td>360.0</td>\n",
       "      <td>1737.0</td>\n",
       "      <td>924.0</td>\n",
       "      <td>0</td>\n",
       "      <td>0</td>\n",
       "      <td>0.9121</td>\n",
       "    </tr>\n",
       "  </tbody>\n",
       "</table>\n",
       "<p>5 rows × 26 columns</p>\n",
       "</div>"
      ],
      "text/plain": [
       "   LIMIT_BAL  SEX  EDUCATION  MARRIAGE  AGE  PAY_1  PAY_2  PAY_3  PAY_4  \\\n",
       "0     100000    2          2         2   23      0     -1     -1      0   \n",
       "1     380000    1          2         2   32     -1     -1     -1     -1   \n",
       "2     200000    2          2         1   32     -1     -1     -1     -1   \n",
       "3     200000    1          1         1   53      2      2      2      2   \n",
       "4     240000    1          1         2   41      1     -1     -1      0   \n",
       "\n",
       "   PAY_5  ...  BILL_AMT6  PAY_AMT1  PAY_AMT2  PAY_AMT3  PAY_AMT4  PAY_AMT5  \\\n",
       "0      0  ...      567.0     380.0     601.0       0.0     581.0    1687.0   \n",
       "1     -1  ...    11873.0   21540.0   15138.0   24677.0   11851.0   11875.0   \n",
       "2      2  ...     3151.0    5818.0      15.0    9102.0      17.0    3165.0   \n",
       "3      2  ...   149531.0    6300.0    5500.0    5500.0    5500.0    5000.0   \n",
       "4      0  ...     1737.0    2622.0    3301.0       0.0     360.0    1737.0   \n",
       "\n",
       "   PAY_AMT6  default  Label   Score  \n",
       "0    1542.0        0      0  0.8051  \n",
       "1    8251.0        0      0  0.9121  \n",
       "2    1395.0        0      0  0.8051  \n",
       "3    5000.0        1      1  0.7911  \n",
       "4     924.0        0      0  0.9121  \n",
       "\n",
       "[5 rows x 26 columns]"
      ]
     },
     "execution_count": 30,
     "metadata": {},
     "output_type": "execute_result"
    }
   ],
   "source": [
    "unseen_predictions = predict_model(final_rf, data=data_unseen)\n",
    "unseen_predictions.head()"
   ]
  },
  {
   "cell_type": "markdown",
   "metadata": {
    "colab_type": "text",
    "id": "oPYmVpugEQt5"
   },
   "source": [
    "The `Label` and `Score` columns are added onto the `data_unseen` set. Label is the prediction and score is the probability of the prediction. Notice that predicted results are concatenated to the original dataset while all the transformations are automatically performed in the background. You can also check the metrics on this since you have actual target column `default` available. To do that we will use `pycaret.utils` module. See example below:"
   ]
  },
  {
   "cell_type": "code",
   "execution_count": 31,
   "metadata": {},
   "outputs": [
    {
     "data": {
      "text/plain": [
       "0.8167"
      ]
     },
     "execution_count": 31,
     "metadata": {},
     "output_type": "execute_result"
    }
   ],
   "source": [
    "from pycaret.utils import check_metric\n",
    "check_metric(unseen_predictions['default'], unseen_predictions['Label'], metric = 'Accuracy')"
   ]
  },
  {
   "cell_type": "markdown",
   "metadata": {
    "colab_type": "text",
    "id": "L__po3sUEQt7"
   },
   "source": [
    "# 14.0 Saving the model"
   ]
  },
  {
   "cell_type": "markdown",
   "metadata": {
    "colab_type": "text",
    "id": "1sQPT7jrEQt-"
   },
   "source": [
    "We have now finished the experiment by finalizing the `tuned_rf` model which is now stored in `final_rf` variable. We have also used the model stored in `final_rf` to predict `data_unseen`. This brings us to the end of our experiment, but one question is still to be asked: What happens when you have more new data to predict? Do you have to go through the entire experiment again? The answer is no, PyCaret's inbuilt function `save_model()` allows you to save the model along with entire transformation pipeline for later use."
   ]
  },
  {
   "cell_type": "code",
   "execution_count": 32,
   "metadata": {
    "colab": {},
    "colab_type": "code",
    "id": "ln1YWIXTEQuA",
    "outputId": "d3cb0652-f72e-44e8-9455-824b12740bff"
   },
   "outputs": [
    {
     "name": "stdout",
     "output_type": "stream",
     "text": [
      "Transformation Pipeline and Model Successfully Saved\n"
     ]
    },
    {
     "data": {
      "text/plain": [
       "(Pipeline(memory=None,\n",
       "          steps=[('dtypes',\n",
       "                  DataTypes_Auto_infer(categorical_features=[],\n",
       "                                       display_types=True, features_todrop=[],\n",
       "                                       id_columns=[],\n",
       "                                       ml_usecase='classification',\n",
       "                                       numerical_features=[], target='default',\n",
       "                                       time_features=[])),\n",
       "                 ('imputer',\n",
       "                  Simple_Imputer(categorical_strategy='not_available',\n",
       "                                 fill_value_categorical=None,\n",
       "                                 fill_value_numerical=None,\n",
       "                                 numeric_stra...\n",
       "                  RandomForestClassifier(bootstrap=False, ccp_alpha=0.0,\n",
       "                                         class_weight={}, criterion='entropy',\n",
       "                                         max_depth=5, max_features=1.0,\n",
       "                                         max_leaf_nodes=None, max_samples=None,\n",
       "                                         min_impurity_decrease=0.0002,\n",
       "                                         min_impurity_split=None,\n",
       "                                         min_samples_leaf=5,\n",
       "                                         min_samples_split=10,\n",
       "                                         min_weight_fraction_leaf=0.0,\n",
       "                                         n_estimators=150, n_jobs=-1,\n",
       "                                         oob_score=False, random_state=123,\n",
       "                                         verbose=0, warm_start=False)]],\n",
       "          verbose=False),\n",
       " 'Final RF Model 11Nov2020.pkl')"
      ]
     },
     "execution_count": 32,
     "metadata": {},
     "output_type": "execute_result"
    }
   ],
   "source": [
    "save_model(final_rf,'Final RF Model 11Nov2020')"
   ]
  },
  {
   "cell_type": "markdown",
   "metadata": {
    "colab_type": "text",
    "id": "WE6f48AYEQuR"
   },
   "source": [
    "(TIP : It's always good to use date in the filename when saving models, it's good for version control.)"
   ]
  },
  {
   "cell_type": "markdown",
   "metadata": {
    "colab_type": "text",
    "id": "Z8OBesfkEQuU"
   },
   "source": [
    "# 15.0 Loading the saved model"
   ]
  },
  {
   "cell_type": "markdown",
   "metadata": {
    "colab_type": "text",
    "id": "V2K_WLaaEQuW"
   },
   "source": [
    "To load a saved model at a future date in the same or an alternative environment, we would use PyCaret's `load_model()` function and then easily apply the saved model on new unseen data for prediction."
   ]
  },
  {
   "cell_type": "code",
   "execution_count": 33,
   "metadata": {
    "colab": {},
    "colab_type": "code",
    "id": "Siw_2EIUEQub",
    "outputId": "5da8b7c9-01f7-469c-f0c9-b19c8ce11bcc"
   },
   "outputs": [
    {
     "name": "stdout",
     "output_type": "stream",
     "text": [
      "Transformation Pipeline and Model Successfully Loaded\n"
     ]
    }
   ],
   "source": [
    "saved_final_rf = load_model('Final RF Model 11Nov2020')"
   ]
  },
  {
   "cell_type": "markdown",
   "metadata": {
    "colab_type": "text",
    "id": "1zyi6-Q-EQuq"
   },
   "source": [
    "Once the model is loaded in the environment, you can simply use it to predict on any new data using the same `predict_model()` function. Below we have applied the loaded model to predict the same `data_unseen` that we used in section 13 above."
   ]
  },
  {
   "cell_type": "code",
   "execution_count": 34,
   "metadata": {
    "colab": {},
    "colab_type": "code",
    "id": "HMPO1ka9EQut"
   },
   "outputs": [
    {
     "data": {
      "text/html": [
       "<style type=\"text/css\">\n",
       "</style>\n",
       "<table id=\"T_bf238\">\n",
       "  <thead>\n",
       "    <tr>\n",
       "      <th class=\"blank level0\" >&nbsp;</th>\n",
       "      <th id=\"T_bf238_level0_col0\" class=\"col_heading level0 col0\" >Model</th>\n",
       "      <th id=\"T_bf238_level0_col1\" class=\"col_heading level0 col1\" >Accuracy</th>\n",
       "      <th id=\"T_bf238_level0_col2\" class=\"col_heading level0 col2\" >AUC</th>\n",
       "      <th id=\"T_bf238_level0_col3\" class=\"col_heading level0 col3\" >Recall</th>\n",
       "      <th id=\"T_bf238_level0_col4\" class=\"col_heading level0 col4\" >Prec.</th>\n",
       "      <th id=\"T_bf238_level0_col5\" class=\"col_heading level0 col5\" >F1</th>\n",
       "      <th id=\"T_bf238_level0_col6\" class=\"col_heading level0 col6\" >Kappa</th>\n",
       "      <th id=\"T_bf238_level0_col7\" class=\"col_heading level0 col7\" >MCC</th>\n",
       "    </tr>\n",
       "  </thead>\n",
       "  <tbody>\n",
       "    <tr>\n",
       "      <th id=\"T_bf238_level0_row0\" class=\"row_heading level0 row0\" >0</th>\n",
       "      <td id=\"T_bf238_row0_col0\" class=\"data row0 col0\" >Random Forest Classifier</td>\n",
       "      <td id=\"T_bf238_row0_col1\" class=\"data row0 col1\" >0.8167</td>\n",
       "      <td id=\"T_bf238_row0_col2\" class=\"data row0 col2\" >0.7768</td>\n",
       "      <td id=\"T_bf238_row0_col3\" class=\"data row0 col3\" >0.3612</td>\n",
       "      <td id=\"T_bf238_row0_col4\" class=\"data row0 col4\" >0.6463</td>\n",
       "      <td id=\"T_bf238_row0_col5\" class=\"data row0 col5\" >0.4634</td>\n",
       "      <td id=\"T_bf238_row0_col6\" class=\"data row0 col6\" >0.3634</td>\n",
       "      <td id=\"T_bf238_row0_col7\" class=\"data row0 col7\" >0.3857</td>\n",
       "    </tr>\n",
       "  </tbody>\n",
       "</table>\n"
      ],
      "text/plain": [
       "<pandas.io.formats.style.Styler at 0x7efe2739e520>"
      ]
     },
     "metadata": {},
     "output_type": "display_data"
    }
   ],
   "source": [
    "new_prediction = predict_model(saved_final_rf, data=data_unseen)"
   ]
  },
  {
   "cell_type": "code",
   "execution_count": 35,
   "metadata": {
    "colab": {},
    "colab_type": "code",
    "id": "7wyDQQSzEQu8",
    "outputId": "23065436-42e3-4441-ed58-a8863f8971f9"
   },
   "outputs": [
    {
     "data": {
      "text/html": [
       "<div>\n",
       "<style scoped>\n",
       "    .dataframe tbody tr th:only-of-type {\n",
       "        vertical-align: middle;\n",
       "    }\n",
       "\n",
       "    .dataframe tbody tr th {\n",
       "        vertical-align: top;\n",
       "    }\n",
       "\n",
       "    .dataframe thead th {\n",
       "        text-align: right;\n",
       "    }\n",
       "</style>\n",
       "<table border=\"1\" class=\"dataframe\">\n",
       "  <thead>\n",
       "    <tr style=\"text-align: right;\">\n",
       "      <th></th>\n",
       "      <th>LIMIT_BAL</th>\n",
       "      <th>SEX</th>\n",
       "      <th>EDUCATION</th>\n",
       "      <th>MARRIAGE</th>\n",
       "      <th>AGE</th>\n",
       "      <th>PAY_1</th>\n",
       "      <th>PAY_2</th>\n",
       "      <th>PAY_3</th>\n",
       "      <th>PAY_4</th>\n",
       "      <th>PAY_5</th>\n",
       "      <th>...</th>\n",
       "      <th>BILL_AMT6</th>\n",
       "      <th>PAY_AMT1</th>\n",
       "      <th>PAY_AMT2</th>\n",
       "      <th>PAY_AMT3</th>\n",
       "      <th>PAY_AMT4</th>\n",
       "      <th>PAY_AMT5</th>\n",
       "      <th>PAY_AMT6</th>\n",
       "      <th>default</th>\n",
       "      <th>Label</th>\n",
       "      <th>Score</th>\n",
       "    </tr>\n",
       "  </thead>\n",
       "  <tbody>\n",
       "    <tr>\n",
       "      <th>0</th>\n",
       "      <td>100000</td>\n",
       "      <td>2</td>\n",
       "      <td>2</td>\n",
       "      <td>2</td>\n",
       "      <td>23</td>\n",
       "      <td>0</td>\n",
       "      <td>-1</td>\n",
       "      <td>-1</td>\n",
       "      <td>0</td>\n",
       "      <td>0</td>\n",
       "      <td>...</td>\n",
       "      <td>567.0</td>\n",
       "      <td>380.0</td>\n",
       "      <td>601.0</td>\n",
       "      <td>0.0</td>\n",
       "      <td>581.0</td>\n",
       "      <td>1687.0</td>\n",
       "      <td>1542.0</td>\n",
       "      <td>0</td>\n",
       "      <td>0</td>\n",
       "      <td>0.8051</td>\n",
       "    </tr>\n",
       "    <tr>\n",
       "      <th>1</th>\n",
       "      <td>380000</td>\n",
       "      <td>1</td>\n",
       "      <td>2</td>\n",
       "      <td>2</td>\n",
       "      <td>32</td>\n",
       "      <td>-1</td>\n",
       "      <td>-1</td>\n",
       "      <td>-1</td>\n",
       "      <td>-1</td>\n",
       "      <td>-1</td>\n",
       "      <td>...</td>\n",
       "      <td>11873.0</td>\n",
       "      <td>21540.0</td>\n",
       "      <td>15138.0</td>\n",
       "      <td>24677.0</td>\n",
       "      <td>11851.0</td>\n",
       "      <td>11875.0</td>\n",
       "      <td>8251.0</td>\n",
       "      <td>0</td>\n",
       "      <td>0</td>\n",
       "      <td>0.9121</td>\n",
       "    </tr>\n",
       "    <tr>\n",
       "      <th>2</th>\n",
       "      <td>200000</td>\n",
       "      <td>2</td>\n",
       "      <td>2</td>\n",
       "      <td>1</td>\n",
       "      <td>32</td>\n",
       "      <td>-1</td>\n",
       "      <td>-1</td>\n",
       "      <td>-1</td>\n",
       "      <td>-1</td>\n",
       "      <td>2</td>\n",
       "      <td>...</td>\n",
       "      <td>3151.0</td>\n",
       "      <td>5818.0</td>\n",
       "      <td>15.0</td>\n",
       "      <td>9102.0</td>\n",
       "      <td>17.0</td>\n",
       "      <td>3165.0</td>\n",
       "      <td>1395.0</td>\n",
       "      <td>0</td>\n",
       "      <td>0</td>\n",
       "      <td>0.8051</td>\n",
       "    </tr>\n",
       "    <tr>\n",
       "      <th>3</th>\n",
       "      <td>200000</td>\n",
       "      <td>1</td>\n",
       "      <td>1</td>\n",
       "      <td>1</td>\n",
       "      <td>53</td>\n",
       "      <td>2</td>\n",
       "      <td>2</td>\n",
       "      <td>2</td>\n",
       "      <td>2</td>\n",
       "      <td>2</td>\n",
       "      <td>...</td>\n",
       "      <td>149531.0</td>\n",
       "      <td>6300.0</td>\n",
       "      <td>5500.0</td>\n",
       "      <td>5500.0</td>\n",
       "      <td>5500.0</td>\n",
       "      <td>5000.0</td>\n",
       "      <td>5000.0</td>\n",
       "      <td>1</td>\n",
       "      <td>1</td>\n",
       "      <td>0.7911</td>\n",
       "    </tr>\n",
       "    <tr>\n",
       "      <th>4</th>\n",
       "      <td>240000</td>\n",
       "      <td>1</td>\n",
       "      <td>1</td>\n",
       "      <td>2</td>\n",
       "      <td>41</td>\n",
       "      <td>1</td>\n",
       "      <td>-1</td>\n",
       "      <td>-1</td>\n",
       "      <td>0</td>\n",
       "      <td>0</td>\n",
       "      <td>...</td>\n",
       "      <td>1737.0</td>\n",
       "      <td>2622.0</td>\n",
       "      <td>3301.0</td>\n",
       "      <td>0.0</td>\n",
       "      <td>360.0</td>\n",
       "      <td>1737.0</td>\n",
       "      <td>924.0</td>\n",
       "      <td>0</td>\n",
       "      <td>0</td>\n",
       "      <td>0.9121</td>\n",
       "    </tr>\n",
       "  </tbody>\n",
       "</table>\n",
       "<p>5 rows × 26 columns</p>\n",
       "</div>"
      ],
      "text/plain": [
       "   LIMIT_BAL  SEX  EDUCATION  MARRIAGE  AGE  PAY_1  PAY_2  PAY_3  PAY_4  \\\n",
       "0     100000    2          2         2   23      0     -1     -1      0   \n",
       "1     380000    1          2         2   32     -1     -1     -1     -1   \n",
       "2     200000    2          2         1   32     -1     -1     -1     -1   \n",
       "3     200000    1          1         1   53      2      2      2      2   \n",
       "4     240000    1          1         2   41      1     -1     -1      0   \n",
       "\n",
       "   PAY_5  ...  BILL_AMT6  PAY_AMT1  PAY_AMT2  PAY_AMT3  PAY_AMT4  PAY_AMT5  \\\n",
       "0      0  ...      567.0     380.0     601.0       0.0     581.0    1687.0   \n",
       "1     -1  ...    11873.0   21540.0   15138.0   24677.0   11851.0   11875.0   \n",
       "2      2  ...     3151.0    5818.0      15.0    9102.0      17.0    3165.0   \n",
       "3      2  ...   149531.0    6300.0    5500.0    5500.0    5500.0    5000.0   \n",
       "4      0  ...     1737.0    2622.0    3301.0       0.0     360.0    1737.0   \n",
       "\n",
       "   PAY_AMT6  default  Label   Score  \n",
       "0    1542.0        0      0  0.8051  \n",
       "1    8251.0        0      0  0.9121  \n",
       "2    1395.0        0      0  0.8051  \n",
       "3    5000.0        1      1  0.7911  \n",
       "4     924.0        0      0  0.9121  \n",
       "\n",
       "[5 rows x 26 columns]"
      ]
     },
     "execution_count": 35,
     "metadata": {},
     "output_type": "execute_result"
    }
   ],
   "source": [
    "new_prediction.head()"
   ]
  },
  {
   "cell_type": "markdown",
   "metadata": {
    "colab_type": "text",
    "id": "bf8I1uqcEQvD"
   },
   "source": [
    "Notice that the results of `unseen_predictions` and `new_prediction` are identical."
   ]
  },
  {
   "cell_type": "code",
   "execution_count": 36,
   "metadata": {},
   "outputs": [
    {
     "data": {
      "text/plain": [
       "0.8167"
      ]
     },
     "execution_count": 36,
     "metadata": {},
     "output_type": "execute_result"
    }
   ],
   "source": [
    "from pycaret.utils import check_metric\n",
    "check_metric(new_prediction['default'], new_prediction['Label'], metric = 'Accuracy')"
   ]
  },
  {
   "cell_type": "markdown",
   "metadata": {
    "colab_type": "text",
    "id": "_HeOs8BhEQvF"
   },
   "source": [
    "# 16.0 Wrap-up / Next Steps?"
   ]
  },
  {
   "cell_type": "markdown",
   "metadata": {
    "colab_type": "text",
    "id": "VqG1NnwXEQvK"
   },
   "source": [
    "This tutorial has covered the entire machine learning pipeline from data ingestion, pre-processing, training the model, hyperparameter tuning, prediction and saving the model for later use. We have completed all of these steps in less than 10 commands which are naturally constructed and very intuitive to remember such as `create_model()`, `tune_model()`, `compare_models()`. Re-creating the entire experiment without PyCaret would have taken well over 100 lines of code in most libraries.\n",
    "\n",
    "We have only covered the basics of `pycaret.classification`. In following tutorials we will go deeper into advanced pre-processing, ensembling, generalized stacking and other techniques that allow you to fully customize your machine learning pipeline and are must know for any data scientist.\n",
    "\n",
    "See you at the next tutorial. Follow the link to __[Binary Classification Tutorial (CLF102) - Intermediate Level](https://github.com/pycaret/pycaret/blob/master/tutorials/Binary%20Classification%20Tutorial%20Level%20Intermediate%20-%20CLF102.ipynb)__"
   ]
  }
 ],
 "metadata": {
  "colab": {
   "collapsed_sections": [
    "Ui_rALqYEQmv",
    "y9s9wNcjEQn0",
    "it_nJo1IEQob",
    "P5m2pciOEQo4",
    "UWMSeyNhEQo-",
    "rWUojqBCEQpb",
    "nSg3OUjuEQpu",
    "XvpjzbGQEQqB",
    "BQlMCxrUEQqG",
    "CD-f0delEQqq",
    "KO3zIfs-EQrA",
    "w_P46O0jEQrT",
    "euqkQYJaEQrY",
    "bwyoTUDQEQrm",
    "_r9rwEw7EQrz",
    "FfWC3NEhEQr9",
    "RX5pYUJJEQsV",
    "r79BGjIfEQs1",
    "hUzc6tXNEQtr",
    "L__po3sUEQt7",
    "Z8OBesfkEQuU",
    "_HeOs8BhEQvF"
   ],
   "name": "Binary Classification Tutorial (CLF101) - Level Beginner (ACN_EDITS).ipynb",
   "provenance": []
  },
  "interpreter": {
   "hash": "416c5fc77e2af21a098c9238b67fe3e8f14048d93868096df5d53bc62b987b37"
  },
  "kernelspec": {
   "display_name": "Python 3.8.13 ('py38_cr5')",
   "language": "python",
   "name": "python3"
  },
  "language_info": {
   "codemirror_mode": {
    "name": "ipython",
    "version": 3
   },
   "file_extension": ".py",
   "mimetype": "text/x-python",
   "name": "python",
   "nbconvert_exporter": "python",
   "pygments_lexer": "ipython3",
   "version": "3.8.13"
  },
  "widgets": {
   "application/vnd.jupyter.widget-state+json": {
    "02771b4dc3284414ab05df1906f4556b": {
     "model_module": "@jupyter-widgets/controls",
     "model_name": "IntProgressModel",
     "state": {
      "_dom_classes": [],
      "_model_module": "@jupyter-widgets/controls",
      "_model_module_version": "1.5.0",
      "_model_name": "IntProgressModel",
      "_view_count": null,
      "_view_module": "@jupyter-widgets/controls",
      "_view_module_version": "1.5.0",
      "_view_name": "ProgressView",
      "bar_style": "",
      "description": "Processing: ",
      "description_tooltip": null,
      "layout": "IPY_MODEL_22588a12c0db4067982e62ebbe7e6930",
      "max": 5,
      "min": 0,
      "orientation": "horizontal",
      "style": "IPY_MODEL_9e338844e75b4e17be8483529f5f38fd",
      "value": 5
     }
    },
    "0a06fb091bd94ce6b6ab892e2c6faadf": {
     "model_module": "@jupyter-widgets/base",
     "model_name": "LayoutModel",
     "state": {
      "_model_module": "@jupyter-widgets/base",
      "_model_module_version": "1.2.0",
      "_model_name": "LayoutModel",
      "_view_count": null,
      "_view_module": "@jupyter-widgets/base",
      "_view_module_version": "1.2.0",
      "_view_name": "LayoutView",
      "align_content": null,
      "align_items": null,
      "align_self": null,
      "border": null,
      "bottom": null,
      "display": null,
      "flex": null,
      "flex_flow": null,
      "grid_area": null,
      "grid_auto_columns": null,
      "grid_auto_flow": null,
      "grid_auto_rows": null,
      "grid_column": null,
      "grid_gap": null,
      "grid_row": null,
      "grid_template_areas": null,
      "grid_template_columns": null,
      "grid_template_rows": null,
      "height": null,
      "justify_content": null,
      "justify_items": null,
      "left": null,
      "margin": null,
      "max_height": null,
      "max_width": null,
      "min_height": null,
      "min_width": null,
      "object_fit": null,
      "object_position": null,
      "order": null,
      "overflow": null,
      "overflow_x": null,
      "overflow_y": null,
      "padding": null,
      "right": null,
      "top": null,
      "visibility": null,
      "width": null
     }
    },
    "12bf8b3c6ae8444a900474912589fdf1": {
     "model_module": "@jupyter-widgets/controls",
     "model_name": "ToggleButtonsModel",
     "state": {
      "_dom_classes": [],
      "_model_module": "@jupyter-widgets/controls",
      "_model_module_version": "1.5.0",
      "_model_name": "ToggleButtonsModel",
      "_options_labels": [
       "Hyperparameters",
       "AUC",
       "Confusion Matrix",
       "Threshold",
       "Precision Recall",
       "Error",
       "Class Report",
       "Feature Selection",
       "Learning Curve",
       "Manifold Learning",
       "Calibration Curve",
       "Validation Curve",
       "Dimensions",
       "Feature Importance",
       "Decision Boundary"
      ],
      "_view_count": null,
      "_view_module": "@jupyter-widgets/controls",
      "_view_module_version": "1.5.0",
      "_view_name": "ToggleButtonsView",
      "button_style": "",
      "description": "Plot Type:",
      "description_tooltip": null,
      "disabled": false,
      "icons": [
       ""
      ],
      "index": 2,
      "layout": "IPY_MODEL_0a06fb091bd94ce6b6ab892e2c6faadf",
      "style": "IPY_MODEL_8886001bc7c1463ba58a8453f5c55073",
      "tooltips": []
     }
    },
    "22588a12c0db4067982e62ebbe7e6930": {
     "model_module": "@jupyter-widgets/base",
     "model_name": "LayoutModel",
     "state": {
      "_model_module": "@jupyter-widgets/base",
      "_model_module_version": "1.2.0",
      "_model_name": "LayoutModel",
      "_view_count": null,
      "_view_module": "@jupyter-widgets/base",
      "_view_module_version": "1.2.0",
      "_view_name": "LayoutView",
      "align_content": null,
      "align_items": null,
      "align_self": null,
      "border": null,
      "bottom": null,
      "display": null,
      "flex": null,
      "flex_flow": null,
      "grid_area": null,
      "grid_auto_columns": null,
      "grid_auto_flow": null,
      "grid_auto_rows": null,
      "grid_column": null,
      "grid_gap": null,
      "grid_row": null,
      "grid_template_areas": null,
      "grid_template_columns": null,
      "grid_template_rows": null,
      "height": null,
      "justify_content": null,
      "justify_items": null,
      "left": null,
      "margin": null,
      "max_height": null,
      "max_width": null,
      "min_height": null,
      "min_width": null,
      "object_fit": null,
      "object_position": null,
      "order": null,
      "overflow": null,
      "overflow_x": null,
      "overflow_y": null,
      "padding": null,
      "right": null,
      "top": null,
      "visibility": null,
      "width": null
     }
    },
    "2a81017413ca4fe789c2272a5831a069": {
     "model_module": "@jupyter-widgets/base",
     "model_name": "LayoutModel",
     "state": {
      "_model_module": "@jupyter-widgets/base",
      "_model_module_version": "1.2.0",
      "_model_name": "LayoutModel",
      "_view_count": null,
      "_view_module": "@jupyter-widgets/base",
      "_view_module_version": "1.2.0",
      "_view_name": "LayoutView",
      "align_content": null,
      "align_items": null,
      "align_self": null,
      "border": null,
      "bottom": null,
      "display": null,
      "flex": null,
      "flex_flow": null,
      "grid_area": null,
      "grid_auto_columns": null,
      "grid_auto_flow": null,
      "grid_auto_rows": null,
      "grid_column": null,
      "grid_gap": null,
      "grid_row": null,
      "grid_template_areas": null,
      "grid_template_columns": null,
      "grid_template_rows": null,
      "height": null,
      "justify_content": null,
      "justify_items": null,
      "left": null,
      "margin": null,
      "max_height": null,
      "max_width": null,
      "min_height": null,
      "min_width": null,
      "object_fit": null,
      "object_position": null,
      "order": null,
      "overflow": null,
      "overflow_x": null,
      "overflow_y": null,
      "padding": null,
      "right": null,
      "top": null,
      "visibility": null,
      "width": null
     }
    },
    "3cc1e83b91f34b289c7d52003f20a97a": {
     "model_module": "@jupyter-widgets/controls",
     "model_name": "IntProgressModel",
     "state": {
      "_dom_classes": [],
      "_model_module": "@jupyter-widgets/controls",
      "_model_module_version": "1.5.0",
      "_model_name": "IntProgressModel",
      "_view_count": null,
      "_view_module": "@jupyter-widgets/controls",
      "_view_module_version": "1.5.0",
      "_view_name": "ProgressView",
      "bar_style": "",
      "description": "Processing: ",
      "description_tooltip": null,
      "layout": "IPY_MODEL_8399e21b17634116861a5abaa9c0ccf7",
      "max": 5,
      "min": 0,
      "orientation": "horizontal",
      "style": "IPY_MODEL_8d709ec9ec484944b1f9773748857f84",
      "value": 2
     }
    },
    "41031579127f4a53b58957e601465083": {
     "model_module": "@jupyter-widgets/base",
     "model_name": "LayoutModel",
     "state": {
      "_model_module": "@jupyter-widgets/base",
      "_model_module_version": "1.2.0",
      "_model_name": "LayoutModel",
      "_view_count": null,
      "_view_module": "@jupyter-widgets/base",
      "_view_module_version": "1.2.0",
      "_view_name": "LayoutView",
      "align_content": null,
      "align_items": null,
      "align_self": null,
      "border": null,
      "bottom": null,
      "display": null,
      "flex": null,
      "flex_flow": null,
      "grid_area": null,
      "grid_auto_columns": null,
      "grid_auto_flow": null,
      "grid_auto_rows": null,
      "grid_column": null,
      "grid_gap": null,
      "grid_row": null,
      "grid_template_areas": null,
      "grid_template_columns": null,
      "grid_template_rows": null,
      "height": null,
      "justify_content": null,
      "justify_items": null,
      "left": null,
      "margin": null,
      "max_height": null,
      "max_width": null,
      "min_height": null,
      "min_width": null,
      "object_fit": null,
      "object_position": null,
      "order": null,
      "overflow": null,
      "overflow_x": null,
      "overflow_y": null,
      "padding": null,
      "right": null,
      "top": null,
      "visibility": null,
      "width": null
     }
    },
    "42d5400d235d40b78190016ef0dabe11": {
     "model_module": "@jupyter-widgets/controls",
     "model_name": "VBoxModel",
     "state": {
      "_dom_classes": [
       "widget-interact"
      ],
      "_model_module": "@jupyter-widgets/controls",
      "_model_module_version": "1.5.0",
      "_model_name": "VBoxModel",
      "_view_count": null,
      "_view_module": "@jupyter-widgets/controls",
      "_view_module_version": "1.5.0",
      "_view_name": "VBoxView",
      "box_style": "",
      "children": [
       "IPY_MODEL_12bf8b3c6ae8444a900474912589fdf1",
       "IPY_MODEL_9bb3600d38c04691b444ff375ad5e3f5"
      ],
      "layout": "IPY_MODEL_41031579127f4a53b58957e601465083"
     }
    },
    "57b94ac505d142769b79de2f1e5c1166": {
     "model_module": "@jupyter-widgets/controls",
     "model_name": "ProgressStyleModel",
     "state": {
      "_model_module": "@jupyter-widgets/controls",
      "_model_module_version": "1.5.0",
      "_model_name": "ProgressStyleModel",
      "_view_count": null,
      "_view_module": "@jupyter-widgets/base",
      "_view_module_version": "1.2.0",
      "_view_name": "StyleView",
      "bar_color": null,
      "description_width": ""
     }
    },
    "8399e21b17634116861a5abaa9c0ccf7": {
     "model_module": "@jupyter-widgets/base",
     "model_name": "LayoutModel",
     "state": {
      "_model_module": "@jupyter-widgets/base",
      "_model_module_version": "1.2.0",
      "_model_name": "LayoutModel",
      "_view_count": null,
      "_view_module": "@jupyter-widgets/base",
      "_view_module_version": "1.2.0",
      "_view_name": "LayoutView",
      "align_content": null,
      "align_items": null,
      "align_self": null,
      "border": null,
      "bottom": null,
      "display": null,
      "flex": null,
      "flex_flow": null,
      "grid_area": null,
      "grid_auto_columns": null,
      "grid_auto_flow": null,
      "grid_auto_rows": null,
      "grid_column": null,
      "grid_gap": null,
      "grid_row": null,
      "grid_template_areas": null,
      "grid_template_columns": null,
      "grid_template_rows": null,
      "height": null,
      "justify_content": null,
      "justify_items": null,
      "left": null,
      "margin": null,
      "max_height": null,
      "max_width": null,
      "min_height": null,
      "min_width": null,
      "object_fit": null,
      "object_position": null,
      "order": null,
      "overflow": null,
      "overflow_x": null,
      "overflow_y": null,
      "padding": null,
      "right": null,
      "top": null,
      "visibility": null,
      "width": null
     }
    },
    "8886001bc7c1463ba58a8453f5c55073": {
     "model_module": "@jupyter-widgets/controls",
     "model_name": "ToggleButtonsStyleModel",
     "state": {
      "_model_module": "@jupyter-widgets/controls",
      "_model_module_version": "1.5.0",
      "_model_name": "ToggleButtonsStyleModel",
      "_view_count": null,
      "_view_module": "@jupyter-widgets/base",
      "_view_module_version": "1.2.0",
      "_view_name": "StyleView",
      "button_width": "",
      "description_width": "",
      "font_weight": ""
     }
    },
    "8d709ec9ec484944b1f9773748857f84": {
     "model_module": "@jupyter-widgets/controls",
     "model_name": "ProgressStyleModel",
     "state": {
      "_model_module": "@jupyter-widgets/controls",
      "_model_module_version": "1.5.0",
      "_model_name": "ProgressStyleModel",
      "_view_count": null,
      "_view_module": "@jupyter-widgets/base",
      "_view_module_version": "1.2.0",
      "_view_name": "StyleView",
      "bar_color": null,
      "description_width": ""
     }
    },
    "9bb3600d38c04691b444ff375ad5e3f5": {
     "model_module": "@jupyter-widgets/output",
     "model_name": "OutputModel",
     "state": {
      "_dom_classes": [],
      "_model_module": "@jupyter-widgets/output",
      "_model_module_version": "1.0.0",
      "_model_name": "OutputModel",
      "_view_count": null,
      "_view_module": "@jupyter-widgets/output",
      "_view_module_version": "1.0.0",
      "_view_name": "OutputView",
      "layout": "IPY_MODEL_4f8f81ab97b041a58a53c85a1ab97bd4",
      "msg_id": "",
      "outputs": [
       {
        "image/png": "iVBORw0KGgoAAAANSUhEUgAAAeoAAAFlCAYAAAAki6s3AAAABHNCSVQICAgIfAhkiAAAAAlwSFlz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\nAAAm9n9QR+M8QEgGtgAAAABJRU5ErkJggg==\n",
        "metadata": {
         "tags": []
        },
        "output_type": "display_data",
        "text/plain": "<Figure size 576x396 with 1 Axes>"
       }
      ]
     }
    },
    "9e338844e75b4e17be8483529f5f38fd": {
     "model_module": "@jupyter-widgets/controls",
     "model_name": "ProgressStyleModel",
     "state": {
      "_model_module": "@jupyter-widgets/controls",
      "_model_module_version": "1.5.0",
      "_model_name": "ProgressStyleModel",
      "_view_count": null,
      "_view_module": "@jupyter-widgets/base",
      "_view_module_version": "1.2.0",
      "_view_name": "StyleView",
      "bar_color": null,
      "description_width": ""
     }
    },
    "d5b6fce1763b4b54898ff3397b0f5bb0": {
     "model_module": "@jupyter-widgets/controls",
     "model_name": "IntProgressModel",
     "state": {
      "_dom_classes": [],
      "_model_module": "@jupyter-widgets/controls",
      "_model_module_version": "1.5.0",
      "_model_name": "IntProgressModel",
      "_view_count": null,
      "_view_module": "@jupyter-widgets/controls",
      "_view_module_version": "1.5.0",
      "_view_name": "ProgressView",
      "bar_style": "",
      "description": "Processing: ",
      "description_tooltip": null,
      "layout": "IPY_MODEL_2a81017413ca4fe789c2272a5831a069",
      "max": 5,
      "min": 0,
      "orientation": "horizontal",
      "style": "IPY_MODEL_57b94ac505d142769b79de2f1e5c1166",
      "value": 5
     }
    }
   }
  }
 },
 "nbformat": 4,
 "nbformat_minor": 4
}
