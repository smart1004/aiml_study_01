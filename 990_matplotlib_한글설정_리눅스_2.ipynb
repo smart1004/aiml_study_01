{
 "cells": [
  {
   "cell_type": "code",
   "execution_count": null,
   "id": "b41aaa86-e4f0-418e-898b-994c2d802baa",
   "metadata": {},
   "outputs": [],
   "source": [
    "# 990_matplotlib_한글설정_f\n",
    "https://seonghyuk.tistory.com/31\n",
    "\n",
    "2) 그리고  '나눔'폰트를 설치해줍니다.\n",
    "$ sudo apt-get update\n",
    "$ sudo apt-get install fonts-nanum* \n",
    "3) 다운로드 후에 캐쉬를 삭제해줍니다.\n",
    "$ sudo apt install fontconfig\n",
    "$ sudo fc-cache -fv\n",
    "\n",
    "\n",
    "\n",
    "\n"
   ]
  },
  {
   "cell_type": "code",
   "execution_count": 3,
   "id": "08b5fc5b-3c66-49b0-a0e0-729807dc45e9",
   "metadata": {},
   "outputs": [
    {
     "data": {
      "text/plain": [
       "'/home/kusung/miniconda3/envs/py38_conda3/lib/python3.8/site-packages/matplotlib/mpl-data/matplotlibrc'"
      ]
     },
     "execution_count": 3,
     "metadata": {},
     "output_type": "execute_result"
    }
   ],
   "source": [
    "import matplotlib as mpl\n",
    "\n",
    "#font 설정 파일 위치 출력\n",
    "mpl.matplotlib_fname()"
   ]
  },
  {
   "cell_type": "code",
   "execution_count": 1,
   "id": "e4bcaa28-7ec8-4e8c-8e72-a59bd498a173",
   "metadata": {},
   "outputs": [],
   "source": [
    "\n",
    "\n",
    "\n",
    "# matplotlibrc 파일의 주석을 풀어주고, 글꼴을 세팅한다.\n",
    "font.family         : NanumGothic\n",
    "font.family         : D2Coding\n",
    "\n",
    "\\\\wsl.localhost\\Ubuntu-20.04\\home\\kusung\n",
    "\n",
    "\\\\wsl.localhost\\Ubuntu-20.04\\home\\kusung\\miniconda3\\envs\\py38_conda3\\lib\\python3.8\\site-packages\\matplotlib\\mpl-data\n",
    "\n",
    "$ sudo cp /usr/share/fonts/truetype/nanum/Nanum* /home/kusung/miniconda3/envs/py38_conda3/lib/python3.8/site-packages/matplotlib/mpl-data/fonts/ttf/\n",
    "\n",
    "​\n",
    "\n",
    "\n",
    "\n"
   ]
  },
  {
   "cell_type": "code",
   "execution_count": null,
   "id": "47123b9f-d5a3-4071-8bc0-84daa563d49e",
   "metadata": {},
   "outputs": [],
   "source": [
    "mpl.get_cachedir() # '/home/kusung/.cache/matplotlib'\n",
    "\n",
    "\n",
    "$ rm -rf /home/kusung/.cache/matplotlib/\n",
    "\n"
   ]
  },
  {
   "cell_type": "code",
   "execution_count": null,
   "id": "f5f406b9-cac8-4538-bfbf-4b70613182e0",
   "metadata": {},
   "outputs": [],
   "source": []
  }
 ],
 "metadata": {
  "kernelspec": {
   "display_name": "py38_conda3",
   "language": "python",
   "name": "py38_conda3"
  },
  "language_info": {
   "codemirror_mode": {
    "name": "ipython",
    "version": 3
   },
   "file_extension": ".py",
   "mimetype": "text/x-python",
   "name": "python",
   "nbconvert_exporter": "python",
   "pygments_lexer": "ipython3",
   "version": "3.8.13"
  }
 },
 "nbformat": 4,
 "nbformat_minor": 5
}
