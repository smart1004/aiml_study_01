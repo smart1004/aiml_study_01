{
 "cells": [
  {
   "cell_type": "code",
   "execution_count": null,
   "metadata": {},
   "outputs": [],
   "source": [
    "ndarray basic"
   ]
  },
  {
   "cell_type": "code",
   "execution_count": null,
   "metadata": {},
   "outputs": [],
   "source": []
  },
  {
   "cell_type": "code",
   "execution_count": 1,
   "metadata": {},
   "outputs": [],
   "source": [
    "import numpy as np"
   ]
  },
  {
   "cell_type": "code",
   "execution_count": 19,
   "metadata": {},
   "outputs": [],
   "source": [
    "#np.array?"
   ]
  },
  {
   "cell_type": "code",
   "execution_count": null,
   "metadata": {},
   "outputs": [],
   "source": []
  },
  {
   "cell_type": "code",
   "execution_count": 20,
   "metadata": {},
   "outputs": [
    {
     "data": {
      "text/plain": [
       "array([1, 2, 3, 4])"
      ]
     },
     "execution_count": 20,
     "metadata": {},
     "output_type": "execute_result"
    }
   ],
   "source": [
    "# 1차원 배열 만들기\n",
    "arr_1d = np.array([1, 2, 3, 4])\n",
    "arr_1d"
   ]
  },
  {
   "cell_type": "code",
   "execution_count": 25,
   "metadata": {},
   "outputs": [
    {
     "name": "stdout",
     "output_type": "stream",
     "text": [
      "shape: (4,)\n",
      "ndim: 1\n"
     ]
    }
   ],
   "source": [
    "print('shape:', arr_1d.shape )\n",
    "print('ndim:', arr_1d.ndim)"
   ]
  },
  {
   "cell_type": "code",
   "execution_count": null,
   "metadata": {},
   "outputs": [],
   "source": []
  },
  {
   "cell_type": "code",
   "execution_count": 10,
   "metadata": {},
   "outputs": [
    {
     "data": {
      "text/plain": [
       "array([[1, 2],\n",
       "       [3, 4]])"
      ]
     },
     "execution_count": 10,
     "metadata": {},
     "output_type": "execute_result"
    }
   ],
   "source": [
    "arr_2d = np.array([[1, 2], [3, 4]])\n",
    "arr_2d"
   ]
  },
  {
   "cell_type": "code",
   "execution_count": null,
   "metadata": {},
   "outputs": [],
   "source": [
    "# 칼럼이름 없는 테이블(표)라고 생각하면 된다.\n",
    "# 주의점 : 2차원은 대괄호가 2개 입니다.\n",
    "#      1차원은 대괄호가 1개 입니다.  array([1, 2, 3, 4])"
   ]
  },
  {
   "cell_type": "code",
   "execution_count": 11,
   "metadata": {},
   "outputs": [
    {
     "data": {
      "text/plain": [
       "(2, 2)"
      ]
     },
     "execution_count": 11,
     "metadata": {},
     "output_type": "execute_result"
    }
   ],
   "source": [
    "arr_2d.shape"
   ]
  },
  {
   "cell_type": "code",
   "execution_count": 13,
   "metadata": {},
   "outputs": [
    {
     "data": {
      "text/plain": [
       "array([[1],\n",
       "       [3]])"
      ]
     },
     "execution_count": 13,
     "metadata": {},
     "output_type": "execute_result"
    }
   ],
   "source": [
    "# 1열만 가져오자\n",
    "arr_2d[:, 0:1]"
   ]
  },
  {
   "cell_type": "code",
   "execution_count": 14,
   "metadata": {},
   "outputs": [
    {
     "data": {
      "text/plain": [
       "array([[2],\n",
       "       [4]])"
      ]
     },
     "execution_count": 14,
     "metadata": {},
     "output_type": "execute_result"
    }
   ],
   "source": [
    "# 2열만 가져오자\n",
    "arr_2d[:, 1:2]"
   ]
  },
  {
   "cell_type": "code",
   "execution_count": null,
   "metadata": {},
   "outputs": [],
   "source": []
  },
  {
   "cell_type": "code",
   "execution_count": 18,
   "metadata": {},
   "outputs": [
    {
     "name": "stdout",
     "output_type": "stream",
     "text": [
      "shape : (2, 1)\n",
      "차원 :  2\n"
     ]
    }
   ],
   "source": [
    "# 이렇게 추출한 애도 ?차원 배열일까요? \n",
    "# 2열만 가져와서 col2에 저장 후 출력해 보세요\n",
    "# print('shape :', col2.??)\n",
    "# print('차원 : ', col2.??)\n",
    "\n",
    "col2 = arr_2d[:, 1:2]\n",
    "print('shape :', col2.shape) #(2, 1)\n",
    "print('차원 : ', col2.ndim)"
   ]
  },
  {
   "cell_type": "code",
   "execution_count": null,
   "metadata": {},
   "outputs": [],
   "source": []
  },
  {
   "cell_type": "code",
   "execution_count": 12,
   "metadata": {},
   "outputs": [
    {
     "data": {
      "text/plain": [
       "array([[1, 2],\n",
       "       [3, 4],\n",
       "       [5, 6]])"
      ]
     },
     "execution_count": 12,
     "metadata": {},
     "output_type": "execute_result"
    }
   ],
   "source": [
    "# 행추가\n",
    "arr_2d_3행 = np.array([[1, 2], [3, 4], [5, 6]  ])\n",
    "arr_2d_3행"
   ]
  },
  {
   "cell_type": "code",
   "execution_count": 26,
   "metadata": {},
   "outputs": [
    {
     "name": "stdout",
     "output_type": "stream",
     "text": [
      "shape : (3, 2)\n",
      "차원 :  2\n"
     ]
    }
   ],
   "source": [
    "print('shape :', arr_2d_3행.shape) \n",
    "print('차원 : ', arr_2d_3행.ndim)"
   ]
  },
  {
   "cell_type": "code",
   "execution_count": null,
   "metadata": {},
   "outputs": [],
   "source": []
  },
  {
   "cell_type": "markdown",
   "metadata": {},
   "source": [
    "#### 1차원으로 뽑아내기\n",
    "언제 자주 사용하는가?  \n",
    "종속변수를 추출해서 담을때"
   ]
  },
  {
   "cell_type": "code",
   "execution_count": 28,
   "metadata": {},
   "outputs": [
    {
     "data": {
      "text/plain": [
       "array([2, 4, 6])"
      ]
     },
     "execution_count": 28,
     "metadata": {},
     "output_type": "execute_result"
    }
   ],
   "source": [
    "# 1arr_2d_3행 > 1열을 1차원 array형태로 y에 담으세요. \n",
    "y = arr_2d_3행[:,1]\n",
    "y"
   ]
  },
  {
   "cell_type": "code",
   "execution_count": 30,
   "metadata": {},
   "outputs": [
    {
     "name": "stdout",
     "output_type": "stream",
     "text": [
      "shape : (3,)\n",
      "차원 :  1\n"
     ]
    }
   ],
   "source": [
    "print('shape :', y.shape) \n",
    "print('차원 : ', y.ndim)"
   ]
  },
  {
   "cell_type": "code",
   "execution_count": null,
   "metadata": {},
   "outputs": [],
   "source": [
    "# shape : (3,) 열이 없다"
   ]
  },
  {
   "cell_type": "code",
   "execution_count": null,
   "metadata": {},
   "outputs": [],
   "source": []
  },
  {
   "cell_type": "code",
   "execution_count": 32,
   "metadata": {},
   "outputs": [
    {
     "data": {
      "text/plain": [
       "array([1, 3, 5])"
      ]
     },
     "execution_count": 32,
     "metadata": {},
     "output_type": "execute_result"
    }
   ],
   "source": [
    "# 1arr_2d_3행 > 0번째 열을 1차원 array형태로 c1에 담으세요. \n",
    "c1 = arr_2d_3행[:,0]\n",
    "c1"
   ]
  },
  {
   "cell_type": "code",
   "execution_count": 33,
   "metadata": {},
   "outputs": [
    {
     "name": "stdout",
     "output_type": "stream",
     "text": [
      "shape : (3,)\n",
      "차원 :  1\n"
     ]
    }
   ],
   "source": [
    "print('shape :', c1.shape) \n",
    "print('차원 : ', c1.ndim)"
   ]
  },
  {
   "cell_type": "code",
   "execution_count": null,
   "metadata": {},
   "outputs": [],
   "source": []
  },
  {
   "cell_type": "code",
   "execution_count": null,
   "metadata": {},
   "outputs": [],
   "source": [
    "Examples\n",
    "--------\n",
    ">>> np.array([1, 2, 3])\n",
    "array([1, 2, 3])\n",
    "\n",
    "Upcasting:\n",
    "\n",
    ">>> np.array([1, 2, 3.0])\n",
    "array([ 1.,  2.,  3.])\n",
    "\n",
    "More than one dimension:\n",
    "\n",
    ">>> np.array([[1, 2], [3, 4]])\n",
    "array([[1, 2],\n",
    "       [3, 4]])\n",
    "\n",
    "Minimum dimensions 2:\n",
    "\n",
    ">>> np.array([1, 2, 3], ndmin=2)\n",
    "array([[1, 2, 3]])\n",
    "\n",
    "Type provided:\n",
    "\n",
    ">>> np.array([1, 2, 3], dtype=complex)\n",
    "array([ 1.+0.j,  2.+0.j,  3.+0.j])\n",
    "\n",
    "Data-type consisting of more than one element:\n",
    "\n",
    ">>> x = np.array([(1,2),(3,4)],dtype=[('a','<i4'),('b','<i4')])\n",
    ">>> x['a']\n",
    "array([1, 3])\n",
    "\n",
    "Creating an array from sub-classes:\n",
    "\n",
    ">>> np.array(np.mat('1 2; 3 4'))\n",
    "array([[1, 2],\n",
    "       [3, 4]])\n",
    "\n",
    ">>> np.array(np.mat('1 2; 3 4'), subok=True)\n",
    "matrix([[1, 2],\n",
    "        [3, 4]])"
   ]
  },
  {
   "cell_type": "code",
   "execution_count": null,
   "metadata": {},
   "outputs": [],
   "source": []
  }
 ],
 "metadata": {
  "kernelspec": {
   "display_name": "py38_conda3",
   "language": "python",
   "name": "py38_conda3"
  },
  "language_info": {
   "codemirror_mode": {
    "name": "ipython",
    "version": 3
   },
   "file_extension": ".py",
   "mimetype": "text/x-python",
   "name": "python",
   "nbconvert_exporter": "python",
   "pygments_lexer": "ipython3",
   "version": "3.8.13"
  }
 },
 "nbformat": 4,
 "nbformat_minor": 4
}
