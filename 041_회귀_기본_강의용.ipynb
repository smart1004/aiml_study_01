{
 "cells": [
  {
   "cell_type": "raw",
   "metadata": {},
   "source": [
    "#군사 진급을위한 회귀 및 상관 관계\n",
    "https://www.kdnuggets.com/2016/04/regression-correlation-military-tutorial.html/2\n",
    "https://medium.com/heartcount/%EC%84%A0%ED%98%95%ED%9A%8C%EA%B7%80%EB%B6%84%EC%84%9D-%EA%B0%95%EC%9D%98-868c0078882e"
   ]
  },
  {
   "cell_type": "markdown",
   "metadata": {},
   "source": [
    "### 산점도"
   ]
  },
  {
   "cell_type": "raw",
   "metadata": {},
   "source": [
    "https://namu.wiki/w/%EC%83%81%EA%B4%80%EA%B4%80%EA%B3%84%EC%99%80%20%EC%9D%B8%EA%B3%BC%EA%B4%80%EA%B3%84"
   ]
  },
  {
   "cell_type": "markdown",
   "metadata": {},
   "source": [
    "### 선형 회귀란?\n",
    "\n",
    "선형 회귀란 산점도 내에 존재하는 자료를 따라 직선을 그리는 과정입니다.  \n",
    "즉, 선형 회귀란 학습 데이터와 가장 잘 맞는 하나의 직선을 찾는 일입니다.  \n",
    "이 직선이 회귀식이다.\n",
    "회귀식은 새로운 데이터에 대한 예측을 가능하게 해줍니다"
   ]
  },
  {
   "cell_type": "code",
   "execution_count": null,
   "metadata": {},
   "outputs": [],
   "source": [
    "왜 회귀분석을 얘기하면서 산점도를 얘기하니?"
   ]
  },
  {
   "cell_type": "code",
   "execution_count": null,
   "metadata": {},
   "outputs": [],
   "source": [
    "회귀분석에 앞서 몇가지 개념을 알고 들어가려고 합니다.\n",
    "@@@ 왜?"
   ]
  },
  {
   "cell_type": "markdown",
   "metadata": {},
   "source": [
    "\n",
    "산점도 (산포도, scatter plot ) 라고 합니다.\n",
    "변수 x를 수평축에 놓고 변수 y를 수직 축에 놓은 후 or 두 개의 변수를 수평과 수직축에 놓은 후에 \n",
    "각 관측 값의 짝을 좌표 위에 표시함으로써 얻게 되는 그림입니다.\n",
    "이를 통해서 시각적으로 두 변수간의 관계가 어떤지 대략적으로 파악할 수 있습니다.\n",
    "\n",
    "보통 회귀분석을 하기 전에 변수들 간의 산점도를 그림으로써 독립변수(x)와 종속변수(y)가 직선관계인지 곡선관계인지 \n",
    "독립변수들 즉 x들 사이에서 다중공선성은 없는지 혹은 점들이 남자 여자같이 층으로 나뉘어져서 나타나는 경우는 \n",
    "없는지 이상한 혼자 튀는 값은 없는지 등등을 점검해보는 그림입니다. "
   ]
  },
  {
   "cell_type": "markdown",
   "metadata": {},
   "source": [
    "<img src=\"figures/041_회귀_기본_산점도.PNG\" alt=\"Drawing\" style=\"width: 600px;\"/>"
   ]
  },
  {
   "cell_type": "code",
   "execution_count": null,
   "metadata": {},
   "outputs": [],
   "source": []
  },
  {
   "cell_type": "markdown",
   "metadata": {},
   "source": [
    "### 상관계수"
   ]
  },
  {
   "cell_type": "code",
   "execution_count": null,
   "metadata": {},
   "outputs": [],
   "source": [
    "# http://www.datamarket.kr/xe/index.php?mid=board_mXVL91&listStyle=viewer&document_srl=6771\n",
    "공분산은 단위의 영향을 받으므로 그런 단점을 보완하기 위해 공분산을 표준화 시킨 것이 상관계수입니다.\n",
    "두 확률변수의 공분산을 각각의 표준편차의 곱으로 나누어준 것이므로 이렇게 되면 표준화가 됨으로써 \n",
    "단위의 영향력이 사라집니다. \n",
    "\n",
    "그래서 x와 y가 어떤 선형관계에 있는지에 대해서 알 수 있습니다. \n",
    "r이 1이면 완벽한 직선관계, 1과 0 사이이면 증가하는 관계 정도로 알 수 있는데 \n",
    "여기서 중요한 것은 선형관계에 대해서만 파악할 수 있습니다.\n",
    "\n",
    "6번째 그림처럼 2차 식의 관계를 갖고 있음에도 불구하고 상관계수 값은 매우 낮은 값을 가질 수 있기 때문입니다.\n",
    "따라서 상관계수가 0이라는 것은 두변수간의 직선관계가 없다는 의미이지 반드시 두 변수 사이에 관계가 없음을 뜻하는 것은 아닙니다. \n",
    "상관계수의 범위는 -1부터 1까지 입니다.\n",
    "\n",
    "보통  r값이 0.6이상일 때 양의 선형관계 -0.6이하일때 음의 상관관계가 있다고 할 수 있습니다."
   ]
  },
  {
   "cell_type": "code",
   "execution_count": null,
   "metadata": {},
   "outputs": [],
   "source": [
    "\"상관관계는 곧바로 인과관계로 이어지지 않는다\", \"상관관계만으로는 인과관계를 장담할 수 없다\", \n",
    "\"상관관계는 인과관계를 암시하지 않는다\", \"상관관계는 인과관계의 필요조건(necessary condition)이다\" 등등 \n",
    "다양한 표현들로 변용될 수 있다. \n",
    "변인 A와 변인 B가 상관관계에 있다고 해서 한쪽 변인이 다른 한 쪽의 변인의 원인임이 반드시 입증되지 않는다. \n",
    "원인이 되는 변인이 단 하나가 아니고 수많은 변인들이 원인으로서 작용하는 사례들이 있기 때문이다. \n",
    "관련 속담으로는 \"까마귀 날자 배 떨어진다\" 가 있다.\n",
    "\n",
    "다음의 사례를 보자.[5]\n",
    "한 연구자가 아이스크림 판매량의 연중 증감 추이를 확인했다. 그리고 연중 익사 사망자의 증감 추이를 함께 놓고 두 변인 간의 상관분석을 시행해 보았다. \n",
    "결과는 놀라웠다. 무서울 정도로 명백한 상관관계가 나타나고 있었다. 아이스크림 판매량이 급증하는 동안, 익사 사망자 수도 함께 증가하고 있었으며, \n",
    "판매량이 감소하는 동안 익사 사망자 수도 감소하고 있었던 것이었다.\n",
    "\n",
    "연구자는 몸서리를 치면서 다음과 같은 결론을 내렸다. \"익사 사망자의 증감은 아이스크림이 그 원인이다.\"\n",
    "\n",
    "위에 서술된 내용들을 꼼꼼히 읽어보았다면 무엇이 문제인지 금세 짐작할 수 있을 것이다. \n",
    "주지하다시피 이 연구자는 제3의 변인, 즉 \"여름 평균온도\" 라는 변인을 전혀 고려하지 않았다. \n",
    "여름 평균온도가 아이스크림 판매량의 원인 중 하나이고,[6] 여름 평균온도가 익사 사망자 수의 원인 중 하나인 것이다. \n",
    "보다 정확히 말하면 여름 평균온도의 증가가 피서객의 수를 증가시키고, 피서객의 수의 증가가 다시 익사자 수의 증가로 이어진다고 할 수 있겠다. \n",
    "익사 사망자 수의 원인으로 꼽을 만한 다른 변인들로는 안전 불감증, 국지 기후의 변화, 해수욕장 및 수영장의 안전교육 현황, \n",
    "세이프가드 및 해경요원의 수 등이 있을 것이다. 그러나 상관관계에 대한 연구만을 수행해 놓고, 정작 인과관계를 규명할 \n",
    "연구는 진행하지 않은 채 인과관계에 대한 결론으로 이어진 것이다.\n",
    "https://namu.wiki/w/%EC%83%81%EA%B4%80%EA%B4%80%EA%B3%84%EC%99%80%20%EC%9D%B8%EA%B3%BC%EA%B4%80%EA%B3%84"
   ]
  },
  {
   "cell_type": "code",
   "execution_count": null,
   "metadata": {},
   "outputs": [],
   "source": []
  },
  {
   "cell_type": "markdown",
   "metadata": {},
   "source": [
    "### 회귀분석\n",
    "우리 주변에서 일어나는 많은 인과현상들을 회귀분석을 통해 모형화하고 이를 활용하고 있습니다.  \n",
    "매출증대에 영향을 미치는 요소나, 품질불량에 영향을 미치는 요소를 찾는 등 다양한 분야에서 활용되고 있습니다.  \n",
    "\n",
    "#### 회귀분석의 정의\n",
    "하나나 그 이상의 독립변수들이 종속변수에 미치는 영향을 추정할수 있는 통계 기법이에요.  @@@@\n",
    "변수들 사이에 인과관계를 밝히고 모형을 적합하여 관심있는 변수를 예측하거나 추론하기 위한 분석방법.  \n",
    "독립변수의 개수가 하나이면  단순선형회귀(simple linear regression),   \n",
    "독립변수의 개수가 둘 이상이면 다중선형회귀를 사용해 분석한다.  "
   ]
  },
  {
   "cell_type": "code",
   "execution_count": null,
   "metadata": {},
   "outputs": [],
   "source": [
    "변수들의 관련성을 규명하기 위해 어떤 수학적 모형을 가정하고, \n",
    "이 모형을 측정된 변수들의 데이터로부터 추정하는 통계적 방법.\n",
    "독립변수의 값에 의하여 종속변수의 값을 예측하기 위함."
   ]
  },
  {
   "cell_type": "markdown",
   "metadata": {},
   "source": [
    "### 선형 회귀란?\n",
    "\n",
    "선형 회귀란 산점도 내에 존재하는 자료를 따라 직선을 그리는 과정입니다.  \n",
    "즉, 선형 회귀란 학습 데이터와 가장 잘 맞는 하나의 직선을 찾는 일입니다.  \n",
    "이 직선이 회귀식이다.\n",
    "회귀식은 새로운 데이터에 대한 예측을 가능하게 해줍니다"
   ]
  },
  {
   "cell_type": "code",
   "execution_count": null,
   "metadata": {},
   "outputs": [],
   "source": [
    "\n",
    "선형회귀는 종속변수 y 와 한 개 이상의 독립변수 x와의 선형 상관 관계를 모델링하는 회귀분석 기법이다.   \n",
    "한 개의 설명 변수에 기반하는 경우는 단순 선형 회귀, 둘 이상의 설명 변수에 기반한 경우에는 다중 선형 회귀라고 한다.  "
   ]
  },
  {
   "cell_type": "markdown",
   "metadata": {},
   "source": [
    "#### 회귀분석의 변수\n",
    "영향을 받는 변수(y): 타겟(target), 종속(dependent)변수, 반응(response)변수,  결과(outcome)변수  \n",
    "영향을 주는 변수(x): 피처(feature), 독립(independent)변수, 설명(explanatory)변수,  예측(predictor)변수"
   ]
  },
  {
   "cell_type": "code",
   "execution_count": null,
   "metadata": {},
   "outputs": [],
   "source": []
  },
  {
   "cell_type": "markdown",
   "metadata": {},
   "source": [
    "들어 가기에 앞서 회귀가 무엇인지 살펴봅시다.\n",
    "완벽한 데이터로 퀵하게 회귀가 무엇인지 알아 봅시다\n",
    "\n",
    "머신러닝을 왜하나?\n",
    "왜 배우려 하나?\n",
    "\n",
    "■ 선형 회귀란 무엇인가  \n",
    "머신러닝의 가장 큰 목적은 실제 데이터를 바탕으로 모델을 생성해서 만약 다른 입력 값을 넣었을 때 발생할 아웃풋을 예측하는 데에 있다.  \n",
    "\n",
    "이때 우리가 찾아낼 수 있는 가장 직관적이고 간단한 모델은 선(line)이다.   \n",
    "그래서 데이터를 놓고 그걸 가장 잘 설명할 수 있는 선을 찾는 분석하는 방법을 선형 회귀(Linear Regression) 분석이라 부른다.  \n",
    "\n",
    "예를 들어 키와 몸무게 데이터를 펼쳐 놓고 그것들을 가장 잘 설명할 수 있는 선을 하나 잘 그어놓게 되면, 특정 인의 키를 바탕으로 몸무게를 예측할 수 있다.  "
   ]
  },
  {
   "cell_type": "code",
   "execution_count": null,
   "metadata": {},
   "outputs": [],
   "source": [
    "특정 독립변수가 종속변수에 어떤 영향을 미치는가의 인과관계 분석\n",
    "ex. 가격은 제품 만족도에 영향을 미치는가?"
   ]
  },
  {
   "cell_type": "code",
   "execution_count": null,
   "metadata": {},
   "outputs": [],
   "source": [
    "ㅁ 회귀분석 중요사항\n",
    "    ㅇ 통계분석의 꽃 : 가장 강력하고 많이 이용\n",
    "    ㅇ 종속변수에 영향을 미치는 변수 규명(변수 선형 관계 분석)\n",
    "    ㅇ 독립변수와 종속변수의 관련성 강도\n",
    "    ㅇ 독립변수의 변화에 따른 종속변수 변화 예측\n",
    "    ㅇ 회귀 방정식(Y = α + βx)을 도출하여 회귀선 추정\n",
    "        Y:종속변수, α:상수, β:회귀계수, x:독립변수\n",
    "    ㅇ 독립변수와 종속변수가 모두 등간척도 또는 비율척도 구성\n",
    "    \n",
    "    회귀분석은 시간에 따라 변화하는 데이터나 어떤 영향, 가설적 실험, \n",
    "    인과 관계의 모델링 등의 통계적 예측에 이용될 수 있다. "
   ]
  },
  {
   "cell_type": "markdown",
   "metadata": {},
   "source": [
    "## 05_회귀 개요"
   ]
  },
  {
   "cell_type": "raw",
   "metadata": {},
   "source": [
    "#회귀를 공부하는 목적이 뭐냐?\n",
    "이건 2가지로 나눌수 있다. \n",
    "x들을 컨트롤해서 비용을 줄일수 있을까?\n",
    "통제할수 있들이 관심사다"
   ]
  },
  {
   "cell_type": "code",
   "execution_count": 2,
   "metadata": {
    "collapsed": true,
    "jupyter": {
     "outputs_hidden": true
    }
   },
   "outputs": [
    {
     "data": {
      "text/html": [
       "<img src=\"https://miro.medium.com/max/561/1*5JW_1xs9qETA_YVs-vUGWw.gif\"/>"
      ],
      "text/plain": [
       "<IPython.core.display.Image object>"
      ]
     },
     "execution_count": 2,
     "metadata": {},
     "output_type": "execute_result"
    }
   ],
   "source": [
    "from IPython.display import Image\n",
    "Image(url=\"https://miro.medium.com/max/561/1*5JW_1xs9qETA_YVs-vUGWw.gif\")"
   ]
  },
  {
   "cell_type": "code",
   "execution_count": null,
   "metadata": {},
   "outputs": [],
   "source": []
  },
  {
   "cell_type": "code",
   "execution_count": 4,
   "metadata": {},
   "outputs": [
    {
     "data": {
      "text/html": [
       "<img src=\"https://annalyzin.files.wordpress.com/2016/01/regression-residual-simulation-tutorial2.gif?w=561&amp;h=842\"/>"
      ],
      "text/plain": [
       "<IPython.core.display.Image object>"
      ]
     },
     "execution_count": 4,
     "metadata": {},
     "output_type": "execute_result"
    }
   ],
   "source": [
    "from IPython.display import Image\n",
    "Image(url=\"https://annalyzin.files.wordpress.com/2016/01/regression-residual-simulation-tutorial2.gif?w=561&amp;h=842\")\n",
    "# 출처 :  https://www.kdnuggets.com/2016/04/regression-correlation-military-tutorial.html/2"
   ]
  },
  {
   "cell_type": "code",
   "execution_count": 106,
   "metadata": {},
   "outputs": [],
   "source": [
    "# 위 gif 가 잘 보여준다. 저런식으로 찾는다. 내부적으로"
   ]
  },
  {
   "cell_type": "code",
   "execution_count": null,
   "metadata": {},
   "outputs": [],
   "source": []
  },
  {
   "cell_type": "code",
   "execution_count": null,
   "metadata": {},
   "outputs": [],
   "source": [
    "http://www.datamarket.kr/xe/index.php?mid=board_mXVL91&listStyle=viewer&document_srl=6771"
   ]
  },
  {
   "cell_type": "code",
   "execution_count": null,
   "metadata": {},
   "outputs": [],
   "source": []
  }
 ],
 "metadata": {
  "kernelspec": {
   "display_name": "py38_conda3",
   "language": "python",
   "name": "py38_conda3"
  },
  "language_info": {
   "codemirror_mode": {
    "name": "ipython",
    "version": 3
   },
   "file_extension": ".py",
   "mimetype": "text/x-python",
   "name": "python",
   "nbconvert_exporter": "python",
   "pygments_lexer": "ipython3",
   "version": "3.8.13"
  }
 },
 "nbformat": 4,
 "nbformat_minor": 4
}
